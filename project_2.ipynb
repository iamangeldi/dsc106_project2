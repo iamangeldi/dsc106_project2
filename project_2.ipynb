{
 "cells": [
  {
   "cell_type": "code",
   "execution_count": 1,
   "metadata": {},
   "outputs": [
    {
     "data": {
      "text/html": [
       "<div>\n",
       "<style scoped>\n",
       "    .dataframe tbody tr th:only-of-type {\n",
       "        vertical-align: middle;\n",
       "    }\n",
       "\n",
       "    .dataframe tbody tr th {\n",
       "        vertical-align: top;\n",
       "    }\n",
       "\n",
       "    .dataframe thead th {\n",
       "        text-align: right;\n",
       "    }\n",
       "</style>\n",
       "<table border=\"1\" class=\"dataframe\">\n",
       "  <thead>\n",
       "    <tr style=\"text-align: right;\">\n",
       "      <th></th>\n",
       "      <th>date</th>\n",
       "      <th>time</th>\n",
       "      <th>time_begin</th>\n",
       "      <th>time_end</th>\n",
       "      <th>logged_food</th>\n",
       "      <th>amount</th>\n",
       "      <th>unit</th>\n",
       "      <th>searched_food</th>\n",
       "      <th>calorie</th>\n",
       "      <th>total_carb</th>\n",
       "      <th>dietary_fiber</th>\n",
       "      <th>sugar</th>\n",
       "      <th>protein</th>\n",
       "      <th>total_fat</th>\n",
       "    </tr>\n",
       "  </thead>\n",
       "  <tbody>\n",
       "    <tr>\n",
       "      <th>0</th>\n",
       "      <td>2020-02-13</td>\n",
       "      <td>18:00:00</td>\n",
       "      <td>2020-02-13 18:00:00</td>\n",
       "      <td>NaN</td>\n",
       "      <td>Berry Smoothie</td>\n",
       "      <td>20.00</td>\n",
       "      <td>fluid ounce</td>\n",
       "      <td>Strawberry Smoothie</td>\n",
       "      <td>456.0</td>\n",
       "      <td>85.0</td>\n",
       "      <td>1.7</td>\n",
       "      <td>83.0</td>\n",
       "      <td>16.0</td>\n",
       "      <td>3.3</td>\n",
       "    </tr>\n",
       "    <tr>\n",
       "      <th>1</th>\n",
       "      <td>2020-02-13</td>\n",
       "      <td>20:30:00</td>\n",
       "      <td>2020-02-13 20:30:00</td>\n",
       "      <td>NaN</td>\n",
       "      <td>Chicken Leg</td>\n",
       "      <td>1.00</td>\n",
       "      <td>NaN</td>\n",
       "      <td>chicken leg</td>\n",
       "      <td>475.0</td>\n",
       "      <td>0.0</td>\n",
       "      <td>0.0</td>\n",
       "      <td>0.0</td>\n",
       "      <td>62.0</td>\n",
       "      <td>23.0</td>\n",
       "    </tr>\n",
       "    <tr>\n",
       "      <th>2</th>\n",
       "      <td>2020-02-13</td>\n",
       "      <td>20:30:00</td>\n",
       "      <td>2020-02-13 20:30:00</td>\n",
       "      <td>NaN</td>\n",
       "      <td>Asparagus</td>\n",
       "      <td>4.00</td>\n",
       "      <td>NaN</td>\n",
       "      <td>Asparagus</td>\n",
       "      <td>13.0</td>\n",
       "      <td>2.5</td>\n",
       "      <td>1.2</td>\n",
       "      <td>0.8</td>\n",
       "      <td>1.4</td>\n",
       "      <td>0.1</td>\n",
       "    </tr>\n",
       "    <tr>\n",
       "      <th>3</th>\n",
       "      <td>2020-02-14</td>\n",
       "      <td>07:10:00</td>\n",
       "      <td>2020-02-14 07:10:00</td>\n",
       "      <td>NaN</td>\n",
       "      <td>Natrel Lactose Free 2 Percent</td>\n",
       "      <td>8.00</td>\n",
       "      <td>fluid ounce</td>\n",
       "      <td>(Natrel) Lactose Free 2% Partly Skimmed Milk</td>\n",
       "      <td>120.0</td>\n",
       "      <td>9.0</td>\n",
       "      <td>NaN</td>\n",
       "      <td>8.0</td>\n",
       "      <td>12.0</td>\n",
       "      <td>NaN</td>\n",
       "    </tr>\n",
       "    <tr>\n",
       "      <th>4</th>\n",
       "      <td>2020-02-14</td>\n",
       "      <td>07:10:00</td>\n",
       "      <td>2020-02-14 07:10:00</td>\n",
       "      <td>NaN</td>\n",
       "      <td>Standard Breakfast</td>\n",
       "      <td>0.75</td>\n",
       "      <td>cup</td>\n",
       "      <td>(Kellogg's) Frosted Flakes, Cereal</td>\n",
       "      <td>110.0</td>\n",
       "      <td>26.0</td>\n",
       "      <td>NaN</td>\n",
       "      <td>10.0</td>\n",
       "      <td>1.0</td>\n",
       "      <td>NaN</td>\n",
       "    </tr>\n",
       "  </tbody>\n",
       "</table>\n",
       "</div>"
      ],
      "text/plain": [
       "         date      time           time_begin  time_end  \\\n",
       "0  2020-02-13  18:00:00  2020-02-13 18:00:00       NaN   \n",
       "1  2020-02-13  20:30:00  2020-02-13 20:30:00       NaN   \n",
       "2  2020-02-13  20:30:00  2020-02-13 20:30:00       NaN   \n",
       "3  2020-02-14  07:10:00  2020-02-14 07:10:00       NaN   \n",
       "4  2020-02-14  07:10:00  2020-02-14 07:10:00       NaN   \n",
       "\n",
       "                     logged_food  amount         unit  \\\n",
       "0                 Berry Smoothie   20.00  fluid ounce   \n",
       "1                    Chicken Leg    1.00          NaN   \n",
       "2                      Asparagus    4.00          NaN   \n",
       "3  Natrel Lactose Free 2 Percent    8.00  fluid ounce   \n",
       "4             Standard Breakfast    0.75          cup   \n",
       "\n",
       "                                  searched_food  calorie  total_carb  \\\n",
       "0                           Strawberry Smoothie    456.0        85.0   \n",
       "1                                   chicken leg    475.0         0.0   \n",
       "2                                     Asparagus     13.0         2.5   \n",
       "3  (Natrel) Lactose Free 2% Partly Skimmed Milk    120.0         9.0   \n",
       "4            (Kellogg's) Frosted Flakes, Cereal    110.0        26.0   \n",
       "\n",
       "   dietary_fiber  sugar  protein  total_fat  \n",
       "0            1.7   83.0     16.0        3.3  \n",
       "1            0.0    0.0     62.0       23.0  \n",
       "2            1.2    0.8      1.4        0.1  \n",
       "3            NaN    8.0     12.0        NaN  \n",
       "4            NaN   10.0      1.0        NaN  "
      ]
     },
     "execution_count": 1,
     "metadata": {},
     "output_type": "execute_result"
    }
   ],
   "source": [
    "import pandas as pd\n",
    "import numpy as np\n",
    "\n",
    "food_log_1 = pd.read_csv(\"Food_logs/Food_Log_001.csv\")\n",
    "food_log_1.head()"
   ]
  },
  {
   "cell_type": "code",
   "execution_count": 2,
   "metadata": {},
   "outputs": [
    {
     "data": {
      "text/plain": [
       "date\n",
       "2020-02-13    79.4\n",
       "2020-02-14    51.9\n",
       "2020-02-15    76.1\n",
       "2020-02-16    60.7\n",
       "2020-02-17    25.4\n",
       "2020-02-18    82.8\n",
       "2020-02-19    93.0\n",
       "2020-02-20    29.7\n",
       "2020-02-21    92.2\n",
       "2020-02-22    26.0\n",
       "Name: protein, dtype: float64"
      ]
     },
     "execution_count": 2,
     "metadata": {},
     "output_type": "execute_result"
    }
   ],
   "source": [
    "food_log_sum = food_log_1.groupby('date')['protein'].sum()\n",
    "food_log_sum"
   ]
  },
  {
   "cell_type": "code",
   "execution_count": 3,
   "metadata": {},
   "outputs": [],
   "source": [
    "import glob\n",
    "import os\n",
    "\n",
    "def agreggating_food_protein(path_to_folder):\n",
    "    all_files = glob.glob(os.path.join(path_to_folder, \"*.csv\"))\n",
    "    main_df = pd.DataFrame()\n",
    "\n",
    "    for file in all_files:\n",
    "        df = pd.read_csv(file)\n",
    "        proccessed_df = df.groupby('date')['protein'].sum()\n",
    "        main_df = pd.concat([main_df, proccessed_df], ignore_index=True)\n",
    "    \n",
    "    return main_df"
   ]
  },
  {
   "cell_type": "code",
   "execution_count": 4,
   "metadata": {},
   "outputs": [
    {
     "data": {
      "text/html": [
       "<div>\n",
       "<style scoped>\n",
       "    .dataframe tbody tr th:only-of-type {\n",
       "        vertical-align: middle;\n",
       "    }\n",
       "\n",
       "    .dataframe tbody tr th {\n",
       "        vertical-align: top;\n",
       "    }\n",
       "\n",
       "    .dataframe thead th {\n",
       "        text-align: right;\n",
       "    }\n",
       "</style>\n",
       "<table border=\"1\" class=\"dataframe\">\n",
       "  <thead>\n",
       "    <tr style=\"text-align: right;\">\n",
       "      <th></th>\n",
       "      <th>0</th>\n",
       "    </tr>\n",
       "  </thead>\n",
       "  <tbody>\n",
       "    <tr>\n",
       "      <th>0</th>\n",
       "      <td>79.4</td>\n",
       "    </tr>\n",
       "    <tr>\n",
       "      <th>1</th>\n",
       "      <td>51.9</td>\n",
       "    </tr>\n",
       "    <tr>\n",
       "      <th>2</th>\n",
       "      <td>76.1</td>\n",
       "    </tr>\n",
       "    <tr>\n",
       "      <th>3</th>\n",
       "      <td>60.7</td>\n",
       "    </tr>\n",
       "    <tr>\n",
       "      <th>4</th>\n",
       "      <td>25.4</td>\n",
       "    </tr>\n",
       "  </tbody>\n",
       "</table>\n",
       "</div>"
      ],
      "text/plain": [
       "      0\n",
       "0  79.4\n",
       "1  51.9\n",
       "2  76.1\n",
       "3  60.7\n",
       "4  25.4"
      ]
     },
     "execution_count": 4,
     "metadata": {},
     "output_type": "execute_result"
    }
   ],
   "source": [
    "food_logs = agreggating_food_protein('Food_Logs')\n",
    "food_logs.head()"
   ]
  },
  {
   "cell_type": "code",
   "execution_count": 5,
   "metadata": {},
   "outputs": [
    {
     "data": {
      "text/html": [
       "<div>\n",
       "<style scoped>\n",
       "    .dataframe tbody tr th:only-of-type {\n",
       "        vertical-align: middle;\n",
       "    }\n",
       "\n",
       "    .dataframe tbody tr th {\n",
       "        vertical-align: top;\n",
       "    }\n",
       "\n",
       "    .dataframe thead th {\n",
       "        text-align: right;\n",
       "    }\n",
       "</style>\n",
       "<table border=\"1\" class=\"dataframe\">\n",
       "  <thead>\n",
       "    <tr style=\"text-align: right;\">\n",
       "      <th></th>\n",
       "      <th>Person</th>\n",
       "      <th>Day</th>\n",
       "      <th>protein</th>\n",
       "    </tr>\n",
       "  </thead>\n",
       "  <tbody>\n",
       "    <tr>\n",
       "      <th>0</th>\n",
       "      <td>Food_Log_001</td>\n",
       "      <td>1</td>\n",
       "      <td>79.4</td>\n",
       "    </tr>\n",
       "    <tr>\n",
       "      <th>1</th>\n",
       "      <td>Food_Log_001</td>\n",
       "      <td>2</td>\n",
       "      <td>51.9</td>\n",
       "    </tr>\n",
       "    <tr>\n",
       "      <th>2</th>\n",
       "      <td>Food_Log_001</td>\n",
       "      <td>3</td>\n",
       "      <td>76.1</td>\n",
       "    </tr>\n",
       "    <tr>\n",
       "      <th>3</th>\n",
       "      <td>Food_Log_001</td>\n",
       "      <td>4</td>\n",
       "      <td>60.7</td>\n",
       "    </tr>\n",
       "    <tr>\n",
       "      <th>4</th>\n",
       "      <td>Food_Log_001</td>\n",
       "      <td>5</td>\n",
       "      <td>25.4</td>\n",
       "    </tr>\n",
       "    <tr>\n",
       "      <th>5</th>\n",
       "      <td>Food_Log_001</td>\n",
       "      <td>6</td>\n",
       "      <td>82.8</td>\n",
       "    </tr>\n",
       "    <tr>\n",
       "      <th>6</th>\n",
       "      <td>Food_Log_001</td>\n",
       "      <td>7</td>\n",
       "      <td>93.0</td>\n",
       "    </tr>\n",
       "    <tr>\n",
       "      <th>7</th>\n",
       "      <td>Food_Log_004</td>\n",
       "      <td>1</td>\n",
       "      <td>104.0</td>\n",
       "    </tr>\n",
       "    <tr>\n",
       "      <th>8</th>\n",
       "      <td>Food_Log_004</td>\n",
       "      <td>2</td>\n",
       "      <td>135.8</td>\n",
       "    </tr>\n",
       "    <tr>\n",
       "      <th>9</th>\n",
       "      <td>Food_Log_004</td>\n",
       "      <td>3</td>\n",
       "      <td>67.9</td>\n",
       "    </tr>\n",
       "    <tr>\n",
       "      <th>10</th>\n",
       "      <td>Food_Log_004</td>\n",
       "      <td>4</td>\n",
       "      <td>115.3</td>\n",
       "    </tr>\n",
       "    <tr>\n",
       "      <th>11</th>\n",
       "      <td>Food_Log_004</td>\n",
       "      <td>5</td>\n",
       "      <td>91.8</td>\n",
       "    </tr>\n",
       "    <tr>\n",
       "      <th>12</th>\n",
       "      <td>Food_Log_004</td>\n",
       "      <td>6</td>\n",
       "      <td>85.7</td>\n",
       "    </tr>\n",
       "    <tr>\n",
       "      <th>13</th>\n",
       "      <td>Food_Log_004</td>\n",
       "      <td>7</td>\n",
       "      <td>56.3</td>\n",
       "    </tr>\n",
       "    <tr>\n",
       "      <th>14</th>\n",
       "      <td>Food_Log_005</td>\n",
       "      <td>1</td>\n",
       "      <td>73.9</td>\n",
       "    </tr>\n",
       "    <tr>\n",
       "      <th>15</th>\n",
       "      <td>Food_Log_005</td>\n",
       "      <td>2</td>\n",
       "      <td>61.5</td>\n",
       "    </tr>\n",
       "    <tr>\n",
       "      <th>16</th>\n",
       "      <td>Food_Log_005</td>\n",
       "      <td>3</td>\n",
       "      <td>35.3</td>\n",
       "    </tr>\n",
       "    <tr>\n",
       "      <th>17</th>\n",
       "      <td>Food_Log_005</td>\n",
       "      <td>4</td>\n",
       "      <td>65.9</td>\n",
       "    </tr>\n",
       "    <tr>\n",
       "      <th>18</th>\n",
       "      <td>Food_Log_005</td>\n",
       "      <td>5</td>\n",
       "      <td>35.8</td>\n",
       "    </tr>\n",
       "    <tr>\n",
       "      <th>19</th>\n",
       "      <td>Food_Log_005</td>\n",
       "      <td>6</td>\n",
       "      <td>73.3</td>\n",
       "    </tr>\n",
       "    <tr>\n",
       "      <th>20</th>\n",
       "      <td>Food_Log_005</td>\n",
       "      <td>7</td>\n",
       "      <td>118.2</td>\n",
       "    </tr>\n",
       "    <tr>\n",
       "      <th>21</th>\n",
       "      <td>Food_Log_006</td>\n",
       "      <td>1</td>\n",
       "      <td>100.0</td>\n",
       "    </tr>\n",
       "    <tr>\n",
       "      <th>22</th>\n",
       "      <td>Food_Log_006</td>\n",
       "      <td>2</td>\n",
       "      <td>86.0</td>\n",
       "    </tr>\n",
       "    <tr>\n",
       "      <th>23</th>\n",
       "      <td>Food_Log_006</td>\n",
       "      <td>3</td>\n",
       "      <td>110.0</td>\n",
       "    </tr>\n",
       "    <tr>\n",
       "      <th>24</th>\n",
       "      <td>Food_Log_006</td>\n",
       "      <td>4</td>\n",
       "      <td>79.1</td>\n",
       "    </tr>\n",
       "    <tr>\n",
       "      <th>25</th>\n",
       "      <td>Food_Log_006</td>\n",
       "      <td>5</td>\n",
       "      <td>139.1</td>\n",
       "    </tr>\n",
       "    <tr>\n",
       "      <th>26</th>\n",
       "      <td>Food_Log_006</td>\n",
       "      <td>6</td>\n",
       "      <td>58.8</td>\n",
       "    </tr>\n",
       "    <tr>\n",
       "      <th>27</th>\n",
       "      <td>Food_Log_006</td>\n",
       "      <td>7</td>\n",
       "      <td>118.1</td>\n",
       "    </tr>\n",
       "    <tr>\n",
       "      <th>28</th>\n",
       "      <td>Food_Log_007</td>\n",
       "      <td>1</td>\n",
       "      <td>72.3</td>\n",
       "    </tr>\n",
       "    <tr>\n",
       "      <th>29</th>\n",
       "      <td>Food_Log_007</td>\n",
       "      <td>2</td>\n",
       "      <td>67.4</td>\n",
       "    </tr>\n",
       "    <tr>\n",
       "      <th>30</th>\n",
       "      <td>Food_Log_007</td>\n",
       "      <td>3</td>\n",
       "      <td>72.6</td>\n",
       "    </tr>\n",
       "    <tr>\n",
       "      <th>31</th>\n",
       "      <td>Food_Log_007</td>\n",
       "      <td>4</td>\n",
       "      <td>82.9</td>\n",
       "    </tr>\n",
       "    <tr>\n",
       "      <th>32</th>\n",
       "      <td>Food_Log_007</td>\n",
       "      <td>5</td>\n",
       "      <td>54.8</td>\n",
       "    </tr>\n",
       "    <tr>\n",
       "      <th>33</th>\n",
       "      <td>Food_Log_007</td>\n",
       "      <td>6</td>\n",
       "      <td>45.6</td>\n",
       "    </tr>\n",
       "    <tr>\n",
       "      <th>34</th>\n",
       "      <td>Food_Log_007</td>\n",
       "      <td>7</td>\n",
       "      <td>66.3</td>\n",
       "    </tr>\n",
       "    <tr>\n",
       "      <th>35</th>\n",
       "      <td>Food_Log_008</td>\n",
       "      <td>1</td>\n",
       "      <td>40.4</td>\n",
       "    </tr>\n",
       "    <tr>\n",
       "      <th>36</th>\n",
       "      <td>Food_Log_008</td>\n",
       "      <td>2</td>\n",
       "      <td>57.6</td>\n",
       "    </tr>\n",
       "    <tr>\n",
       "      <th>37</th>\n",
       "      <td>Food_Log_008</td>\n",
       "      <td>3</td>\n",
       "      <td>106.7</td>\n",
       "    </tr>\n",
       "    <tr>\n",
       "      <th>38</th>\n",
       "      <td>Food_Log_008</td>\n",
       "      <td>4</td>\n",
       "      <td>84.2</td>\n",
       "    </tr>\n",
       "    <tr>\n",
       "      <th>39</th>\n",
       "      <td>Food_Log_008</td>\n",
       "      <td>5</td>\n",
       "      <td>74.1</td>\n",
       "    </tr>\n",
       "    <tr>\n",
       "      <th>40</th>\n",
       "      <td>Food_Log_008</td>\n",
       "      <td>6</td>\n",
       "      <td>57.5</td>\n",
       "    </tr>\n",
       "    <tr>\n",
       "      <th>41</th>\n",
       "      <td>Food_Log_008</td>\n",
       "      <td>7</td>\n",
       "      <td>82.4</td>\n",
       "    </tr>\n",
       "    <tr>\n",
       "      <th>42</th>\n",
       "      <td>Food_Log_010</td>\n",
       "      <td>1</td>\n",
       "      <td>121.5</td>\n",
       "    </tr>\n",
       "    <tr>\n",
       "      <th>43</th>\n",
       "      <td>Food_Log_010</td>\n",
       "      <td>2</td>\n",
       "      <td>234.2</td>\n",
       "    </tr>\n",
       "    <tr>\n",
       "      <th>44</th>\n",
       "      <td>Food_Log_010</td>\n",
       "      <td>3</td>\n",
       "      <td>176.8</td>\n",
       "    </tr>\n",
       "    <tr>\n",
       "      <th>45</th>\n",
       "      <td>Food_Log_010</td>\n",
       "      <td>4</td>\n",
       "      <td>160.6</td>\n",
       "    </tr>\n",
       "    <tr>\n",
       "      <th>46</th>\n",
       "      <td>Food_Log_010</td>\n",
       "      <td>5</td>\n",
       "      <td>150.4</td>\n",
       "    </tr>\n",
       "    <tr>\n",
       "      <th>47</th>\n",
       "      <td>Food_Log_010</td>\n",
       "      <td>6</td>\n",
       "      <td>163.4</td>\n",
       "    </tr>\n",
       "    <tr>\n",
       "      <th>48</th>\n",
       "      <td>Food_Log_010</td>\n",
       "      <td>7</td>\n",
       "      <td>142.3</td>\n",
       "    </tr>\n",
       "    <tr>\n",
       "      <th>49</th>\n",
       "      <td>Food_Log_015</td>\n",
       "      <td>1</td>\n",
       "      <td>56.9</td>\n",
       "    </tr>\n",
       "    <tr>\n",
       "      <th>50</th>\n",
       "      <td>Food_Log_015</td>\n",
       "      <td>2</td>\n",
       "      <td>53.2</td>\n",
       "    </tr>\n",
       "    <tr>\n",
       "      <th>51</th>\n",
       "      <td>Food_Log_015</td>\n",
       "      <td>3</td>\n",
       "      <td>117.9</td>\n",
       "    </tr>\n",
       "    <tr>\n",
       "      <th>52</th>\n",
       "      <td>Food_Log_015</td>\n",
       "      <td>4</td>\n",
       "      <td>72.0</td>\n",
       "    </tr>\n",
       "    <tr>\n",
       "      <th>53</th>\n",
       "      <td>Food_Log_015</td>\n",
       "      <td>5</td>\n",
       "      <td>121.6</td>\n",
       "    </tr>\n",
       "    <tr>\n",
       "      <th>54</th>\n",
       "      <td>Food_Log_015</td>\n",
       "      <td>6</td>\n",
       "      <td>114.9</td>\n",
       "    </tr>\n",
       "    <tr>\n",
       "      <th>55</th>\n",
       "      <td>Food_Log_015</td>\n",
       "      <td>7</td>\n",
       "      <td>54.0</td>\n",
       "    </tr>\n",
       "  </tbody>\n",
       "</table>\n",
       "</div>"
      ],
      "text/plain": [
       "          Person  Day  protein\n",
       "0   Food_Log_001    1     79.4\n",
       "1   Food_Log_001    2     51.9\n",
       "2   Food_Log_001    3     76.1\n",
       "3   Food_Log_001    4     60.7\n",
       "4   Food_Log_001    5     25.4\n",
       "5   Food_Log_001    6     82.8\n",
       "6   Food_Log_001    7     93.0\n",
       "7   Food_Log_004    1    104.0\n",
       "8   Food_Log_004    2    135.8\n",
       "9   Food_Log_004    3     67.9\n",
       "10  Food_Log_004    4    115.3\n",
       "11  Food_Log_004    5     91.8\n",
       "12  Food_Log_004    6     85.7\n",
       "13  Food_Log_004    7     56.3\n",
       "14  Food_Log_005    1     73.9\n",
       "15  Food_Log_005    2     61.5\n",
       "16  Food_Log_005    3     35.3\n",
       "17  Food_Log_005    4     65.9\n",
       "18  Food_Log_005    5     35.8\n",
       "19  Food_Log_005    6     73.3\n",
       "20  Food_Log_005    7    118.2\n",
       "21  Food_Log_006    1    100.0\n",
       "22  Food_Log_006    2     86.0\n",
       "23  Food_Log_006    3    110.0\n",
       "24  Food_Log_006    4     79.1\n",
       "25  Food_Log_006    5    139.1\n",
       "26  Food_Log_006    6     58.8\n",
       "27  Food_Log_006    7    118.1\n",
       "28  Food_Log_007    1     72.3\n",
       "29  Food_Log_007    2     67.4\n",
       "30  Food_Log_007    3     72.6\n",
       "31  Food_Log_007    4     82.9\n",
       "32  Food_Log_007    5     54.8\n",
       "33  Food_Log_007    6     45.6\n",
       "34  Food_Log_007    7     66.3\n",
       "35  Food_Log_008    1     40.4\n",
       "36  Food_Log_008    2     57.6\n",
       "37  Food_Log_008    3    106.7\n",
       "38  Food_Log_008    4     84.2\n",
       "39  Food_Log_008    5     74.1\n",
       "40  Food_Log_008    6     57.5\n",
       "41  Food_Log_008    7     82.4\n",
       "42  Food_Log_010    1    121.5\n",
       "43  Food_Log_010    2    234.2\n",
       "44  Food_Log_010    3    176.8\n",
       "45  Food_Log_010    4    160.6\n",
       "46  Food_Log_010    5    150.4\n",
       "47  Food_Log_010    6    163.4\n",
       "48  Food_Log_010    7    142.3\n",
       "49  Food_Log_015    1     56.9\n",
       "50  Food_Log_015    2     53.2\n",
       "51  Food_Log_015    3    117.9\n",
       "52  Food_Log_015    4     72.0\n",
       "53  Food_Log_015    5    121.6\n",
       "54  Food_Log_015    6    114.9\n",
       "55  Food_Log_015    7     54.0"
      ]
     },
     "execution_count": 5,
     "metadata": {},
     "output_type": "execute_result"
    }
   ],
   "source": [
    "import glob\n",
    "import os\n",
    "import pandas as pd\n",
    "\n",
    "def aggregating_food_protein(path_to_folder, column_to_agregate):\n",
    "    all_files = glob.glob(os.path.join(path_to_folder, \"*.csv\"))\n",
    "    combined_df = pd.DataFrame()\n",
    "\n",
    "    for file in all_files:\n",
    "        df = pd.read_csv(file, encoding=\"utf-8\")\n",
    "        df.columns = df.columns.str.strip().str.lower()\n",
    "\n",
    "\n",
    "        df['date'] = pd.to_datetime(df['date'], errors='coerce')\n",
    "        df = df.dropna(subset=['date'])\n",
    "\n",
    "\n",
    "        start_date = df['date'].min()\n",
    "        end_date = start_date + pd.Timedelta(days=6) \n",
    "\n",
    "\n",
    "        df_filtered = df[(df['date'] >= start_date) & (df['date'] <= end_date)].copy()\n",
    "\n",
    "\n",
    "        df_filtered['Day'] = (df_filtered['date'] - start_date).dt.days + 1\n",
    "\n",
    "        daily_protein = df_filtered.groupby(\"Day\", as_index=False)[column_to_agregate].sum()\n",
    "        all_days = pd.DataFrame({'Day': range(1, 8)})\n",
    "        daily_protein = all_days.merge(daily_protein, on=\"Day\", how=\"left\").fillna(0)\n",
    "\n",
    "        person_name = os.path.basename(file).replace(\".csv\", \"\")\n",
    "        daily_protein['Person'] = person_name \n",
    "        daily_protein = daily_protein[['Person', 'Day', column_to_agregate]]\n",
    "\n",
    "        combined_df = pd.concat([combined_df, daily_protein], ignore_index=True)\n",
    "\n",
    "    return combined_df\n",
    "\n",
    "\n",
    "folder_path = \"Food_Logs\" \n",
    "protein_df = aggregating_food_protein(folder_path, 'protein')\n",
    "protein_df"
   ]
  },
  {
   "cell_type": "code",
   "execution_count": 7,
   "metadata": {},
   "outputs": [
    {
     "data": {
      "text/plain": [
       "Timestamp (YYYY-MM-DDThh:mm:ss)    datetime64[ns]\n",
       "Glucose Value (mg/dL)                     float64\n",
       "dtype: object"
      ]
     },
     "execution_count": 7,
     "metadata": {},
     "output_type": "execute_result"
    }
   ],
   "source": [
    "dexcom_1 = pd.read_csv('Dexcom_Logs/Dexcom_001.csv')\n",
    "dexcom_1 = dexcom_1.dropna(subset=['Timestamp (YYYY-MM-DDThh:mm:ss)'])\n",
    "dexcom_1 = dexcom_1[['Timestamp (YYYY-MM-DDThh:mm:ss)', 'Glucose Value (mg/dL)']]\n",
    "dexcom_1['Timestamp (YYYY-MM-DDThh:mm:ss)'] = pd.to_datetime(dexcom_1['Timestamp (YYYY-MM-DDThh:mm:ss)'], errors='coerce')\n",
    "dexcom_1.dtypes"
   ]
  },
  {
   "cell_type": "code",
   "execution_count": 8,
   "metadata": {},
   "outputs": [
    {
     "data": {
      "text/html": [
       "<div>\n",
       "<style scoped>\n",
       "    .dataframe tbody tr th:only-of-type {\n",
       "        vertical-align: middle;\n",
       "    }\n",
       "\n",
       "    .dataframe tbody tr th {\n",
       "        vertical-align: top;\n",
       "    }\n",
       "\n",
       "    .dataframe thead th {\n",
       "        text-align: right;\n",
       "    }\n",
       "</style>\n",
       "<table border=\"1\" class=\"dataframe\">\n",
       "  <thead>\n",
       "    <tr style=\"text-align: right;\">\n",
       "      <th></th>\n",
       "      <th>Person</th>\n",
       "      <th>Day</th>\n",
       "      <th>sugar</th>\n",
       "    </tr>\n",
       "  </thead>\n",
       "  <tbody>\n",
       "    <tr>\n",
       "      <th>0</th>\n",
       "      <td>Food_Log_001</td>\n",
       "      <td>1</td>\n",
       "      <td>83.8</td>\n",
       "    </tr>\n",
       "    <tr>\n",
       "      <th>1</th>\n",
       "      <td>Food_Log_001</td>\n",
       "      <td>2</td>\n",
       "      <td>125.3</td>\n",
       "    </tr>\n",
       "    <tr>\n",
       "      <th>2</th>\n",
       "      <td>Food_Log_001</td>\n",
       "      <td>3</td>\n",
       "      <td>102.5</td>\n",
       "    </tr>\n",
       "    <tr>\n",
       "      <th>3</th>\n",
       "      <td>Food_Log_001</td>\n",
       "      <td>4</td>\n",
       "      <td>80.4</td>\n",
       "    </tr>\n",
       "    <tr>\n",
       "      <th>4</th>\n",
       "      <td>Food_Log_001</td>\n",
       "      <td>5</td>\n",
       "      <td>45.2</td>\n",
       "    </tr>\n",
       "    <tr>\n",
       "      <th>5</th>\n",
       "      <td>Food_Log_001</td>\n",
       "      <td>6</td>\n",
       "      <td>75.8</td>\n",
       "    </tr>\n",
       "    <tr>\n",
       "      <th>6</th>\n",
       "      <td>Food_Log_001</td>\n",
       "      <td>7</td>\n",
       "      <td>100.9</td>\n",
       "    </tr>\n",
       "    <tr>\n",
       "      <th>7</th>\n",
       "      <td>Food_Log_004</td>\n",
       "      <td>1</td>\n",
       "      <td>22.6</td>\n",
       "    </tr>\n",
       "    <tr>\n",
       "      <th>8</th>\n",
       "      <td>Food_Log_004</td>\n",
       "      <td>2</td>\n",
       "      <td>76.7</td>\n",
       "    </tr>\n",
       "    <tr>\n",
       "      <th>9</th>\n",
       "      <td>Food_Log_004</td>\n",
       "      <td>3</td>\n",
       "      <td>17.7</td>\n",
       "    </tr>\n",
       "    <tr>\n",
       "      <th>10</th>\n",
       "      <td>Food_Log_004</td>\n",
       "      <td>4</td>\n",
       "      <td>24.8</td>\n",
       "    </tr>\n",
       "    <tr>\n",
       "      <th>11</th>\n",
       "      <td>Food_Log_004</td>\n",
       "      <td>5</td>\n",
       "      <td>46.5</td>\n",
       "    </tr>\n",
       "    <tr>\n",
       "      <th>12</th>\n",
       "      <td>Food_Log_004</td>\n",
       "      <td>6</td>\n",
       "      <td>29.3</td>\n",
       "    </tr>\n",
       "    <tr>\n",
       "      <th>13</th>\n",
       "      <td>Food_Log_004</td>\n",
       "      <td>7</td>\n",
       "      <td>82.9</td>\n",
       "    </tr>\n",
       "    <tr>\n",
       "      <th>14</th>\n",
       "      <td>Food_Log_005</td>\n",
       "      <td>1</td>\n",
       "      <td>22.9</td>\n",
       "    </tr>\n",
       "    <tr>\n",
       "      <th>15</th>\n",
       "      <td>Food_Log_005</td>\n",
       "      <td>2</td>\n",
       "      <td>65.9</td>\n",
       "    </tr>\n",
       "    <tr>\n",
       "      <th>16</th>\n",
       "      <td>Food_Log_005</td>\n",
       "      <td>3</td>\n",
       "      <td>75.7</td>\n",
       "    </tr>\n",
       "    <tr>\n",
       "      <th>17</th>\n",
       "      <td>Food_Log_005</td>\n",
       "      <td>4</td>\n",
       "      <td>29.8</td>\n",
       "    </tr>\n",
       "    <tr>\n",
       "      <th>18</th>\n",
       "      <td>Food_Log_005</td>\n",
       "      <td>5</td>\n",
       "      <td>16.0</td>\n",
       "    </tr>\n",
       "    <tr>\n",
       "      <th>19</th>\n",
       "      <td>Food_Log_005</td>\n",
       "      <td>6</td>\n",
       "      <td>55.1</td>\n",
       "    </tr>\n",
       "    <tr>\n",
       "      <th>20</th>\n",
       "      <td>Food_Log_005</td>\n",
       "      <td>7</td>\n",
       "      <td>91.5</td>\n",
       "    </tr>\n",
       "    <tr>\n",
       "      <th>21</th>\n",
       "      <td>Food_Log_006</td>\n",
       "      <td>1</td>\n",
       "      <td>111.5</td>\n",
       "    </tr>\n",
       "    <tr>\n",
       "      <th>22</th>\n",
       "      <td>Food_Log_006</td>\n",
       "      <td>2</td>\n",
       "      <td>124.2</td>\n",
       "    </tr>\n",
       "    <tr>\n",
       "      <th>23</th>\n",
       "      <td>Food_Log_006</td>\n",
       "      <td>3</td>\n",
       "      <td>130.2</td>\n",
       "    </tr>\n",
       "    <tr>\n",
       "      <th>24</th>\n",
       "      <td>Food_Log_006</td>\n",
       "      <td>4</td>\n",
       "      <td>158.6</td>\n",
       "    </tr>\n",
       "    <tr>\n",
       "      <th>25</th>\n",
       "      <td>Food_Log_006</td>\n",
       "      <td>5</td>\n",
       "      <td>122.7</td>\n",
       "    </tr>\n",
       "    <tr>\n",
       "      <th>26</th>\n",
       "      <td>Food_Log_006</td>\n",
       "      <td>6</td>\n",
       "      <td>79.8</td>\n",
       "    </tr>\n",
       "    <tr>\n",
       "      <th>27</th>\n",
       "      <td>Food_Log_006</td>\n",
       "      <td>7</td>\n",
       "      <td>128.0</td>\n",
       "    </tr>\n",
       "    <tr>\n",
       "      <th>28</th>\n",
       "      <td>Food_Log_007</td>\n",
       "      <td>1</td>\n",
       "      <td>35.2</td>\n",
       "    </tr>\n",
       "    <tr>\n",
       "      <th>29</th>\n",
       "      <td>Food_Log_007</td>\n",
       "      <td>2</td>\n",
       "      <td>45.3</td>\n",
       "    </tr>\n",
       "    <tr>\n",
       "      <th>30</th>\n",
       "      <td>Food_Log_007</td>\n",
       "      <td>3</td>\n",
       "      <td>79.1</td>\n",
       "    </tr>\n",
       "    <tr>\n",
       "      <th>31</th>\n",
       "      <td>Food_Log_007</td>\n",
       "      <td>4</td>\n",
       "      <td>39.1</td>\n",
       "    </tr>\n",
       "    <tr>\n",
       "      <th>32</th>\n",
       "      <td>Food_Log_007</td>\n",
       "      <td>5</td>\n",
       "      <td>28.7</td>\n",
       "    </tr>\n",
       "    <tr>\n",
       "      <th>33</th>\n",
       "      <td>Food_Log_007</td>\n",
       "      <td>6</td>\n",
       "      <td>57.4</td>\n",
       "    </tr>\n",
       "    <tr>\n",
       "      <th>34</th>\n",
       "      <td>Food_Log_007</td>\n",
       "      <td>7</td>\n",
       "      <td>39.6</td>\n",
       "    </tr>\n",
       "    <tr>\n",
       "      <th>35</th>\n",
       "      <td>Food_Log_008</td>\n",
       "      <td>1</td>\n",
       "      <td>43.3</td>\n",
       "    </tr>\n",
       "    <tr>\n",
       "      <th>36</th>\n",
       "      <td>Food_Log_008</td>\n",
       "      <td>2</td>\n",
       "      <td>39.7</td>\n",
       "    </tr>\n",
       "    <tr>\n",
       "      <th>37</th>\n",
       "      <td>Food_Log_008</td>\n",
       "      <td>3</td>\n",
       "      <td>64.7</td>\n",
       "    </tr>\n",
       "    <tr>\n",
       "      <th>38</th>\n",
       "      <td>Food_Log_008</td>\n",
       "      <td>4</td>\n",
       "      <td>98.3</td>\n",
       "    </tr>\n",
       "    <tr>\n",
       "      <th>39</th>\n",
       "      <td>Food_Log_008</td>\n",
       "      <td>5</td>\n",
       "      <td>62.9</td>\n",
       "    </tr>\n",
       "    <tr>\n",
       "      <th>40</th>\n",
       "      <td>Food_Log_008</td>\n",
       "      <td>6</td>\n",
       "      <td>53.6</td>\n",
       "    </tr>\n",
       "    <tr>\n",
       "      <th>41</th>\n",
       "      <td>Food_Log_008</td>\n",
       "      <td>7</td>\n",
       "      <td>78.0</td>\n",
       "    </tr>\n",
       "    <tr>\n",
       "      <th>42</th>\n",
       "      <td>Food_Log_010</td>\n",
       "      <td>1</td>\n",
       "      <td>75.6</td>\n",
       "    </tr>\n",
       "    <tr>\n",
       "      <th>43</th>\n",
       "      <td>Food_Log_010</td>\n",
       "      <td>2</td>\n",
       "      <td>99.0</td>\n",
       "    </tr>\n",
       "    <tr>\n",
       "      <th>44</th>\n",
       "      <td>Food_Log_010</td>\n",
       "      <td>3</td>\n",
       "      <td>80.1</td>\n",
       "    </tr>\n",
       "    <tr>\n",
       "      <th>45</th>\n",
       "      <td>Food_Log_010</td>\n",
       "      <td>4</td>\n",
       "      <td>82.8</td>\n",
       "    </tr>\n",
       "    <tr>\n",
       "      <th>46</th>\n",
       "      <td>Food_Log_010</td>\n",
       "      <td>5</td>\n",
       "      <td>80.5</td>\n",
       "    </tr>\n",
       "    <tr>\n",
       "      <th>47</th>\n",
       "      <td>Food_Log_010</td>\n",
       "      <td>6</td>\n",
       "      <td>101.7</td>\n",
       "    </tr>\n",
       "    <tr>\n",
       "      <th>48</th>\n",
       "      <td>Food_Log_010</td>\n",
       "      <td>7</td>\n",
       "      <td>78.0</td>\n",
       "    </tr>\n",
       "    <tr>\n",
       "      <th>49</th>\n",
       "      <td>Food_Log_015</td>\n",
       "      <td>1</td>\n",
       "      <td>39.6</td>\n",
       "    </tr>\n",
       "    <tr>\n",
       "      <th>50</th>\n",
       "      <td>Food_Log_015</td>\n",
       "      <td>2</td>\n",
       "      <td>98.2</td>\n",
       "    </tr>\n",
       "    <tr>\n",
       "      <th>51</th>\n",
       "      <td>Food_Log_015</td>\n",
       "      <td>3</td>\n",
       "      <td>156.5</td>\n",
       "    </tr>\n",
       "    <tr>\n",
       "      <th>52</th>\n",
       "      <td>Food_Log_015</td>\n",
       "      <td>4</td>\n",
       "      <td>69.9</td>\n",
       "    </tr>\n",
       "    <tr>\n",
       "      <th>53</th>\n",
       "      <td>Food_Log_015</td>\n",
       "      <td>5</td>\n",
       "      <td>204.4</td>\n",
       "    </tr>\n",
       "    <tr>\n",
       "      <th>54</th>\n",
       "      <td>Food_Log_015</td>\n",
       "      <td>6</td>\n",
       "      <td>92.8</td>\n",
       "    </tr>\n",
       "    <tr>\n",
       "      <th>55</th>\n",
       "      <td>Food_Log_015</td>\n",
       "      <td>7</td>\n",
       "      <td>89.1</td>\n",
       "    </tr>\n",
       "  </tbody>\n",
       "</table>\n",
       "</div>"
      ],
      "text/plain": [
       "          Person  Day  sugar\n",
       "0   Food_Log_001    1   83.8\n",
       "1   Food_Log_001    2  125.3\n",
       "2   Food_Log_001    3  102.5\n",
       "3   Food_Log_001    4   80.4\n",
       "4   Food_Log_001    5   45.2\n",
       "5   Food_Log_001    6   75.8\n",
       "6   Food_Log_001    7  100.9\n",
       "7   Food_Log_004    1   22.6\n",
       "8   Food_Log_004    2   76.7\n",
       "9   Food_Log_004    3   17.7\n",
       "10  Food_Log_004    4   24.8\n",
       "11  Food_Log_004    5   46.5\n",
       "12  Food_Log_004    6   29.3\n",
       "13  Food_Log_004    7   82.9\n",
       "14  Food_Log_005    1   22.9\n",
       "15  Food_Log_005    2   65.9\n",
       "16  Food_Log_005    3   75.7\n",
       "17  Food_Log_005    4   29.8\n",
       "18  Food_Log_005    5   16.0\n",
       "19  Food_Log_005    6   55.1\n",
       "20  Food_Log_005    7   91.5\n",
       "21  Food_Log_006    1  111.5\n",
       "22  Food_Log_006    2  124.2\n",
       "23  Food_Log_006    3  130.2\n",
       "24  Food_Log_006    4  158.6\n",
       "25  Food_Log_006    5  122.7\n",
       "26  Food_Log_006    6   79.8\n",
       "27  Food_Log_006    7  128.0\n",
       "28  Food_Log_007    1   35.2\n",
       "29  Food_Log_007    2   45.3\n",
       "30  Food_Log_007    3   79.1\n",
       "31  Food_Log_007    4   39.1\n",
       "32  Food_Log_007    5   28.7\n",
       "33  Food_Log_007    6   57.4\n",
       "34  Food_Log_007    7   39.6\n",
       "35  Food_Log_008    1   43.3\n",
       "36  Food_Log_008    2   39.7\n",
       "37  Food_Log_008    3   64.7\n",
       "38  Food_Log_008    4   98.3\n",
       "39  Food_Log_008    5   62.9\n",
       "40  Food_Log_008    6   53.6\n",
       "41  Food_Log_008    7   78.0\n",
       "42  Food_Log_010    1   75.6\n",
       "43  Food_Log_010    2   99.0\n",
       "44  Food_Log_010    3   80.1\n",
       "45  Food_Log_010    4   82.8\n",
       "46  Food_Log_010    5   80.5\n",
       "47  Food_Log_010    6  101.7\n",
       "48  Food_Log_010    7   78.0\n",
       "49  Food_Log_015    1   39.6\n",
       "50  Food_Log_015    2   98.2\n",
       "51  Food_Log_015    3  156.5\n",
       "52  Food_Log_015    4   69.9\n",
       "53  Food_Log_015    5  204.4\n",
       "54  Food_Log_015    6   92.8\n",
       "55  Food_Log_015    7   89.1"
      ]
     },
     "execution_count": 8,
     "metadata": {},
     "output_type": "execute_result"
    }
   ],
   "source": [
    "sugar_df = aggregating_food_protein(folder_path, 'sugar')\n",
    "sugar_df"
   ]
  },
  {
   "cell_type": "code",
   "execution_count": 9,
   "metadata": {},
   "outputs": [
    {
     "data": {
      "text/html": [
       "<div>\n",
       "<style scoped>\n",
       "    .dataframe tbody tr th:only-of-type {\n",
       "        vertical-align: middle;\n",
       "    }\n",
       "\n",
       "    .dataframe tbody tr th {\n",
       "        vertical-align: top;\n",
       "    }\n",
       "\n",
       "    .dataframe thead th {\n",
       "        text-align: right;\n",
       "    }\n",
       "</style>\n",
       "<table border=\"1\" class=\"dataframe\">\n",
       "  <thead>\n",
       "    <tr style=\"text-align: right;\">\n",
       "      <th></th>\n",
       "      <th>Person</th>\n",
       "      <th>Day</th>\n",
       "      <th>glucose value (mg/dl)</th>\n",
       "    </tr>\n",
       "  </thead>\n",
       "  <tbody>\n",
       "    <tr>\n",
       "      <th>0</th>\n",
       "      <td>Dexcom_001</td>\n",
       "      <td>1</td>\n",
       "      <td>101.450000</td>\n",
       "    </tr>\n",
       "    <tr>\n",
       "      <th>1</th>\n",
       "      <td>Dexcom_001</td>\n",
       "      <td>2</td>\n",
       "      <td>99.975694</td>\n",
       "    </tr>\n",
       "    <tr>\n",
       "      <th>2</th>\n",
       "      <td>Dexcom_001</td>\n",
       "      <td>3</td>\n",
       "      <td>93.522648</td>\n",
       "    </tr>\n",
       "    <tr>\n",
       "      <th>3</th>\n",
       "      <td>Dexcom_001</td>\n",
       "      <td>4</td>\n",
       "      <td>104.142361</td>\n",
       "    </tr>\n",
       "    <tr>\n",
       "      <th>4</th>\n",
       "      <td>Dexcom_001</td>\n",
       "      <td>5</td>\n",
       "      <td>101.822917</td>\n",
       "    </tr>\n",
       "    <tr>\n",
       "      <th>5</th>\n",
       "      <td>Dexcom_001</td>\n",
       "      <td>6</td>\n",
       "      <td>111.569444</td>\n",
       "    </tr>\n",
       "    <tr>\n",
       "      <th>6</th>\n",
       "      <td>Dexcom_001</td>\n",
       "      <td>7</td>\n",
       "      <td>0.000000</td>\n",
       "    </tr>\n",
       "    <tr>\n",
       "      <th>7</th>\n",
       "      <td>Dexcom_004</td>\n",
       "      <td>1</td>\n",
       "      <td>104.063291</td>\n",
       "    </tr>\n",
       "    <tr>\n",
       "      <th>8</th>\n",
       "      <td>Dexcom_004</td>\n",
       "      <td>2</td>\n",
       "      <td>110.614583</td>\n",
       "    </tr>\n",
       "    <tr>\n",
       "      <th>9</th>\n",
       "      <td>Dexcom_004</td>\n",
       "      <td>3</td>\n",
       "      <td>110.472028</td>\n",
       "    </tr>\n",
       "    <tr>\n",
       "      <th>10</th>\n",
       "      <td>Dexcom_004</td>\n",
       "      <td>4</td>\n",
       "      <td>118.229167</td>\n",
       "    </tr>\n",
       "    <tr>\n",
       "      <th>11</th>\n",
       "      <td>Dexcom_004</td>\n",
       "      <td>5</td>\n",
       "      <td>100.571429</td>\n",
       "    </tr>\n",
       "    <tr>\n",
       "      <th>12</th>\n",
       "      <td>Dexcom_004</td>\n",
       "      <td>6</td>\n",
       "      <td>114.495575</td>\n",
       "    </tr>\n",
       "    <tr>\n",
       "      <th>13</th>\n",
       "      <td>Dexcom_004</td>\n",
       "      <td>7</td>\n",
       "      <td>0.000000</td>\n",
       "    </tr>\n",
       "    <tr>\n",
       "      <th>14</th>\n",
       "      <td>Dexcom_005</td>\n",
       "      <td>1</td>\n",
       "      <td>120.309524</td>\n",
       "    </tr>\n",
       "    <tr>\n",
       "      <th>15</th>\n",
       "      <td>Dexcom_005</td>\n",
       "      <td>2</td>\n",
       "      <td>104.795139</td>\n",
       "    </tr>\n",
       "    <tr>\n",
       "      <th>16</th>\n",
       "      <td>Dexcom_005</td>\n",
       "      <td>3</td>\n",
       "      <td>111.388889</td>\n",
       "    </tr>\n",
       "    <tr>\n",
       "      <th>17</th>\n",
       "      <td>Dexcom_005</td>\n",
       "      <td>4</td>\n",
       "      <td>104.152249</td>\n",
       "    </tr>\n",
       "    <tr>\n",
       "      <th>18</th>\n",
       "      <td>Dexcom_005</td>\n",
       "      <td>5</td>\n",
       "      <td>98.430556</td>\n",
       "    </tr>\n",
       "    <tr>\n",
       "      <th>19</th>\n",
       "      <td>Dexcom_005</td>\n",
       "      <td>6</td>\n",
       "      <td>104.709790</td>\n",
       "    </tr>\n",
       "    <tr>\n",
       "      <th>20</th>\n",
       "      <td>Dexcom_005</td>\n",
       "      <td>7</td>\n",
       "      <td>0.000000</td>\n",
       "    </tr>\n",
       "    <tr>\n",
       "      <th>21</th>\n",
       "      <td>Dexcom_006</td>\n",
       "      <td>1</td>\n",
       "      <td>119.326241</td>\n",
       "    </tr>\n",
       "    <tr>\n",
       "      <th>22</th>\n",
       "      <td>Dexcom_006</td>\n",
       "      <td>2</td>\n",
       "      <td>121.552083</td>\n",
       "    </tr>\n",
       "    <tr>\n",
       "      <th>23</th>\n",
       "      <td>Dexcom_006</td>\n",
       "      <td>3</td>\n",
       "      <td>122.218750</td>\n",
       "    </tr>\n",
       "    <tr>\n",
       "      <th>24</th>\n",
       "      <td>Dexcom_006</td>\n",
       "      <td>4</td>\n",
       "      <td>119.302083</td>\n",
       "    </tr>\n",
       "    <tr>\n",
       "      <th>25</th>\n",
       "      <td>Dexcom_006</td>\n",
       "      <td>5</td>\n",
       "      <td>126.416667</td>\n",
       "    </tr>\n",
       "    <tr>\n",
       "      <th>26</th>\n",
       "      <td>Dexcom_006</td>\n",
       "      <td>6</td>\n",
       "      <td>122.906250</td>\n",
       "    </tr>\n",
       "    <tr>\n",
       "      <th>27</th>\n",
       "      <td>Dexcom_006</td>\n",
       "      <td>7</td>\n",
       "      <td>0.000000</td>\n",
       "    </tr>\n",
       "    <tr>\n",
       "      <th>28</th>\n",
       "      <td>Dexcom_007</td>\n",
       "      <td>1</td>\n",
       "      <td>106.485294</td>\n",
       "    </tr>\n",
       "    <tr>\n",
       "      <th>29</th>\n",
       "      <td>Dexcom_007</td>\n",
       "      <td>2</td>\n",
       "      <td>91.590278</td>\n",
       "    </tr>\n",
       "    <tr>\n",
       "      <th>30</th>\n",
       "      <td>Dexcom_007</td>\n",
       "      <td>3</td>\n",
       "      <td>97.486111</td>\n",
       "    </tr>\n",
       "    <tr>\n",
       "      <th>31</th>\n",
       "      <td>Dexcom_007</td>\n",
       "      <td>4</td>\n",
       "      <td>96.350694</td>\n",
       "    </tr>\n",
       "    <tr>\n",
       "      <th>32</th>\n",
       "      <td>Dexcom_007</td>\n",
       "      <td>5</td>\n",
       "      <td>92.760766</td>\n",
       "    </tr>\n",
       "    <tr>\n",
       "      <th>33</th>\n",
       "      <td>Dexcom_007</td>\n",
       "      <td>6</td>\n",
       "      <td>86.513889</td>\n",
       "    </tr>\n",
       "    <tr>\n",
       "      <th>34</th>\n",
       "      <td>Dexcom_007</td>\n",
       "      <td>7</td>\n",
       "      <td>0.000000</td>\n",
       "    </tr>\n",
       "    <tr>\n",
       "      <th>35</th>\n",
       "      <td>Dexcom_008</td>\n",
       "      <td>1</td>\n",
       "      <td>103.325000</td>\n",
       "    </tr>\n",
       "    <tr>\n",
       "      <th>36</th>\n",
       "      <td>Dexcom_008</td>\n",
       "      <td>2</td>\n",
       "      <td>93.132841</td>\n",
       "    </tr>\n",
       "    <tr>\n",
       "      <th>37</th>\n",
       "      <td>Dexcom_008</td>\n",
       "      <td>3</td>\n",
       "      <td>104.267361</td>\n",
       "    </tr>\n",
       "    <tr>\n",
       "      <th>38</th>\n",
       "      <td>Dexcom_008</td>\n",
       "      <td>4</td>\n",
       "      <td>112.781818</td>\n",
       "    </tr>\n",
       "    <tr>\n",
       "      <th>39</th>\n",
       "      <td>Dexcom_008</td>\n",
       "      <td>5</td>\n",
       "      <td>116.607639</td>\n",
       "    </tr>\n",
       "    <tr>\n",
       "      <th>40</th>\n",
       "      <td>Dexcom_008</td>\n",
       "      <td>6</td>\n",
       "      <td>117.323308</td>\n",
       "    </tr>\n",
       "    <tr>\n",
       "      <th>41</th>\n",
       "      <td>Dexcom_008</td>\n",
       "      <td>7</td>\n",
       "      <td>0.000000</td>\n",
       "    </tr>\n",
       "    <tr>\n",
       "      <th>42</th>\n",
       "      <td>Dexcom_010</td>\n",
       "      <td>1</td>\n",
       "      <td>119.572368</td>\n",
       "    </tr>\n",
       "    <tr>\n",
       "      <th>43</th>\n",
       "      <td>Dexcom_010</td>\n",
       "      <td>2</td>\n",
       "      <td>109.018587</td>\n",
       "    </tr>\n",
       "    <tr>\n",
       "      <th>44</th>\n",
       "      <td>Dexcom_010</td>\n",
       "      <td>3</td>\n",
       "      <td>96.903509</td>\n",
       "    </tr>\n",
       "    <tr>\n",
       "      <th>45</th>\n",
       "      <td>Dexcom_010</td>\n",
       "      <td>4</td>\n",
       "      <td>124.843750</td>\n",
       "    </tr>\n",
       "    <tr>\n",
       "      <th>46</th>\n",
       "      <td>Dexcom_010</td>\n",
       "      <td>5</td>\n",
       "      <td>108.833333</td>\n",
       "    </tr>\n",
       "    <tr>\n",
       "      <th>47</th>\n",
       "      <td>Dexcom_010</td>\n",
       "      <td>6</td>\n",
       "      <td>112.722222</td>\n",
       "    </tr>\n",
       "    <tr>\n",
       "      <th>48</th>\n",
       "      <td>Dexcom_010</td>\n",
       "      <td>7</td>\n",
       "      <td>0.000000</td>\n",
       "    </tr>\n",
       "    <tr>\n",
       "      <th>49</th>\n",
       "      <td>Dexcom_015</td>\n",
       "      <td>1</td>\n",
       "      <td>94.155844</td>\n",
       "    </tr>\n",
       "    <tr>\n",
       "      <th>50</th>\n",
       "      <td>Dexcom_015</td>\n",
       "      <td>2</td>\n",
       "      <td>115.200000</td>\n",
       "    </tr>\n",
       "    <tr>\n",
       "      <th>51</th>\n",
       "      <td>Dexcom_015</td>\n",
       "      <td>3</td>\n",
       "      <td>111.568627</td>\n",
       "    </tr>\n",
       "    <tr>\n",
       "      <th>52</th>\n",
       "      <td>Dexcom_015</td>\n",
       "      <td>4</td>\n",
       "      <td>110.000000</td>\n",
       "    </tr>\n",
       "    <tr>\n",
       "      <th>53</th>\n",
       "      <td>Dexcom_015</td>\n",
       "      <td>5</td>\n",
       "      <td>107.017361</td>\n",
       "    </tr>\n",
       "    <tr>\n",
       "      <th>54</th>\n",
       "      <td>Dexcom_015</td>\n",
       "      <td>6</td>\n",
       "      <td>107.892361</td>\n",
       "    </tr>\n",
       "    <tr>\n",
       "      <th>55</th>\n",
       "      <td>Dexcom_015</td>\n",
       "      <td>7</td>\n",
       "      <td>0.000000</td>\n",
       "    </tr>\n",
       "  </tbody>\n",
       "</table>\n",
       "</div>"
      ],
      "text/plain": [
       "        Person  Day  glucose value (mg/dl)\n",
       "0   Dexcom_001    1             101.450000\n",
       "1   Dexcom_001    2              99.975694\n",
       "2   Dexcom_001    3              93.522648\n",
       "3   Dexcom_001    4             104.142361\n",
       "4   Dexcom_001    5             101.822917\n",
       "5   Dexcom_001    6             111.569444\n",
       "6   Dexcom_001    7               0.000000\n",
       "7   Dexcom_004    1             104.063291\n",
       "8   Dexcom_004    2             110.614583\n",
       "9   Dexcom_004    3             110.472028\n",
       "10  Dexcom_004    4             118.229167\n",
       "11  Dexcom_004    5             100.571429\n",
       "12  Dexcom_004    6             114.495575\n",
       "13  Dexcom_004    7               0.000000\n",
       "14  Dexcom_005    1             120.309524\n",
       "15  Dexcom_005    2             104.795139\n",
       "16  Dexcom_005    3             111.388889\n",
       "17  Dexcom_005    4             104.152249\n",
       "18  Dexcom_005    5              98.430556\n",
       "19  Dexcom_005    6             104.709790\n",
       "20  Dexcom_005    7               0.000000\n",
       "21  Dexcom_006    1             119.326241\n",
       "22  Dexcom_006    2             121.552083\n",
       "23  Dexcom_006    3             122.218750\n",
       "24  Dexcom_006    4             119.302083\n",
       "25  Dexcom_006    5             126.416667\n",
       "26  Dexcom_006    6             122.906250\n",
       "27  Dexcom_006    7               0.000000\n",
       "28  Dexcom_007    1             106.485294\n",
       "29  Dexcom_007    2              91.590278\n",
       "30  Dexcom_007    3              97.486111\n",
       "31  Dexcom_007    4              96.350694\n",
       "32  Dexcom_007    5              92.760766\n",
       "33  Dexcom_007    6              86.513889\n",
       "34  Dexcom_007    7               0.000000\n",
       "35  Dexcom_008    1             103.325000\n",
       "36  Dexcom_008    2              93.132841\n",
       "37  Dexcom_008    3             104.267361\n",
       "38  Dexcom_008    4             112.781818\n",
       "39  Dexcom_008    5             116.607639\n",
       "40  Dexcom_008    6             117.323308\n",
       "41  Dexcom_008    7               0.000000\n",
       "42  Dexcom_010    1             119.572368\n",
       "43  Dexcom_010    2             109.018587\n",
       "44  Dexcom_010    3              96.903509\n",
       "45  Dexcom_010    4             124.843750\n",
       "46  Dexcom_010    5             108.833333\n",
       "47  Dexcom_010    6             112.722222\n",
       "48  Dexcom_010    7               0.000000\n",
       "49  Dexcom_015    1              94.155844\n",
       "50  Dexcom_015    2             115.200000\n",
       "51  Dexcom_015    3             111.568627\n",
       "52  Dexcom_015    4             110.000000\n",
       "53  Dexcom_015    5             107.017361\n",
       "54  Dexcom_015    6             107.892361\n",
       "55  Dexcom_015    7               0.000000"
      ]
     },
     "execution_count": 9,
     "metadata": {},
     "output_type": "execute_result"
    }
   ],
   "source": [
    "import pandas as pd\n",
    "import glob\n",
    "import os\n",
    "\n",
    "def aggregating_dexcom(path_to_folder, column_to_aggregate):\n",
    "    all_files = glob.glob(os.path.join(path_to_folder, \"*.csv\"))\n",
    "    combined_df = pd.DataFrame()\n",
    "\n",
    "    for file in all_files:\n",
    "        df = pd.read_csv(file, encoding=\"utf-8\")\n",
    "\n",
    "        # Normalize column names (remove spaces & convert to lowercase)\n",
    "        df.columns = df.columns.str.strip().str.lower()\n",
    "\n",
    "        # Correcting column name for timestamp\n",
    "        timestamp_col = \"timestamp (yyyy-mm-ddthh:mm:ss)\"\n",
    "        if timestamp_col not in df.columns:\n",
    "            raise ValueError(f\"Timestamp column '{timestamp_col}' not found in {file}\")\n",
    "\n",
    "        # Convert timestamp column to datetime\n",
    "        df[timestamp_col] = pd.to_datetime(df[timestamp_col], errors='coerce')\n",
    "\n",
    "        # Drop rows with missing timestamps\n",
    "        df = df.dropna(subset=[timestamp_col])\n",
    "\n",
    "        # Find the start of the 7-day period (earliest date in file)\n",
    "        start_date = df[timestamp_col].min().normalize()\n",
    "        end_date = start_date + pd.Timedelta(days=6)\n",
    "\n",
    "        # Filter data within this range\n",
    "        df_filtered = df[(df[timestamp_col] >= start_date) & (df[timestamp_col] <= end_date)].copy()\n",
    "\n",
    "        # Extract day number (1 to 7) relative to start_date\n",
    "        df_filtered['Day'] = (df_filtered[timestamp_col] - start_date).dt.days + 1\n",
    "\n",
    "        # Aggregate the specified column per day (use mean or sum)\n",
    "        daily_values = df_filtered.groupby(\"Day\", as_index=False)[column_to_aggregate].mean()  # Change to .sum() if needed\n",
    "\n",
    "        # Ensure all 7 days are present\n",
    "        all_days = pd.DataFrame({'Day': range(1, 8)})\n",
    "        daily_values = all_days.merge(daily_values, on=\"Day\", how=\"left\").fillna(0)\n",
    "\n",
    "        # Extract the person's name from filename\n",
    "        person_name = os.path.basename(file).replace(\".csv\", \"\")\n",
    "        daily_values['Person'] = person_name\n",
    "\n",
    "        # Rearrange columns\n",
    "        daily_values = daily_values[['Person', 'Day', column_to_aggregate]]\n",
    "\n",
    "        # Append to final DataFrame\n",
    "        combined_df = pd.concat([combined_df, daily_values], ignore_index=True)\n",
    "\n",
    "    return combined_df\n",
    "\n",
    "dexcom_logs = aggregating_dexcom('Dexcom_Logs',  'glucose value (mg/dl)')\n",
    "dexcom_logs"
   ]
  },
  {
   "cell_type": "code",
   "execution_count": 13,
   "metadata": {},
   "outputs": [
    {
     "data": {
      "text/html": [
       "<div>\n",
       "<style scoped>\n",
       "    .dataframe tbody tr th:only-of-type {\n",
       "        vertical-align: middle;\n",
       "    }\n",
       "\n",
       "    .dataframe tbody tr th {\n",
       "        vertical-align: top;\n",
       "    }\n",
       "\n",
       "    .dataframe thead th {\n",
       "        text-align: right;\n",
       "    }\n",
       "</style>\n",
       "<table border=\"1\" class=\"dataframe\">\n",
       "  <thead>\n",
       "    <tr style=\"text-align: right;\">\n",
       "      <th></th>\n",
       "      <th>Person</th>\n",
       "      <th>Day</th>\n",
       "      <th>glucose value (mg/dl)</th>\n",
       "      <th>person_id</th>\n",
       "    </tr>\n",
       "  </thead>\n",
       "  <tbody>\n",
       "    <tr>\n",
       "      <th>0</th>\n",
       "      <td>Dexcom_001</td>\n",
       "      <td>1</td>\n",
       "      <td>101.450000</td>\n",
       "      <td>001</td>\n",
       "    </tr>\n",
       "    <tr>\n",
       "      <th>1</th>\n",
       "      <td>Dexcom_001</td>\n",
       "      <td>2</td>\n",
       "      <td>99.975694</td>\n",
       "      <td>001</td>\n",
       "    </tr>\n",
       "    <tr>\n",
       "      <th>2</th>\n",
       "      <td>Dexcom_001</td>\n",
       "      <td>3</td>\n",
       "      <td>93.522648</td>\n",
       "      <td>001</td>\n",
       "    </tr>\n",
       "    <tr>\n",
       "      <th>3</th>\n",
       "      <td>Dexcom_001</td>\n",
       "      <td>4</td>\n",
       "      <td>104.142361</td>\n",
       "      <td>001</td>\n",
       "    </tr>\n",
       "    <tr>\n",
       "      <th>4</th>\n",
       "      <td>Dexcom_001</td>\n",
       "      <td>5</td>\n",
       "      <td>101.822917</td>\n",
       "      <td>001</td>\n",
       "    </tr>\n",
       "    <tr>\n",
       "      <th>5</th>\n",
       "      <td>Dexcom_001</td>\n",
       "      <td>6</td>\n",
       "      <td>111.569444</td>\n",
       "      <td>001</td>\n",
       "    </tr>\n",
       "    <tr>\n",
       "      <th>6</th>\n",
       "      <td>Dexcom_001</td>\n",
       "      <td>7</td>\n",
       "      <td>0.000000</td>\n",
       "      <td>001</td>\n",
       "    </tr>\n",
       "    <tr>\n",
       "      <th>7</th>\n",
       "      <td>Dexcom_004</td>\n",
       "      <td>1</td>\n",
       "      <td>104.063291</td>\n",
       "      <td>004</td>\n",
       "    </tr>\n",
       "    <tr>\n",
       "      <th>8</th>\n",
       "      <td>Dexcom_004</td>\n",
       "      <td>2</td>\n",
       "      <td>110.614583</td>\n",
       "      <td>004</td>\n",
       "    </tr>\n",
       "    <tr>\n",
       "      <th>9</th>\n",
       "      <td>Dexcom_004</td>\n",
       "      <td>3</td>\n",
       "      <td>110.472028</td>\n",
       "      <td>004</td>\n",
       "    </tr>\n",
       "    <tr>\n",
       "      <th>10</th>\n",
       "      <td>Dexcom_004</td>\n",
       "      <td>4</td>\n",
       "      <td>118.229167</td>\n",
       "      <td>004</td>\n",
       "    </tr>\n",
       "    <tr>\n",
       "      <th>11</th>\n",
       "      <td>Dexcom_004</td>\n",
       "      <td>5</td>\n",
       "      <td>100.571429</td>\n",
       "      <td>004</td>\n",
       "    </tr>\n",
       "    <tr>\n",
       "      <th>12</th>\n",
       "      <td>Dexcom_004</td>\n",
       "      <td>6</td>\n",
       "      <td>114.495575</td>\n",
       "      <td>004</td>\n",
       "    </tr>\n",
       "    <tr>\n",
       "      <th>13</th>\n",
       "      <td>Dexcom_004</td>\n",
       "      <td>7</td>\n",
       "      <td>0.000000</td>\n",
       "      <td>004</td>\n",
       "    </tr>\n",
       "    <tr>\n",
       "      <th>14</th>\n",
       "      <td>Dexcom_005</td>\n",
       "      <td>1</td>\n",
       "      <td>120.309524</td>\n",
       "      <td>005</td>\n",
       "    </tr>\n",
       "    <tr>\n",
       "      <th>15</th>\n",
       "      <td>Dexcom_005</td>\n",
       "      <td>2</td>\n",
       "      <td>104.795139</td>\n",
       "      <td>005</td>\n",
       "    </tr>\n",
       "    <tr>\n",
       "      <th>16</th>\n",
       "      <td>Dexcom_005</td>\n",
       "      <td>3</td>\n",
       "      <td>111.388889</td>\n",
       "      <td>005</td>\n",
       "    </tr>\n",
       "    <tr>\n",
       "      <th>17</th>\n",
       "      <td>Dexcom_005</td>\n",
       "      <td>4</td>\n",
       "      <td>104.152249</td>\n",
       "      <td>005</td>\n",
       "    </tr>\n",
       "    <tr>\n",
       "      <th>18</th>\n",
       "      <td>Dexcom_005</td>\n",
       "      <td>5</td>\n",
       "      <td>98.430556</td>\n",
       "      <td>005</td>\n",
       "    </tr>\n",
       "    <tr>\n",
       "      <th>19</th>\n",
       "      <td>Dexcom_005</td>\n",
       "      <td>6</td>\n",
       "      <td>104.709790</td>\n",
       "      <td>005</td>\n",
       "    </tr>\n",
       "    <tr>\n",
       "      <th>20</th>\n",
       "      <td>Dexcom_005</td>\n",
       "      <td>7</td>\n",
       "      <td>0.000000</td>\n",
       "      <td>005</td>\n",
       "    </tr>\n",
       "    <tr>\n",
       "      <th>21</th>\n",
       "      <td>Dexcom_006</td>\n",
       "      <td>1</td>\n",
       "      <td>119.326241</td>\n",
       "      <td>006</td>\n",
       "    </tr>\n",
       "    <tr>\n",
       "      <th>22</th>\n",
       "      <td>Dexcom_006</td>\n",
       "      <td>2</td>\n",
       "      <td>121.552083</td>\n",
       "      <td>006</td>\n",
       "    </tr>\n",
       "    <tr>\n",
       "      <th>23</th>\n",
       "      <td>Dexcom_006</td>\n",
       "      <td>3</td>\n",
       "      <td>122.218750</td>\n",
       "      <td>006</td>\n",
       "    </tr>\n",
       "    <tr>\n",
       "      <th>24</th>\n",
       "      <td>Dexcom_006</td>\n",
       "      <td>4</td>\n",
       "      <td>119.302083</td>\n",
       "      <td>006</td>\n",
       "    </tr>\n",
       "    <tr>\n",
       "      <th>25</th>\n",
       "      <td>Dexcom_006</td>\n",
       "      <td>5</td>\n",
       "      <td>126.416667</td>\n",
       "      <td>006</td>\n",
       "    </tr>\n",
       "    <tr>\n",
       "      <th>26</th>\n",
       "      <td>Dexcom_006</td>\n",
       "      <td>6</td>\n",
       "      <td>122.906250</td>\n",
       "      <td>006</td>\n",
       "    </tr>\n",
       "    <tr>\n",
       "      <th>27</th>\n",
       "      <td>Dexcom_006</td>\n",
       "      <td>7</td>\n",
       "      <td>0.000000</td>\n",
       "      <td>006</td>\n",
       "    </tr>\n",
       "    <tr>\n",
       "      <th>28</th>\n",
       "      <td>Dexcom_007</td>\n",
       "      <td>1</td>\n",
       "      <td>106.485294</td>\n",
       "      <td>007</td>\n",
       "    </tr>\n",
       "    <tr>\n",
       "      <th>29</th>\n",
       "      <td>Dexcom_007</td>\n",
       "      <td>2</td>\n",
       "      <td>91.590278</td>\n",
       "      <td>007</td>\n",
       "    </tr>\n",
       "    <tr>\n",
       "      <th>30</th>\n",
       "      <td>Dexcom_007</td>\n",
       "      <td>3</td>\n",
       "      <td>97.486111</td>\n",
       "      <td>007</td>\n",
       "    </tr>\n",
       "    <tr>\n",
       "      <th>31</th>\n",
       "      <td>Dexcom_007</td>\n",
       "      <td>4</td>\n",
       "      <td>96.350694</td>\n",
       "      <td>007</td>\n",
       "    </tr>\n",
       "    <tr>\n",
       "      <th>32</th>\n",
       "      <td>Dexcom_007</td>\n",
       "      <td>5</td>\n",
       "      <td>92.760766</td>\n",
       "      <td>007</td>\n",
       "    </tr>\n",
       "    <tr>\n",
       "      <th>33</th>\n",
       "      <td>Dexcom_007</td>\n",
       "      <td>6</td>\n",
       "      <td>86.513889</td>\n",
       "      <td>007</td>\n",
       "    </tr>\n",
       "    <tr>\n",
       "      <th>34</th>\n",
       "      <td>Dexcom_007</td>\n",
       "      <td>7</td>\n",
       "      <td>0.000000</td>\n",
       "      <td>007</td>\n",
       "    </tr>\n",
       "    <tr>\n",
       "      <th>35</th>\n",
       "      <td>Dexcom_008</td>\n",
       "      <td>1</td>\n",
       "      <td>103.325000</td>\n",
       "      <td>008</td>\n",
       "    </tr>\n",
       "    <tr>\n",
       "      <th>36</th>\n",
       "      <td>Dexcom_008</td>\n",
       "      <td>2</td>\n",
       "      <td>93.132841</td>\n",
       "      <td>008</td>\n",
       "    </tr>\n",
       "    <tr>\n",
       "      <th>37</th>\n",
       "      <td>Dexcom_008</td>\n",
       "      <td>3</td>\n",
       "      <td>104.267361</td>\n",
       "      <td>008</td>\n",
       "    </tr>\n",
       "    <tr>\n",
       "      <th>38</th>\n",
       "      <td>Dexcom_008</td>\n",
       "      <td>4</td>\n",
       "      <td>112.781818</td>\n",
       "      <td>008</td>\n",
       "    </tr>\n",
       "    <tr>\n",
       "      <th>39</th>\n",
       "      <td>Dexcom_008</td>\n",
       "      <td>5</td>\n",
       "      <td>116.607639</td>\n",
       "      <td>008</td>\n",
       "    </tr>\n",
       "    <tr>\n",
       "      <th>40</th>\n",
       "      <td>Dexcom_008</td>\n",
       "      <td>6</td>\n",
       "      <td>117.323308</td>\n",
       "      <td>008</td>\n",
       "    </tr>\n",
       "    <tr>\n",
       "      <th>41</th>\n",
       "      <td>Dexcom_008</td>\n",
       "      <td>7</td>\n",
       "      <td>0.000000</td>\n",
       "      <td>008</td>\n",
       "    </tr>\n",
       "    <tr>\n",
       "      <th>42</th>\n",
       "      <td>Dexcom_010</td>\n",
       "      <td>1</td>\n",
       "      <td>119.572368</td>\n",
       "      <td>010</td>\n",
       "    </tr>\n",
       "    <tr>\n",
       "      <th>43</th>\n",
       "      <td>Dexcom_010</td>\n",
       "      <td>2</td>\n",
       "      <td>109.018587</td>\n",
       "      <td>010</td>\n",
       "    </tr>\n",
       "    <tr>\n",
       "      <th>44</th>\n",
       "      <td>Dexcom_010</td>\n",
       "      <td>3</td>\n",
       "      <td>96.903509</td>\n",
       "      <td>010</td>\n",
       "    </tr>\n",
       "    <tr>\n",
       "      <th>45</th>\n",
       "      <td>Dexcom_010</td>\n",
       "      <td>4</td>\n",
       "      <td>124.843750</td>\n",
       "      <td>010</td>\n",
       "    </tr>\n",
       "    <tr>\n",
       "      <th>46</th>\n",
       "      <td>Dexcom_010</td>\n",
       "      <td>5</td>\n",
       "      <td>108.833333</td>\n",
       "      <td>010</td>\n",
       "    </tr>\n",
       "    <tr>\n",
       "      <th>47</th>\n",
       "      <td>Dexcom_010</td>\n",
       "      <td>6</td>\n",
       "      <td>112.722222</td>\n",
       "      <td>010</td>\n",
       "    </tr>\n",
       "    <tr>\n",
       "      <th>48</th>\n",
       "      <td>Dexcom_010</td>\n",
       "      <td>7</td>\n",
       "      <td>0.000000</td>\n",
       "      <td>010</td>\n",
       "    </tr>\n",
       "    <tr>\n",
       "      <th>49</th>\n",
       "      <td>Dexcom_015</td>\n",
       "      <td>1</td>\n",
       "      <td>94.155844</td>\n",
       "      <td>015</td>\n",
       "    </tr>\n",
       "    <tr>\n",
       "      <th>50</th>\n",
       "      <td>Dexcom_015</td>\n",
       "      <td>2</td>\n",
       "      <td>115.200000</td>\n",
       "      <td>015</td>\n",
       "    </tr>\n",
       "    <tr>\n",
       "      <th>51</th>\n",
       "      <td>Dexcom_015</td>\n",
       "      <td>3</td>\n",
       "      <td>111.568627</td>\n",
       "      <td>015</td>\n",
       "    </tr>\n",
       "    <tr>\n",
       "      <th>52</th>\n",
       "      <td>Dexcom_015</td>\n",
       "      <td>4</td>\n",
       "      <td>110.000000</td>\n",
       "      <td>015</td>\n",
       "    </tr>\n",
       "    <tr>\n",
       "      <th>53</th>\n",
       "      <td>Dexcom_015</td>\n",
       "      <td>5</td>\n",
       "      <td>107.017361</td>\n",
       "      <td>015</td>\n",
       "    </tr>\n",
       "    <tr>\n",
       "      <th>54</th>\n",
       "      <td>Dexcom_015</td>\n",
       "      <td>6</td>\n",
       "      <td>107.892361</td>\n",
       "      <td>015</td>\n",
       "    </tr>\n",
       "    <tr>\n",
       "      <th>55</th>\n",
       "      <td>Dexcom_015</td>\n",
       "      <td>7</td>\n",
       "      <td>0.000000</td>\n",
       "      <td>015</td>\n",
       "    </tr>\n",
       "  </tbody>\n",
       "</table>\n",
       "</div>"
      ],
      "text/plain": [
       "        Person  Day  glucose value (mg/dl) person_id\n",
       "0   Dexcom_001    1             101.450000       001\n",
       "1   Dexcom_001    2              99.975694       001\n",
       "2   Dexcom_001    3              93.522648       001\n",
       "3   Dexcom_001    4             104.142361       001\n",
       "4   Dexcom_001    5             101.822917       001\n",
       "5   Dexcom_001    6             111.569444       001\n",
       "6   Dexcom_001    7               0.000000       001\n",
       "7   Dexcom_004    1             104.063291       004\n",
       "8   Dexcom_004    2             110.614583       004\n",
       "9   Dexcom_004    3             110.472028       004\n",
       "10  Dexcom_004    4             118.229167       004\n",
       "11  Dexcom_004    5             100.571429       004\n",
       "12  Dexcom_004    6             114.495575       004\n",
       "13  Dexcom_004    7               0.000000       004\n",
       "14  Dexcom_005    1             120.309524       005\n",
       "15  Dexcom_005    2             104.795139       005\n",
       "16  Dexcom_005    3             111.388889       005\n",
       "17  Dexcom_005    4             104.152249       005\n",
       "18  Dexcom_005    5              98.430556       005\n",
       "19  Dexcom_005    6             104.709790       005\n",
       "20  Dexcom_005    7               0.000000       005\n",
       "21  Dexcom_006    1             119.326241       006\n",
       "22  Dexcom_006    2             121.552083       006\n",
       "23  Dexcom_006    3             122.218750       006\n",
       "24  Dexcom_006    4             119.302083       006\n",
       "25  Dexcom_006    5             126.416667       006\n",
       "26  Dexcom_006    6             122.906250       006\n",
       "27  Dexcom_006    7               0.000000       006\n",
       "28  Dexcom_007    1             106.485294       007\n",
       "29  Dexcom_007    2              91.590278       007\n",
       "30  Dexcom_007    3              97.486111       007\n",
       "31  Dexcom_007    4              96.350694       007\n",
       "32  Dexcom_007    5              92.760766       007\n",
       "33  Dexcom_007    6              86.513889       007\n",
       "34  Dexcom_007    7               0.000000       007\n",
       "35  Dexcom_008    1             103.325000       008\n",
       "36  Dexcom_008    2              93.132841       008\n",
       "37  Dexcom_008    3             104.267361       008\n",
       "38  Dexcom_008    4             112.781818       008\n",
       "39  Dexcom_008    5             116.607639       008\n",
       "40  Dexcom_008    6             117.323308       008\n",
       "41  Dexcom_008    7               0.000000       008\n",
       "42  Dexcom_010    1             119.572368       010\n",
       "43  Dexcom_010    2             109.018587       010\n",
       "44  Dexcom_010    3              96.903509       010\n",
       "45  Dexcom_010    4             124.843750       010\n",
       "46  Dexcom_010    5             108.833333       010\n",
       "47  Dexcom_010    6             112.722222       010\n",
       "48  Dexcom_010    7               0.000000       010\n",
       "49  Dexcom_015    1              94.155844       015\n",
       "50  Dexcom_015    2             115.200000       015\n",
       "51  Dexcom_015    3             111.568627       015\n",
       "52  Dexcom_015    4             110.000000       015\n",
       "53  Dexcom_015    5             107.017361       015\n",
       "54  Dexcom_015    6             107.892361       015\n",
       "55  Dexcom_015    7               0.000000       015"
      ]
     },
     "execution_count": 13,
     "metadata": {},
     "output_type": "execute_result"
    }
   ],
   "source": [
    "dexcom_exp = dexcom_logs.copy()\n",
    "dexcom_exp['person_id'] = dexcom_exp['Person'].str.split('_').str[1]\n",
    "dexcom_exp"
   ]
  },
  {
   "cell_type": "code",
   "execution_count": 17,
   "metadata": {},
   "outputs": [
    {
     "data": {
      "text/html": [
       "<div>\n",
       "<style scoped>\n",
       "    .dataframe tbody tr th:only-of-type {\n",
       "        vertical-align: middle;\n",
       "    }\n",
       "\n",
       "    .dataframe tbody tr th {\n",
       "        vertical-align: top;\n",
       "    }\n",
       "\n",
       "    .dataframe thead th {\n",
       "        text-align: right;\n",
       "    }\n",
       "</style>\n",
       "<table border=\"1\" class=\"dataframe\">\n",
       "  <thead>\n",
       "    <tr style=\"text-align: right;\">\n",
       "      <th></th>\n",
       "      <th>Person</th>\n",
       "      <th>Day</th>\n",
       "      <th>sugar</th>\n",
       "      <th>person_id</th>\n",
       "    </tr>\n",
       "  </thead>\n",
       "  <tbody>\n",
       "    <tr>\n",
       "      <th>0</th>\n",
       "      <td>Food_Log_001</td>\n",
       "      <td>1</td>\n",
       "      <td>83.8</td>\n",
       "      <td>001</td>\n",
       "    </tr>\n",
       "    <tr>\n",
       "      <th>1</th>\n",
       "      <td>Food_Log_001</td>\n",
       "      <td>2</td>\n",
       "      <td>125.3</td>\n",
       "      <td>001</td>\n",
       "    </tr>\n",
       "    <tr>\n",
       "      <th>2</th>\n",
       "      <td>Food_Log_001</td>\n",
       "      <td>3</td>\n",
       "      <td>102.5</td>\n",
       "      <td>001</td>\n",
       "    </tr>\n",
       "    <tr>\n",
       "      <th>3</th>\n",
       "      <td>Food_Log_001</td>\n",
       "      <td>4</td>\n",
       "      <td>80.4</td>\n",
       "      <td>001</td>\n",
       "    </tr>\n",
       "    <tr>\n",
       "      <th>4</th>\n",
       "      <td>Food_Log_001</td>\n",
       "      <td>5</td>\n",
       "      <td>45.2</td>\n",
       "      <td>001</td>\n",
       "    </tr>\n",
       "  </tbody>\n",
       "</table>\n",
       "</div>"
      ],
      "text/plain": [
       "         Person  Day  sugar person_id\n",
       "0  Food_Log_001    1   83.8       001\n",
       "1  Food_Log_001    2  125.3       001\n",
       "2  Food_Log_001    3  102.5       001\n",
       "3  Food_Log_001    4   80.4       001\n",
       "4  Food_Log_001    5   45.2       001"
      ]
     },
     "execution_count": 17,
     "metadata": {},
     "output_type": "execute_result"
    }
   ],
   "source": [
    "dexcom_logs['person_id'] = dexcom_logs['Person'].str.split('_').str[1]\n",
    "dexcom_exp.head()\n",
    "protein_df['person_id'] = protein_df['Person'].str.split('_').str[-1]\n",
    "sugar_df['person_id'] = sugar_df['Person'].str.split('_').str[-1]\n",
    "protein_df.head()\n",
    "sugar_df.head()"
   ]
  },
  {
   "cell_type": "code",
   "execution_count": 19,
   "metadata": {},
   "outputs": [
    {
     "data": {
      "text/html": [
       "<div>\n",
       "<style scoped>\n",
       "    .dataframe tbody tr th:only-of-type {\n",
       "        vertical-align: middle;\n",
       "    }\n",
       "\n",
       "    .dataframe tbody tr th {\n",
       "        vertical-align: top;\n",
       "    }\n",
       "\n",
       "    .dataframe thead th {\n",
       "        text-align: right;\n",
       "    }\n",
       "</style>\n",
       "<table border=\"1\" class=\"dataframe\">\n",
       "  <thead>\n",
       "    <tr style=\"text-align: right;\">\n",
       "      <th></th>\n",
       "      <th>Person_x</th>\n",
       "      <th>Day</th>\n",
       "      <th>protein</th>\n",
       "      <th>person_id</th>\n",
       "      <th>Person_y</th>\n",
       "      <th>glucose value (mg/dl)</th>\n",
       "    </tr>\n",
       "  </thead>\n",
       "  <tbody>\n",
       "    <tr>\n",
       "      <th>0</th>\n",
       "      <td>Food_Log_001</td>\n",
       "      <td>1</td>\n",
       "      <td>79.4</td>\n",
       "      <td>001</td>\n",
       "      <td>Dexcom_001</td>\n",
       "      <td>101.450000</td>\n",
       "    </tr>\n",
       "    <tr>\n",
       "      <th>1</th>\n",
       "      <td>Food_Log_001</td>\n",
       "      <td>2</td>\n",
       "      <td>51.9</td>\n",
       "      <td>001</td>\n",
       "      <td>Dexcom_001</td>\n",
       "      <td>99.975694</td>\n",
       "    </tr>\n",
       "    <tr>\n",
       "      <th>2</th>\n",
       "      <td>Food_Log_001</td>\n",
       "      <td>3</td>\n",
       "      <td>76.1</td>\n",
       "      <td>001</td>\n",
       "      <td>Dexcom_001</td>\n",
       "      <td>93.522648</td>\n",
       "    </tr>\n",
       "    <tr>\n",
       "      <th>3</th>\n",
       "      <td>Food_Log_001</td>\n",
       "      <td>4</td>\n",
       "      <td>60.7</td>\n",
       "      <td>001</td>\n",
       "      <td>Dexcom_001</td>\n",
       "      <td>104.142361</td>\n",
       "    </tr>\n",
       "    <tr>\n",
       "      <th>4</th>\n",
       "      <td>Food_Log_001</td>\n",
       "      <td>5</td>\n",
       "      <td>25.4</td>\n",
       "      <td>001</td>\n",
       "      <td>Dexcom_001</td>\n",
       "      <td>101.822917</td>\n",
       "    </tr>\n",
       "  </tbody>\n",
       "</table>\n",
       "</div>"
      ],
      "text/plain": [
       "       Person_x  Day  protein person_id    Person_y  glucose value (mg/dl)\n",
       "0  Food_Log_001    1     79.4       001  Dexcom_001             101.450000\n",
       "1  Food_Log_001    2     51.9       001  Dexcom_001              99.975694\n",
       "2  Food_Log_001    3     76.1       001  Dexcom_001              93.522648\n",
       "3  Food_Log_001    4     60.7       001  Dexcom_001             104.142361\n",
       "4  Food_Log_001    5     25.4       001  Dexcom_001             101.822917"
      ]
     },
     "execution_count": 19,
     "metadata": {},
     "output_type": "execute_result"
    }
   ],
   "source": [
    "merged_protein_dexcom = pd.merge(protein_df, dexcom_logs, on=['person_id', 'Day'])\n",
    "merged_protein_dexcom.head()\n"
   ]
  },
  {
   "cell_type": "code",
   "execution_count": 20,
   "metadata": {},
   "outputs": [
    {
     "data": {
      "text/html": [
       "<div>\n",
       "<style scoped>\n",
       "    .dataframe tbody tr th:only-of-type {\n",
       "        vertical-align: middle;\n",
       "    }\n",
       "\n",
       "    .dataframe tbody tr th {\n",
       "        vertical-align: top;\n",
       "    }\n",
       "\n",
       "    .dataframe thead th {\n",
       "        text-align: right;\n",
       "    }\n",
       "</style>\n",
       "<table border=\"1\" class=\"dataframe\">\n",
       "  <thead>\n",
       "    <tr style=\"text-align: right;\">\n",
       "      <th></th>\n",
       "      <th>Person_x</th>\n",
       "      <th>Day</th>\n",
       "      <th>sugar</th>\n",
       "      <th>person_id</th>\n",
       "      <th>Person_y</th>\n",
       "      <th>glucose value (mg/dl)</th>\n",
       "    </tr>\n",
       "  </thead>\n",
       "  <tbody>\n",
       "    <tr>\n",
       "      <th>0</th>\n",
       "      <td>Food_Log_001</td>\n",
       "      <td>1</td>\n",
       "      <td>83.8</td>\n",
       "      <td>001</td>\n",
       "      <td>Dexcom_001</td>\n",
       "      <td>101.450000</td>\n",
       "    </tr>\n",
       "    <tr>\n",
       "      <th>1</th>\n",
       "      <td>Food_Log_001</td>\n",
       "      <td>2</td>\n",
       "      <td>125.3</td>\n",
       "      <td>001</td>\n",
       "      <td>Dexcom_001</td>\n",
       "      <td>99.975694</td>\n",
       "    </tr>\n",
       "    <tr>\n",
       "      <th>2</th>\n",
       "      <td>Food_Log_001</td>\n",
       "      <td>3</td>\n",
       "      <td>102.5</td>\n",
       "      <td>001</td>\n",
       "      <td>Dexcom_001</td>\n",
       "      <td>93.522648</td>\n",
       "    </tr>\n",
       "    <tr>\n",
       "      <th>3</th>\n",
       "      <td>Food_Log_001</td>\n",
       "      <td>4</td>\n",
       "      <td>80.4</td>\n",
       "      <td>001</td>\n",
       "      <td>Dexcom_001</td>\n",
       "      <td>104.142361</td>\n",
       "    </tr>\n",
       "    <tr>\n",
       "      <th>4</th>\n",
       "      <td>Food_Log_001</td>\n",
       "      <td>5</td>\n",
       "      <td>45.2</td>\n",
       "      <td>001</td>\n",
       "      <td>Dexcom_001</td>\n",
       "      <td>101.822917</td>\n",
       "    </tr>\n",
       "  </tbody>\n",
       "</table>\n",
       "</div>"
      ],
      "text/plain": [
       "       Person_x  Day  sugar person_id    Person_y  glucose value (mg/dl)\n",
       "0  Food_Log_001    1   83.8       001  Dexcom_001             101.450000\n",
       "1  Food_Log_001    2  125.3       001  Dexcom_001              99.975694\n",
       "2  Food_Log_001    3  102.5       001  Dexcom_001              93.522648\n",
       "3  Food_Log_001    4   80.4       001  Dexcom_001             104.142361\n",
       "4  Food_Log_001    5   45.2       001  Dexcom_001             101.822917"
      ]
     },
     "execution_count": 20,
     "metadata": {},
     "output_type": "execute_result"
    }
   ],
   "source": [
    "merged_sugar_dexcom = pd.merge(sugar_df, dexcom_logs, on=['person_id', 'Day'])\n",
    "merged_sugar_dexcom.head()"
   ]
  },
  {
   "cell_type": "code",
   "execution_count": 59,
   "metadata": {},
   "outputs": [
    {
     "data": {
      "application/vnd.plotly.v1+json": {
       "config": {
        "plotlyServerURL": "https://plot.ly"
       },
       "data": [
        {
         "hovertemplate": "Nutrient=protein<br>Glucose Values (mg/dl)=%{x}<br>Amount (grams)=%{y}<extra></extra>",
         "legendgroup": "protein",
         "marker": {
          "color": "#636efa",
          "symbol": "circle"
         },
         "mode": "markers",
         "name": "protein",
         "orientation": "v",
         "showlegend": true,
         "type": "scatter",
         "x": [
          101.45,
          99.97569444444444,
          93.5226480836237,
          104.14236111111111,
          101.82291666666667,
          111.56944444444444,
          104.0632911392405,
          110.61458333333333,
          110.47202797202797,
          118.22916666666667,
          100.57142857142857,
          114.49557522123894,
          120.30952380952381,
          104.79513888888889,
          111.38888888888889,
          104.1522491349481,
          98.43055555555556,
          104.70979020979021,
          119.32624113475177,
          121.55208333333333,
          122.21875,
          126.41666666666667,
          122.90625,
          106.48529411764706,
          91.59027777777777,
          97.48611111111111,
          96.35069444444444,
          92.76076555023923,
          86.51388888888889,
          103.325,
          93.13284132841328,
          104.26736111111111,
          112.78181818181818,
          116.60763888888889,
          117.32330827067669,
          119.57236842105263,
          94.15584415584415,
          115.2,
          110,
          107.89236111111111
         ],
         "xaxis": "x",
         "y": [
          79.4,
          51.9,
          76.10000000000001,
          60.7,
          25.4,
          82.8,
          104,
          135.8,
          67.9,
          115.3,
          91.8,
          85.7,
          73.89999999999999,
          61.5,
          35.3,
          65.9,
          35.8,
          73.3,
          100,
          86,
          110,
          139.1,
          58.8,
          72.3,
          67.4,
          72.6,
          82.9,
          54.8,
          45.6,
          40.4,
          57.6,
          106.7,
          84.2,
          74.1,
          57.5,
          121.5,
          56.9,
          53.2,
          72,
          114.9
         ],
         "yaxis": "y"
        },
        {
         "hovertemplate": "Nutrient=sugar<br>Glucose Values (mg/dl)=%{x}<br>Amount (grams)=%{y}<extra></extra>",
         "legendgroup": "sugar",
         "marker": {
          "color": "#EF553B",
          "symbol": "circle"
         },
         "mode": "markers",
         "name": "sugar",
         "orientation": "v",
         "showlegend": true,
         "type": "scatter",
         "x": [
          101.45,
          99.97569444444444,
          93.5226480836237,
          104.14236111111111,
          101.82291666666667,
          111.56944444444444,
          104.0632911392405,
          110.61458333333333,
          110.47202797202797,
          118.22916666666667,
          100.57142857142857,
          114.49557522123894,
          120.30952380952381,
          104.79513888888889,
          111.38888888888889,
          104.1522491349481,
          98.43055555555556,
          104.70979020979021,
          119.32624113475177,
          121.55208333333333,
          122.21875,
          126.41666666666667,
          122.90625,
          106.48529411764706,
          91.59027777777777,
          97.48611111111111,
          96.35069444444444,
          92.76076555023923,
          86.51388888888889,
          103.325,
          93.13284132841328,
          104.26736111111111,
          112.78181818181818,
          116.60763888888889,
          117.32330827067669,
          119.57236842105263,
          94.15584415584415,
          115.2,
          110,
          107.89236111111111
         ],
         "xaxis": "x",
         "y": [
          83.8,
          125.3,
          102.5,
          80.4,
          45.2,
          75.8,
          22.6,
          76.7,
          17.7,
          24.8,
          46.5,
          29.3,
          22.9,
          65.9,
          75.7,
          29.8,
          16,
          55.1,
          111.5,
          124.2,
          130.2,
          122.7,
          79.8,
          35.2,
          45.3,
          79.1,
          39.1,
          28.7,
          57.4,
          43.3,
          39.7,
          64.7,
          98.3,
          62.9,
          53.6,
          75.6,
          39.6,
          98.2,
          69.9,
          92.8
         ],
         "yaxis": "y"
        },
        {
         "line": {
          "color": "blue"
         },
         "mode": "lines",
         "name": "Protein Fit",
         "type": "scatter",
         "x": [
          101.45,
          99.97569444444444,
          93.5226480836237,
          104.14236111111111,
          101.82291666666667,
          111.56944444444444,
          104.0632911392405,
          110.61458333333333,
          110.47202797202797,
          118.22916666666667,
          100.57142857142857,
          114.49557522123894,
          120.30952380952381,
          104.79513888888889,
          111.38888888888889,
          104.1522491349481,
          98.43055555555556,
          104.70979020979021,
          119.32624113475177,
          121.55208333333333,
          122.21875,
          126.41666666666667,
          122.90625,
          106.48529411764706,
          91.59027777777777,
          97.48611111111111,
          96.35069444444444,
          92.76076555023923,
          86.51388888888889,
          103.325,
          93.13284132841328,
          104.26736111111111,
          112.78181818181818,
          116.60763888888889,
          117.32330827067669,
          119.57236842105263,
          94.15584415584415,
          115.2,
          110,
          107.89236111111111
         ],
         "y": [
          69.04054015062276,
          67.22184021677627,
          59.26137710564694,
          72.36183060918276,
          69.50056929074314,
          81.52386348364729,
          72.2642900742045,
          80.3459490187208,
          80.17009305372187,
          89.73928146084364,
          67.95673646216677,
          85.13353166276295,
          92.30560523533799,
          73.16709577065976,
          81.301130566643,
          72.37402845258802,
          65.31576044625888,
          73.06180983692252,
          91.09262999501448,
          93.83842379878777,
          94.66082226157283,
          99.83936258192236,
          95.50892067631989,
          75.25206736365797,
          56.87760955205823,
          64.1506959573134,
          62.750048575382635,
          58.321520569229705,
          50.61538792397636,
          71.35353582720568,
          58.78051239124454,
          72.51603032095494,
          83.01944493055294,
          87.7389685331321,
          88.62181663229902,
          91.39625204786941,
          60.042486320300384,
          86.00250844556413,
          79.58780043584085,
          76.98782196234856
         ]
        },
        {
         "line": {
          "color": "red"
         },
         "mode": "lines",
         "name": "Sugar Fit",
         "type": "scatter",
         "x": [
          101.45,
          99.97569444444444,
          93.5226480836237,
          104.14236111111111,
          101.82291666666667,
          111.56944444444444,
          104.0632911392405,
          110.61458333333333,
          110.47202797202797,
          118.22916666666667,
          100.57142857142857,
          114.49557522123894,
          120.30952380952381,
          104.79513888888889,
          111.38888888888889,
          104.1522491349481,
          98.43055555555556,
          104.70979020979021,
          119.32624113475177,
          121.55208333333333,
          122.21875,
          126.41666666666667,
          122.90625,
          106.48529411764706,
          91.59027777777777,
          97.48611111111111,
          96.35069444444444,
          92.76076555023923,
          86.51388888888889,
          103.325,
          93.13284132841328,
          104.26736111111111,
          112.78181818181818,
          116.60763888888889,
          117.32330827067669,
          119.57236842105263,
          94.15584415584415,
          115.2,
          110,
          107.89236111111111
         ],
         "y": [
          57.821222213420455,
          56.09319559277317,
          48.52961024660843,
          60.97692603266184,
          58.25831608779049,
          69.68217554176339,
          60.88424848982049,
          68.56298731595557,
          68.39589884618526,
          77.48800469485211,
          56.791452766381056,
          73.11187968873772,
          79.9263815359108,
          61.74204380157772,
          69.47054722270154,
          60.98851573898256,
          54.2821455546478,
          61.64200701546929,
          78.77388052875894,
          81.3827797206633,
          82.16417659104549,
          87.08453500923333,
          82.96999211362713,
          63.72306681089532,
          46.26468808249723,
          53.1751666549397,
          51.84435011007004,
          47.63661130583023,
          40.31467649656621,
          60.01890091137035,
          48.07271957874555,
          61.1234379458585,
          71.10319310793948,
          75.5874195986621,
          76.42625232139811,
          79.06236516560567,
          49.271776390365474,
          73.93753266505304,
          67.842637076072,
          65.37228342856164
         ]
        }
       ],
       "layout": {
        "legend": {
         "title": {
          "text": "Nutrient"
         },
         "tracegroupgap": 0
        },
        "template": {
         "data": {
          "bar": [
           {
            "error_x": {
             "color": "#2a3f5f"
            },
            "error_y": {
             "color": "#2a3f5f"
            },
            "marker": {
             "line": {
              "color": "#E5ECF6",
              "width": 0.5
             },
             "pattern": {
              "fillmode": "overlay",
              "size": 10,
              "solidity": 0.2
             }
            },
            "type": "bar"
           }
          ],
          "barpolar": [
           {
            "marker": {
             "line": {
              "color": "#E5ECF6",
              "width": 0.5
             },
             "pattern": {
              "fillmode": "overlay",
              "size": 10,
              "solidity": 0.2
             }
            },
            "type": "barpolar"
           }
          ],
          "carpet": [
           {
            "aaxis": {
             "endlinecolor": "#2a3f5f",
             "gridcolor": "white",
             "linecolor": "white",
             "minorgridcolor": "white",
             "startlinecolor": "#2a3f5f"
            },
            "baxis": {
             "endlinecolor": "#2a3f5f",
             "gridcolor": "white",
             "linecolor": "white",
             "minorgridcolor": "white",
             "startlinecolor": "#2a3f5f"
            },
            "type": "carpet"
           }
          ],
          "choropleth": [
           {
            "colorbar": {
             "outlinewidth": 0,
             "ticks": ""
            },
            "type": "choropleth"
           }
          ],
          "contour": [
           {
            "colorbar": {
             "outlinewidth": 0,
             "ticks": ""
            },
            "colorscale": [
             [
              0,
              "#0d0887"
             ],
             [
              0.1111111111111111,
              "#46039f"
             ],
             [
              0.2222222222222222,
              "#7201a8"
             ],
             [
              0.3333333333333333,
              "#9c179e"
             ],
             [
              0.4444444444444444,
              "#bd3786"
             ],
             [
              0.5555555555555556,
              "#d8576b"
             ],
             [
              0.6666666666666666,
              "#ed7953"
             ],
             [
              0.7777777777777778,
              "#fb9f3a"
             ],
             [
              0.8888888888888888,
              "#fdca26"
             ],
             [
              1,
              "#f0f921"
             ]
            ],
            "type": "contour"
           }
          ],
          "contourcarpet": [
           {
            "colorbar": {
             "outlinewidth": 0,
             "ticks": ""
            },
            "type": "contourcarpet"
           }
          ],
          "heatmap": [
           {
            "colorbar": {
             "outlinewidth": 0,
             "ticks": ""
            },
            "colorscale": [
             [
              0,
              "#0d0887"
             ],
             [
              0.1111111111111111,
              "#46039f"
             ],
             [
              0.2222222222222222,
              "#7201a8"
             ],
             [
              0.3333333333333333,
              "#9c179e"
             ],
             [
              0.4444444444444444,
              "#bd3786"
             ],
             [
              0.5555555555555556,
              "#d8576b"
             ],
             [
              0.6666666666666666,
              "#ed7953"
             ],
             [
              0.7777777777777778,
              "#fb9f3a"
             ],
             [
              0.8888888888888888,
              "#fdca26"
             ],
             [
              1,
              "#f0f921"
             ]
            ],
            "type": "heatmap"
           }
          ],
          "heatmapgl": [
           {
            "colorbar": {
             "outlinewidth": 0,
             "ticks": ""
            },
            "colorscale": [
             [
              0,
              "#0d0887"
             ],
             [
              0.1111111111111111,
              "#46039f"
             ],
             [
              0.2222222222222222,
              "#7201a8"
             ],
             [
              0.3333333333333333,
              "#9c179e"
             ],
             [
              0.4444444444444444,
              "#bd3786"
             ],
             [
              0.5555555555555556,
              "#d8576b"
             ],
             [
              0.6666666666666666,
              "#ed7953"
             ],
             [
              0.7777777777777778,
              "#fb9f3a"
             ],
             [
              0.8888888888888888,
              "#fdca26"
             ],
             [
              1,
              "#f0f921"
             ]
            ],
            "type": "heatmapgl"
           }
          ],
          "histogram": [
           {
            "marker": {
             "pattern": {
              "fillmode": "overlay",
              "size": 10,
              "solidity": 0.2
             }
            },
            "type": "histogram"
           }
          ],
          "histogram2d": [
           {
            "colorbar": {
             "outlinewidth": 0,
             "ticks": ""
            },
            "colorscale": [
             [
              0,
              "#0d0887"
             ],
             [
              0.1111111111111111,
              "#46039f"
             ],
             [
              0.2222222222222222,
              "#7201a8"
             ],
             [
              0.3333333333333333,
              "#9c179e"
             ],
             [
              0.4444444444444444,
              "#bd3786"
             ],
             [
              0.5555555555555556,
              "#d8576b"
             ],
             [
              0.6666666666666666,
              "#ed7953"
             ],
             [
              0.7777777777777778,
              "#fb9f3a"
             ],
             [
              0.8888888888888888,
              "#fdca26"
             ],
             [
              1,
              "#f0f921"
             ]
            ],
            "type": "histogram2d"
           }
          ],
          "histogram2dcontour": [
           {
            "colorbar": {
             "outlinewidth": 0,
             "ticks": ""
            },
            "colorscale": [
             [
              0,
              "#0d0887"
             ],
             [
              0.1111111111111111,
              "#46039f"
             ],
             [
              0.2222222222222222,
              "#7201a8"
             ],
             [
              0.3333333333333333,
              "#9c179e"
             ],
             [
              0.4444444444444444,
              "#bd3786"
             ],
             [
              0.5555555555555556,
              "#d8576b"
             ],
             [
              0.6666666666666666,
              "#ed7953"
             ],
             [
              0.7777777777777778,
              "#fb9f3a"
             ],
             [
              0.8888888888888888,
              "#fdca26"
             ],
             [
              1,
              "#f0f921"
             ]
            ],
            "type": "histogram2dcontour"
           }
          ],
          "mesh3d": [
           {
            "colorbar": {
             "outlinewidth": 0,
             "ticks": ""
            },
            "type": "mesh3d"
           }
          ],
          "parcoords": [
           {
            "line": {
             "colorbar": {
              "outlinewidth": 0,
              "ticks": ""
             }
            },
            "type": "parcoords"
           }
          ],
          "pie": [
           {
            "automargin": true,
            "type": "pie"
           }
          ],
          "scatter": [
           {
            "fillpattern": {
             "fillmode": "overlay",
             "size": 10,
             "solidity": 0.2
            },
            "type": "scatter"
           }
          ],
          "scatter3d": [
           {
            "line": {
             "colorbar": {
              "outlinewidth": 0,
              "ticks": ""
             }
            },
            "marker": {
             "colorbar": {
              "outlinewidth": 0,
              "ticks": ""
             }
            },
            "type": "scatter3d"
           }
          ],
          "scattercarpet": [
           {
            "marker": {
             "colorbar": {
              "outlinewidth": 0,
              "ticks": ""
             }
            },
            "type": "scattercarpet"
           }
          ],
          "scattergeo": [
           {
            "marker": {
             "colorbar": {
              "outlinewidth": 0,
              "ticks": ""
             }
            },
            "type": "scattergeo"
           }
          ],
          "scattergl": [
           {
            "marker": {
             "colorbar": {
              "outlinewidth": 0,
              "ticks": ""
             }
            },
            "type": "scattergl"
           }
          ],
          "scattermapbox": [
           {
            "marker": {
             "colorbar": {
              "outlinewidth": 0,
              "ticks": ""
             }
            },
            "type": "scattermapbox"
           }
          ],
          "scatterpolar": [
           {
            "marker": {
             "colorbar": {
              "outlinewidth": 0,
              "ticks": ""
             }
            },
            "type": "scatterpolar"
           }
          ],
          "scatterpolargl": [
           {
            "marker": {
             "colorbar": {
              "outlinewidth": 0,
              "ticks": ""
             }
            },
            "type": "scatterpolargl"
           }
          ],
          "scatterternary": [
           {
            "marker": {
             "colorbar": {
              "outlinewidth": 0,
              "ticks": ""
             }
            },
            "type": "scatterternary"
           }
          ],
          "surface": [
           {
            "colorbar": {
             "outlinewidth": 0,
             "ticks": ""
            },
            "colorscale": [
             [
              0,
              "#0d0887"
             ],
             [
              0.1111111111111111,
              "#46039f"
             ],
             [
              0.2222222222222222,
              "#7201a8"
             ],
             [
              0.3333333333333333,
              "#9c179e"
             ],
             [
              0.4444444444444444,
              "#bd3786"
             ],
             [
              0.5555555555555556,
              "#d8576b"
             ],
             [
              0.6666666666666666,
              "#ed7953"
             ],
             [
              0.7777777777777778,
              "#fb9f3a"
             ],
             [
              0.8888888888888888,
              "#fdca26"
             ],
             [
              1,
              "#f0f921"
             ]
            ],
            "type": "surface"
           }
          ],
          "table": [
           {
            "cells": {
             "fill": {
              "color": "#EBF0F8"
             },
             "line": {
              "color": "white"
             }
            },
            "header": {
             "fill": {
              "color": "#C8D4E3"
             },
             "line": {
              "color": "white"
             }
            },
            "type": "table"
           }
          ]
         },
         "layout": {
          "annotationdefaults": {
           "arrowcolor": "#2a3f5f",
           "arrowhead": 0,
           "arrowwidth": 1
          },
          "autotypenumbers": "strict",
          "coloraxis": {
           "colorbar": {
            "outlinewidth": 0,
            "ticks": ""
           }
          },
          "colorscale": {
           "diverging": [
            [
             0,
             "#8e0152"
            ],
            [
             0.1,
             "#c51b7d"
            ],
            [
             0.2,
             "#de77ae"
            ],
            [
             0.3,
             "#f1b6da"
            ],
            [
             0.4,
             "#fde0ef"
            ],
            [
             0.5,
             "#f7f7f7"
            ],
            [
             0.6,
             "#e6f5d0"
            ],
            [
             0.7,
             "#b8e186"
            ],
            [
             0.8,
             "#7fbc41"
            ],
            [
             0.9,
             "#4d9221"
            ],
            [
             1,
             "#276419"
            ]
           ],
           "sequential": [
            [
             0,
             "#0d0887"
            ],
            [
             0.1111111111111111,
             "#46039f"
            ],
            [
             0.2222222222222222,
             "#7201a8"
            ],
            [
             0.3333333333333333,
             "#9c179e"
            ],
            [
             0.4444444444444444,
             "#bd3786"
            ],
            [
             0.5555555555555556,
             "#d8576b"
            ],
            [
             0.6666666666666666,
             "#ed7953"
            ],
            [
             0.7777777777777778,
             "#fb9f3a"
            ],
            [
             0.8888888888888888,
             "#fdca26"
            ],
            [
             1,
             "#f0f921"
            ]
           ],
           "sequentialminus": [
            [
             0,
             "#0d0887"
            ],
            [
             0.1111111111111111,
             "#46039f"
            ],
            [
             0.2222222222222222,
             "#7201a8"
            ],
            [
             0.3333333333333333,
             "#9c179e"
            ],
            [
             0.4444444444444444,
             "#bd3786"
            ],
            [
             0.5555555555555556,
             "#d8576b"
            ],
            [
             0.6666666666666666,
             "#ed7953"
            ],
            [
             0.7777777777777778,
             "#fb9f3a"
            ],
            [
             0.8888888888888888,
             "#fdca26"
            ],
            [
             1,
             "#f0f921"
            ]
           ]
          },
          "colorway": [
           "#636efa",
           "#EF553B",
           "#00cc96",
           "#ab63fa",
           "#FFA15A",
           "#19d3f3",
           "#FF6692",
           "#B6E880",
           "#FF97FF",
           "#FECB52"
          ],
          "font": {
           "color": "#2a3f5f"
          },
          "geo": {
           "bgcolor": "white",
           "lakecolor": "white",
           "landcolor": "#E5ECF6",
           "showlakes": true,
           "showland": true,
           "subunitcolor": "white"
          },
          "hoverlabel": {
           "align": "left"
          },
          "hovermode": "closest",
          "mapbox": {
           "style": "light"
          },
          "paper_bgcolor": "white",
          "plot_bgcolor": "#E5ECF6",
          "polar": {
           "angularaxis": {
            "gridcolor": "white",
            "linecolor": "white",
            "ticks": ""
           },
           "bgcolor": "#E5ECF6",
           "radialaxis": {
            "gridcolor": "white",
            "linecolor": "white",
            "ticks": ""
           }
          },
          "scene": {
           "xaxis": {
            "backgroundcolor": "#E5ECF6",
            "gridcolor": "white",
            "gridwidth": 2,
            "linecolor": "white",
            "showbackground": true,
            "ticks": "",
            "zerolinecolor": "white"
           },
           "yaxis": {
            "backgroundcolor": "#E5ECF6",
            "gridcolor": "white",
            "gridwidth": 2,
            "linecolor": "white",
            "showbackground": true,
            "ticks": "",
            "zerolinecolor": "white"
           },
           "zaxis": {
            "backgroundcolor": "#E5ECF6",
            "gridcolor": "white",
            "gridwidth": 2,
            "linecolor": "white",
            "showbackground": true,
            "ticks": "",
            "zerolinecolor": "white"
           }
          },
          "shapedefaults": {
           "line": {
            "color": "#2a3f5f"
           }
          },
          "ternary": {
           "aaxis": {
            "gridcolor": "white",
            "linecolor": "white",
            "ticks": ""
           },
           "baxis": {
            "gridcolor": "white",
            "linecolor": "white",
            "ticks": ""
           },
           "bgcolor": "#E5ECF6",
           "caxis": {
            "gridcolor": "white",
            "linecolor": "white",
            "ticks": ""
           }
          },
          "title": {
           "x": 0.05
          },
          "xaxis": {
           "automargin": true,
           "gridcolor": "white",
           "linecolor": "white",
           "ticks": "",
           "title": {
            "standoff": 15
           },
           "zerolinecolor": "white",
           "zerolinewidth": 2
          },
          "yaxis": {
           "automargin": true,
           "gridcolor": "white",
           "linecolor": "white",
           "ticks": "",
           "title": {
            "standoff": 15
           },
           "zerolinecolor": "white",
           "zerolinewidth": 2
          }
         }
        },
        "title": {
         "text": "Keep things in balance and everything will be good!"
        },
        "xaxis": {
         "anchor": "y",
         "domain": [
          0,
          1
         ],
         "showgrid": false,
         "title": {
          "text": "Glucose Values (mg/dl)"
         }
        },
        "yaxis": {
         "anchor": "x",
         "domain": [
          0,
          1
         ],
         "showgrid": false,
         "title": {
          "text": "Amount (grams)"
         }
        }
       }
      }
     },
     "metadata": {},
     "output_type": "display_data"
    }
   ],
   "source": [
    "import pandas as pd\n",
    "import plotly.express as px\n",
    "import plotly.graph_objects as go\n",
    "import numpy as np\n",
    "\n",
    "# Assuming merged_protein_dexcom and merged_sugar_dexcom are already defined\n",
    "# and have columns 'glucose', 'protein', and 'sugar'\n",
    "\n",
    "# Merge the two DataFrames on 'person_id' and 'Day'\n",
    "merged_df = pd.merge(merged_protein_dexcom, merged_sugar_dexcom, on=['person_id', 'Day'], suffixes=('_protein', '_sugar'))\n",
    "merged_df = merged_df[merged_df['glucose value (mg/dl)_protein'] > 80]\n",
    "merged_df = merged_df[merged_df['protein'] < 140]\n",
    "merged_df = merged_df[merged_df['sugar'] < 140]  # Filter out low glucose values\n",
    "\n",
    "# Fit linear models\n",
    "protein_fit = np.polyfit(merged_df['glucose value (mg/dl)_protein'], merged_df['protein'], 1)\n",
    "sugar_fit = np.polyfit(merged_df['glucose value (mg/dl)_protein'], merged_df['sugar'], 1)\n",
    "\n",
    "# Create linear prediction lines\n",
    "protein_line = np.polyval(protein_fit, merged_df['glucose value (mg/dl)_protein'])\n",
    "sugar_line = np.polyval(sugar_fit, merged_df['glucose value (mg/dl)_protein'])\n",
    "\n",
    "# Create the scatter plot\n",
    "fig = px.scatter(merged_df, x='glucose value (mg/dl)_protein', y=['protein', 'sugar'], labels={\n",
    "    'glucose value (mg/dl)_protein': 'Glucose Values (mg/dl)',\n",
    "    'value': 'Amount (grams)',\n",
    "    'variable': 'Nutrient'\n",
    "}, title='Keep things in balance and everything will be good!')\n",
    "\n",
    "# Add linear fit lines with specified colors\n",
    "fig.add_trace(go.Scatter(x=merged_df['glucose value (mg/dl)_protein'], y=protein_line, mode='lines', name='Protein Fit', line=dict(color='blue')))\n",
    "fig.add_trace(go.Scatter(x=merged_df['glucose value (mg/dl)_protein'], y=sugar_line, mode='lines', name='Sugar Fit', line=dict(color='red')))\n",
    "\n",
    "# Update layout to turn off grid and adjust width\n",
    "fig.update_layout(\n",
    "    xaxis=dict(showgrid=False),\n",
    "    yaxis=dict(showgrid=False),\n",
    ")\n",
    "\n",
    "# Show the plot\n",
    "fig.show()"
   ]
  },
  {
   "cell_type": "code",
   "execution_count": 53,
   "metadata": {},
   "outputs": [
    {
     "data": {
      "application/vnd.plotly.v1+json": {
       "config": {
        "plotlyServerURL": "https://plot.ly"
       },
       "data": [
        {
         "hovertemplate": "Nutrient=protein<br>Glucose Values (mg/dl)=%{x}<br>Amount (grams)=%{y}<extra></extra>",
         "legendgroup": "protein",
         "marker": {
          "color": "#636efa",
          "symbol": "circle"
         },
         "mode": "markers",
         "name": "protein",
         "orientation": "v",
         "showlegend": true,
         "type": "scatter",
         "x": [
          101.45,
          99.97569444444444,
          93.5226480836237,
          104.14236111111111,
          101.82291666666667,
          111.56944444444444,
          104.0632911392405,
          110.61458333333333,
          110.47202797202797,
          118.22916666666667,
          100.57142857142857,
          114.49557522123894,
          120.30952380952381,
          104.79513888888889,
          111.38888888888889,
          104.1522491349481,
          98.43055555555556,
          104.70979020979021,
          119.32624113475177,
          121.55208333333333,
          122.21875,
          119.30208333333333,
          126.41666666666667,
          122.90625,
          106.48529411764706,
          91.59027777777777,
          97.48611111111111,
          96.35069444444444,
          92.76076555023923,
          86.51388888888889,
          103.325,
          93.13284132841328,
          104.26736111111111,
          112.78181818181818,
          116.60763888888889,
          117.32330827067669,
          119.57236842105263,
          108.83333333333333,
          94.15584415584415,
          115.2,
          111.56862745098039,
          110,
          107.89236111111111
         ],
         "xaxis": "x",
         "y": [
          79.4,
          51.9,
          76.10000000000001,
          60.7,
          25.4,
          82.8,
          104,
          135.8,
          67.9,
          115.3,
          91.8,
          85.7,
          73.89999999999999,
          61.5,
          35.3,
          65.9,
          35.8,
          73.3,
          100,
          86,
          110,
          79.1,
          139.1,
          58.8,
          72.3,
          67.4,
          72.6,
          82.9,
          54.8,
          45.6,
          40.4,
          57.6,
          106.7,
          84.2,
          74.1,
          57.5,
          121.5,
          150.4,
          56.9,
          53.2,
          117.89999999999999,
          72,
          114.9
         ],
         "yaxis": "y"
        },
        {
         "hovertemplate": "Nutrient=sugar<br>Glucose Values (mg/dl)=%{x}<br>Amount (grams)=%{y}<extra></extra>",
         "legendgroup": "sugar",
         "marker": {
          "color": "#EF553B",
          "symbol": "circle"
         },
         "mode": "markers",
         "name": "sugar",
         "orientation": "v",
         "showlegend": true,
         "type": "scatter",
         "x": [
          101.45,
          99.97569444444444,
          93.5226480836237,
          104.14236111111111,
          101.82291666666667,
          111.56944444444444,
          104.0632911392405,
          110.61458333333333,
          110.47202797202797,
          118.22916666666667,
          100.57142857142857,
          114.49557522123894,
          120.30952380952381,
          104.79513888888889,
          111.38888888888889,
          104.1522491349481,
          98.43055555555556,
          104.70979020979021,
          119.32624113475177,
          121.55208333333333,
          122.21875,
          119.30208333333333,
          126.41666666666667,
          122.90625,
          106.48529411764706,
          91.59027777777777,
          97.48611111111111,
          96.35069444444444,
          92.76076555023923,
          86.51388888888889,
          103.325,
          93.13284132841328,
          104.26736111111111,
          112.78181818181818,
          116.60763888888889,
          117.32330827067669,
          119.57236842105263,
          108.83333333333333,
          94.15584415584415,
          115.2,
          111.56862745098039,
          110,
          107.89236111111111
         ],
         "xaxis": "x",
         "y": [
          83.8,
          125.3,
          102.5,
          80.4,
          45.2,
          75.8,
          22.6,
          76.7,
          17.7,
          24.8,
          46.5,
          29.3,
          22.9,
          65.9,
          75.7,
          29.8,
          16,
          55.1,
          111.5,
          124.2,
          130.2,
          158.6,
          122.7,
          79.8,
          35.2,
          45.3,
          79.1,
          39.1,
          28.7,
          57.4,
          43.3,
          39.7,
          64.7,
          98.3,
          62.9,
          53.6,
          75.6,
          80.5,
          39.6,
          98.2,
          156.5,
          69.9,
          92.8
         ],
         "yaxis": "y"
        },
        {
         "line": {
          "color": "red"
         },
         "mode": "lines",
         "name": "Protein Fit",
         "type": "scatter",
         "x": [
          101.45,
          99.97569444444444,
          93.5226480836237,
          104.14236111111111,
          101.82291666666667,
          111.56944444444444,
          104.0632911392405,
          110.61458333333333,
          110.47202797202797,
          118.22916666666667,
          100.57142857142857,
          114.49557522123894,
          120.30952380952381,
          104.79513888888889,
          111.38888888888889,
          104.1522491349481,
          98.43055555555556,
          104.70979020979021,
          119.32624113475177,
          121.55208333333333,
          122.21875,
          119.30208333333333,
          126.41666666666667,
          122.90625,
          106.48529411764706,
          91.59027777777777,
          97.48611111111111,
          96.35069444444444,
          92.76076555023923,
          86.51388888888889,
          103.325,
          93.13284132841328,
          104.26736111111111,
          112.78181818181818,
          116.60763888888889,
          117.32330827067669,
          119.57236842105263,
          108.83333333333333,
          94.15584415584415,
          115.2,
          111.56862745098039,
          110,
          107.89236111111111
         ],
         "y": [
          71.16584341433499,
          69.31831837777294,
          61.23168757808142,
          74.53977396862184,
          71.63316368971597,
          83.84701855931003,
          74.44068748541575,
          82.65043498640715,
          82.47179182921674,
          92.19264507868353,
          70.06486220689312,
          87.5138974162817,
          94.79964326297166,
          75.35780201118818,
          83.62075548370656,
          74.55216513918491,
          67.38202859616648,
          75.25084737015185,
          93.56744322627405,
          96.35675591238551,
          97.19218880692135,
          93.53716989332712,
          102.45280531470162,
          98.05372897941142,
          77.47581892365262,
          58.81013900118951,
          66.19849866224072,
          64.7756520137344,
          60.27693498283891,
          52.44866560633861,
          73.515498430217,
          60.74320149935883,
          74.69641763634733,
          85.36630391032007,
          90.1606286112448,
          91.05746922598128,
          93.87587747310191,
          80.41826272131924,
          62.025176819217194,
          88.39664686413637,
          83.84599474448827,
          81.88027028675693,
          79.23908400038586
         ]
        },
        {
         "line": {
          "color": "blue"
         },
         "mode": "lines",
         "name": "Sugar Fit",
         "type": "scatter",
         "x": [
          101.45,
          99.97569444444444,
          93.5226480836237,
          104.14236111111111,
          101.82291666666667,
          111.56944444444444,
          104.0632911392405,
          110.61458333333333,
          110.47202797202797,
          118.22916666666667,
          100.57142857142857,
          114.49557522123894,
          120.30952380952381,
          104.79513888888889,
          111.38888888888889,
          104.1522491349481,
          98.43055555555556,
          104.70979020979021,
          119.32624113475177,
          121.55208333333333,
          122.21875,
          119.30208333333333,
          126.41666666666667,
          122.90625,
          106.48529411764706,
          91.59027777777777,
          97.48611111111111,
          96.35069444444444,
          92.76076555023923,
          86.51388888888889,
          103.325,
          93.13284132841328,
          104.26736111111111,
          112.78181818181818,
          116.60763888888889,
          117.32330827067669,
          119.57236842105263,
          108.83333333333333,
          94.15584415584415,
          115.2,
          111.56862745098039,
          110,
          107.89236111111111
         ],
         "y": [
          60.09790473272706,
          57.91764500054053,
          48.374631968124234,
          64.07947184609834,
          60.64938823540449,
          75.06292819830516,
          63.96254013201438,
          73.65084287953148,
          73.4400265309868,
          84.91158143978843,
          58.79863952929229,
          79.39020288008082,
          87.98809355767766,
          65.04482471856907,
          74.79591570166433,
          64.09409463587313,
          55.63263421197949,
          64.91860781086432,
          86.53397733795391,
          89.82563834912078,
          90.81153064441004,
          86.49825185251954,
          97.01957119130954,
          91.82823207392708,
          67.54429124538235,
          45.516968473855385,
          54.23595346031972,
          52.55685564490521,
          47.247930788755426,
          38.009809433684126,
          62.8707268132281,
          47.79817075320376,
          64.26432665146508,
          76.85583308833687,
          82.5136038257255,
          83.57196321994401,
          86.89795983079061,
          71.01666190305552,
          49.31102666163859,
          80.4319333230679,
          75.06171999696288,
          72.74197341981171,
          69.6251160071004
         ]
        }
       ],
       "layout": {
        "legend": {
         "title": {
          "text": "Nutrient"
         },
         "tracegroupgap": 0
        },
        "template": {
         "data": {
          "bar": [
           {
            "error_x": {
             "color": "#2a3f5f"
            },
            "error_y": {
             "color": "#2a3f5f"
            },
            "marker": {
             "line": {
              "color": "#E5ECF6",
              "width": 0.5
             },
             "pattern": {
              "fillmode": "overlay",
              "size": 10,
              "solidity": 0.2
             }
            },
            "type": "bar"
           }
          ],
          "barpolar": [
           {
            "marker": {
             "line": {
              "color": "#E5ECF6",
              "width": 0.5
             },
             "pattern": {
              "fillmode": "overlay",
              "size": 10,
              "solidity": 0.2
             }
            },
            "type": "barpolar"
           }
          ],
          "carpet": [
           {
            "aaxis": {
             "endlinecolor": "#2a3f5f",
             "gridcolor": "white",
             "linecolor": "white",
             "minorgridcolor": "white",
             "startlinecolor": "#2a3f5f"
            },
            "baxis": {
             "endlinecolor": "#2a3f5f",
             "gridcolor": "white",
             "linecolor": "white",
             "minorgridcolor": "white",
             "startlinecolor": "#2a3f5f"
            },
            "type": "carpet"
           }
          ],
          "choropleth": [
           {
            "colorbar": {
             "outlinewidth": 0,
             "ticks": ""
            },
            "type": "choropleth"
           }
          ],
          "contour": [
           {
            "colorbar": {
             "outlinewidth": 0,
             "ticks": ""
            },
            "colorscale": [
             [
              0,
              "#0d0887"
             ],
             [
              0.1111111111111111,
              "#46039f"
             ],
             [
              0.2222222222222222,
              "#7201a8"
             ],
             [
              0.3333333333333333,
              "#9c179e"
             ],
             [
              0.4444444444444444,
              "#bd3786"
             ],
             [
              0.5555555555555556,
              "#d8576b"
             ],
             [
              0.6666666666666666,
              "#ed7953"
             ],
             [
              0.7777777777777778,
              "#fb9f3a"
             ],
             [
              0.8888888888888888,
              "#fdca26"
             ],
             [
              1,
              "#f0f921"
             ]
            ],
            "type": "contour"
           }
          ],
          "contourcarpet": [
           {
            "colorbar": {
             "outlinewidth": 0,
             "ticks": ""
            },
            "type": "contourcarpet"
           }
          ],
          "heatmap": [
           {
            "colorbar": {
             "outlinewidth": 0,
             "ticks": ""
            },
            "colorscale": [
             [
              0,
              "#0d0887"
             ],
             [
              0.1111111111111111,
              "#46039f"
             ],
             [
              0.2222222222222222,
              "#7201a8"
             ],
             [
              0.3333333333333333,
              "#9c179e"
             ],
             [
              0.4444444444444444,
              "#bd3786"
             ],
             [
              0.5555555555555556,
              "#d8576b"
             ],
             [
              0.6666666666666666,
              "#ed7953"
             ],
             [
              0.7777777777777778,
              "#fb9f3a"
             ],
             [
              0.8888888888888888,
              "#fdca26"
             ],
             [
              1,
              "#f0f921"
             ]
            ],
            "type": "heatmap"
           }
          ],
          "heatmapgl": [
           {
            "colorbar": {
             "outlinewidth": 0,
             "ticks": ""
            },
            "colorscale": [
             [
              0,
              "#0d0887"
             ],
             [
              0.1111111111111111,
              "#46039f"
             ],
             [
              0.2222222222222222,
              "#7201a8"
             ],
             [
              0.3333333333333333,
              "#9c179e"
             ],
             [
              0.4444444444444444,
              "#bd3786"
             ],
             [
              0.5555555555555556,
              "#d8576b"
             ],
             [
              0.6666666666666666,
              "#ed7953"
             ],
             [
              0.7777777777777778,
              "#fb9f3a"
             ],
             [
              0.8888888888888888,
              "#fdca26"
             ],
             [
              1,
              "#f0f921"
             ]
            ],
            "type": "heatmapgl"
           }
          ],
          "histogram": [
           {
            "marker": {
             "pattern": {
              "fillmode": "overlay",
              "size": 10,
              "solidity": 0.2
             }
            },
            "type": "histogram"
           }
          ],
          "histogram2d": [
           {
            "colorbar": {
             "outlinewidth": 0,
             "ticks": ""
            },
            "colorscale": [
             [
              0,
              "#0d0887"
             ],
             [
              0.1111111111111111,
              "#46039f"
             ],
             [
              0.2222222222222222,
              "#7201a8"
             ],
             [
              0.3333333333333333,
              "#9c179e"
             ],
             [
              0.4444444444444444,
              "#bd3786"
             ],
             [
              0.5555555555555556,
              "#d8576b"
             ],
             [
              0.6666666666666666,
              "#ed7953"
             ],
             [
              0.7777777777777778,
              "#fb9f3a"
             ],
             [
              0.8888888888888888,
              "#fdca26"
             ],
             [
              1,
              "#f0f921"
             ]
            ],
            "type": "histogram2d"
           }
          ],
          "histogram2dcontour": [
           {
            "colorbar": {
             "outlinewidth": 0,
             "ticks": ""
            },
            "colorscale": [
             [
              0,
              "#0d0887"
             ],
             [
              0.1111111111111111,
              "#46039f"
             ],
             [
              0.2222222222222222,
              "#7201a8"
             ],
             [
              0.3333333333333333,
              "#9c179e"
             ],
             [
              0.4444444444444444,
              "#bd3786"
             ],
             [
              0.5555555555555556,
              "#d8576b"
             ],
             [
              0.6666666666666666,
              "#ed7953"
             ],
             [
              0.7777777777777778,
              "#fb9f3a"
             ],
             [
              0.8888888888888888,
              "#fdca26"
             ],
             [
              1,
              "#f0f921"
             ]
            ],
            "type": "histogram2dcontour"
           }
          ],
          "mesh3d": [
           {
            "colorbar": {
             "outlinewidth": 0,
             "ticks": ""
            },
            "type": "mesh3d"
           }
          ],
          "parcoords": [
           {
            "line": {
             "colorbar": {
              "outlinewidth": 0,
              "ticks": ""
             }
            },
            "type": "parcoords"
           }
          ],
          "pie": [
           {
            "automargin": true,
            "type": "pie"
           }
          ],
          "scatter": [
           {
            "fillpattern": {
             "fillmode": "overlay",
             "size": 10,
             "solidity": 0.2
            },
            "type": "scatter"
           }
          ],
          "scatter3d": [
           {
            "line": {
             "colorbar": {
              "outlinewidth": 0,
              "ticks": ""
             }
            },
            "marker": {
             "colorbar": {
              "outlinewidth": 0,
              "ticks": ""
             }
            },
            "type": "scatter3d"
           }
          ],
          "scattercarpet": [
           {
            "marker": {
             "colorbar": {
              "outlinewidth": 0,
              "ticks": ""
             }
            },
            "type": "scattercarpet"
           }
          ],
          "scattergeo": [
           {
            "marker": {
             "colorbar": {
              "outlinewidth": 0,
              "ticks": ""
             }
            },
            "type": "scattergeo"
           }
          ],
          "scattergl": [
           {
            "marker": {
             "colorbar": {
              "outlinewidth": 0,
              "ticks": ""
             }
            },
            "type": "scattergl"
           }
          ],
          "scattermapbox": [
           {
            "marker": {
             "colorbar": {
              "outlinewidth": 0,
              "ticks": ""
             }
            },
            "type": "scattermapbox"
           }
          ],
          "scatterpolar": [
           {
            "marker": {
             "colorbar": {
              "outlinewidth": 0,
              "ticks": ""
             }
            },
            "type": "scatterpolar"
           }
          ],
          "scatterpolargl": [
           {
            "marker": {
             "colorbar": {
              "outlinewidth": 0,
              "ticks": ""
             }
            },
            "type": "scatterpolargl"
           }
          ],
          "scatterternary": [
           {
            "marker": {
             "colorbar": {
              "outlinewidth": 0,
              "ticks": ""
             }
            },
            "type": "scatterternary"
           }
          ],
          "surface": [
           {
            "colorbar": {
             "outlinewidth": 0,
             "ticks": ""
            },
            "colorscale": [
             [
              0,
              "#0d0887"
             ],
             [
              0.1111111111111111,
              "#46039f"
             ],
             [
              0.2222222222222222,
              "#7201a8"
             ],
             [
              0.3333333333333333,
              "#9c179e"
             ],
             [
              0.4444444444444444,
              "#bd3786"
             ],
             [
              0.5555555555555556,
              "#d8576b"
             ],
             [
              0.6666666666666666,
              "#ed7953"
             ],
             [
              0.7777777777777778,
              "#fb9f3a"
             ],
             [
              0.8888888888888888,
              "#fdca26"
             ],
             [
              1,
              "#f0f921"
             ]
            ],
            "type": "surface"
           }
          ],
          "table": [
           {
            "cells": {
             "fill": {
              "color": "#EBF0F8"
             },
             "line": {
              "color": "white"
             }
            },
            "header": {
             "fill": {
              "color": "#C8D4E3"
             },
             "line": {
              "color": "white"
             }
            },
            "type": "table"
           }
          ]
         },
         "layout": {
          "annotationdefaults": {
           "arrowcolor": "#2a3f5f",
           "arrowhead": 0,
           "arrowwidth": 1
          },
          "autotypenumbers": "strict",
          "coloraxis": {
           "colorbar": {
            "outlinewidth": 0,
            "ticks": ""
           }
          },
          "colorscale": {
           "diverging": [
            [
             0,
             "#8e0152"
            ],
            [
             0.1,
             "#c51b7d"
            ],
            [
             0.2,
             "#de77ae"
            ],
            [
             0.3,
             "#f1b6da"
            ],
            [
             0.4,
             "#fde0ef"
            ],
            [
             0.5,
             "#f7f7f7"
            ],
            [
             0.6,
             "#e6f5d0"
            ],
            [
             0.7,
             "#b8e186"
            ],
            [
             0.8,
             "#7fbc41"
            ],
            [
             0.9,
             "#4d9221"
            ],
            [
             1,
             "#276419"
            ]
           ],
           "sequential": [
            [
             0,
             "#0d0887"
            ],
            [
             0.1111111111111111,
             "#46039f"
            ],
            [
             0.2222222222222222,
             "#7201a8"
            ],
            [
             0.3333333333333333,
             "#9c179e"
            ],
            [
             0.4444444444444444,
             "#bd3786"
            ],
            [
             0.5555555555555556,
             "#d8576b"
            ],
            [
             0.6666666666666666,
             "#ed7953"
            ],
            [
             0.7777777777777778,
             "#fb9f3a"
            ],
            [
             0.8888888888888888,
             "#fdca26"
            ],
            [
             1,
             "#f0f921"
            ]
           ],
           "sequentialminus": [
            [
             0,
             "#0d0887"
            ],
            [
             0.1111111111111111,
             "#46039f"
            ],
            [
             0.2222222222222222,
             "#7201a8"
            ],
            [
             0.3333333333333333,
             "#9c179e"
            ],
            [
             0.4444444444444444,
             "#bd3786"
            ],
            [
             0.5555555555555556,
             "#d8576b"
            ],
            [
             0.6666666666666666,
             "#ed7953"
            ],
            [
             0.7777777777777778,
             "#fb9f3a"
            ],
            [
             0.8888888888888888,
             "#fdca26"
            ],
            [
             1,
             "#f0f921"
            ]
           ]
          },
          "colorway": [
           "#636efa",
           "#EF553B",
           "#00cc96",
           "#ab63fa",
           "#FFA15A",
           "#19d3f3",
           "#FF6692",
           "#B6E880",
           "#FF97FF",
           "#FECB52"
          ],
          "font": {
           "color": "#2a3f5f"
          },
          "geo": {
           "bgcolor": "white",
           "lakecolor": "white",
           "landcolor": "#E5ECF6",
           "showlakes": true,
           "showland": true,
           "subunitcolor": "white"
          },
          "hoverlabel": {
           "align": "left"
          },
          "hovermode": "closest",
          "mapbox": {
           "style": "light"
          },
          "paper_bgcolor": "white",
          "plot_bgcolor": "#E5ECF6",
          "polar": {
           "angularaxis": {
            "gridcolor": "white",
            "linecolor": "white",
            "ticks": ""
           },
           "bgcolor": "#E5ECF6",
           "radialaxis": {
            "gridcolor": "white",
            "linecolor": "white",
            "ticks": ""
           }
          },
          "scene": {
           "xaxis": {
            "backgroundcolor": "#E5ECF6",
            "gridcolor": "white",
            "gridwidth": 2,
            "linecolor": "white",
            "showbackground": true,
            "ticks": "",
            "zerolinecolor": "white"
           },
           "yaxis": {
            "backgroundcolor": "#E5ECF6",
            "gridcolor": "white",
            "gridwidth": 2,
            "linecolor": "white",
            "showbackground": true,
            "ticks": "",
            "zerolinecolor": "white"
           },
           "zaxis": {
            "backgroundcolor": "#E5ECF6",
            "gridcolor": "white",
            "gridwidth": 2,
            "linecolor": "white",
            "showbackground": true,
            "ticks": "",
            "zerolinecolor": "white"
           }
          },
          "shapedefaults": {
           "line": {
            "color": "#2a3f5f"
           }
          },
          "ternary": {
           "aaxis": {
            "gridcolor": "white",
            "linecolor": "white",
            "ticks": ""
           },
           "baxis": {
            "gridcolor": "white",
            "linecolor": "white",
            "ticks": ""
           },
           "bgcolor": "#E5ECF6",
           "caxis": {
            "gridcolor": "white",
            "linecolor": "white",
            "ticks": ""
           }
          },
          "title": {
           "x": 0.05
          },
          "xaxis": {
           "automargin": true,
           "gridcolor": "white",
           "linecolor": "white",
           "ticks": "",
           "title": {
            "standoff": 15
           },
           "zerolinecolor": "white",
           "zerolinewidth": 2
          },
          "yaxis": {
           "automargin": true,
           "gridcolor": "white",
           "linecolor": "white",
           "ticks": "",
           "title": {
            "standoff": 15
           },
           "zerolinecolor": "white",
           "zerolinewidth": 2
          }
         }
        },
        "title": {
         "text": "Protein is just as bad as Sugar for glucose levels?"
        },
        "width": 600,
        "xaxis": {
         "anchor": "y",
         "domain": [
          0,
          1
         ],
         "showgrid": false,
         "title": {
          "text": "Glucose Values (mg/dl)"
         },
         "type": "log"
        },
        "yaxis": {
         "anchor": "x",
         "domain": [
          0,
          1
         ],
         "showgrid": false,
         "title": {
          "text": "Amount (grams)"
         }
        }
       }
      }
     },
     "metadata": {},
     "output_type": "display_data"
    }
   ],
   "source": [
    "import pandas as pd\n",
    "import plotly.express as px\n",
    "import plotly.graph_objects as go\n",
    "import numpy as np\n",
    "\n",
    "# Assuming merged_protein_dexcom and merged_sugar_dexcom are already defined\n",
    "# and have columns 'glucose', 'protein', and 'sugar'\n",
    "\n",
    "# Merge the two DataFrames on 'person_id' and 'Day'\n",
    "merged_df = pd.merge(merged_protein_dexcom, merged_sugar_dexcom, on=['person_id', 'Day'], suffixes=('_protein', '_sugar'))\n",
    "merged_df = merged_df[merged_df['glucose value (mg/dl)_protein'] > 80]\n",
    "merged_df = merged_df[merged_df['protein'] < 160]\n",
    "merged_df = merged_df[merged_df['sugar'] < 160]\n",
    "\n",
    "# Fit linear models\n",
    "protein_fit = np.polyfit(merged_df['glucose value (mg/dl)_protein'], merged_df['protein'], 1)\n",
    "sugar_fit = np.polyfit(merged_df['glucose value (mg/dl)_protein'], merged_df['sugar'], 1)\n",
    "\n",
    "# Create linear prediction lines\n",
    "protein_line = np.polyval(protein_fit, merged_df['glucose value (mg/dl)_protein'])\n",
    "sugar_line = np.polyval(sugar_fit, merged_df['glucose value (mg/dl)_protein'])\n",
    "\n",
    "# Create the scatter plot\n",
    "fig = px.scatter(merged_df, x='glucose value (mg/dl)_protein', y=['protein', 'sugar'], labels={\n",
    "    'glucose value (mg/dl)_protein': 'Glucose Values (mg/dl)',\n",
    "    'value': 'Amount (grams)',\n",
    "    'variable': 'Nutrient'\n",
    "}, title='Protein is just as bad as Sugar for glucose levels', log_x=True)\n",
    "\n",
    "# Add linear fit lines\n",
    "fig.add_trace(go.Scatter(x=merged_df['glucose value (mg/dl)_protein'], y=protein_line, mode='lines', name='Protein Fit', line=dict(color='red')))\n",
    "fig.add_trace(go.Scatter(x=merged_df['glucose value (mg/dl)_protein'], y=sugar_line, mode='lines', name='Sugar Fit', line=dict(color='blue')))\n",
    "\n",
    "\n",
    "# Update layout to turn off grid\n",
    "fig.update_layout(\n",
    "    xaxis=dict(showgrid=False),\n",
    "    yaxis=dict(showgrid=False),\n",
    "    width=600\n",
    ")\n",
    "\n",
    "# Show the plot\n",
    "fig.show()"
   ]
  },
  {
   "cell_type": "code",
   "execution_count": null,
   "metadata": {},
   "outputs": [],
   "source": []
  },
  {
   "cell_type": "markdown",
   "metadata": {},
   "source": []
  },
  {
   "cell_type": "markdown",
   "metadata": {},
   "source": []
  },
  {
   "cell_type": "markdown",
   "metadata": {},
   "source": []
  },
  {
   "cell_type": "markdown",
   "metadata": {},
   "source": []
  },
  {
   "cell_type": "code",
   "execution_count": null,
   "metadata": {},
   "outputs": [],
   "source": []
  }
 ],
 "metadata": {
  "kernelspec": {
   "display_name": "Python 3",
   "language": "python",
   "name": "python3"
  },
  "language_info": {
   "codemirror_mode": {
    "name": "ipython",
    "version": 3
   },
   "file_extension": ".py",
   "mimetype": "text/x-python",
   "name": "python",
   "nbconvert_exporter": "python",
   "pygments_lexer": "ipython3",
   "version": "3.11.9"
  }
 },
 "nbformat": 4,
 "nbformat_minor": 2
}
