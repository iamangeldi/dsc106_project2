{
 "cells": [
  {
   "cell_type": "code",
   "execution_count": 1,
   "metadata": {},
   "outputs": [
    {
     "data": {
      "text/html": [
       "<div>\n",
       "<style scoped>\n",
       "    .dataframe tbody tr th:only-of-type {\n",
       "        vertical-align: middle;\n",
       "    }\n",
       "\n",
       "    .dataframe tbody tr th {\n",
       "        vertical-align: top;\n",
       "    }\n",
       "\n",
       "    .dataframe thead th {\n",
       "        text-align: right;\n",
       "    }\n",
       "</style>\n",
       "<table border=\"1\" class=\"dataframe\">\n",
       "  <thead>\n",
       "    <tr style=\"text-align: right;\">\n",
       "      <th></th>\n",
       "      <th>date</th>\n",
       "      <th>time</th>\n",
       "      <th>time_begin</th>\n",
       "      <th>time_end</th>\n",
       "      <th>logged_food</th>\n",
       "      <th>amount</th>\n",
       "      <th>unit</th>\n",
       "      <th>searched_food</th>\n",
       "      <th>calorie</th>\n",
       "      <th>total_carb</th>\n",
       "      <th>dietary_fiber</th>\n",
       "      <th>sugar</th>\n",
       "      <th>protein</th>\n",
       "      <th>total_fat</th>\n",
       "    </tr>\n",
       "  </thead>\n",
       "  <tbody>\n",
       "    <tr>\n",
       "      <th>0</th>\n",
       "      <td>2020-02-13</td>\n",
       "      <td>18:00:00</td>\n",
       "      <td>2020-02-13 18:00:00</td>\n",
       "      <td>NaN</td>\n",
       "      <td>Berry Smoothie</td>\n",
       "      <td>20.00</td>\n",
       "      <td>fluid ounce</td>\n",
       "      <td>Strawberry Smoothie</td>\n",
       "      <td>456.0</td>\n",
       "      <td>85.0</td>\n",
       "      <td>1.7</td>\n",
       "      <td>83.0</td>\n",
       "      <td>16.0</td>\n",
       "      <td>3.3</td>\n",
       "    </tr>\n",
       "    <tr>\n",
       "      <th>1</th>\n",
       "      <td>2020-02-13</td>\n",
       "      <td>20:30:00</td>\n",
       "      <td>2020-02-13 20:30:00</td>\n",
       "      <td>NaN</td>\n",
       "      <td>Chicken Leg</td>\n",
       "      <td>1.00</td>\n",
       "      <td>NaN</td>\n",
       "      <td>chicken leg</td>\n",
       "      <td>475.0</td>\n",
       "      <td>0.0</td>\n",
       "      <td>0.0</td>\n",
       "      <td>0.0</td>\n",
       "      <td>62.0</td>\n",
       "      <td>23.0</td>\n",
       "    </tr>\n",
       "    <tr>\n",
       "      <th>2</th>\n",
       "      <td>2020-02-13</td>\n",
       "      <td>20:30:00</td>\n",
       "      <td>2020-02-13 20:30:00</td>\n",
       "      <td>NaN</td>\n",
       "      <td>Asparagus</td>\n",
       "      <td>4.00</td>\n",
       "      <td>NaN</td>\n",
       "      <td>Asparagus</td>\n",
       "      <td>13.0</td>\n",
       "      <td>2.5</td>\n",
       "      <td>1.2</td>\n",
       "      <td>0.8</td>\n",
       "      <td>1.4</td>\n",
       "      <td>0.1</td>\n",
       "    </tr>\n",
       "    <tr>\n",
       "      <th>3</th>\n",
       "      <td>2020-02-14</td>\n",
       "      <td>07:10:00</td>\n",
       "      <td>2020-02-14 07:10:00</td>\n",
       "      <td>NaN</td>\n",
       "      <td>Natrel Lactose Free 2 Percent</td>\n",
       "      <td>8.00</td>\n",
       "      <td>fluid ounce</td>\n",
       "      <td>(Natrel) Lactose Free 2% Partly Skimmed Milk</td>\n",
       "      <td>120.0</td>\n",
       "      <td>9.0</td>\n",
       "      <td>NaN</td>\n",
       "      <td>8.0</td>\n",
       "      <td>12.0</td>\n",
       "      <td>NaN</td>\n",
       "    </tr>\n",
       "    <tr>\n",
       "      <th>4</th>\n",
       "      <td>2020-02-14</td>\n",
       "      <td>07:10:00</td>\n",
       "      <td>2020-02-14 07:10:00</td>\n",
       "      <td>NaN</td>\n",
       "      <td>Standard Breakfast</td>\n",
       "      <td>0.75</td>\n",
       "      <td>cup</td>\n",
       "      <td>(Kellogg's) Frosted Flakes, Cereal</td>\n",
       "      <td>110.0</td>\n",
       "      <td>26.0</td>\n",
       "      <td>NaN</td>\n",
       "      <td>10.0</td>\n",
       "      <td>1.0</td>\n",
       "      <td>NaN</td>\n",
       "    </tr>\n",
       "  </tbody>\n",
       "</table>\n",
       "</div>"
      ],
      "text/plain": [
       "         date      time           time_begin  time_end  \\\n",
       "0  2020-02-13  18:00:00  2020-02-13 18:00:00       NaN   \n",
       "1  2020-02-13  20:30:00  2020-02-13 20:30:00       NaN   \n",
       "2  2020-02-13  20:30:00  2020-02-13 20:30:00       NaN   \n",
       "3  2020-02-14  07:10:00  2020-02-14 07:10:00       NaN   \n",
       "4  2020-02-14  07:10:00  2020-02-14 07:10:00       NaN   \n",
       "\n",
       "                     logged_food  amount         unit  \\\n",
       "0                 Berry Smoothie   20.00  fluid ounce   \n",
       "1                    Chicken Leg    1.00          NaN   \n",
       "2                      Asparagus    4.00          NaN   \n",
       "3  Natrel Lactose Free 2 Percent    8.00  fluid ounce   \n",
       "4             Standard Breakfast    0.75          cup   \n",
       "\n",
       "                                  searched_food  calorie  total_carb  \\\n",
       "0                           Strawberry Smoothie    456.0        85.0   \n",
       "1                                   chicken leg    475.0         0.0   \n",
       "2                                     Asparagus     13.0         2.5   \n",
       "3  (Natrel) Lactose Free 2% Partly Skimmed Milk    120.0         9.0   \n",
       "4            (Kellogg's) Frosted Flakes, Cereal    110.0        26.0   \n",
       "\n",
       "   dietary_fiber  sugar  protein  total_fat  \n",
       "0            1.7   83.0     16.0        3.3  \n",
       "1            0.0    0.0     62.0       23.0  \n",
       "2            1.2    0.8      1.4        0.1  \n",
       "3            NaN    8.0     12.0        NaN  \n",
       "4            NaN   10.0      1.0        NaN  "
      ]
     },
     "execution_count": 1,
     "metadata": {},
     "output_type": "execute_result"
    }
   ],
   "source": [
    "import pandas as pd\n",
    "import numpy as np\n",
    "\n",
    "food_log_1 = pd.read_csv(\"Food_logs/Food_Log_001.csv\")\n",
    "food_log_1.head()"
   ]
  },
  {
   "cell_type": "code",
   "execution_count": 2,
   "metadata": {},
   "outputs": [
    {
     "data": {
      "text/plain": [
       "date\n",
       "2020-02-13    79.4\n",
       "2020-02-14    51.9\n",
       "2020-02-15    76.1\n",
       "2020-02-16    60.7\n",
       "2020-02-17    25.4\n",
       "2020-02-18    82.8\n",
       "2020-02-19    93.0\n",
       "2020-02-20    29.7\n",
       "2020-02-21    92.2\n",
       "2020-02-22    26.0\n",
       "Name: protein, dtype: float64"
      ]
     },
     "execution_count": 2,
     "metadata": {},
     "output_type": "execute_result"
    }
   ],
   "source": [
    "food_log_sum = food_log_1.groupby('date')['protein'].sum()\n",
    "food_log_sum"
   ]
  },
  {
   "cell_type": "code",
   "execution_count": 3,
   "metadata": {},
   "outputs": [],
   "source": [
    "import glob\n",
    "import os\n",
    "\n",
    "def agreggating_food_protein(path_to_folder):\n",
    "    all_files = glob.glob(os.path.join(path_to_folder, \"*.csv\"))\n",
    "    main_df = pd.DataFrame()\n",
    "\n",
    "    for file in all_files:\n",
    "        df = pd.read_csv(file)\n",
    "        proccessed_df = df.groupby('date')['protein'].sum()\n",
    "        main_df = pd.concat([main_df, proccessed_df], ignore_index=True)\n",
    "    \n",
    "    return main_df"
   ]
  },
  {
   "cell_type": "code",
   "execution_count": 4,
   "metadata": {},
   "outputs": [
    {
     "data": {
      "text/html": [
       "<div>\n",
       "<style scoped>\n",
       "    .dataframe tbody tr th:only-of-type {\n",
       "        vertical-align: middle;\n",
       "    }\n",
       "\n",
       "    .dataframe tbody tr th {\n",
       "        vertical-align: top;\n",
       "    }\n",
       "\n",
       "    .dataframe thead th {\n",
       "        text-align: right;\n",
       "    }\n",
       "</style>\n",
       "<table border=\"1\" class=\"dataframe\">\n",
       "  <thead>\n",
       "    <tr style=\"text-align: right;\">\n",
       "      <th></th>\n",
       "      <th>0</th>\n",
       "    </tr>\n",
       "  </thead>\n",
       "  <tbody>\n",
       "    <tr>\n",
       "      <th>0</th>\n",
       "      <td>79.4</td>\n",
       "    </tr>\n",
       "    <tr>\n",
       "      <th>1</th>\n",
       "      <td>51.9</td>\n",
       "    </tr>\n",
       "    <tr>\n",
       "      <th>2</th>\n",
       "      <td>76.1</td>\n",
       "    </tr>\n",
       "    <tr>\n",
       "      <th>3</th>\n",
       "      <td>60.7</td>\n",
       "    </tr>\n",
       "    <tr>\n",
       "      <th>4</th>\n",
       "      <td>25.4</td>\n",
       "    </tr>\n",
       "  </tbody>\n",
       "</table>\n",
       "</div>"
      ],
      "text/plain": [
       "      0\n",
       "0  79.4\n",
       "1  51.9\n",
       "2  76.1\n",
       "3  60.7\n",
       "4  25.4"
      ]
     },
     "execution_count": 4,
     "metadata": {},
     "output_type": "execute_result"
    }
   ],
   "source": [
    "food_logs = agreggating_food_protein('Food_Logs')\n",
    "food_logs.head()"
   ]
  },
  {
   "cell_type": "code",
   "execution_count": 5,
   "metadata": {},
   "outputs": [
    {
     "data": {
      "text/html": [
       "<div>\n",
       "<style scoped>\n",
       "    .dataframe tbody tr th:only-of-type {\n",
       "        vertical-align: middle;\n",
       "    }\n",
       "\n",
       "    .dataframe tbody tr th {\n",
       "        vertical-align: top;\n",
       "    }\n",
       "\n",
       "    .dataframe thead th {\n",
       "        text-align: right;\n",
       "    }\n",
       "</style>\n",
       "<table border=\"1\" class=\"dataframe\">\n",
       "  <thead>\n",
       "    <tr style=\"text-align: right;\">\n",
       "      <th></th>\n",
       "      <th>Person</th>\n",
       "      <th>Day</th>\n",
       "      <th>protein</th>\n",
       "    </tr>\n",
       "  </thead>\n",
       "  <tbody>\n",
       "    <tr>\n",
       "      <th>0</th>\n",
       "      <td>Food_Log_001</td>\n",
       "      <td>1</td>\n",
       "      <td>79.4</td>\n",
       "    </tr>\n",
       "    <tr>\n",
       "      <th>1</th>\n",
       "      <td>Food_Log_001</td>\n",
       "      <td>2</td>\n",
       "      <td>51.9</td>\n",
       "    </tr>\n",
       "    <tr>\n",
       "      <th>2</th>\n",
       "      <td>Food_Log_001</td>\n",
       "      <td>3</td>\n",
       "      <td>76.1</td>\n",
       "    </tr>\n",
       "    <tr>\n",
       "      <th>3</th>\n",
       "      <td>Food_Log_001</td>\n",
       "      <td>4</td>\n",
       "      <td>60.7</td>\n",
       "    </tr>\n",
       "    <tr>\n",
       "      <th>4</th>\n",
       "      <td>Food_Log_001</td>\n",
       "      <td>5</td>\n",
       "      <td>25.4</td>\n",
       "    </tr>\n",
       "    <tr>\n",
       "      <th>5</th>\n",
       "      <td>Food_Log_001</td>\n",
       "      <td>6</td>\n",
       "      <td>82.8</td>\n",
       "    </tr>\n",
       "    <tr>\n",
       "      <th>6</th>\n",
       "      <td>Food_Log_001</td>\n",
       "      <td>7</td>\n",
       "      <td>93.0</td>\n",
       "    </tr>\n",
       "    <tr>\n",
       "      <th>7</th>\n",
       "      <td>Food_Log_004</td>\n",
       "      <td>1</td>\n",
       "      <td>104.0</td>\n",
       "    </tr>\n",
       "    <tr>\n",
       "      <th>8</th>\n",
       "      <td>Food_Log_004</td>\n",
       "      <td>2</td>\n",
       "      <td>135.8</td>\n",
       "    </tr>\n",
       "    <tr>\n",
       "      <th>9</th>\n",
       "      <td>Food_Log_004</td>\n",
       "      <td>3</td>\n",
       "      <td>67.9</td>\n",
       "    </tr>\n",
       "    <tr>\n",
       "      <th>10</th>\n",
       "      <td>Food_Log_004</td>\n",
       "      <td>4</td>\n",
       "      <td>115.3</td>\n",
       "    </tr>\n",
       "    <tr>\n",
       "      <th>11</th>\n",
       "      <td>Food_Log_004</td>\n",
       "      <td>5</td>\n",
       "      <td>91.8</td>\n",
       "    </tr>\n",
       "    <tr>\n",
       "      <th>12</th>\n",
       "      <td>Food_Log_004</td>\n",
       "      <td>6</td>\n",
       "      <td>85.7</td>\n",
       "    </tr>\n",
       "    <tr>\n",
       "      <th>13</th>\n",
       "      <td>Food_Log_004</td>\n",
       "      <td>7</td>\n",
       "      <td>56.3</td>\n",
       "    </tr>\n",
       "    <tr>\n",
       "      <th>14</th>\n",
       "      <td>Food_Log_005</td>\n",
       "      <td>1</td>\n",
       "      <td>73.9</td>\n",
       "    </tr>\n",
       "    <tr>\n",
       "      <th>15</th>\n",
       "      <td>Food_Log_005</td>\n",
       "      <td>2</td>\n",
       "      <td>61.5</td>\n",
       "    </tr>\n",
       "    <tr>\n",
       "      <th>16</th>\n",
       "      <td>Food_Log_005</td>\n",
       "      <td>3</td>\n",
       "      <td>35.3</td>\n",
       "    </tr>\n",
       "    <tr>\n",
       "      <th>17</th>\n",
       "      <td>Food_Log_005</td>\n",
       "      <td>4</td>\n",
       "      <td>65.9</td>\n",
       "    </tr>\n",
       "    <tr>\n",
       "      <th>18</th>\n",
       "      <td>Food_Log_005</td>\n",
       "      <td>5</td>\n",
       "      <td>35.8</td>\n",
       "    </tr>\n",
       "    <tr>\n",
       "      <th>19</th>\n",
       "      <td>Food_Log_005</td>\n",
       "      <td>6</td>\n",
       "      <td>73.3</td>\n",
       "    </tr>\n",
       "    <tr>\n",
       "      <th>20</th>\n",
       "      <td>Food_Log_005</td>\n",
       "      <td>7</td>\n",
       "      <td>118.2</td>\n",
       "    </tr>\n",
       "    <tr>\n",
       "      <th>21</th>\n",
       "      <td>Food_Log_006</td>\n",
       "      <td>1</td>\n",
       "      <td>100.0</td>\n",
       "    </tr>\n",
       "    <tr>\n",
       "      <th>22</th>\n",
       "      <td>Food_Log_006</td>\n",
       "      <td>2</td>\n",
       "      <td>86.0</td>\n",
       "    </tr>\n",
       "    <tr>\n",
       "      <th>23</th>\n",
       "      <td>Food_Log_006</td>\n",
       "      <td>3</td>\n",
       "      <td>110.0</td>\n",
       "    </tr>\n",
       "    <tr>\n",
       "      <th>24</th>\n",
       "      <td>Food_Log_006</td>\n",
       "      <td>4</td>\n",
       "      <td>79.1</td>\n",
       "    </tr>\n",
       "    <tr>\n",
       "      <th>25</th>\n",
       "      <td>Food_Log_006</td>\n",
       "      <td>5</td>\n",
       "      <td>139.1</td>\n",
       "    </tr>\n",
       "    <tr>\n",
       "      <th>26</th>\n",
       "      <td>Food_Log_006</td>\n",
       "      <td>6</td>\n",
       "      <td>58.8</td>\n",
       "    </tr>\n",
       "    <tr>\n",
       "      <th>27</th>\n",
       "      <td>Food_Log_006</td>\n",
       "      <td>7</td>\n",
       "      <td>118.1</td>\n",
       "    </tr>\n",
       "    <tr>\n",
       "      <th>28</th>\n",
       "      <td>Food_Log_007</td>\n",
       "      <td>1</td>\n",
       "      <td>72.3</td>\n",
       "    </tr>\n",
       "    <tr>\n",
       "      <th>29</th>\n",
       "      <td>Food_Log_007</td>\n",
       "      <td>2</td>\n",
       "      <td>67.4</td>\n",
       "    </tr>\n",
       "    <tr>\n",
       "      <th>30</th>\n",
       "      <td>Food_Log_007</td>\n",
       "      <td>3</td>\n",
       "      <td>72.6</td>\n",
       "    </tr>\n",
       "    <tr>\n",
       "      <th>31</th>\n",
       "      <td>Food_Log_007</td>\n",
       "      <td>4</td>\n",
       "      <td>82.9</td>\n",
       "    </tr>\n",
       "    <tr>\n",
       "      <th>32</th>\n",
       "      <td>Food_Log_007</td>\n",
       "      <td>5</td>\n",
       "      <td>54.8</td>\n",
       "    </tr>\n",
       "    <tr>\n",
       "      <th>33</th>\n",
       "      <td>Food_Log_007</td>\n",
       "      <td>6</td>\n",
       "      <td>45.6</td>\n",
       "    </tr>\n",
       "    <tr>\n",
       "      <th>34</th>\n",
       "      <td>Food_Log_007</td>\n",
       "      <td>7</td>\n",
       "      <td>66.3</td>\n",
       "    </tr>\n",
       "    <tr>\n",
       "      <th>35</th>\n",
       "      <td>Food_Log_008</td>\n",
       "      <td>1</td>\n",
       "      <td>40.4</td>\n",
       "    </tr>\n",
       "    <tr>\n",
       "      <th>36</th>\n",
       "      <td>Food_Log_008</td>\n",
       "      <td>2</td>\n",
       "      <td>57.6</td>\n",
       "    </tr>\n",
       "    <tr>\n",
       "      <th>37</th>\n",
       "      <td>Food_Log_008</td>\n",
       "      <td>3</td>\n",
       "      <td>106.7</td>\n",
       "    </tr>\n",
       "    <tr>\n",
       "      <th>38</th>\n",
       "      <td>Food_Log_008</td>\n",
       "      <td>4</td>\n",
       "      <td>84.2</td>\n",
       "    </tr>\n",
       "    <tr>\n",
       "      <th>39</th>\n",
       "      <td>Food_Log_008</td>\n",
       "      <td>5</td>\n",
       "      <td>74.1</td>\n",
       "    </tr>\n",
       "    <tr>\n",
       "      <th>40</th>\n",
       "      <td>Food_Log_008</td>\n",
       "      <td>6</td>\n",
       "      <td>57.5</td>\n",
       "    </tr>\n",
       "    <tr>\n",
       "      <th>41</th>\n",
       "      <td>Food_Log_008</td>\n",
       "      <td>7</td>\n",
       "      <td>82.4</td>\n",
       "    </tr>\n",
       "    <tr>\n",
       "      <th>42</th>\n",
       "      <td>Food_Log_010</td>\n",
       "      <td>1</td>\n",
       "      <td>121.5</td>\n",
       "    </tr>\n",
       "    <tr>\n",
       "      <th>43</th>\n",
       "      <td>Food_Log_010</td>\n",
       "      <td>2</td>\n",
       "      <td>234.2</td>\n",
       "    </tr>\n",
       "    <tr>\n",
       "      <th>44</th>\n",
       "      <td>Food_Log_010</td>\n",
       "      <td>3</td>\n",
       "      <td>176.8</td>\n",
       "    </tr>\n",
       "    <tr>\n",
       "      <th>45</th>\n",
       "      <td>Food_Log_010</td>\n",
       "      <td>4</td>\n",
       "      <td>160.6</td>\n",
       "    </tr>\n",
       "    <tr>\n",
       "      <th>46</th>\n",
       "      <td>Food_Log_010</td>\n",
       "      <td>5</td>\n",
       "      <td>150.4</td>\n",
       "    </tr>\n",
       "    <tr>\n",
       "      <th>47</th>\n",
       "      <td>Food_Log_010</td>\n",
       "      <td>6</td>\n",
       "      <td>163.4</td>\n",
       "    </tr>\n",
       "    <tr>\n",
       "      <th>48</th>\n",
       "      <td>Food_Log_010</td>\n",
       "      <td>7</td>\n",
       "      <td>142.3</td>\n",
       "    </tr>\n",
       "    <tr>\n",
       "      <th>49</th>\n",
       "      <td>Food_Log_015</td>\n",
       "      <td>1</td>\n",
       "      <td>56.9</td>\n",
       "    </tr>\n",
       "    <tr>\n",
       "      <th>50</th>\n",
       "      <td>Food_Log_015</td>\n",
       "      <td>2</td>\n",
       "      <td>53.2</td>\n",
       "    </tr>\n",
       "    <tr>\n",
       "      <th>51</th>\n",
       "      <td>Food_Log_015</td>\n",
       "      <td>3</td>\n",
       "      <td>117.9</td>\n",
       "    </tr>\n",
       "    <tr>\n",
       "      <th>52</th>\n",
       "      <td>Food_Log_015</td>\n",
       "      <td>4</td>\n",
       "      <td>72.0</td>\n",
       "    </tr>\n",
       "    <tr>\n",
       "      <th>53</th>\n",
       "      <td>Food_Log_015</td>\n",
       "      <td>5</td>\n",
       "      <td>121.6</td>\n",
       "    </tr>\n",
       "    <tr>\n",
       "      <th>54</th>\n",
       "      <td>Food_Log_015</td>\n",
       "      <td>6</td>\n",
       "      <td>114.9</td>\n",
       "    </tr>\n",
       "    <tr>\n",
       "      <th>55</th>\n",
       "      <td>Food_Log_015</td>\n",
       "      <td>7</td>\n",
       "      <td>54.0</td>\n",
       "    </tr>\n",
       "  </tbody>\n",
       "</table>\n",
       "</div>"
      ],
      "text/plain": [
       "          Person  Day  protein\n",
       "0   Food_Log_001    1     79.4\n",
       "1   Food_Log_001    2     51.9\n",
       "2   Food_Log_001    3     76.1\n",
       "3   Food_Log_001    4     60.7\n",
       "4   Food_Log_001    5     25.4\n",
       "5   Food_Log_001    6     82.8\n",
       "6   Food_Log_001    7     93.0\n",
       "7   Food_Log_004    1    104.0\n",
       "8   Food_Log_004    2    135.8\n",
       "9   Food_Log_004    3     67.9\n",
       "10  Food_Log_004    4    115.3\n",
       "11  Food_Log_004    5     91.8\n",
       "12  Food_Log_004    6     85.7\n",
       "13  Food_Log_004    7     56.3\n",
       "14  Food_Log_005    1     73.9\n",
       "15  Food_Log_005    2     61.5\n",
       "16  Food_Log_005    3     35.3\n",
       "17  Food_Log_005    4     65.9\n",
       "18  Food_Log_005    5     35.8\n",
       "19  Food_Log_005    6     73.3\n",
       "20  Food_Log_005    7    118.2\n",
       "21  Food_Log_006    1    100.0\n",
       "22  Food_Log_006    2     86.0\n",
       "23  Food_Log_006    3    110.0\n",
       "24  Food_Log_006    4     79.1\n",
       "25  Food_Log_006    5    139.1\n",
       "26  Food_Log_006    6     58.8\n",
       "27  Food_Log_006    7    118.1\n",
       "28  Food_Log_007    1     72.3\n",
       "29  Food_Log_007    2     67.4\n",
       "30  Food_Log_007    3     72.6\n",
       "31  Food_Log_007    4     82.9\n",
       "32  Food_Log_007    5     54.8\n",
       "33  Food_Log_007    6     45.6\n",
       "34  Food_Log_007    7     66.3\n",
       "35  Food_Log_008    1     40.4\n",
       "36  Food_Log_008    2     57.6\n",
       "37  Food_Log_008    3    106.7\n",
       "38  Food_Log_008    4     84.2\n",
       "39  Food_Log_008    5     74.1\n",
       "40  Food_Log_008    6     57.5\n",
       "41  Food_Log_008    7     82.4\n",
       "42  Food_Log_010    1    121.5\n",
       "43  Food_Log_010    2    234.2\n",
       "44  Food_Log_010    3    176.8\n",
       "45  Food_Log_010    4    160.6\n",
       "46  Food_Log_010    5    150.4\n",
       "47  Food_Log_010    6    163.4\n",
       "48  Food_Log_010    7    142.3\n",
       "49  Food_Log_015    1     56.9\n",
       "50  Food_Log_015    2     53.2\n",
       "51  Food_Log_015    3    117.9\n",
       "52  Food_Log_015    4     72.0\n",
       "53  Food_Log_015    5    121.6\n",
       "54  Food_Log_015    6    114.9\n",
       "55  Food_Log_015    7     54.0"
      ]
     },
     "execution_count": 5,
     "metadata": {},
     "output_type": "execute_result"
    }
   ],
   "source": [
    "import glob\n",
    "import os\n",
    "import pandas as pd\n",
    "\n",
    "def aggregating_food_protein(path_to_folder, column_to_agregate):\n",
    "    all_files = glob.glob(os.path.join(path_to_folder, \"*.csv\"))\n",
    "    combined_df = pd.DataFrame()\n",
    "\n",
    "    for file in all_files:\n",
    "        df = pd.read_csv(file, encoding=\"utf-8\")\n",
    "        df.columns = df.columns.str.strip().str.lower()\n",
    "\n",
    "\n",
    "        df['date'] = pd.to_datetime(df['date'], errors='coerce')\n",
    "        df = df.dropna(subset=['date'])\n",
    "\n",
    "\n",
    "        start_date = df['date'].min()\n",
    "        end_date = start_date + pd.Timedelta(days=6) \n",
    "\n",
    "\n",
    "        df_filtered = df[(df['date'] >= start_date) & (df['date'] <= end_date)].copy()\n",
    "\n",
    "\n",
    "        df_filtered['Day'] = (df_filtered['date'] - start_date).dt.days + 1\n",
    "\n",
    "        daily_protein = df_filtered.groupby(\"Day\", as_index=False)[column_to_agregate].sum()\n",
    "        all_days = pd.DataFrame({'Day': range(1, 8)})\n",
    "        daily_protein = all_days.merge(daily_protein, on=\"Day\", how=\"left\").fillna(0)\n",
    "\n",
    "        person_name = os.path.basename(file).replace(\".csv\", \"\")\n",
    "        daily_protein['Person'] = person_name \n",
    "        daily_protein = daily_protein[['Person', 'Day', column_to_agregate]]\n",
    "\n",
    "        combined_df = pd.concat([combined_df, daily_protein], ignore_index=True)\n",
    "\n",
    "    return combined_df\n",
    "\n",
    "\n",
    "folder_path = \"Food_Logs\" \n",
    "protein_df = aggregating_food_protein(folder_path, 'protein')\n",
    "protein_df"
   ]
  },
  {
   "cell_type": "code",
   "execution_count": 6,
   "metadata": {},
   "outputs": [
    {
     "data": {
      "text/plain": [
       "Timestamp (YYYY-MM-DDThh:mm:ss)    datetime64[ns]\n",
       "Glucose Value (mg/dL)                     float64\n",
       "dtype: object"
      ]
     },
     "execution_count": 6,
     "metadata": {},
     "output_type": "execute_result"
    }
   ],
   "source": [
    "dexcom_1 = pd.read_csv('Dexcom_Logs/Dexcom_001.csv')\n",
    "dexcom_1 = dexcom_1.dropna(subset=['Timestamp (YYYY-MM-DDThh:mm:ss)'])\n",
    "dexcom_1 = dexcom_1[['Timestamp (YYYY-MM-DDThh:mm:ss)', 'Glucose Value (mg/dL)']]\n",
    "dexcom_1['Timestamp (YYYY-MM-DDThh:mm:ss)'] = pd.to_datetime(dexcom_1['Timestamp (YYYY-MM-DDThh:mm:ss)'], errors='coerce')\n",
    "dexcom_1.dtypes"
   ]
  },
  {
   "cell_type": "code",
   "execution_count": 7,
   "metadata": {},
   "outputs": [
    {
     "data": {
      "text/html": [
       "<div>\n",
       "<style scoped>\n",
       "    .dataframe tbody tr th:only-of-type {\n",
       "        vertical-align: middle;\n",
       "    }\n",
       "\n",
       "    .dataframe tbody tr th {\n",
       "        vertical-align: top;\n",
       "    }\n",
       "\n",
       "    .dataframe thead th {\n",
       "        text-align: right;\n",
       "    }\n",
       "</style>\n",
       "<table border=\"1\" class=\"dataframe\">\n",
       "  <thead>\n",
       "    <tr style=\"text-align: right;\">\n",
       "      <th></th>\n",
       "      <th>Person</th>\n",
       "      <th>Day</th>\n",
       "      <th>sugar</th>\n",
       "    </tr>\n",
       "  </thead>\n",
       "  <tbody>\n",
       "    <tr>\n",
       "      <th>0</th>\n",
       "      <td>Food_Log_001</td>\n",
       "      <td>1</td>\n",
       "      <td>83.8</td>\n",
       "    </tr>\n",
       "    <tr>\n",
       "      <th>1</th>\n",
       "      <td>Food_Log_001</td>\n",
       "      <td>2</td>\n",
       "      <td>125.3</td>\n",
       "    </tr>\n",
       "    <tr>\n",
       "      <th>2</th>\n",
       "      <td>Food_Log_001</td>\n",
       "      <td>3</td>\n",
       "      <td>102.5</td>\n",
       "    </tr>\n",
       "    <tr>\n",
       "      <th>3</th>\n",
       "      <td>Food_Log_001</td>\n",
       "      <td>4</td>\n",
       "      <td>80.4</td>\n",
       "    </tr>\n",
       "    <tr>\n",
       "      <th>4</th>\n",
       "      <td>Food_Log_001</td>\n",
       "      <td>5</td>\n",
       "      <td>45.2</td>\n",
       "    </tr>\n",
       "    <tr>\n",
       "      <th>5</th>\n",
       "      <td>Food_Log_001</td>\n",
       "      <td>6</td>\n",
       "      <td>75.8</td>\n",
       "    </tr>\n",
       "    <tr>\n",
       "      <th>6</th>\n",
       "      <td>Food_Log_001</td>\n",
       "      <td>7</td>\n",
       "      <td>100.9</td>\n",
       "    </tr>\n",
       "    <tr>\n",
       "      <th>7</th>\n",
       "      <td>Food_Log_004</td>\n",
       "      <td>1</td>\n",
       "      <td>22.6</td>\n",
       "    </tr>\n",
       "    <tr>\n",
       "      <th>8</th>\n",
       "      <td>Food_Log_004</td>\n",
       "      <td>2</td>\n",
       "      <td>76.7</td>\n",
       "    </tr>\n",
       "    <tr>\n",
       "      <th>9</th>\n",
       "      <td>Food_Log_004</td>\n",
       "      <td>3</td>\n",
       "      <td>17.7</td>\n",
       "    </tr>\n",
       "    <tr>\n",
       "      <th>10</th>\n",
       "      <td>Food_Log_004</td>\n",
       "      <td>4</td>\n",
       "      <td>24.8</td>\n",
       "    </tr>\n",
       "    <tr>\n",
       "      <th>11</th>\n",
       "      <td>Food_Log_004</td>\n",
       "      <td>5</td>\n",
       "      <td>46.5</td>\n",
       "    </tr>\n",
       "    <tr>\n",
       "      <th>12</th>\n",
       "      <td>Food_Log_004</td>\n",
       "      <td>6</td>\n",
       "      <td>29.3</td>\n",
       "    </tr>\n",
       "    <tr>\n",
       "      <th>13</th>\n",
       "      <td>Food_Log_004</td>\n",
       "      <td>7</td>\n",
       "      <td>82.9</td>\n",
       "    </tr>\n",
       "    <tr>\n",
       "      <th>14</th>\n",
       "      <td>Food_Log_005</td>\n",
       "      <td>1</td>\n",
       "      <td>22.9</td>\n",
       "    </tr>\n",
       "    <tr>\n",
       "      <th>15</th>\n",
       "      <td>Food_Log_005</td>\n",
       "      <td>2</td>\n",
       "      <td>65.9</td>\n",
       "    </tr>\n",
       "    <tr>\n",
       "      <th>16</th>\n",
       "      <td>Food_Log_005</td>\n",
       "      <td>3</td>\n",
       "      <td>75.7</td>\n",
       "    </tr>\n",
       "    <tr>\n",
       "      <th>17</th>\n",
       "      <td>Food_Log_005</td>\n",
       "      <td>4</td>\n",
       "      <td>29.8</td>\n",
       "    </tr>\n",
       "    <tr>\n",
       "      <th>18</th>\n",
       "      <td>Food_Log_005</td>\n",
       "      <td>5</td>\n",
       "      <td>16.0</td>\n",
       "    </tr>\n",
       "    <tr>\n",
       "      <th>19</th>\n",
       "      <td>Food_Log_005</td>\n",
       "      <td>6</td>\n",
       "      <td>55.1</td>\n",
       "    </tr>\n",
       "    <tr>\n",
       "      <th>20</th>\n",
       "      <td>Food_Log_005</td>\n",
       "      <td>7</td>\n",
       "      <td>91.5</td>\n",
       "    </tr>\n",
       "    <tr>\n",
       "      <th>21</th>\n",
       "      <td>Food_Log_006</td>\n",
       "      <td>1</td>\n",
       "      <td>111.5</td>\n",
       "    </tr>\n",
       "    <tr>\n",
       "      <th>22</th>\n",
       "      <td>Food_Log_006</td>\n",
       "      <td>2</td>\n",
       "      <td>124.2</td>\n",
       "    </tr>\n",
       "    <tr>\n",
       "      <th>23</th>\n",
       "      <td>Food_Log_006</td>\n",
       "      <td>3</td>\n",
       "      <td>130.2</td>\n",
       "    </tr>\n",
       "    <tr>\n",
       "      <th>24</th>\n",
       "      <td>Food_Log_006</td>\n",
       "      <td>4</td>\n",
       "      <td>158.6</td>\n",
       "    </tr>\n",
       "    <tr>\n",
       "      <th>25</th>\n",
       "      <td>Food_Log_006</td>\n",
       "      <td>5</td>\n",
       "      <td>122.7</td>\n",
       "    </tr>\n",
       "    <tr>\n",
       "      <th>26</th>\n",
       "      <td>Food_Log_006</td>\n",
       "      <td>6</td>\n",
       "      <td>79.8</td>\n",
       "    </tr>\n",
       "    <tr>\n",
       "      <th>27</th>\n",
       "      <td>Food_Log_006</td>\n",
       "      <td>7</td>\n",
       "      <td>128.0</td>\n",
       "    </tr>\n",
       "    <tr>\n",
       "      <th>28</th>\n",
       "      <td>Food_Log_007</td>\n",
       "      <td>1</td>\n",
       "      <td>35.2</td>\n",
       "    </tr>\n",
       "    <tr>\n",
       "      <th>29</th>\n",
       "      <td>Food_Log_007</td>\n",
       "      <td>2</td>\n",
       "      <td>45.3</td>\n",
       "    </tr>\n",
       "    <tr>\n",
       "      <th>30</th>\n",
       "      <td>Food_Log_007</td>\n",
       "      <td>3</td>\n",
       "      <td>79.1</td>\n",
       "    </tr>\n",
       "    <tr>\n",
       "      <th>31</th>\n",
       "      <td>Food_Log_007</td>\n",
       "      <td>4</td>\n",
       "      <td>39.1</td>\n",
       "    </tr>\n",
       "    <tr>\n",
       "      <th>32</th>\n",
       "      <td>Food_Log_007</td>\n",
       "      <td>5</td>\n",
       "      <td>28.7</td>\n",
       "    </tr>\n",
       "    <tr>\n",
       "      <th>33</th>\n",
       "      <td>Food_Log_007</td>\n",
       "      <td>6</td>\n",
       "      <td>57.4</td>\n",
       "    </tr>\n",
       "    <tr>\n",
       "      <th>34</th>\n",
       "      <td>Food_Log_007</td>\n",
       "      <td>7</td>\n",
       "      <td>39.6</td>\n",
       "    </tr>\n",
       "    <tr>\n",
       "      <th>35</th>\n",
       "      <td>Food_Log_008</td>\n",
       "      <td>1</td>\n",
       "      <td>43.3</td>\n",
       "    </tr>\n",
       "    <tr>\n",
       "      <th>36</th>\n",
       "      <td>Food_Log_008</td>\n",
       "      <td>2</td>\n",
       "      <td>39.7</td>\n",
       "    </tr>\n",
       "    <tr>\n",
       "      <th>37</th>\n",
       "      <td>Food_Log_008</td>\n",
       "      <td>3</td>\n",
       "      <td>64.7</td>\n",
       "    </tr>\n",
       "    <tr>\n",
       "      <th>38</th>\n",
       "      <td>Food_Log_008</td>\n",
       "      <td>4</td>\n",
       "      <td>98.3</td>\n",
       "    </tr>\n",
       "    <tr>\n",
       "      <th>39</th>\n",
       "      <td>Food_Log_008</td>\n",
       "      <td>5</td>\n",
       "      <td>62.9</td>\n",
       "    </tr>\n",
       "    <tr>\n",
       "      <th>40</th>\n",
       "      <td>Food_Log_008</td>\n",
       "      <td>6</td>\n",
       "      <td>53.6</td>\n",
       "    </tr>\n",
       "    <tr>\n",
       "      <th>41</th>\n",
       "      <td>Food_Log_008</td>\n",
       "      <td>7</td>\n",
       "      <td>78.0</td>\n",
       "    </tr>\n",
       "    <tr>\n",
       "      <th>42</th>\n",
       "      <td>Food_Log_010</td>\n",
       "      <td>1</td>\n",
       "      <td>75.6</td>\n",
       "    </tr>\n",
       "    <tr>\n",
       "      <th>43</th>\n",
       "      <td>Food_Log_010</td>\n",
       "      <td>2</td>\n",
       "      <td>99.0</td>\n",
       "    </tr>\n",
       "    <tr>\n",
       "      <th>44</th>\n",
       "      <td>Food_Log_010</td>\n",
       "      <td>3</td>\n",
       "      <td>80.1</td>\n",
       "    </tr>\n",
       "    <tr>\n",
       "      <th>45</th>\n",
       "      <td>Food_Log_010</td>\n",
       "      <td>4</td>\n",
       "      <td>82.8</td>\n",
       "    </tr>\n",
       "    <tr>\n",
       "      <th>46</th>\n",
       "      <td>Food_Log_010</td>\n",
       "      <td>5</td>\n",
       "      <td>80.5</td>\n",
       "    </tr>\n",
       "    <tr>\n",
       "      <th>47</th>\n",
       "      <td>Food_Log_010</td>\n",
       "      <td>6</td>\n",
       "      <td>101.7</td>\n",
       "    </tr>\n",
       "    <tr>\n",
       "      <th>48</th>\n",
       "      <td>Food_Log_010</td>\n",
       "      <td>7</td>\n",
       "      <td>78.0</td>\n",
       "    </tr>\n",
       "    <tr>\n",
       "      <th>49</th>\n",
       "      <td>Food_Log_015</td>\n",
       "      <td>1</td>\n",
       "      <td>39.6</td>\n",
       "    </tr>\n",
       "    <tr>\n",
       "      <th>50</th>\n",
       "      <td>Food_Log_015</td>\n",
       "      <td>2</td>\n",
       "      <td>98.2</td>\n",
       "    </tr>\n",
       "    <tr>\n",
       "      <th>51</th>\n",
       "      <td>Food_Log_015</td>\n",
       "      <td>3</td>\n",
       "      <td>156.5</td>\n",
       "    </tr>\n",
       "    <tr>\n",
       "      <th>52</th>\n",
       "      <td>Food_Log_015</td>\n",
       "      <td>4</td>\n",
       "      <td>69.9</td>\n",
       "    </tr>\n",
       "    <tr>\n",
       "      <th>53</th>\n",
       "      <td>Food_Log_015</td>\n",
       "      <td>5</td>\n",
       "      <td>204.4</td>\n",
       "    </tr>\n",
       "    <tr>\n",
       "      <th>54</th>\n",
       "      <td>Food_Log_015</td>\n",
       "      <td>6</td>\n",
       "      <td>92.8</td>\n",
       "    </tr>\n",
       "    <tr>\n",
       "      <th>55</th>\n",
       "      <td>Food_Log_015</td>\n",
       "      <td>7</td>\n",
       "      <td>89.1</td>\n",
       "    </tr>\n",
       "  </tbody>\n",
       "</table>\n",
       "</div>"
      ],
      "text/plain": [
       "          Person  Day  sugar\n",
       "0   Food_Log_001    1   83.8\n",
       "1   Food_Log_001    2  125.3\n",
       "2   Food_Log_001    3  102.5\n",
       "3   Food_Log_001    4   80.4\n",
       "4   Food_Log_001    5   45.2\n",
       "5   Food_Log_001    6   75.8\n",
       "6   Food_Log_001    7  100.9\n",
       "7   Food_Log_004    1   22.6\n",
       "8   Food_Log_004    2   76.7\n",
       "9   Food_Log_004    3   17.7\n",
       "10  Food_Log_004    4   24.8\n",
       "11  Food_Log_004    5   46.5\n",
       "12  Food_Log_004    6   29.3\n",
       "13  Food_Log_004    7   82.9\n",
       "14  Food_Log_005    1   22.9\n",
       "15  Food_Log_005    2   65.9\n",
       "16  Food_Log_005    3   75.7\n",
       "17  Food_Log_005    4   29.8\n",
       "18  Food_Log_005    5   16.0\n",
       "19  Food_Log_005    6   55.1\n",
       "20  Food_Log_005    7   91.5\n",
       "21  Food_Log_006    1  111.5\n",
       "22  Food_Log_006    2  124.2\n",
       "23  Food_Log_006    3  130.2\n",
       "24  Food_Log_006    4  158.6\n",
       "25  Food_Log_006    5  122.7\n",
       "26  Food_Log_006    6   79.8\n",
       "27  Food_Log_006    7  128.0\n",
       "28  Food_Log_007    1   35.2\n",
       "29  Food_Log_007    2   45.3\n",
       "30  Food_Log_007    3   79.1\n",
       "31  Food_Log_007    4   39.1\n",
       "32  Food_Log_007    5   28.7\n",
       "33  Food_Log_007    6   57.4\n",
       "34  Food_Log_007    7   39.6\n",
       "35  Food_Log_008    1   43.3\n",
       "36  Food_Log_008    2   39.7\n",
       "37  Food_Log_008    3   64.7\n",
       "38  Food_Log_008    4   98.3\n",
       "39  Food_Log_008    5   62.9\n",
       "40  Food_Log_008    6   53.6\n",
       "41  Food_Log_008    7   78.0\n",
       "42  Food_Log_010    1   75.6\n",
       "43  Food_Log_010    2   99.0\n",
       "44  Food_Log_010    3   80.1\n",
       "45  Food_Log_010    4   82.8\n",
       "46  Food_Log_010    5   80.5\n",
       "47  Food_Log_010    6  101.7\n",
       "48  Food_Log_010    7   78.0\n",
       "49  Food_Log_015    1   39.6\n",
       "50  Food_Log_015    2   98.2\n",
       "51  Food_Log_015    3  156.5\n",
       "52  Food_Log_015    4   69.9\n",
       "53  Food_Log_015    5  204.4\n",
       "54  Food_Log_015    6   92.8\n",
       "55  Food_Log_015    7   89.1"
      ]
     },
     "execution_count": 7,
     "metadata": {},
     "output_type": "execute_result"
    }
   ],
   "source": [
    "sugar_df = aggregating_food_protein(folder_path, 'sugar')\n",
    "sugar_df"
   ]
  },
  {
   "cell_type": "code",
   "execution_count": 8,
   "metadata": {},
   "outputs": [
    {
     "data": {
      "text/html": [
       "<div>\n",
       "<style scoped>\n",
       "    .dataframe tbody tr th:only-of-type {\n",
       "        vertical-align: middle;\n",
       "    }\n",
       "\n",
       "    .dataframe tbody tr th {\n",
       "        vertical-align: top;\n",
       "    }\n",
       "\n",
       "    .dataframe thead th {\n",
       "        text-align: right;\n",
       "    }\n",
       "</style>\n",
       "<table border=\"1\" class=\"dataframe\">\n",
       "  <thead>\n",
       "    <tr style=\"text-align: right;\">\n",
       "      <th></th>\n",
       "      <th>Person</th>\n",
       "      <th>Day</th>\n",
       "      <th>glucose value (mg/dl)</th>\n",
       "    </tr>\n",
       "  </thead>\n",
       "  <tbody>\n",
       "    <tr>\n",
       "      <th>0</th>\n",
       "      <td>Dexcom_001</td>\n",
       "      <td>1</td>\n",
       "      <td>101.450000</td>\n",
       "    </tr>\n",
       "    <tr>\n",
       "      <th>1</th>\n",
       "      <td>Dexcom_001</td>\n",
       "      <td>2</td>\n",
       "      <td>99.975694</td>\n",
       "    </tr>\n",
       "    <tr>\n",
       "      <th>2</th>\n",
       "      <td>Dexcom_001</td>\n",
       "      <td>3</td>\n",
       "      <td>93.522648</td>\n",
       "    </tr>\n",
       "    <tr>\n",
       "      <th>3</th>\n",
       "      <td>Dexcom_001</td>\n",
       "      <td>4</td>\n",
       "      <td>104.142361</td>\n",
       "    </tr>\n",
       "    <tr>\n",
       "      <th>4</th>\n",
       "      <td>Dexcom_001</td>\n",
       "      <td>5</td>\n",
       "      <td>101.822917</td>\n",
       "    </tr>\n",
       "    <tr>\n",
       "      <th>5</th>\n",
       "      <td>Dexcom_001</td>\n",
       "      <td>6</td>\n",
       "      <td>111.569444</td>\n",
       "    </tr>\n",
       "    <tr>\n",
       "      <th>6</th>\n",
       "      <td>Dexcom_001</td>\n",
       "      <td>7</td>\n",
       "      <td>0.000000</td>\n",
       "    </tr>\n",
       "    <tr>\n",
       "      <th>7</th>\n",
       "      <td>Dexcom_004</td>\n",
       "      <td>1</td>\n",
       "      <td>104.063291</td>\n",
       "    </tr>\n",
       "    <tr>\n",
       "      <th>8</th>\n",
       "      <td>Dexcom_004</td>\n",
       "      <td>2</td>\n",
       "      <td>110.614583</td>\n",
       "    </tr>\n",
       "    <tr>\n",
       "      <th>9</th>\n",
       "      <td>Dexcom_004</td>\n",
       "      <td>3</td>\n",
       "      <td>110.472028</td>\n",
       "    </tr>\n",
       "    <tr>\n",
       "      <th>10</th>\n",
       "      <td>Dexcom_004</td>\n",
       "      <td>4</td>\n",
       "      <td>118.229167</td>\n",
       "    </tr>\n",
       "    <tr>\n",
       "      <th>11</th>\n",
       "      <td>Dexcom_004</td>\n",
       "      <td>5</td>\n",
       "      <td>100.571429</td>\n",
       "    </tr>\n",
       "    <tr>\n",
       "      <th>12</th>\n",
       "      <td>Dexcom_004</td>\n",
       "      <td>6</td>\n",
       "      <td>114.495575</td>\n",
       "    </tr>\n",
       "    <tr>\n",
       "      <th>13</th>\n",
       "      <td>Dexcom_004</td>\n",
       "      <td>7</td>\n",
       "      <td>0.000000</td>\n",
       "    </tr>\n",
       "    <tr>\n",
       "      <th>14</th>\n",
       "      <td>Dexcom_005</td>\n",
       "      <td>1</td>\n",
       "      <td>120.309524</td>\n",
       "    </tr>\n",
       "    <tr>\n",
       "      <th>15</th>\n",
       "      <td>Dexcom_005</td>\n",
       "      <td>2</td>\n",
       "      <td>104.795139</td>\n",
       "    </tr>\n",
       "    <tr>\n",
       "      <th>16</th>\n",
       "      <td>Dexcom_005</td>\n",
       "      <td>3</td>\n",
       "      <td>111.388889</td>\n",
       "    </tr>\n",
       "    <tr>\n",
       "      <th>17</th>\n",
       "      <td>Dexcom_005</td>\n",
       "      <td>4</td>\n",
       "      <td>104.152249</td>\n",
       "    </tr>\n",
       "    <tr>\n",
       "      <th>18</th>\n",
       "      <td>Dexcom_005</td>\n",
       "      <td>5</td>\n",
       "      <td>98.430556</td>\n",
       "    </tr>\n",
       "    <tr>\n",
       "      <th>19</th>\n",
       "      <td>Dexcom_005</td>\n",
       "      <td>6</td>\n",
       "      <td>104.709790</td>\n",
       "    </tr>\n",
       "    <tr>\n",
       "      <th>20</th>\n",
       "      <td>Dexcom_005</td>\n",
       "      <td>7</td>\n",
       "      <td>0.000000</td>\n",
       "    </tr>\n",
       "    <tr>\n",
       "      <th>21</th>\n",
       "      <td>Dexcom_006</td>\n",
       "      <td>1</td>\n",
       "      <td>119.326241</td>\n",
       "    </tr>\n",
       "    <tr>\n",
       "      <th>22</th>\n",
       "      <td>Dexcom_006</td>\n",
       "      <td>2</td>\n",
       "      <td>121.552083</td>\n",
       "    </tr>\n",
       "    <tr>\n",
       "      <th>23</th>\n",
       "      <td>Dexcom_006</td>\n",
       "      <td>3</td>\n",
       "      <td>122.218750</td>\n",
       "    </tr>\n",
       "    <tr>\n",
       "      <th>24</th>\n",
       "      <td>Dexcom_006</td>\n",
       "      <td>4</td>\n",
       "      <td>119.302083</td>\n",
       "    </tr>\n",
       "    <tr>\n",
       "      <th>25</th>\n",
       "      <td>Dexcom_006</td>\n",
       "      <td>5</td>\n",
       "      <td>126.416667</td>\n",
       "    </tr>\n",
       "    <tr>\n",
       "      <th>26</th>\n",
       "      <td>Dexcom_006</td>\n",
       "      <td>6</td>\n",
       "      <td>122.906250</td>\n",
       "    </tr>\n",
       "    <tr>\n",
       "      <th>27</th>\n",
       "      <td>Dexcom_006</td>\n",
       "      <td>7</td>\n",
       "      <td>0.000000</td>\n",
       "    </tr>\n",
       "    <tr>\n",
       "      <th>28</th>\n",
       "      <td>Dexcom_007</td>\n",
       "      <td>1</td>\n",
       "      <td>106.485294</td>\n",
       "    </tr>\n",
       "    <tr>\n",
       "      <th>29</th>\n",
       "      <td>Dexcom_007</td>\n",
       "      <td>2</td>\n",
       "      <td>91.590278</td>\n",
       "    </tr>\n",
       "    <tr>\n",
       "      <th>30</th>\n",
       "      <td>Dexcom_007</td>\n",
       "      <td>3</td>\n",
       "      <td>97.486111</td>\n",
       "    </tr>\n",
       "    <tr>\n",
       "      <th>31</th>\n",
       "      <td>Dexcom_007</td>\n",
       "      <td>4</td>\n",
       "      <td>96.350694</td>\n",
       "    </tr>\n",
       "    <tr>\n",
       "      <th>32</th>\n",
       "      <td>Dexcom_007</td>\n",
       "      <td>5</td>\n",
       "      <td>92.760766</td>\n",
       "    </tr>\n",
       "    <tr>\n",
       "      <th>33</th>\n",
       "      <td>Dexcom_007</td>\n",
       "      <td>6</td>\n",
       "      <td>86.513889</td>\n",
       "    </tr>\n",
       "    <tr>\n",
       "      <th>34</th>\n",
       "      <td>Dexcom_007</td>\n",
       "      <td>7</td>\n",
       "      <td>0.000000</td>\n",
       "    </tr>\n",
       "    <tr>\n",
       "      <th>35</th>\n",
       "      <td>Dexcom_008</td>\n",
       "      <td>1</td>\n",
       "      <td>103.325000</td>\n",
       "    </tr>\n",
       "    <tr>\n",
       "      <th>36</th>\n",
       "      <td>Dexcom_008</td>\n",
       "      <td>2</td>\n",
       "      <td>93.132841</td>\n",
       "    </tr>\n",
       "    <tr>\n",
       "      <th>37</th>\n",
       "      <td>Dexcom_008</td>\n",
       "      <td>3</td>\n",
       "      <td>104.267361</td>\n",
       "    </tr>\n",
       "    <tr>\n",
       "      <th>38</th>\n",
       "      <td>Dexcom_008</td>\n",
       "      <td>4</td>\n",
       "      <td>112.781818</td>\n",
       "    </tr>\n",
       "    <tr>\n",
       "      <th>39</th>\n",
       "      <td>Dexcom_008</td>\n",
       "      <td>5</td>\n",
       "      <td>116.607639</td>\n",
       "    </tr>\n",
       "    <tr>\n",
       "      <th>40</th>\n",
       "      <td>Dexcom_008</td>\n",
       "      <td>6</td>\n",
       "      <td>117.323308</td>\n",
       "    </tr>\n",
       "    <tr>\n",
       "      <th>41</th>\n",
       "      <td>Dexcom_008</td>\n",
       "      <td>7</td>\n",
       "      <td>0.000000</td>\n",
       "    </tr>\n",
       "    <tr>\n",
       "      <th>42</th>\n",
       "      <td>Dexcom_010</td>\n",
       "      <td>1</td>\n",
       "      <td>119.572368</td>\n",
       "    </tr>\n",
       "    <tr>\n",
       "      <th>43</th>\n",
       "      <td>Dexcom_010</td>\n",
       "      <td>2</td>\n",
       "      <td>109.018587</td>\n",
       "    </tr>\n",
       "    <tr>\n",
       "      <th>44</th>\n",
       "      <td>Dexcom_010</td>\n",
       "      <td>3</td>\n",
       "      <td>96.903509</td>\n",
       "    </tr>\n",
       "    <tr>\n",
       "      <th>45</th>\n",
       "      <td>Dexcom_010</td>\n",
       "      <td>4</td>\n",
       "      <td>124.843750</td>\n",
       "    </tr>\n",
       "    <tr>\n",
       "      <th>46</th>\n",
       "      <td>Dexcom_010</td>\n",
       "      <td>5</td>\n",
       "      <td>108.833333</td>\n",
       "    </tr>\n",
       "    <tr>\n",
       "      <th>47</th>\n",
       "      <td>Dexcom_010</td>\n",
       "      <td>6</td>\n",
       "      <td>112.722222</td>\n",
       "    </tr>\n",
       "    <tr>\n",
       "      <th>48</th>\n",
       "      <td>Dexcom_010</td>\n",
       "      <td>7</td>\n",
       "      <td>0.000000</td>\n",
       "    </tr>\n",
       "    <tr>\n",
       "      <th>49</th>\n",
       "      <td>Dexcom_015</td>\n",
       "      <td>1</td>\n",
       "      <td>94.155844</td>\n",
       "    </tr>\n",
       "    <tr>\n",
       "      <th>50</th>\n",
       "      <td>Dexcom_015</td>\n",
       "      <td>2</td>\n",
       "      <td>115.200000</td>\n",
       "    </tr>\n",
       "    <tr>\n",
       "      <th>51</th>\n",
       "      <td>Dexcom_015</td>\n",
       "      <td>3</td>\n",
       "      <td>111.568627</td>\n",
       "    </tr>\n",
       "    <tr>\n",
       "      <th>52</th>\n",
       "      <td>Dexcom_015</td>\n",
       "      <td>4</td>\n",
       "      <td>110.000000</td>\n",
       "    </tr>\n",
       "    <tr>\n",
       "      <th>53</th>\n",
       "      <td>Dexcom_015</td>\n",
       "      <td>5</td>\n",
       "      <td>107.017361</td>\n",
       "    </tr>\n",
       "    <tr>\n",
       "      <th>54</th>\n",
       "      <td>Dexcom_015</td>\n",
       "      <td>6</td>\n",
       "      <td>107.892361</td>\n",
       "    </tr>\n",
       "    <tr>\n",
       "      <th>55</th>\n",
       "      <td>Dexcom_015</td>\n",
       "      <td>7</td>\n",
       "      <td>0.000000</td>\n",
       "    </tr>\n",
       "  </tbody>\n",
       "</table>\n",
       "</div>"
      ],
      "text/plain": [
       "        Person  Day  glucose value (mg/dl)\n",
       "0   Dexcom_001    1             101.450000\n",
       "1   Dexcom_001    2              99.975694\n",
       "2   Dexcom_001    3              93.522648\n",
       "3   Dexcom_001    4             104.142361\n",
       "4   Dexcom_001    5             101.822917\n",
       "5   Dexcom_001    6             111.569444\n",
       "6   Dexcom_001    7               0.000000\n",
       "7   Dexcom_004    1             104.063291\n",
       "8   Dexcom_004    2             110.614583\n",
       "9   Dexcom_004    3             110.472028\n",
       "10  Dexcom_004    4             118.229167\n",
       "11  Dexcom_004    5             100.571429\n",
       "12  Dexcom_004    6             114.495575\n",
       "13  Dexcom_004    7               0.000000\n",
       "14  Dexcom_005    1             120.309524\n",
       "15  Dexcom_005    2             104.795139\n",
       "16  Dexcom_005    3             111.388889\n",
       "17  Dexcom_005    4             104.152249\n",
       "18  Dexcom_005    5              98.430556\n",
       "19  Dexcom_005    6             104.709790\n",
       "20  Dexcom_005    7               0.000000\n",
       "21  Dexcom_006    1             119.326241\n",
       "22  Dexcom_006    2             121.552083\n",
       "23  Dexcom_006    3             122.218750\n",
       "24  Dexcom_006    4             119.302083\n",
       "25  Dexcom_006    5             126.416667\n",
       "26  Dexcom_006    6             122.906250\n",
       "27  Dexcom_006    7               0.000000\n",
       "28  Dexcom_007    1             106.485294\n",
       "29  Dexcom_007    2              91.590278\n",
       "30  Dexcom_007    3              97.486111\n",
       "31  Dexcom_007    4              96.350694\n",
       "32  Dexcom_007    5              92.760766\n",
       "33  Dexcom_007    6              86.513889\n",
       "34  Dexcom_007    7               0.000000\n",
       "35  Dexcom_008    1             103.325000\n",
       "36  Dexcom_008    2              93.132841\n",
       "37  Dexcom_008    3             104.267361\n",
       "38  Dexcom_008    4             112.781818\n",
       "39  Dexcom_008    5             116.607639\n",
       "40  Dexcom_008    6             117.323308\n",
       "41  Dexcom_008    7               0.000000\n",
       "42  Dexcom_010    1             119.572368\n",
       "43  Dexcom_010    2             109.018587\n",
       "44  Dexcom_010    3              96.903509\n",
       "45  Dexcom_010    4             124.843750\n",
       "46  Dexcom_010    5             108.833333\n",
       "47  Dexcom_010    6             112.722222\n",
       "48  Dexcom_010    7               0.000000\n",
       "49  Dexcom_015    1              94.155844\n",
       "50  Dexcom_015    2             115.200000\n",
       "51  Dexcom_015    3             111.568627\n",
       "52  Dexcom_015    4             110.000000\n",
       "53  Dexcom_015    5             107.017361\n",
       "54  Dexcom_015    6             107.892361\n",
       "55  Dexcom_015    7               0.000000"
      ]
     },
     "execution_count": 8,
     "metadata": {},
     "output_type": "execute_result"
    }
   ],
   "source": [
    "import pandas as pd\n",
    "import glob\n",
    "import os\n",
    "\n",
    "def aggregating_dexcom(path_to_folder, column_to_aggregate):\n",
    "    all_files = glob.glob(os.path.join(path_to_folder, \"*.csv\"))\n",
    "    combined_df = pd.DataFrame()\n",
    "\n",
    "    for file in all_files:\n",
    "        df = pd.read_csv(file, encoding=\"utf-8\")\n",
    "\n",
    "        # Normalize column names (remove spaces & convert to lowercase)\n",
    "        df.columns = df.columns.str.strip().str.lower()\n",
    "\n",
    "        # Correcting column name for timestamp\n",
    "        timestamp_col = \"timestamp (yyyy-mm-ddthh:mm:ss)\"\n",
    "        if timestamp_col not in df.columns:\n",
    "            raise ValueError(f\"Timestamp column '{timestamp_col}' not found in {file}\")\n",
    "\n",
    "        # Convert timestamp column to datetime\n",
    "        df[timestamp_col] = pd.to_datetime(df[timestamp_col], errors='coerce')\n",
    "\n",
    "        # Drop rows with missing timestamps\n",
    "        df = df.dropna(subset=[timestamp_col])\n",
    "\n",
    "        # Find the start of the 7-day period (earliest date in file)\n",
    "        start_date = df[timestamp_col].min().normalize()\n",
    "        end_date = start_date + pd.Timedelta(days=6)\n",
    "\n",
    "        # Filter data within this range\n",
    "        df_filtered = df[(df[timestamp_col] >= start_date) & (df[timestamp_col] <= end_date)].copy()\n",
    "\n",
    "        # Extract day number (1 to 7) relative to start_date\n",
    "        df_filtered['Day'] = (df_filtered[timestamp_col] - start_date).dt.days + 1\n",
    "\n",
    "        # Aggregate the specified column per day (use mean or sum)\n",
    "        daily_values = df_filtered.groupby(\"Day\", as_index=False)[column_to_aggregate].mean()  # Change to .sum() if needed\n",
    "\n",
    "        # Ensure all 7 days are present\n",
    "        all_days = pd.DataFrame({'Day': range(1, 8)})\n",
    "        daily_values = all_days.merge(daily_values, on=\"Day\", how=\"left\").fillna(0)\n",
    "\n",
    "        # Extract the person's name from filename\n",
    "        person_name = os.path.basename(file).replace(\".csv\", \"\")\n",
    "        daily_values['Person'] = person_name\n",
    "\n",
    "        # Rearrange columns\n",
    "        daily_values = daily_values[['Person', 'Day', column_to_aggregate]]\n",
    "\n",
    "        # Append to final DataFrame\n",
    "        combined_df = pd.concat([combined_df, daily_values], ignore_index=True)\n",
    "\n",
    "    return combined_df\n",
    "\n",
    "dexcom_logs = aggregating_dexcom('Dexcom_Logs',  'glucose value (mg/dl)')\n",
    "dexcom_logs"
   ]
  },
  {
   "cell_type": "code",
   "execution_count": 9,
   "metadata": {},
   "outputs": [
    {
     "data": {
      "text/html": [
       "<div>\n",
       "<style scoped>\n",
       "    .dataframe tbody tr th:only-of-type {\n",
       "        vertical-align: middle;\n",
       "    }\n",
       "\n",
       "    .dataframe tbody tr th {\n",
       "        vertical-align: top;\n",
       "    }\n",
       "\n",
       "    .dataframe thead th {\n",
       "        text-align: right;\n",
       "    }\n",
       "</style>\n",
       "<table border=\"1\" class=\"dataframe\">\n",
       "  <thead>\n",
       "    <tr style=\"text-align: right;\">\n",
       "      <th></th>\n",
       "      <th>Person</th>\n",
       "      <th>Day</th>\n",
       "      <th>glucose value (mg/dl)</th>\n",
       "      <th>person_id</th>\n",
       "    </tr>\n",
       "  </thead>\n",
       "  <tbody>\n",
       "    <tr>\n",
       "      <th>0</th>\n",
       "      <td>Dexcom_001</td>\n",
       "      <td>1</td>\n",
       "      <td>101.450000</td>\n",
       "      <td>001</td>\n",
       "    </tr>\n",
       "    <tr>\n",
       "      <th>1</th>\n",
       "      <td>Dexcom_001</td>\n",
       "      <td>2</td>\n",
       "      <td>99.975694</td>\n",
       "      <td>001</td>\n",
       "    </tr>\n",
       "    <tr>\n",
       "      <th>2</th>\n",
       "      <td>Dexcom_001</td>\n",
       "      <td>3</td>\n",
       "      <td>93.522648</td>\n",
       "      <td>001</td>\n",
       "    </tr>\n",
       "    <tr>\n",
       "      <th>3</th>\n",
       "      <td>Dexcom_001</td>\n",
       "      <td>4</td>\n",
       "      <td>104.142361</td>\n",
       "      <td>001</td>\n",
       "    </tr>\n",
       "    <tr>\n",
       "      <th>4</th>\n",
       "      <td>Dexcom_001</td>\n",
       "      <td>5</td>\n",
       "      <td>101.822917</td>\n",
       "      <td>001</td>\n",
       "    </tr>\n",
       "    <tr>\n",
       "      <th>5</th>\n",
       "      <td>Dexcom_001</td>\n",
       "      <td>6</td>\n",
       "      <td>111.569444</td>\n",
       "      <td>001</td>\n",
       "    </tr>\n",
       "    <tr>\n",
       "      <th>6</th>\n",
       "      <td>Dexcom_001</td>\n",
       "      <td>7</td>\n",
       "      <td>0.000000</td>\n",
       "      <td>001</td>\n",
       "    </tr>\n",
       "    <tr>\n",
       "      <th>7</th>\n",
       "      <td>Dexcom_004</td>\n",
       "      <td>1</td>\n",
       "      <td>104.063291</td>\n",
       "      <td>004</td>\n",
       "    </tr>\n",
       "    <tr>\n",
       "      <th>8</th>\n",
       "      <td>Dexcom_004</td>\n",
       "      <td>2</td>\n",
       "      <td>110.614583</td>\n",
       "      <td>004</td>\n",
       "    </tr>\n",
       "    <tr>\n",
       "      <th>9</th>\n",
       "      <td>Dexcom_004</td>\n",
       "      <td>3</td>\n",
       "      <td>110.472028</td>\n",
       "      <td>004</td>\n",
       "    </tr>\n",
       "    <tr>\n",
       "      <th>10</th>\n",
       "      <td>Dexcom_004</td>\n",
       "      <td>4</td>\n",
       "      <td>118.229167</td>\n",
       "      <td>004</td>\n",
       "    </tr>\n",
       "    <tr>\n",
       "      <th>11</th>\n",
       "      <td>Dexcom_004</td>\n",
       "      <td>5</td>\n",
       "      <td>100.571429</td>\n",
       "      <td>004</td>\n",
       "    </tr>\n",
       "    <tr>\n",
       "      <th>12</th>\n",
       "      <td>Dexcom_004</td>\n",
       "      <td>6</td>\n",
       "      <td>114.495575</td>\n",
       "      <td>004</td>\n",
       "    </tr>\n",
       "    <tr>\n",
       "      <th>13</th>\n",
       "      <td>Dexcom_004</td>\n",
       "      <td>7</td>\n",
       "      <td>0.000000</td>\n",
       "      <td>004</td>\n",
       "    </tr>\n",
       "    <tr>\n",
       "      <th>14</th>\n",
       "      <td>Dexcom_005</td>\n",
       "      <td>1</td>\n",
       "      <td>120.309524</td>\n",
       "      <td>005</td>\n",
       "    </tr>\n",
       "    <tr>\n",
       "      <th>15</th>\n",
       "      <td>Dexcom_005</td>\n",
       "      <td>2</td>\n",
       "      <td>104.795139</td>\n",
       "      <td>005</td>\n",
       "    </tr>\n",
       "    <tr>\n",
       "      <th>16</th>\n",
       "      <td>Dexcom_005</td>\n",
       "      <td>3</td>\n",
       "      <td>111.388889</td>\n",
       "      <td>005</td>\n",
       "    </tr>\n",
       "    <tr>\n",
       "      <th>17</th>\n",
       "      <td>Dexcom_005</td>\n",
       "      <td>4</td>\n",
       "      <td>104.152249</td>\n",
       "      <td>005</td>\n",
       "    </tr>\n",
       "    <tr>\n",
       "      <th>18</th>\n",
       "      <td>Dexcom_005</td>\n",
       "      <td>5</td>\n",
       "      <td>98.430556</td>\n",
       "      <td>005</td>\n",
       "    </tr>\n",
       "    <tr>\n",
       "      <th>19</th>\n",
       "      <td>Dexcom_005</td>\n",
       "      <td>6</td>\n",
       "      <td>104.709790</td>\n",
       "      <td>005</td>\n",
       "    </tr>\n",
       "    <tr>\n",
       "      <th>20</th>\n",
       "      <td>Dexcom_005</td>\n",
       "      <td>7</td>\n",
       "      <td>0.000000</td>\n",
       "      <td>005</td>\n",
       "    </tr>\n",
       "    <tr>\n",
       "      <th>21</th>\n",
       "      <td>Dexcom_006</td>\n",
       "      <td>1</td>\n",
       "      <td>119.326241</td>\n",
       "      <td>006</td>\n",
       "    </tr>\n",
       "    <tr>\n",
       "      <th>22</th>\n",
       "      <td>Dexcom_006</td>\n",
       "      <td>2</td>\n",
       "      <td>121.552083</td>\n",
       "      <td>006</td>\n",
       "    </tr>\n",
       "    <tr>\n",
       "      <th>23</th>\n",
       "      <td>Dexcom_006</td>\n",
       "      <td>3</td>\n",
       "      <td>122.218750</td>\n",
       "      <td>006</td>\n",
       "    </tr>\n",
       "    <tr>\n",
       "      <th>24</th>\n",
       "      <td>Dexcom_006</td>\n",
       "      <td>4</td>\n",
       "      <td>119.302083</td>\n",
       "      <td>006</td>\n",
       "    </tr>\n",
       "    <tr>\n",
       "      <th>25</th>\n",
       "      <td>Dexcom_006</td>\n",
       "      <td>5</td>\n",
       "      <td>126.416667</td>\n",
       "      <td>006</td>\n",
       "    </tr>\n",
       "    <tr>\n",
       "      <th>26</th>\n",
       "      <td>Dexcom_006</td>\n",
       "      <td>6</td>\n",
       "      <td>122.906250</td>\n",
       "      <td>006</td>\n",
       "    </tr>\n",
       "    <tr>\n",
       "      <th>27</th>\n",
       "      <td>Dexcom_006</td>\n",
       "      <td>7</td>\n",
       "      <td>0.000000</td>\n",
       "      <td>006</td>\n",
       "    </tr>\n",
       "    <tr>\n",
       "      <th>28</th>\n",
       "      <td>Dexcom_007</td>\n",
       "      <td>1</td>\n",
       "      <td>106.485294</td>\n",
       "      <td>007</td>\n",
       "    </tr>\n",
       "    <tr>\n",
       "      <th>29</th>\n",
       "      <td>Dexcom_007</td>\n",
       "      <td>2</td>\n",
       "      <td>91.590278</td>\n",
       "      <td>007</td>\n",
       "    </tr>\n",
       "    <tr>\n",
       "      <th>30</th>\n",
       "      <td>Dexcom_007</td>\n",
       "      <td>3</td>\n",
       "      <td>97.486111</td>\n",
       "      <td>007</td>\n",
       "    </tr>\n",
       "    <tr>\n",
       "      <th>31</th>\n",
       "      <td>Dexcom_007</td>\n",
       "      <td>4</td>\n",
       "      <td>96.350694</td>\n",
       "      <td>007</td>\n",
       "    </tr>\n",
       "    <tr>\n",
       "      <th>32</th>\n",
       "      <td>Dexcom_007</td>\n",
       "      <td>5</td>\n",
       "      <td>92.760766</td>\n",
       "      <td>007</td>\n",
       "    </tr>\n",
       "    <tr>\n",
       "      <th>33</th>\n",
       "      <td>Dexcom_007</td>\n",
       "      <td>6</td>\n",
       "      <td>86.513889</td>\n",
       "      <td>007</td>\n",
       "    </tr>\n",
       "    <tr>\n",
       "      <th>34</th>\n",
       "      <td>Dexcom_007</td>\n",
       "      <td>7</td>\n",
       "      <td>0.000000</td>\n",
       "      <td>007</td>\n",
       "    </tr>\n",
       "    <tr>\n",
       "      <th>35</th>\n",
       "      <td>Dexcom_008</td>\n",
       "      <td>1</td>\n",
       "      <td>103.325000</td>\n",
       "      <td>008</td>\n",
       "    </tr>\n",
       "    <tr>\n",
       "      <th>36</th>\n",
       "      <td>Dexcom_008</td>\n",
       "      <td>2</td>\n",
       "      <td>93.132841</td>\n",
       "      <td>008</td>\n",
       "    </tr>\n",
       "    <tr>\n",
       "      <th>37</th>\n",
       "      <td>Dexcom_008</td>\n",
       "      <td>3</td>\n",
       "      <td>104.267361</td>\n",
       "      <td>008</td>\n",
       "    </tr>\n",
       "    <tr>\n",
       "      <th>38</th>\n",
       "      <td>Dexcom_008</td>\n",
       "      <td>4</td>\n",
       "      <td>112.781818</td>\n",
       "      <td>008</td>\n",
       "    </tr>\n",
       "    <tr>\n",
       "      <th>39</th>\n",
       "      <td>Dexcom_008</td>\n",
       "      <td>5</td>\n",
       "      <td>116.607639</td>\n",
       "      <td>008</td>\n",
       "    </tr>\n",
       "    <tr>\n",
       "      <th>40</th>\n",
       "      <td>Dexcom_008</td>\n",
       "      <td>6</td>\n",
       "      <td>117.323308</td>\n",
       "      <td>008</td>\n",
       "    </tr>\n",
       "    <tr>\n",
       "      <th>41</th>\n",
       "      <td>Dexcom_008</td>\n",
       "      <td>7</td>\n",
       "      <td>0.000000</td>\n",
       "      <td>008</td>\n",
       "    </tr>\n",
       "    <tr>\n",
       "      <th>42</th>\n",
       "      <td>Dexcom_010</td>\n",
       "      <td>1</td>\n",
       "      <td>119.572368</td>\n",
       "      <td>010</td>\n",
       "    </tr>\n",
       "    <tr>\n",
       "      <th>43</th>\n",
       "      <td>Dexcom_010</td>\n",
       "      <td>2</td>\n",
       "      <td>109.018587</td>\n",
       "      <td>010</td>\n",
       "    </tr>\n",
       "    <tr>\n",
       "      <th>44</th>\n",
       "      <td>Dexcom_010</td>\n",
       "      <td>3</td>\n",
       "      <td>96.903509</td>\n",
       "      <td>010</td>\n",
       "    </tr>\n",
       "    <tr>\n",
       "      <th>45</th>\n",
       "      <td>Dexcom_010</td>\n",
       "      <td>4</td>\n",
       "      <td>124.843750</td>\n",
       "      <td>010</td>\n",
       "    </tr>\n",
       "    <tr>\n",
       "      <th>46</th>\n",
       "      <td>Dexcom_010</td>\n",
       "      <td>5</td>\n",
       "      <td>108.833333</td>\n",
       "      <td>010</td>\n",
       "    </tr>\n",
       "    <tr>\n",
       "      <th>47</th>\n",
       "      <td>Dexcom_010</td>\n",
       "      <td>6</td>\n",
       "      <td>112.722222</td>\n",
       "      <td>010</td>\n",
       "    </tr>\n",
       "    <tr>\n",
       "      <th>48</th>\n",
       "      <td>Dexcom_010</td>\n",
       "      <td>7</td>\n",
       "      <td>0.000000</td>\n",
       "      <td>010</td>\n",
       "    </tr>\n",
       "    <tr>\n",
       "      <th>49</th>\n",
       "      <td>Dexcom_015</td>\n",
       "      <td>1</td>\n",
       "      <td>94.155844</td>\n",
       "      <td>015</td>\n",
       "    </tr>\n",
       "    <tr>\n",
       "      <th>50</th>\n",
       "      <td>Dexcom_015</td>\n",
       "      <td>2</td>\n",
       "      <td>115.200000</td>\n",
       "      <td>015</td>\n",
       "    </tr>\n",
       "    <tr>\n",
       "      <th>51</th>\n",
       "      <td>Dexcom_015</td>\n",
       "      <td>3</td>\n",
       "      <td>111.568627</td>\n",
       "      <td>015</td>\n",
       "    </tr>\n",
       "    <tr>\n",
       "      <th>52</th>\n",
       "      <td>Dexcom_015</td>\n",
       "      <td>4</td>\n",
       "      <td>110.000000</td>\n",
       "      <td>015</td>\n",
       "    </tr>\n",
       "    <tr>\n",
       "      <th>53</th>\n",
       "      <td>Dexcom_015</td>\n",
       "      <td>5</td>\n",
       "      <td>107.017361</td>\n",
       "      <td>015</td>\n",
       "    </tr>\n",
       "    <tr>\n",
       "      <th>54</th>\n",
       "      <td>Dexcom_015</td>\n",
       "      <td>6</td>\n",
       "      <td>107.892361</td>\n",
       "      <td>015</td>\n",
       "    </tr>\n",
       "    <tr>\n",
       "      <th>55</th>\n",
       "      <td>Dexcom_015</td>\n",
       "      <td>7</td>\n",
       "      <td>0.000000</td>\n",
       "      <td>015</td>\n",
       "    </tr>\n",
       "  </tbody>\n",
       "</table>\n",
       "</div>"
      ],
      "text/plain": [
       "        Person  Day  glucose value (mg/dl) person_id\n",
       "0   Dexcom_001    1             101.450000       001\n",
       "1   Dexcom_001    2              99.975694       001\n",
       "2   Dexcom_001    3              93.522648       001\n",
       "3   Dexcom_001    4             104.142361       001\n",
       "4   Dexcom_001    5             101.822917       001\n",
       "5   Dexcom_001    6             111.569444       001\n",
       "6   Dexcom_001    7               0.000000       001\n",
       "7   Dexcom_004    1             104.063291       004\n",
       "8   Dexcom_004    2             110.614583       004\n",
       "9   Dexcom_004    3             110.472028       004\n",
       "10  Dexcom_004    4             118.229167       004\n",
       "11  Dexcom_004    5             100.571429       004\n",
       "12  Dexcom_004    6             114.495575       004\n",
       "13  Dexcom_004    7               0.000000       004\n",
       "14  Dexcom_005    1             120.309524       005\n",
       "15  Dexcom_005    2             104.795139       005\n",
       "16  Dexcom_005    3             111.388889       005\n",
       "17  Dexcom_005    4             104.152249       005\n",
       "18  Dexcom_005    5              98.430556       005\n",
       "19  Dexcom_005    6             104.709790       005\n",
       "20  Dexcom_005    7               0.000000       005\n",
       "21  Dexcom_006    1             119.326241       006\n",
       "22  Dexcom_006    2             121.552083       006\n",
       "23  Dexcom_006    3             122.218750       006\n",
       "24  Dexcom_006    4             119.302083       006\n",
       "25  Dexcom_006    5             126.416667       006\n",
       "26  Dexcom_006    6             122.906250       006\n",
       "27  Dexcom_006    7               0.000000       006\n",
       "28  Dexcom_007    1             106.485294       007\n",
       "29  Dexcom_007    2              91.590278       007\n",
       "30  Dexcom_007    3              97.486111       007\n",
       "31  Dexcom_007    4              96.350694       007\n",
       "32  Dexcom_007    5              92.760766       007\n",
       "33  Dexcom_007    6              86.513889       007\n",
       "34  Dexcom_007    7               0.000000       007\n",
       "35  Dexcom_008    1             103.325000       008\n",
       "36  Dexcom_008    2              93.132841       008\n",
       "37  Dexcom_008    3             104.267361       008\n",
       "38  Dexcom_008    4             112.781818       008\n",
       "39  Dexcom_008    5             116.607639       008\n",
       "40  Dexcom_008    6             117.323308       008\n",
       "41  Dexcom_008    7               0.000000       008\n",
       "42  Dexcom_010    1             119.572368       010\n",
       "43  Dexcom_010    2             109.018587       010\n",
       "44  Dexcom_010    3              96.903509       010\n",
       "45  Dexcom_010    4             124.843750       010\n",
       "46  Dexcom_010    5             108.833333       010\n",
       "47  Dexcom_010    6             112.722222       010\n",
       "48  Dexcom_010    7               0.000000       010\n",
       "49  Dexcom_015    1              94.155844       015\n",
       "50  Dexcom_015    2             115.200000       015\n",
       "51  Dexcom_015    3             111.568627       015\n",
       "52  Dexcom_015    4             110.000000       015\n",
       "53  Dexcom_015    5             107.017361       015\n",
       "54  Dexcom_015    6             107.892361       015\n",
       "55  Dexcom_015    7               0.000000       015"
      ]
     },
     "execution_count": 9,
     "metadata": {},
     "output_type": "execute_result"
    }
   ],
   "source": [
    "dexcom_exp = dexcom_logs.copy()\n",
    "dexcom_exp['person_id'] = dexcom_exp['Person'].str.split('_').str[1]\n",
    "dexcom_exp"
   ]
  },
  {
   "cell_type": "code",
   "execution_count": 10,
   "metadata": {},
   "outputs": [
    {
     "data": {
      "text/html": [
       "<div>\n",
       "<style scoped>\n",
       "    .dataframe tbody tr th:only-of-type {\n",
       "        vertical-align: middle;\n",
       "    }\n",
       "\n",
       "    .dataframe tbody tr th {\n",
       "        vertical-align: top;\n",
       "    }\n",
       "\n",
       "    .dataframe thead th {\n",
       "        text-align: right;\n",
       "    }\n",
       "</style>\n",
       "<table border=\"1\" class=\"dataframe\">\n",
       "  <thead>\n",
       "    <tr style=\"text-align: right;\">\n",
       "      <th></th>\n",
       "      <th>Person</th>\n",
       "      <th>Day</th>\n",
       "      <th>sugar</th>\n",
       "      <th>person_id</th>\n",
       "    </tr>\n",
       "  </thead>\n",
       "  <tbody>\n",
       "    <tr>\n",
       "      <th>0</th>\n",
       "      <td>Food_Log_001</td>\n",
       "      <td>1</td>\n",
       "      <td>83.8</td>\n",
       "      <td>001</td>\n",
       "    </tr>\n",
       "    <tr>\n",
       "      <th>1</th>\n",
       "      <td>Food_Log_001</td>\n",
       "      <td>2</td>\n",
       "      <td>125.3</td>\n",
       "      <td>001</td>\n",
       "    </tr>\n",
       "    <tr>\n",
       "      <th>2</th>\n",
       "      <td>Food_Log_001</td>\n",
       "      <td>3</td>\n",
       "      <td>102.5</td>\n",
       "      <td>001</td>\n",
       "    </tr>\n",
       "    <tr>\n",
       "      <th>3</th>\n",
       "      <td>Food_Log_001</td>\n",
       "      <td>4</td>\n",
       "      <td>80.4</td>\n",
       "      <td>001</td>\n",
       "    </tr>\n",
       "    <tr>\n",
       "      <th>4</th>\n",
       "      <td>Food_Log_001</td>\n",
       "      <td>5</td>\n",
       "      <td>45.2</td>\n",
       "      <td>001</td>\n",
       "    </tr>\n",
       "  </tbody>\n",
       "</table>\n",
       "</div>"
      ],
      "text/plain": [
       "         Person  Day  sugar person_id\n",
       "0  Food_Log_001    1   83.8       001\n",
       "1  Food_Log_001    2  125.3       001\n",
       "2  Food_Log_001    3  102.5       001\n",
       "3  Food_Log_001    4   80.4       001\n",
       "4  Food_Log_001    5   45.2       001"
      ]
     },
     "execution_count": 10,
     "metadata": {},
     "output_type": "execute_result"
    }
   ],
   "source": [
    "dexcom_logs['person_id'] = dexcom_logs['Person'].str.split('_').str[1]\n",
    "dexcom_exp.head()\n",
    "protein_df['person_id'] = protein_df['Person'].str.split('_').str[-1]\n",
    "sugar_df['person_id'] = sugar_df['Person'].str.split('_').str[-1]\n",
    "protein_df.head()\n",
    "sugar_df.head()"
   ]
  },
  {
   "cell_type": "code",
   "execution_count": 11,
   "metadata": {},
   "outputs": [
    {
     "data": {
      "text/html": [
       "<div>\n",
       "<style scoped>\n",
       "    .dataframe tbody tr th:only-of-type {\n",
       "        vertical-align: middle;\n",
       "    }\n",
       "\n",
       "    .dataframe tbody tr th {\n",
       "        vertical-align: top;\n",
       "    }\n",
       "\n",
       "    .dataframe thead th {\n",
       "        text-align: right;\n",
       "    }\n",
       "</style>\n",
       "<table border=\"1\" class=\"dataframe\">\n",
       "  <thead>\n",
       "    <tr style=\"text-align: right;\">\n",
       "      <th></th>\n",
       "      <th>Person_x</th>\n",
       "      <th>Day</th>\n",
       "      <th>protein</th>\n",
       "      <th>person_id</th>\n",
       "      <th>Person_y</th>\n",
       "      <th>glucose value (mg/dl)</th>\n",
       "    </tr>\n",
       "  </thead>\n",
       "  <tbody>\n",
       "    <tr>\n",
       "      <th>0</th>\n",
       "      <td>Food_Log_001</td>\n",
       "      <td>1</td>\n",
       "      <td>79.4</td>\n",
       "      <td>001</td>\n",
       "      <td>Dexcom_001</td>\n",
       "      <td>101.450000</td>\n",
       "    </tr>\n",
       "    <tr>\n",
       "      <th>1</th>\n",
       "      <td>Food_Log_001</td>\n",
       "      <td>2</td>\n",
       "      <td>51.9</td>\n",
       "      <td>001</td>\n",
       "      <td>Dexcom_001</td>\n",
       "      <td>99.975694</td>\n",
       "    </tr>\n",
       "    <tr>\n",
       "      <th>2</th>\n",
       "      <td>Food_Log_001</td>\n",
       "      <td>3</td>\n",
       "      <td>76.1</td>\n",
       "      <td>001</td>\n",
       "      <td>Dexcom_001</td>\n",
       "      <td>93.522648</td>\n",
       "    </tr>\n",
       "    <tr>\n",
       "      <th>3</th>\n",
       "      <td>Food_Log_001</td>\n",
       "      <td>4</td>\n",
       "      <td>60.7</td>\n",
       "      <td>001</td>\n",
       "      <td>Dexcom_001</td>\n",
       "      <td>104.142361</td>\n",
       "    </tr>\n",
       "    <tr>\n",
       "      <th>4</th>\n",
       "      <td>Food_Log_001</td>\n",
       "      <td>5</td>\n",
       "      <td>25.4</td>\n",
       "      <td>001</td>\n",
       "      <td>Dexcom_001</td>\n",
       "      <td>101.822917</td>\n",
       "    </tr>\n",
       "  </tbody>\n",
       "</table>\n",
       "</div>"
      ],
      "text/plain": [
       "       Person_x  Day  protein person_id    Person_y  glucose value (mg/dl)\n",
       "0  Food_Log_001    1     79.4       001  Dexcom_001             101.450000\n",
       "1  Food_Log_001    2     51.9       001  Dexcom_001              99.975694\n",
       "2  Food_Log_001    3     76.1       001  Dexcom_001              93.522648\n",
       "3  Food_Log_001    4     60.7       001  Dexcom_001             104.142361\n",
       "4  Food_Log_001    5     25.4       001  Dexcom_001             101.822917"
      ]
     },
     "execution_count": 11,
     "metadata": {},
     "output_type": "execute_result"
    }
   ],
   "source": [
    "merged_protein_dexcom = pd.merge(protein_df, dexcom_logs, on=['person_id', 'Day'])\n",
    "merged_protein_dexcom.head()\n"
   ]
  },
  {
   "cell_type": "code",
   "execution_count": 12,
   "metadata": {},
   "outputs": [
    {
     "data": {
      "text/html": [
       "<div>\n",
       "<style scoped>\n",
       "    .dataframe tbody tr th:only-of-type {\n",
       "        vertical-align: middle;\n",
       "    }\n",
       "\n",
       "    .dataframe tbody tr th {\n",
       "        vertical-align: top;\n",
       "    }\n",
       "\n",
       "    .dataframe thead th {\n",
       "        text-align: right;\n",
       "    }\n",
       "</style>\n",
       "<table border=\"1\" class=\"dataframe\">\n",
       "  <thead>\n",
       "    <tr style=\"text-align: right;\">\n",
       "      <th></th>\n",
       "      <th>Person_x</th>\n",
       "      <th>Day</th>\n",
       "      <th>sugar</th>\n",
       "      <th>person_id</th>\n",
       "      <th>Person_y</th>\n",
       "      <th>glucose value (mg/dl)</th>\n",
       "    </tr>\n",
       "  </thead>\n",
       "  <tbody>\n",
       "    <tr>\n",
       "      <th>0</th>\n",
       "      <td>Food_Log_001</td>\n",
       "      <td>1</td>\n",
       "      <td>83.8</td>\n",
       "      <td>001</td>\n",
       "      <td>Dexcom_001</td>\n",
       "      <td>101.450000</td>\n",
       "    </tr>\n",
       "    <tr>\n",
       "      <th>1</th>\n",
       "      <td>Food_Log_001</td>\n",
       "      <td>2</td>\n",
       "      <td>125.3</td>\n",
       "      <td>001</td>\n",
       "      <td>Dexcom_001</td>\n",
       "      <td>99.975694</td>\n",
       "    </tr>\n",
       "    <tr>\n",
       "      <th>2</th>\n",
       "      <td>Food_Log_001</td>\n",
       "      <td>3</td>\n",
       "      <td>102.5</td>\n",
       "      <td>001</td>\n",
       "      <td>Dexcom_001</td>\n",
       "      <td>93.522648</td>\n",
       "    </tr>\n",
       "    <tr>\n",
       "      <th>3</th>\n",
       "      <td>Food_Log_001</td>\n",
       "      <td>4</td>\n",
       "      <td>80.4</td>\n",
       "      <td>001</td>\n",
       "      <td>Dexcom_001</td>\n",
       "      <td>104.142361</td>\n",
       "    </tr>\n",
       "    <tr>\n",
       "      <th>4</th>\n",
       "      <td>Food_Log_001</td>\n",
       "      <td>5</td>\n",
       "      <td>45.2</td>\n",
       "      <td>001</td>\n",
       "      <td>Dexcom_001</td>\n",
       "      <td>101.822917</td>\n",
       "    </tr>\n",
       "  </tbody>\n",
       "</table>\n",
       "</div>"
      ],
      "text/plain": [
       "       Person_x  Day  sugar person_id    Person_y  glucose value (mg/dl)\n",
       "0  Food_Log_001    1   83.8       001  Dexcom_001             101.450000\n",
       "1  Food_Log_001    2  125.3       001  Dexcom_001              99.975694\n",
       "2  Food_Log_001    3  102.5       001  Dexcom_001              93.522648\n",
       "3  Food_Log_001    4   80.4       001  Dexcom_001             104.142361\n",
       "4  Food_Log_001    5   45.2       001  Dexcom_001             101.822917"
      ]
     },
     "execution_count": 12,
     "metadata": {},
     "output_type": "execute_result"
    }
   ],
   "source": [
    "merged_sugar_dexcom = pd.merge(sugar_df, dexcom_logs, on=['person_id', 'Day'])\n",
    "merged_sugar_dexcom.head()"
   ]
  },
  {
   "cell_type": "code",
   "execution_count": 13,
   "metadata": {},
   "outputs": [
    {
     "data": {
      "application/vnd.plotly.v1+json": {
       "config": {
        "plotlyServerURL": "https://plot.ly"
       },
       "data": [
        {
         "hovertemplate": "Nutrient=protein<br>Glucose Values (mg/dl)=%{x}<br>Amount (grams)=%{y}<extra></extra>",
         "legendgroup": "protein",
         "marker": {
          "color": "#636efa",
          "symbol": "circle"
         },
         "mode": "markers",
         "name": "protein",
         "orientation": "v",
         "showlegend": true,
         "type": "scatter",
         "x": [
          101.45,
          99.97569444444444,
          93.5226480836237,
          104.14236111111111,
          101.82291666666667,
          111.56944444444444,
          104.0632911392405,
          110.61458333333333,
          110.47202797202797,
          118.22916666666667,
          100.57142857142857,
          114.49557522123894,
          120.30952380952381,
          104.79513888888889,
          111.38888888888889,
          104.1522491349481,
          98.43055555555556,
          104.70979020979021,
          119.32624113475177,
          121.55208333333333,
          122.21875,
          126.41666666666667,
          122.90625,
          106.48529411764706,
          91.59027777777777,
          97.48611111111111,
          96.35069444444444,
          92.76076555023923,
          86.51388888888889,
          103.325,
          93.13284132841328,
          104.26736111111111,
          112.78181818181818,
          116.60763888888889,
          117.32330827067669,
          119.57236842105263,
          94.15584415584415,
          115.2,
          110,
          107.89236111111111
         ],
         "xaxis": "x",
         "y": [
          79.4,
          51.9,
          76.10000000000001,
          60.7,
          25.4,
          82.8,
          104,
          135.8,
          67.9,
          115.3,
          91.8,
          85.7,
          73.89999999999999,
          61.5,
          35.3,
          65.9,
          35.8,
          73.3,
          100,
          86,
          110,
          139.1,
          58.8,
          72.3,
          67.4,
          72.6,
          82.9,
          54.8,
          45.6,
          40.4,
          57.6,
          106.7,
          84.2,
          74.1,
          57.5,
          121.5,
          56.9,
          53.2,
          72,
          114.9
         ],
         "yaxis": "y"
        },
        {
         "hovertemplate": "Nutrient=sugar<br>Glucose Values (mg/dl)=%{x}<br>Amount (grams)=%{y}<extra></extra>",
         "legendgroup": "sugar",
         "marker": {
          "color": "#EF553B",
          "symbol": "circle"
         },
         "mode": "markers",
         "name": "sugar",
         "orientation": "v",
         "showlegend": true,
         "type": "scatter",
         "x": [
          101.45,
          99.97569444444444,
          93.5226480836237,
          104.14236111111111,
          101.82291666666667,
          111.56944444444444,
          104.0632911392405,
          110.61458333333333,
          110.47202797202797,
          118.22916666666667,
          100.57142857142857,
          114.49557522123894,
          120.30952380952381,
          104.79513888888889,
          111.38888888888889,
          104.1522491349481,
          98.43055555555556,
          104.70979020979021,
          119.32624113475177,
          121.55208333333333,
          122.21875,
          126.41666666666667,
          122.90625,
          106.48529411764706,
          91.59027777777777,
          97.48611111111111,
          96.35069444444444,
          92.76076555023923,
          86.51388888888889,
          103.325,
          93.13284132841328,
          104.26736111111111,
          112.78181818181818,
          116.60763888888889,
          117.32330827067669,
          119.57236842105263,
          94.15584415584415,
          115.2,
          110,
          107.89236111111111
         ],
         "xaxis": "x",
         "y": [
          83.8,
          125.3,
          102.5,
          80.4,
          45.2,
          75.8,
          22.6,
          76.7,
          17.7,
          24.8,
          46.5,
          29.3,
          22.9,
          65.9,
          75.7,
          29.8,
          16,
          55.1,
          111.5,
          124.2,
          130.2,
          122.7,
          79.8,
          35.2,
          45.3,
          79.1,
          39.1,
          28.7,
          57.4,
          43.3,
          39.7,
          64.7,
          98.3,
          62.9,
          53.6,
          75.6,
          39.6,
          98.2,
          69.9,
          92.8
         ],
         "yaxis": "y"
        },
        {
         "line": {
          "color": "blue"
         },
         "mode": "lines",
         "name": "Protein Fit",
         "type": "scatter",
         "x": [
          101.45,
          99.97569444444444,
          93.5226480836237,
          104.14236111111111,
          101.82291666666667,
          111.56944444444444,
          104.0632911392405,
          110.61458333333333,
          110.47202797202797,
          118.22916666666667,
          100.57142857142857,
          114.49557522123894,
          120.30952380952381,
          104.79513888888889,
          111.38888888888889,
          104.1522491349481,
          98.43055555555556,
          104.70979020979021,
          119.32624113475177,
          121.55208333333333,
          122.21875,
          126.41666666666667,
          122.90625,
          106.48529411764706,
          91.59027777777777,
          97.48611111111111,
          96.35069444444444,
          92.76076555023923,
          86.51388888888889,
          103.325,
          93.13284132841328,
          104.26736111111111,
          112.78181818181818,
          116.60763888888889,
          117.32330827067669,
          119.57236842105263,
          94.15584415584415,
          115.2,
          110,
          107.89236111111111
         ],
         "y": [
          69.04054015062276,
          67.22184021677627,
          59.26137710564694,
          72.36183060918276,
          69.50056929074314,
          81.52386348364729,
          72.2642900742045,
          80.3459490187208,
          80.17009305372187,
          89.73928146084364,
          67.95673646216677,
          85.13353166276295,
          92.30560523533799,
          73.16709577065976,
          81.301130566643,
          72.37402845258802,
          65.31576044625888,
          73.06180983692252,
          91.09262999501448,
          93.83842379878777,
          94.66082226157283,
          99.83936258192236,
          95.50892067631989,
          75.25206736365797,
          56.87760955205823,
          64.1506959573134,
          62.750048575382635,
          58.321520569229705,
          50.61538792397636,
          71.35353582720568,
          58.78051239124454,
          72.51603032095494,
          83.01944493055294,
          87.7389685331321,
          88.62181663229902,
          91.39625204786941,
          60.042486320300384,
          86.00250844556413,
          79.58780043584085,
          76.98782196234856
         ]
        },
        {
         "line": {
          "color": "red"
         },
         "mode": "lines",
         "name": "Sugar Fit",
         "type": "scatter",
         "x": [
          101.45,
          99.97569444444444,
          93.5226480836237,
          104.14236111111111,
          101.82291666666667,
          111.56944444444444,
          104.0632911392405,
          110.61458333333333,
          110.47202797202797,
          118.22916666666667,
          100.57142857142857,
          114.49557522123894,
          120.30952380952381,
          104.79513888888889,
          111.38888888888889,
          104.1522491349481,
          98.43055555555556,
          104.70979020979021,
          119.32624113475177,
          121.55208333333333,
          122.21875,
          126.41666666666667,
          122.90625,
          106.48529411764706,
          91.59027777777777,
          97.48611111111111,
          96.35069444444444,
          92.76076555023923,
          86.51388888888889,
          103.325,
          93.13284132841328,
          104.26736111111111,
          112.78181818181818,
          116.60763888888889,
          117.32330827067669,
          119.57236842105263,
          94.15584415584415,
          115.2,
          110,
          107.89236111111111
         ],
         "y": [
          57.821222213420455,
          56.09319559277317,
          48.52961024660843,
          60.97692603266184,
          58.25831608779049,
          69.68217554176339,
          60.88424848982049,
          68.56298731595557,
          68.39589884618526,
          77.48800469485211,
          56.791452766381056,
          73.11187968873772,
          79.9263815359108,
          61.74204380157772,
          69.47054722270154,
          60.98851573898256,
          54.2821455546478,
          61.64200701546929,
          78.77388052875894,
          81.3827797206633,
          82.16417659104549,
          87.08453500923333,
          82.96999211362713,
          63.72306681089532,
          46.26468808249723,
          53.1751666549397,
          51.84435011007004,
          47.63661130583023,
          40.31467649656621,
          60.01890091137035,
          48.07271957874555,
          61.1234379458585,
          71.10319310793948,
          75.5874195986621,
          76.42625232139811,
          79.06236516560567,
          49.271776390365474,
          73.93753266505304,
          67.842637076072,
          65.37228342856164
         ]
        }
       ],
       "layout": {
        "legend": {
         "title": {
          "text": "Nutrient"
         },
         "tracegroupgap": 0
        },
        "template": {
         "data": {
          "bar": [
           {
            "error_x": {
             "color": "#2a3f5f"
            },
            "error_y": {
             "color": "#2a3f5f"
            },
            "marker": {
             "line": {
              "color": "#E5ECF6",
              "width": 0.5
             },
             "pattern": {
              "fillmode": "overlay",
              "size": 10,
              "solidity": 0.2
             }
            },
            "type": "bar"
           }
          ],
          "barpolar": [
           {
            "marker": {
             "line": {
              "color": "#E5ECF6",
              "width": 0.5
             },
             "pattern": {
              "fillmode": "overlay",
              "size": 10,
              "solidity": 0.2
             }
            },
            "type": "barpolar"
           }
          ],
          "carpet": [
           {
            "aaxis": {
             "endlinecolor": "#2a3f5f",
             "gridcolor": "white",
             "linecolor": "white",
             "minorgridcolor": "white",
             "startlinecolor": "#2a3f5f"
            },
            "baxis": {
             "endlinecolor": "#2a3f5f",
             "gridcolor": "white",
             "linecolor": "white",
             "minorgridcolor": "white",
             "startlinecolor": "#2a3f5f"
            },
            "type": "carpet"
           }
          ],
          "choropleth": [
           {
            "colorbar": {
             "outlinewidth": 0,
             "ticks": ""
            },
            "type": "choropleth"
           }
          ],
          "contour": [
           {
            "colorbar": {
             "outlinewidth": 0,
             "ticks": ""
            },
            "colorscale": [
             [
              0,
              "#0d0887"
             ],
             [
              0.1111111111111111,
              "#46039f"
             ],
             [
              0.2222222222222222,
              "#7201a8"
             ],
             [
              0.3333333333333333,
              "#9c179e"
             ],
             [
              0.4444444444444444,
              "#bd3786"
             ],
             [
              0.5555555555555556,
              "#d8576b"
             ],
             [
              0.6666666666666666,
              "#ed7953"
             ],
             [
              0.7777777777777778,
              "#fb9f3a"
             ],
             [
              0.8888888888888888,
              "#fdca26"
             ],
             [
              1,
              "#f0f921"
             ]
            ],
            "type": "contour"
           }
          ],
          "contourcarpet": [
           {
            "colorbar": {
             "outlinewidth": 0,
             "ticks": ""
            },
            "type": "contourcarpet"
           }
          ],
          "heatmap": [
           {
            "colorbar": {
             "outlinewidth": 0,
             "ticks": ""
            },
            "colorscale": [
             [
              0,
              "#0d0887"
             ],
             [
              0.1111111111111111,
              "#46039f"
             ],
             [
              0.2222222222222222,
              "#7201a8"
             ],
             [
              0.3333333333333333,
              "#9c179e"
             ],
             [
              0.4444444444444444,
              "#bd3786"
             ],
             [
              0.5555555555555556,
              "#d8576b"
             ],
             [
              0.6666666666666666,
              "#ed7953"
             ],
             [
              0.7777777777777778,
              "#fb9f3a"
             ],
             [
              0.8888888888888888,
              "#fdca26"
             ],
             [
              1,
              "#f0f921"
             ]
            ],
            "type": "heatmap"
           }
          ],
          "heatmapgl": [
           {
            "colorbar": {
             "outlinewidth": 0,
             "ticks": ""
            },
            "colorscale": [
             [
              0,
              "#0d0887"
             ],
             [
              0.1111111111111111,
              "#46039f"
             ],
             [
              0.2222222222222222,
              "#7201a8"
             ],
             [
              0.3333333333333333,
              "#9c179e"
             ],
             [
              0.4444444444444444,
              "#bd3786"
             ],
             [
              0.5555555555555556,
              "#d8576b"
             ],
             [
              0.6666666666666666,
              "#ed7953"
             ],
             [
              0.7777777777777778,
              "#fb9f3a"
             ],
             [
              0.8888888888888888,
              "#fdca26"
             ],
             [
              1,
              "#f0f921"
             ]
            ],
            "type": "heatmapgl"
           }
          ],
          "histogram": [
           {
            "marker": {
             "pattern": {
              "fillmode": "overlay",
              "size": 10,
              "solidity": 0.2
             }
            },
            "type": "histogram"
           }
          ],
          "histogram2d": [
           {
            "colorbar": {
             "outlinewidth": 0,
             "ticks": ""
            },
            "colorscale": [
             [
              0,
              "#0d0887"
             ],
             [
              0.1111111111111111,
              "#46039f"
             ],
             [
              0.2222222222222222,
              "#7201a8"
             ],
             [
              0.3333333333333333,
              "#9c179e"
             ],
             [
              0.4444444444444444,
              "#bd3786"
             ],
             [
              0.5555555555555556,
              "#d8576b"
             ],
             [
              0.6666666666666666,
              "#ed7953"
             ],
             [
              0.7777777777777778,
              "#fb9f3a"
             ],
             [
              0.8888888888888888,
              "#fdca26"
             ],
             [
              1,
              "#f0f921"
             ]
            ],
            "type": "histogram2d"
           }
          ],
          "histogram2dcontour": [
           {
            "colorbar": {
             "outlinewidth": 0,
             "ticks": ""
            },
            "colorscale": [
             [
              0,
              "#0d0887"
             ],
             [
              0.1111111111111111,
              "#46039f"
             ],
             [
              0.2222222222222222,
              "#7201a8"
             ],
             [
              0.3333333333333333,
              "#9c179e"
             ],
             [
              0.4444444444444444,
              "#bd3786"
             ],
             [
              0.5555555555555556,
              "#d8576b"
             ],
             [
              0.6666666666666666,
              "#ed7953"
             ],
             [
              0.7777777777777778,
              "#fb9f3a"
             ],
             [
              0.8888888888888888,
              "#fdca26"
             ],
             [
              1,
              "#f0f921"
             ]
            ],
            "type": "histogram2dcontour"
           }
          ],
          "mesh3d": [
           {
            "colorbar": {
             "outlinewidth": 0,
             "ticks": ""
            },
            "type": "mesh3d"
           }
          ],
          "parcoords": [
           {
            "line": {
             "colorbar": {
              "outlinewidth": 0,
              "ticks": ""
             }
            },
            "type": "parcoords"
           }
          ],
          "pie": [
           {
            "automargin": true,
            "type": "pie"
           }
          ],
          "scatter": [
           {
            "fillpattern": {
             "fillmode": "overlay",
             "size": 10,
             "solidity": 0.2
            },
            "type": "scatter"
           }
          ],
          "scatter3d": [
           {
            "line": {
             "colorbar": {
              "outlinewidth": 0,
              "ticks": ""
             }
            },
            "marker": {
             "colorbar": {
              "outlinewidth": 0,
              "ticks": ""
             }
            },
            "type": "scatter3d"
           }
          ],
          "scattercarpet": [
           {
            "marker": {
             "colorbar": {
              "outlinewidth": 0,
              "ticks": ""
             }
            },
            "type": "scattercarpet"
           }
          ],
          "scattergeo": [
           {
            "marker": {
             "colorbar": {
              "outlinewidth": 0,
              "ticks": ""
             }
            },
            "type": "scattergeo"
           }
          ],
          "scattergl": [
           {
            "marker": {
             "colorbar": {
              "outlinewidth": 0,
              "ticks": ""
             }
            },
            "type": "scattergl"
           }
          ],
          "scattermapbox": [
           {
            "marker": {
             "colorbar": {
              "outlinewidth": 0,
              "ticks": ""
             }
            },
            "type": "scattermapbox"
           }
          ],
          "scatterpolar": [
           {
            "marker": {
             "colorbar": {
              "outlinewidth": 0,
              "ticks": ""
             }
            },
            "type": "scatterpolar"
           }
          ],
          "scatterpolargl": [
           {
            "marker": {
             "colorbar": {
              "outlinewidth": 0,
              "ticks": ""
             }
            },
            "type": "scatterpolargl"
           }
          ],
          "scatterternary": [
           {
            "marker": {
             "colorbar": {
              "outlinewidth": 0,
              "ticks": ""
             }
            },
            "type": "scatterternary"
           }
          ],
          "surface": [
           {
            "colorbar": {
             "outlinewidth": 0,
             "ticks": ""
            },
            "colorscale": [
             [
              0,
              "#0d0887"
             ],
             [
              0.1111111111111111,
              "#46039f"
             ],
             [
              0.2222222222222222,
              "#7201a8"
             ],
             [
              0.3333333333333333,
              "#9c179e"
             ],
             [
              0.4444444444444444,
              "#bd3786"
             ],
             [
              0.5555555555555556,
              "#d8576b"
             ],
             [
              0.6666666666666666,
              "#ed7953"
             ],
             [
              0.7777777777777778,
              "#fb9f3a"
             ],
             [
              0.8888888888888888,
              "#fdca26"
             ],
             [
              1,
              "#f0f921"
             ]
            ],
            "type": "surface"
           }
          ],
          "table": [
           {
            "cells": {
             "fill": {
              "color": "#EBF0F8"
             },
             "line": {
              "color": "white"
             }
            },
            "header": {
             "fill": {
              "color": "#C8D4E3"
             },
             "line": {
              "color": "white"
             }
            },
            "type": "table"
           }
          ]
         },
         "layout": {
          "annotationdefaults": {
           "arrowcolor": "#2a3f5f",
           "arrowhead": 0,
           "arrowwidth": 1
          },
          "autotypenumbers": "strict",
          "coloraxis": {
           "colorbar": {
            "outlinewidth": 0,
            "ticks": ""
           }
          },
          "colorscale": {
           "diverging": [
            [
             0,
             "#8e0152"
            ],
            [
             0.1,
             "#c51b7d"
            ],
            [
             0.2,
             "#de77ae"
            ],
            [
             0.3,
             "#f1b6da"
            ],
            [
             0.4,
             "#fde0ef"
            ],
            [
             0.5,
             "#f7f7f7"
            ],
            [
             0.6,
             "#e6f5d0"
            ],
            [
             0.7,
             "#b8e186"
            ],
            [
             0.8,
             "#7fbc41"
            ],
            [
             0.9,
             "#4d9221"
            ],
            [
             1,
             "#276419"
            ]
           ],
           "sequential": [
            [
             0,
             "#0d0887"
            ],
            [
             0.1111111111111111,
             "#46039f"
            ],
            [
             0.2222222222222222,
             "#7201a8"
            ],
            [
             0.3333333333333333,
             "#9c179e"
            ],
            [
             0.4444444444444444,
             "#bd3786"
            ],
            [
             0.5555555555555556,
             "#d8576b"
            ],
            [
             0.6666666666666666,
             "#ed7953"
            ],
            [
             0.7777777777777778,
             "#fb9f3a"
            ],
            [
             0.8888888888888888,
             "#fdca26"
            ],
            [
             1,
             "#f0f921"
            ]
           ],
           "sequentialminus": [
            [
             0,
             "#0d0887"
            ],
            [
             0.1111111111111111,
             "#46039f"
            ],
            [
             0.2222222222222222,
             "#7201a8"
            ],
            [
             0.3333333333333333,
             "#9c179e"
            ],
            [
             0.4444444444444444,
             "#bd3786"
            ],
            [
             0.5555555555555556,
             "#d8576b"
            ],
            [
             0.6666666666666666,
             "#ed7953"
            ],
            [
             0.7777777777777778,
             "#fb9f3a"
            ],
            [
             0.8888888888888888,
             "#fdca26"
            ],
            [
             1,
             "#f0f921"
            ]
           ]
          },
          "colorway": [
           "#636efa",
           "#EF553B",
           "#00cc96",
           "#ab63fa",
           "#FFA15A",
           "#19d3f3",
           "#FF6692",
           "#B6E880",
           "#FF97FF",
           "#FECB52"
          ],
          "font": {
           "color": "#2a3f5f"
          },
          "geo": {
           "bgcolor": "white",
           "lakecolor": "white",
           "landcolor": "#E5ECF6",
           "showlakes": true,
           "showland": true,
           "subunitcolor": "white"
          },
          "hoverlabel": {
           "align": "left"
          },
          "hovermode": "closest",
          "mapbox": {
           "style": "light"
          },
          "paper_bgcolor": "white",
          "plot_bgcolor": "#E5ECF6",
          "polar": {
           "angularaxis": {
            "gridcolor": "white",
            "linecolor": "white",
            "ticks": ""
           },
           "bgcolor": "#E5ECF6",
           "radialaxis": {
            "gridcolor": "white",
            "linecolor": "white",
            "ticks": ""
           }
          },
          "scene": {
           "xaxis": {
            "backgroundcolor": "#E5ECF6",
            "gridcolor": "white",
            "gridwidth": 2,
            "linecolor": "white",
            "showbackground": true,
            "ticks": "",
            "zerolinecolor": "white"
           },
           "yaxis": {
            "backgroundcolor": "#E5ECF6",
            "gridcolor": "white",
            "gridwidth": 2,
            "linecolor": "white",
            "showbackground": true,
            "ticks": "",
            "zerolinecolor": "white"
           },
           "zaxis": {
            "backgroundcolor": "#E5ECF6",
            "gridcolor": "white",
            "gridwidth": 2,
            "linecolor": "white",
            "showbackground": true,
            "ticks": "",
            "zerolinecolor": "white"
           }
          },
          "shapedefaults": {
           "line": {
            "color": "#2a3f5f"
           }
          },
          "ternary": {
           "aaxis": {
            "gridcolor": "white",
            "linecolor": "white",
            "ticks": ""
           },
           "baxis": {
            "gridcolor": "white",
            "linecolor": "white",
            "ticks": ""
           },
           "bgcolor": "#E5ECF6",
           "caxis": {
            "gridcolor": "white",
            "linecolor": "white",
            "ticks": ""
           }
          },
          "title": {
           "x": 0.05
          },
          "xaxis": {
           "automargin": true,
           "gridcolor": "white",
           "linecolor": "white",
           "ticks": "",
           "title": {
            "standoff": 15
           },
           "zerolinecolor": "white",
           "zerolinewidth": 2
          },
          "yaxis": {
           "automargin": true,
           "gridcolor": "white",
           "linecolor": "white",
           "ticks": "",
           "title": {
            "standoff": 15
           },
           "zerolinecolor": "white",
           "zerolinewidth": 2
          }
         }
        },
        "title": {
         "text": "Keep things in balance and everything will be good!"
        },
        "xaxis": {
         "anchor": "y",
         "domain": [
          0,
          1
         ],
         "showgrid": false,
         "title": {
          "text": "Glucose Values (mg/dl)"
         }
        },
        "yaxis": {
         "anchor": "x",
         "domain": [
          0,
          1
         ],
         "showgrid": false,
         "title": {
          "text": "Amount (grams)"
         }
        }
       }
      }
     },
     "metadata": {},
     "output_type": "display_data"
    }
   ],
   "source": [
    "import pandas as pd\n",
    "import plotly.express as px\n",
    "import plotly.graph_objects as go\n",
    "import numpy as np\n",
    "\n",
    "# Assuming merged_protein_dexcom and merged_sugar_dexcom are already defined\n",
    "# and have columns 'glucose', 'protein', and 'sugar'\n",
    "\n",
    "# Merge the two DataFrames on 'person_id' and 'Day'\n",
    "merged_df = pd.merge(merged_protein_dexcom, merged_sugar_dexcom, on=['person_id', 'Day'], suffixes=('_protein', '_sugar'))\n",
    "merged_df = merged_df[merged_df['glucose value (mg/dl)_protein'] > 80]\n",
    "merged_df = merged_df[merged_df['protein'] < 140]\n",
    "merged_df = merged_df[merged_df['sugar'] < 140]  # Filter out low glucose values\n",
    "\n",
    "# Fit linear models\n",
    "protein_fit = np.polyfit(merged_df['glucose value (mg/dl)_protein'], merged_df['protein'], 1)\n",
    "sugar_fit = np.polyfit(merged_df['glucose value (mg/dl)_protein'], merged_df['sugar'], 1)\n",
    "\n",
    "# Create linear prediction lines\n",
    "protein_line = np.polyval(protein_fit, merged_df['glucose value (mg/dl)_protein'])\n",
    "sugar_line = np.polyval(sugar_fit, merged_df['glucose value (mg/dl)_protein'])\n",
    "\n",
    "# Create the scatter plot\n",
    "fig = px.scatter(merged_df, x='glucose value (mg/dl)_protein', y=['protein', 'sugar'], labels={\n",
    "    'glucose value (mg/dl)_protein': 'Glucose Values (mg/dl)',\n",
    "    'value': 'Amount (grams)',\n",
    "    'variable': 'Nutrient'\n",
    "}, title='Keep things in balance and everything will be good!')\n",
    "\n",
    "# Add linear fit lines with specified colors\n",
    "fig.add_trace(go.Scatter(x=merged_df['glucose value (mg/dl)_protein'], y=protein_line, mode='lines', name='Protein Fit', line=dict(color='blue')))\n",
    "fig.add_trace(go.Scatter(x=merged_df['glucose value (mg/dl)_protein'], y=sugar_line, mode='lines', name='Sugar Fit', line=dict(color='red')))\n",
    "\n",
    "# Update layout to turn off grid and adjust width\n",
    "fig.update_layout(\n",
    "    xaxis=dict(showgrid=False),\n",
    "    yaxis=dict(showgrid=False),\n",
    ")\n",
    "\n",
    "# Show the plot\n",
    "fig.show()"
   ]
  },
  {
   "cell_type": "code",
   "execution_count": 14,
   "metadata": {},
   "outputs": [
    {
     "data": {
      "application/vnd.plotly.v1+json": {
       "config": {
        "plotlyServerURL": "https://plot.ly"
       },
       "data": [
        {
         "hovertemplate": "Nutrient=protein<br>Glucose Values (mg/dl)=%{x}<br>Amount (grams)=%{y}<extra></extra>",
         "legendgroup": "protein",
         "marker": {
          "color": "#636efa",
          "symbol": "circle"
         },
         "mode": "markers",
         "name": "protein",
         "orientation": "v",
         "showlegend": true,
         "type": "scatter",
         "x": [
          101.45,
          99.97569444444444,
          93.5226480836237,
          104.14236111111111,
          101.82291666666667,
          111.56944444444444,
          104.0632911392405,
          110.61458333333333,
          110.47202797202797,
          118.22916666666667,
          100.57142857142857,
          114.49557522123894,
          120.30952380952381,
          104.79513888888889,
          111.38888888888889,
          104.1522491349481,
          98.43055555555556,
          104.70979020979021,
          119.32624113475177,
          121.55208333333333,
          122.21875,
          119.30208333333333,
          126.41666666666667,
          122.90625,
          106.48529411764706,
          91.59027777777777,
          97.48611111111111,
          96.35069444444444,
          92.76076555023923,
          86.51388888888889,
          103.325,
          93.13284132841328,
          104.26736111111111,
          112.78181818181818,
          116.60763888888889,
          117.32330827067669,
          119.57236842105263,
          108.83333333333333,
          94.15584415584415,
          115.2,
          111.56862745098039,
          110,
          107.89236111111111
         ],
         "xaxis": "x",
         "y": [
          79.4,
          51.9,
          76.10000000000001,
          60.7,
          25.4,
          82.8,
          104,
          135.8,
          67.9,
          115.3,
          91.8,
          85.7,
          73.89999999999999,
          61.5,
          35.3,
          65.9,
          35.8,
          73.3,
          100,
          86,
          110,
          79.1,
          139.1,
          58.8,
          72.3,
          67.4,
          72.6,
          82.9,
          54.8,
          45.6,
          40.4,
          57.6,
          106.7,
          84.2,
          74.1,
          57.5,
          121.5,
          150.4,
          56.9,
          53.2,
          117.89999999999999,
          72,
          114.9
         ],
         "yaxis": "y"
        },
        {
         "hovertemplate": "Nutrient=sugar<br>Glucose Values (mg/dl)=%{x}<br>Amount (grams)=%{y}<extra></extra>",
         "legendgroup": "sugar",
         "marker": {
          "color": "#EF553B",
          "symbol": "circle"
         },
         "mode": "markers",
         "name": "sugar",
         "orientation": "v",
         "showlegend": true,
         "type": "scatter",
         "x": [
          101.45,
          99.97569444444444,
          93.5226480836237,
          104.14236111111111,
          101.82291666666667,
          111.56944444444444,
          104.0632911392405,
          110.61458333333333,
          110.47202797202797,
          118.22916666666667,
          100.57142857142857,
          114.49557522123894,
          120.30952380952381,
          104.79513888888889,
          111.38888888888889,
          104.1522491349481,
          98.43055555555556,
          104.70979020979021,
          119.32624113475177,
          121.55208333333333,
          122.21875,
          119.30208333333333,
          126.41666666666667,
          122.90625,
          106.48529411764706,
          91.59027777777777,
          97.48611111111111,
          96.35069444444444,
          92.76076555023923,
          86.51388888888889,
          103.325,
          93.13284132841328,
          104.26736111111111,
          112.78181818181818,
          116.60763888888889,
          117.32330827067669,
          119.57236842105263,
          108.83333333333333,
          94.15584415584415,
          115.2,
          111.56862745098039,
          110,
          107.89236111111111
         ],
         "xaxis": "x",
         "y": [
          83.8,
          125.3,
          102.5,
          80.4,
          45.2,
          75.8,
          22.6,
          76.7,
          17.7,
          24.8,
          46.5,
          29.3,
          22.9,
          65.9,
          75.7,
          29.8,
          16,
          55.1,
          111.5,
          124.2,
          130.2,
          158.6,
          122.7,
          79.8,
          35.2,
          45.3,
          79.1,
          39.1,
          28.7,
          57.4,
          43.3,
          39.7,
          64.7,
          98.3,
          62.9,
          53.6,
          75.6,
          80.5,
          39.6,
          98.2,
          156.5,
          69.9,
          92.8
         ],
         "yaxis": "y"
        },
        {
         "line": {
          "color": "red"
         },
         "mode": "lines",
         "name": "Protein Fit",
         "type": "scatter",
         "x": [
          101.45,
          99.97569444444444,
          93.5226480836237,
          104.14236111111111,
          101.82291666666667,
          111.56944444444444,
          104.0632911392405,
          110.61458333333333,
          110.47202797202797,
          118.22916666666667,
          100.57142857142857,
          114.49557522123894,
          120.30952380952381,
          104.79513888888889,
          111.38888888888889,
          104.1522491349481,
          98.43055555555556,
          104.70979020979021,
          119.32624113475177,
          121.55208333333333,
          122.21875,
          119.30208333333333,
          126.41666666666667,
          122.90625,
          106.48529411764706,
          91.59027777777777,
          97.48611111111111,
          96.35069444444444,
          92.76076555023923,
          86.51388888888889,
          103.325,
          93.13284132841328,
          104.26736111111111,
          112.78181818181818,
          116.60763888888889,
          117.32330827067669,
          119.57236842105263,
          108.83333333333333,
          94.15584415584415,
          115.2,
          111.56862745098039,
          110,
          107.89236111111111
         ],
         "y": [
          71.16584341433499,
          69.31831837777294,
          61.23168757808142,
          74.53977396862184,
          71.63316368971597,
          83.84701855931003,
          74.44068748541575,
          82.65043498640715,
          82.47179182921674,
          92.19264507868353,
          70.06486220689312,
          87.5138974162817,
          94.79964326297166,
          75.35780201118818,
          83.62075548370656,
          74.55216513918491,
          67.38202859616648,
          75.25084737015185,
          93.56744322627405,
          96.35675591238551,
          97.19218880692135,
          93.53716989332712,
          102.45280531470162,
          98.05372897941142,
          77.47581892365262,
          58.81013900118951,
          66.19849866224072,
          64.7756520137344,
          60.27693498283891,
          52.44866560633861,
          73.515498430217,
          60.74320149935883,
          74.69641763634733,
          85.36630391032007,
          90.1606286112448,
          91.05746922598128,
          93.87587747310191,
          80.41826272131924,
          62.025176819217194,
          88.39664686413637,
          83.84599474448827,
          81.88027028675693,
          79.23908400038586
         ]
        },
        {
         "line": {
          "color": "blue"
         },
         "mode": "lines",
         "name": "Sugar Fit",
         "type": "scatter",
         "x": [
          101.45,
          99.97569444444444,
          93.5226480836237,
          104.14236111111111,
          101.82291666666667,
          111.56944444444444,
          104.0632911392405,
          110.61458333333333,
          110.47202797202797,
          118.22916666666667,
          100.57142857142857,
          114.49557522123894,
          120.30952380952381,
          104.79513888888889,
          111.38888888888889,
          104.1522491349481,
          98.43055555555556,
          104.70979020979021,
          119.32624113475177,
          121.55208333333333,
          122.21875,
          119.30208333333333,
          126.41666666666667,
          122.90625,
          106.48529411764706,
          91.59027777777777,
          97.48611111111111,
          96.35069444444444,
          92.76076555023923,
          86.51388888888889,
          103.325,
          93.13284132841328,
          104.26736111111111,
          112.78181818181818,
          116.60763888888889,
          117.32330827067669,
          119.57236842105263,
          108.83333333333333,
          94.15584415584415,
          115.2,
          111.56862745098039,
          110,
          107.89236111111111
         ],
         "y": [
          60.09790473272706,
          57.91764500054053,
          48.374631968124234,
          64.07947184609834,
          60.64938823540449,
          75.06292819830516,
          63.96254013201438,
          73.65084287953148,
          73.4400265309868,
          84.91158143978843,
          58.79863952929229,
          79.39020288008082,
          87.98809355767766,
          65.04482471856907,
          74.79591570166433,
          64.09409463587313,
          55.63263421197949,
          64.91860781086432,
          86.53397733795391,
          89.82563834912078,
          90.81153064441004,
          86.49825185251954,
          97.01957119130954,
          91.82823207392708,
          67.54429124538235,
          45.516968473855385,
          54.23595346031972,
          52.55685564490521,
          47.247930788755426,
          38.009809433684126,
          62.8707268132281,
          47.79817075320376,
          64.26432665146508,
          76.85583308833687,
          82.5136038257255,
          83.57196321994401,
          86.89795983079061,
          71.01666190305552,
          49.31102666163859,
          80.4319333230679,
          75.06171999696288,
          72.74197341981171,
          69.6251160071004
         ]
        }
       ],
       "layout": {
        "legend": {
         "title": {
          "text": "Nutrient"
         },
         "tracegroupgap": 0
        },
        "template": {
         "data": {
          "bar": [
           {
            "error_x": {
             "color": "#2a3f5f"
            },
            "error_y": {
             "color": "#2a3f5f"
            },
            "marker": {
             "line": {
              "color": "#E5ECF6",
              "width": 0.5
             },
             "pattern": {
              "fillmode": "overlay",
              "size": 10,
              "solidity": 0.2
             }
            },
            "type": "bar"
           }
          ],
          "barpolar": [
           {
            "marker": {
             "line": {
              "color": "#E5ECF6",
              "width": 0.5
             },
             "pattern": {
              "fillmode": "overlay",
              "size": 10,
              "solidity": 0.2
             }
            },
            "type": "barpolar"
           }
          ],
          "carpet": [
           {
            "aaxis": {
             "endlinecolor": "#2a3f5f",
             "gridcolor": "white",
             "linecolor": "white",
             "minorgridcolor": "white",
             "startlinecolor": "#2a3f5f"
            },
            "baxis": {
             "endlinecolor": "#2a3f5f",
             "gridcolor": "white",
             "linecolor": "white",
             "minorgridcolor": "white",
             "startlinecolor": "#2a3f5f"
            },
            "type": "carpet"
           }
          ],
          "choropleth": [
           {
            "colorbar": {
             "outlinewidth": 0,
             "ticks": ""
            },
            "type": "choropleth"
           }
          ],
          "contour": [
           {
            "colorbar": {
             "outlinewidth": 0,
             "ticks": ""
            },
            "colorscale": [
             [
              0,
              "#0d0887"
             ],
             [
              0.1111111111111111,
              "#46039f"
             ],
             [
              0.2222222222222222,
              "#7201a8"
             ],
             [
              0.3333333333333333,
              "#9c179e"
             ],
             [
              0.4444444444444444,
              "#bd3786"
             ],
             [
              0.5555555555555556,
              "#d8576b"
             ],
             [
              0.6666666666666666,
              "#ed7953"
             ],
             [
              0.7777777777777778,
              "#fb9f3a"
             ],
             [
              0.8888888888888888,
              "#fdca26"
             ],
             [
              1,
              "#f0f921"
             ]
            ],
            "type": "contour"
           }
          ],
          "contourcarpet": [
           {
            "colorbar": {
             "outlinewidth": 0,
             "ticks": ""
            },
            "type": "contourcarpet"
           }
          ],
          "heatmap": [
           {
            "colorbar": {
             "outlinewidth": 0,
             "ticks": ""
            },
            "colorscale": [
             [
              0,
              "#0d0887"
             ],
             [
              0.1111111111111111,
              "#46039f"
             ],
             [
              0.2222222222222222,
              "#7201a8"
             ],
             [
              0.3333333333333333,
              "#9c179e"
             ],
             [
              0.4444444444444444,
              "#bd3786"
             ],
             [
              0.5555555555555556,
              "#d8576b"
             ],
             [
              0.6666666666666666,
              "#ed7953"
             ],
             [
              0.7777777777777778,
              "#fb9f3a"
             ],
             [
              0.8888888888888888,
              "#fdca26"
             ],
             [
              1,
              "#f0f921"
             ]
            ],
            "type": "heatmap"
           }
          ],
          "heatmapgl": [
           {
            "colorbar": {
             "outlinewidth": 0,
             "ticks": ""
            },
            "colorscale": [
             [
              0,
              "#0d0887"
             ],
             [
              0.1111111111111111,
              "#46039f"
             ],
             [
              0.2222222222222222,
              "#7201a8"
             ],
             [
              0.3333333333333333,
              "#9c179e"
             ],
             [
              0.4444444444444444,
              "#bd3786"
             ],
             [
              0.5555555555555556,
              "#d8576b"
             ],
             [
              0.6666666666666666,
              "#ed7953"
             ],
             [
              0.7777777777777778,
              "#fb9f3a"
             ],
             [
              0.8888888888888888,
              "#fdca26"
             ],
             [
              1,
              "#f0f921"
             ]
            ],
            "type": "heatmapgl"
           }
          ],
          "histogram": [
           {
            "marker": {
             "pattern": {
              "fillmode": "overlay",
              "size": 10,
              "solidity": 0.2
             }
            },
            "type": "histogram"
           }
          ],
          "histogram2d": [
           {
            "colorbar": {
             "outlinewidth": 0,
             "ticks": ""
            },
            "colorscale": [
             [
              0,
              "#0d0887"
             ],
             [
              0.1111111111111111,
              "#46039f"
             ],
             [
              0.2222222222222222,
              "#7201a8"
             ],
             [
              0.3333333333333333,
              "#9c179e"
             ],
             [
              0.4444444444444444,
              "#bd3786"
             ],
             [
              0.5555555555555556,
              "#d8576b"
             ],
             [
              0.6666666666666666,
              "#ed7953"
             ],
             [
              0.7777777777777778,
              "#fb9f3a"
             ],
             [
              0.8888888888888888,
              "#fdca26"
             ],
             [
              1,
              "#f0f921"
             ]
            ],
            "type": "histogram2d"
           }
          ],
          "histogram2dcontour": [
           {
            "colorbar": {
             "outlinewidth": 0,
             "ticks": ""
            },
            "colorscale": [
             [
              0,
              "#0d0887"
             ],
             [
              0.1111111111111111,
              "#46039f"
             ],
             [
              0.2222222222222222,
              "#7201a8"
             ],
             [
              0.3333333333333333,
              "#9c179e"
             ],
             [
              0.4444444444444444,
              "#bd3786"
             ],
             [
              0.5555555555555556,
              "#d8576b"
             ],
             [
              0.6666666666666666,
              "#ed7953"
             ],
             [
              0.7777777777777778,
              "#fb9f3a"
             ],
             [
              0.8888888888888888,
              "#fdca26"
             ],
             [
              1,
              "#f0f921"
             ]
            ],
            "type": "histogram2dcontour"
           }
          ],
          "mesh3d": [
           {
            "colorbar": {
             "outlinewidth": 0,
             "ticks": ""
            },
            "type": "mesh3d"
           }
          ],
          "parcoords": [
           {
            "line": {
             "colorbar": {
              "outlinewidth": 0,
              "ticks": ""
             }
            },
            "type": "parcoords"
           }
          ],
          "pie": [
           {
            "automargin": true,
            "type": "pie"
           }
          ],
          "scatter": [
           {
            "fillpattern": {
             "fillmode": "overlay",
             "size": 10,
             "solidity": 0.2
            },
            "type": "scatter"
           }
          ],
          "scatter3d": [
           {
            "line": {
             "colorbar": {
              "outlinewidth": 0,
              "ticks": ""
             }
            },
            "marker": {
             "colorbar": {
              "outlinewidth": 0,
              "ticks": ""
             }
            },
            "type": "scatter3d"
           }
          ],
          "scattercarpet": [
           {
            "marker": {
             "colorbar": {
              "outlinewidth": 0,
              "ticks": ""
             }
            },
            "type": "scattercarpet"
           }
          ],
          "scattergeo": [
           {
            "marker": {
             "colorbar": {
              "outlinewidth": 0,
              "ticks": ""
             }
            },
            "type": "scattergeo"
           }
          ],
          "scattergl": [
           {
            "marker": {
             "colorbar": {
              "outlinewidth": 0,
              "ticks": ""
             }
            },
            "type": "scattergl"
           }
          ],
          "scattermapbox": [
           {
            "marker": {
             "colorbar": {
              "outlinewidth": 0,
              "ticks": ""
             }
            },
            "type": "scattermapbox"
           }
          ],
          "scatterpolar": [
           {
            "marker": {
             "colorbar": {
              "outlinewidth": 0,
              "ticks": ""
             }
            },
            "type": "scatterpolar"
           }
          ],
          "scatterpolargl": [
           {
            "marker": {
             "colorbar": {
              "outlinewidth": 0,
              "ticks": ""
             }
            },
            "type": "scatterpolargl"
           }
          ],
          "scatterternary": [
           {
            "marker": {
             "colorbar": {
              "outlinewidth": 0,
              "ticks": ""
             }
            },
            "type": "scatterternary"
           }
          ],
          "surface": [
           {
            "colorbar": {
             "outlinewidth": 0,
             "ticks": ""
            },
            "colorscale": [
             [
              0,
              "#0d0887"
             ],
             [
              0.1111111111111111,
              "#46039f"
             ],
             [
              0.2222222222222222,
              "#7201a8"
             ],
             [
              0.3333333333333333,
              "#9c179e"
             ],
             [
              0.4444444444444444,
              "#bd3786"
             ],
             [
              0.5555555555555556,
              "#d8576b"
             ],
             [
              0.6666666666666666,
              "#ed7953"
             ],
             [
              0.7777777777777778,
              "#fb9f3a"
             ],
             [
              0.8888888888888888,
              "#fdca26"
             ],
             [
              1,
              "#f0f921"
             ]
            ],
            "type": "surface"
           }
          ],
          "table": [
           {
            "cells": {
             "fill": {
              "color": "#EBF0F8"
             },
             "line": {
              "color": "white"
             }
            },
            "header": {
             "fill": {
              "color": "#C8D4E3"
             },
             "line": {
              "color": "white"
             }
            },
            "type": "table"
           }
          ]
         },
         "layout": {
          "annotationdefaults": {
           "arrowcolor": "#2a3f5f",
           "arrowhead": 0,
           "arrowwidth": 1
          },
          "autotypenumbers": "strict",
          "coloraxis": {
           "colorbar": {
            "outlinewidth": 0,
            "ticks": ""
           }
          },
          "colorscale": {
           "diverging": [
            [
             0,
             "#8e0152"
            ],
            [
             0.1,
             "#c51b7d"
            ],
            [
             0.2,
             "#de77ae"
            ],
            [
             0.3,
             "#f1b6da"
            ],
            [
             0.4,
             "#fde0ef"
            ],
            [
             0.5,
             "#f7f7f7"
            ],
            [
             0.6,
             "#e6f5d0"
            ],
            [
             0.7,
             "#b8e186"
            ],
            [
             0.8,
             "#7fbc41"
            ],
            [
             0.9,
             "#4d9221"
            ],
            [
             1,
             "#276419"
            ]
           ],
           "sequential": [
            [
             0,
             "#0d0887"
            ],
            [
             0.1111111111111111,
             "#46039f"
            ],
            [
             0.2222222222222222,
             "#7201a8"
            ],
            [
             0.3333333333333333,
             "#9c179e"
            ],
            [
             0.4444444444444444,
             "#bd3786"
            ],
            [
             0.5555555555555556,
             "#d8576b"
            ],
            [
             0.6666666666666666,
             "#ed7953"
            ],
            [
             0.7777777777777778,
             "#fb9f3a"
            ],
            [
             0.8888888888888888,
             "#fdca26"
            ],
            [
             1,
             "#f0f921"
            ]
           ],
           "sequentialminus": [
            [
             0,
             "#0d0887"
            ],
            [
             0.1111111111111111,
             "#46039f"
            ],
            [
             0.2222222222222222,
             "#7201a8"
            ],
            [
             0.3333333333333333,
             "#9c179e"
            ],
            [
             0.4444444444444444,
             "#bd3786"
            ],
            [
             0.5555555555555556,
             "#d8576b"
            ],
            [
             0.6666666666666666,
             "#ed7953"
            ],
            [
             0.7777777777777778,
             "#fb9f3a"
            ],
            [
             0.8888888888888888,
             "#fdca26"
            ],
            [
             1,
             "#f0f921"
            ]
           ]
          },
          "colorway": [
           "#636efa",
           "#EF553B",
           "#00cc96",
           "#ab63fa",
           "#FFA15A",
           "#19d3f3",
           "#FF6692",
           "#B6E880",
           "#FF97FF",
           "#FECB52"
          ],
          "font": {
           "color": "#2a3f5f"
          },
          "geo": {
           "bgcolor": "white",
           "lakecolor": "white",
           "landcolor": "#E5ECF6",
           "showlakes": true,
           "showland": true,
           "subunitcolor": "white"
          },
          "hoverlabel": {
           "align": "left"
          },
          "hovermode": "closest",
          "mapbox": {
           "style": "light"
          },
          "paper_bgcolor": "white",
          "plot_bgcolor": "#E5ECF6",
          "polar": {
           "angularaxis": {
            "gridcolor": "white",
            "linecolor": "white",
            "ticks": ""
           },
           "bgcolor": "#E5ECF6",
           "radialaxis": {
            "gridcolor": "white",
            "linecolor": "white",
            "ticks": ""
           }
          },
          "scene": {
           "xaxis": {
            "backgroundcolor": "#E5ECF6",
            "gridcolor": "white",
            "gridwidth": 2,
            "linecolor": "white",
            "showbackground": true,
            "ticks": "",
            "zerolinecolor": "white"
           },
           "yaxis": {
            "backgroundcolor": "#E5ECF6",
            "gridcolor": "white",
            "gridwidth": 2,
            "linecolor": "white",
            "showbackground": true,
            "ticks": "",
            "zerolinecolor": "white"
           },
           "zaxis": {
            "backgroundcolor": "#E5ECF6",
            "gridcolor": "white",
            "gridwidth": 2,
            "linecolor": "white",
            "showbackground": true,
            "ticks": "",
            "zerolinecolor": "white"
           }
          },
          "shapedefaults": {
           "line": {
            "color": "#2a3f5f"
           }
          },
          "ternary": {
           "aaxis": {
            "gridcolor": "white",
            "linecolor": "white",
            "ticks": ""
           },
           "baxis": {
            "gridcolor": "white",
            "linecolor": "white",
            "ticks": ""
           },
           "bgcolor": "#E5ECF6",
           "caxis": {
            "gridcolor": "white",
            "linecolor": "white",
            "ticks": ""
           }
          },
          "title": {
           "x": 0.05
          },
          "xaxis": {
           "automargin": true,
           "gridcolor": "white",
           "linecolor": "white",
           "ticks": "",
           "title": {
            "standoff": 15
           },
           "zerolinecolor": "white",
           "zerolinewidth": 2
          },
          "yaxis": {
           "automargin": true,
           "gridcolor": "white",
           "linecolor": "white",
           "ticks": "",
           "title": {
            "standoff": 15
           },
           "zerolinecolor": "white",
           "zerolinewidth": 2
          }
         }
        },
        "title": {
         "text": "Protein is just as bad as Sugar for glucose levels"
        },
        "width": 600,
        "xaxis": {
         "anchor": "y",
         "domain": [
          0,
          1
         ],
         "showgrid": false,
         "title": {
          "text": "Glucose Values (mg/dl)"
         },
         "type": "log"
        },
        "yaxis": {
         "anchor": "x",
         "domain": [
          0,
          1
         ],
         "showgrid": false,
         "title": {
          "text": "Amount (grams)"
         }
        }
       }
      }
     },
     "metadata": {},
     "output_type": "display_data"
    }
   ],
   "source": [
    "import pandas as pd\n",
    "import plotly.express as px\n",
    "import plotly.graph_objects as go\n",
    "import numpy as np\n",
    "\n",
    "# Assuming merged_protein_dexcom and merged_sugar_dexcom are already defined\n",
    "# and have columns 'glucose', 'protein', and 'sugar'\n",
    "\n",
    "# Merge the two DataFrames on 'person_id' and 'Day'\n",
    "merged_df = pd.merge(merged_protein_dexcom, merged_sugar_dexcom, on=['person_id', 'Day'], suffixes=('_protein', '_sugar'))\n",
    "merged_df = merged_df[merged_df['glucose value (mg/dl)_protein'] > 80]\n",
    "merged_df = merged_df[merged_df['protein'] < 160]\n",
    "merged_df = merged_df[merged_df['sugar'] < 160]\n",
    "\n",
    "# Fit linear models\n",
    "protein_fit = np.polyfit(merged_df['glucose value (mg/dl)_protein'], merged_df['protein'], 1)\n",
    "sugar_fit = np.polyfit(merged_df['glucose value (mg/dl)_protein'], merged_df['sugar'], 1)\n",
    "\n",
    "# Create linear prediction lines\n",
    "protein_line = np.polyval(protein_fit, merged_df['glucose value (mg/dl)_protein'])\n",
    "sugar_line = np.polyval(sugar_fit, merged_df['glucose value (mg/dl)_protein'])\n",
    "\n",
    "# Create the scatter plot\n",
    "fig = px.scatter(merged_df, x='glucose value (mg/dl)_protein', y=['protein', 'sugar'], labels={\n",
    "    'glucose value (mg/dl)_protein': 'Glucose Values (mg/dl)',\n",
    "    'value': 'Amount (grams)',\n",
    "    'variable': 'Nutrient'\n",
    "}, title='Protein is just as bad as Sugar for glucose levels', log_x=True)\n",
    "\n",
    "# Add linear fit lines\n",
    "fig.add_trace(go.Scatter(x=merged_df['glucose value (mg/dl)_protein'], y=protein_line, mode='lines', name='Protein Fit', line=dict(color='red')))\n",
    "fig.add_trace(go.Scatter(x=merged_df['glucose value (mg/dl)_protein'], y=sugar_line, mode='lines', name='Sugar Fit', line=dict(color='blue')))\n",
    "\n",
    "\n",
    "# Update layout to turn off grid\n",
    "fig.update_layout(\n",
    "    xaxis=dict(showgrid=False),\n",
    "    yaxis=dict(showgrid=False),\n",
    "    width=600\n",
    ")\n",
    "\n",
    "# Show the plot\n",
    "fig.show()"
   ]
  },
  {
   "cell_type": "code",
   "execution_count": null,
   "metadata": {},
   "outputs": [],
   "source": []
  },
  {
   "cell_type": "code",
   "execution_count": 15,
   "metadata": {},
   "outputs": [
    {
     "data": {
      "text/plain": [
       "time_of_day\n",
       "00:00:00    2.499777\n",
       "00:05:00    2.345119\n",
       "00:10:00    1.570875\n",
       "00:15:00    0.960527\n",
       "00:20:00    0.954423\n",
       "              ...   \n",
       "23:35:00    1.359493\n",
       "23:40:00    2.137125\n",
       "23:45:00    2.938972\n",
       "23:50:00    2.614088\n",
       "23:55:00    2.704668\n",
       "Name: eda, Length: 288, dtype: float64"
      ]
     },
     "execution_count": 15,
     "metadata": {},
     "output_type": "execute_result"
    }
   ],
   "source": [
    "eda_exp = pd.read_csv('EDA_logs/EDA_001.csv')\n",
    "eda_exp['datetime'] = pd.to_datetime(eda_exp['datetime'], errors='coerce')\n",
    "eda_exp = eda_exp.dropna(subset=['datetime'])\n",
    "eda_exp.columns = eda_exp.columns.str.strip()\n",
    "eda_exp[\"time_of_day\"] = eda_exp[\"datetime\"].dt.floor(\"5min\").dt.time\n",
    "eda_exp.groupby(\"time_of_day\")[\"eda\"].mean()"
   ]
  },
  {
   "cell_type": "code",
   "execution_count": 16,
   "metadata": {},
   "outputs": [
    {
     "name": "stderr",
     "output_type": "stream",
     "text": [
      "C:\\Users\\Admin\\AppData\\Local\\Temp\\ipykernel_16716\\575012064.py:10: DtypeWarning:\n",
      "\n",
      "Columns (1) have mixed types. Specify dtype option on import or set low_memory=False.\n",
      "\n",
      "C:\\Users\\Admin\\AppData\\Local\\Temp\\ipykernel_16716\\575012064.py:13: UserWarning:\n",
      "\n",
      "Could not infer format, so each element will be parsed individually, falling back to `dateutil`. To ensure parsing is consistent and as-expected, please specify a format.\n",
      "\n"
     ]
    },
    {
     "name": "stdout",
     "output_type": "stream",
     "text": [
      "datetime       datetime64[ns]\n",
      "eda                   float64\n",
      "time_of_day            object\n",
      "dtype: object\n",
      "                 datetime       eda time_of_day\n",
      "1 2020-02-13 15:28:50.000  0.000000    15:25:00\n",
      "2 2020-02-13 15:28:50.250  0.001281    15:25:00\n",
      "3 2020-02-13 15:28:50.500  0.026905    15:25:00\n",
      "4 2020-02-13 15:28:50.750  0.028186    15:25:00\n",
      "5 2020-02-13 15:28:51.000  0.029467    15:25:00\n",
      "  time_of_day       eda\n",
      "0    15:25:00  0.000000\n",
      "1    15:25:00  0.001281\n",
      "2    15:25:00  0.026905\n",
      "3    15:25:00  0.028186\n",
      "4    15:25:00  0.029467\n"
     ]
    },
    {
     "name": "stderr",
     "output_type": "stream",
     "text": [
      "C:\\Users\\Admin\\AppData\\Local\\Temp\\ipykernel_16716\\575012064.py:10: DtypeWarning:\n",
      "\n",
      "Columns (1) have mixed types. Specify dtype option on import or set low_memory=False.\n",
      "\n",
      "C:\\Users\\Admin\\AppData\\Local\\Temp\\ipykernel_16716\\575012064.py:13: UserWarning:\n",
      "\n",
      "Could not infer format, so each element will be parsed individually, falling back to `dateutil`. To ensure parsing is consistent and as-expected, please specify a format.\n",
      "\n"
     ]
    },
    {
     "name": "stdout",
     "output_type": "stream",
     "text": [
      "datetime       datetime64[ns]\n",
      "eda                   float64\n",
      "time_of_day            object\n",
      "dtype: object\n",
      "                 datetime       eda time_of_day\n",
      "1 2020-02-21 09:19:06.000  0.000000    09:15:00\n",
      "2 2020-02-21 09:19:06.250  0.139648    09:15:00\n",
      "3 2020-02-21 09:19:06.500  0.202426    09:15:00\n",
      "4 2020-02-21 09:19:06.750  0.202426    09:15:00\n",
      "5 2020-02-21 09:19:07.000  0.204988    09:15:00\n",
      "  time_of_day       eda\n",
      "0    15:25:00  0.000000\n",
      "1    15:25:00  0.001281\n",
      "2    15:25:00  0.026905\n",
      "3    15:25:00  0.028186\n",
      "4    15:25:00  0.029467\n"
     ]
    },
    {
     "name": "stderr",
     "output_type": "stream",
     "text": [
      "C:\\Users\\Admin\\AppData\\Local\\Temp\\ipykernel_16716\\575012064.py:10: DtypeWarning:\n",
      "\n",
      "Columns (1) have mixed types. Specify dtype option on import or set low_memory=False.\n",
      "\n",
      "C:\\Users\\Admin\\AppData\\Local\\Temp\\ipykernel_16716\\575012064.py:13: UserWarning:\n",
      "\n",
      "Could not infer format, so each element will be parsed individually, falling back to `dateutil`. To ensure parsing is consistent and as-expected, please specify a format.\n",
      "\n"
     ]
    },
    {
     "name": "stdout",
     "output_type": "stream",
     "text": [
      "datetime       datetime64[ns]\n",
      "eda                   float64\n",
      "time_of_day            object\n",
      "dtype: object\n",
      "                 datetime       eda time_of_day\n",
      "1 2020-02-22 18:09:41.000  0.000000    18:05:00\n",
      "2 2020-02-22 18:09:41.250  0.240716    18:05:00\n",
      "3 2020-02-22 18:09:41.500  0.314980    18:05:00\n",
      "4 2020-02-22 18:09:41.750  0.318821    18:05:00\n",
      "5 2020-02-22 18:09:42.000  0.317541    18:05:00\n",
      "  time_of_day       eda\n",
      "0    15:25:00  0.000000\n",
      "1    15:25:00  0.001281\n",
      "2    15:25:00  0.026905\n",
      "3    15:25:00  0.028186\n",
      "4    15:25:00  0.029467\n"
     ]
    },
    {
     "name": "stderr",
     "output_type": "stream",
     "text": [
      "C:\\Users\\Admin\\AppData\\Local\\Temp\\ipykernel_16716\\575012064.py:10: DtypeWarning:\n",
      "\n",
      "Columns (1) have mixed types. Specify dtype option on import or set low_memory=False.\n",
      "\n",
      "C:\\Users\\Admin\\AppData\\Local\\Temp\\ipykernel_16716\\575012064.py:13: UserWarning:\n",
      "\n",
      "Could not infer format, so each element will be parsed individually, falling back to `dateutil`. To ensure parsing is consistent and as-expected, please specify a format.\n",
      "\n"
     ]
    },
    {
     "name": "stdout",
     "output_type": "stream",
     "text": [
      "datetime       datetime64[ns]\n",
      "eda                   float64\n",
      "time_of_day            object\n",
      "dtype: object\n",
      "                 datetime       eda time_of_day\n",
      "1 2020-02-27 08:37:22.000  0.000000    08:35:00\n",
      "2 2020-02-27 08:37:22.250  0.056379    08:35:00\n",
      "3 2020-02-27 08:37:22.500  0.099944    08:35:00\n",
      "4 2020-02-27 08:37:22.750  0.102506    08:35:00\n",
      "5 2020-02-27 08:37:23.000  0.099944    08:35:00\n",
      "  time_of_day       eda\n",
      "0    15:25:00  0.000000\n",
      "1    15:25:00  0.001281\n",
      "2    15:25:00  0.026905\n",
      "3    15:25:00  0.028186\n",
      "4    15:25:00  0.029467\n"
     ]
    },
    {
     "name": "stderr",
     "output_type": "stream",
     "text": [
      "C:\\Users\\Admin\\AppData\\Local\\Temp\\ipykernel_16716\\575012064.py:10: DtypeWarning:\n",
      "\n",
      "Columns (1) have mixed types. Specify dtype option on import or set low_memory=False.\n",
      "\n",
      "C:\\Users\\Admin\\AppData\\Local\\Temp\\ipykernel_16716\\575012064.py:13: UserWarning:\n",
      "\n",
      "Could not infer format, so each element will be parsed individually, falling back to `dateutil`. To ensure parsing is consistent and as-expected, please specify a format.\n",
      "\n"
     ]
    },
    {
     "name": "stdout",
     "output_type": "stream",
     "text": [
      "datetime       datetime64[ns]\n",
      "eda                   float64\n",
      "time_of_day            object\n",
      "dtype: object\n",
      "                 datetime       eda time_of_day\n",
      "1 2020-02-27 13:34:02.000  0.000000    13:30:00\n",
      "2 2020-02-27 13:34:02.250  0.836457    13:30:00\n",
      "3 2020-02-27 13:34:02.500  1.178737    13:30:00\n",
      "4 2020-02-27 13:34:02.750  1.616889    13:30:00\n",
      "5 2020-02-27 13:34:03.000  1.604179    13:30:00\n",
      "  time_of_day       eda\n",
      "0    15:25:00  0.000000\n",
      "1    15:25:00  0.001281\n",
      "2    15:25:00  0.026905\n",
      "3    15:25:00  0.028186\n",
      "4    15:25:00  0.029467\n"
     ]
    },
    {
     "name": "stderr",
     "output_type": "stream",
     "text": [
      "C:\\Users\\Admin\\AppData\\Local\\Temp\\ipykernel_16716\\575012064.py:10: DtypeWarning:\n",
      "\n",
      "Columns (1) have mixed types. Specify dtype option on import or set low_memory=False.\n",
      "\n",
      "C:\\Users\\Admin\\AppData\\Local\\Temp\\ipykernel_16716\\575012064.py:13: UserWarning:\n",
      "\n",
      "Could not infer format, so each element will be parsed individually, falling back to `dateutil`. To ensure parsing is consistent and as-expected, please specify a format.\n",
      "\n"
     ]
    },
    {
     "name": "stdout",
     "output_type": "stream",
     "text": [
      "datetime       datetime64[ns]\n",
      "eda                   float64\n",
      "time_of_day            object\n",
      "dtype: object\n",
      "                 datetime       eda time_of_day\n",
      "1 2020-02-28 10:18:28.000  0.000000    10:15:00\n",
      "2 2020-02-28 10:18:28.250  0.000000    10:15:00\n",
      "3 2020-02-28 10:18:28.500  0.032026    10:15:00\n",
      "4 2020-02-28 10:18:28.750  0.037150    10:15:00\n",
      "5 2020-02-28 10:18:29.000  0.039712    10:15:00\n",
      "  time_of_day       eda\n",
      "0    15:25:00  0.000000\n",
      "1    15:25:00  0.001281\n",
      "2    15:25:00  0.026905\n",
      "3    15:25:00  0.028186\n",
      "4    15:25:00  0.029467\n"
     ]
    },
    {
     "name": "stderr",
     "output_type": "stream",
     "text": [
      "C:\\Users\\Admin\\AppData\\Local\\Temp\\ipykernel_16716\\575012064.py:10: DtypeWarning:\n",
      "\n",
      "Columns (1) have mixed types. Specify dtype option on import or set low_memory=False.\n",
      "\n",
      "C:\\Users\\Admin\\AppData\\Local\\Temp\\ipykernel_16716\\575012064.py:13: UserWarning:\n",
      "\n",
      "Could not infer format, so each element will be parsed individually, falling back to `dateutil`. To ensure parsing is consistent and as-expected, please specify a format.\n",
      "\n"
     ]
    },
    {
     "name": "stdout",
     "output_type": "stream",
     "text": [
      "datetime       datetime64[ns]\n",
      "eda                   float64\n",
      "time_of_day            object\n",
      "dtype: object\n",
      "                 datetime       eda time_of_day\n",
      "1 2020-03-14 10:24:28.000  0.000000    10:20:00\n",
      "2 2020-03-14 10:24:28.250  0.835227    10:20:00\n",
      "3 2020-03-14 10:24:28.500  1.181370    10:20:00\n",
      "4 2020-03-14 10:24:28.750  1.604176    10:20:00\n",
      "5 2020-03-14 10:24:29.000  1.879695    10:20:00\n",
      "  time_of_day       eda\n",
      "0    15:25:00  0.000000\n",
      "1    15:25:00  0.001281\n",
      "2    15:25:00  0.026905\n",
      "3    15:25:00  0.028186\n",
      "4    15:25:00  0.029467\n"
     ]
    },
    {
     "name": "stderr",
     "output_type": "stream",
     "text": [
      "C:\\Users\\Admin\\AppData\\Local\\Temp\\ipykernel_16716\\575012064.py:10: DtypeWarning:\n",
      "\n",
      "Columns (1) have mixed types. Specify dtype option on import or set low_memory=False.\n",
      "\n",
      "C:\\Users\\Admin\\AppData\\Local\\Temp\\ipykernel_16716\\575012064.py:13: UserWarning:\n",
      "\n",
      "Could not infer format, so each element will be parsed individually, falling back to `dateutil`. To ensure parsing is consistent and as-expected, please specify a format.\n",
      "\n"
     ]
    },
    {
     "name": "stdout",
     "output_type": "stream",
     "text": [
      "datetime       datetime64[ns]\n",
      "eda                   float64\n",
      "time_of_day            object\n",
      "dtype: object\n",
      "                 datetime       eda time_of_day\n",
      "1 2020-03-14 12:20:47.000  0.000000    12:20:00\n",
      "2 2020-03-14 12:20:47.250  0.061474    12:20:00\n",
      "3 2020-03-14 12:20:47.500  0.119106    12:20:00\n",
      "4 2020-03-14 12:20:47.750  0.137036    12:20:00\n",
      "5 2020-03-14 12:20:48.000  0.130633    12:20:00\n",
      "  time_of_day       eda\n",
      "0    15:25:00  0.000000\n",
      "1    15:25:00  0.001281\n",
      "2    15:25:00  0.026905\n",
      "3    15:25:00  0.028186\n",
      "4    15:25:00  0.029467\n"
     ]
    },
    {
     "data": {
      "text/html": [
       "<div>\n",
       "<style scoped>\n",
       "    .dataframe tbody tr th:only-of-type {\n",
       "        vertical-align: middle;\n",
       "    }\n",
       "\n",
       "    .dataframe tbody tr th {\n",
       "        vertical-align: top;\n",
       "    }\n",
       "\n",
       "    .dataframe thead th {\n",
       "        text-align: right;\n",
       "    }\n",
       "</style>\n",
       "<table border=\"1\" class=\"dataframe\">\n",
       "  <thead>\n",
       "    <tr style=\"text-align: right;\">\n",
       "      <th></th>\n",
       "      <th>time_of_day</th>\n",
       "      <th>eda</th>\n",
       "    </tr>\n",
       "  </thead>\n",
       "  <tbody>\n",
       "    <tr>\n",
       "      <th>0</th>\n",
       "      <td>00:00:00</td>\n",
       "      <td>1.096339</td>\n",
       "    </tr>\n",
       "    <tr>\n",
       "      <th>1</th>\n",
       "      <td>00:05:00</td>\n",
       "      <td>1.077422</td>\n",
       "    </tr>\n",
       "    <tr>\n",
       "      <th>2</th>\n",
       "      <td>00:10:00</td>\n",
       "      <td>1.113508</td>\n",
       "    </tr>\n",
       "    <tr>\n",
       "      <th>3</th>\n",
       "      <td>00:15:00</td>\n",
       "      <td>0.876508</td>\n",
       "    </tr>\n",
       "    <tr>\n",
       "      <th>4</th>\n",
       "      <td>00:20:00</td>\n",
       "      <td>0.831287</td>\n",
       "    </tr>\n",
       "    <tr>\n",
       "      <th>...</th>\n",
       "      <td>...</td>\n",
       "      <td>...</td>\n",
       "    </tr>\n",
       "    <tr>\n",
       "      <th>283</th>\n",
       "      <td>23:35:00</td>\n",
       "      <td>0.713660</td>\n",
       "    </tr>\n",
       "    <tr>\n",
       "      <th>284</th>\n",
       "      <td>23:40:00</td>\n",
       "      <td>0.975016</td>\n",
       "    </tr>\n",
       "    <tr>\n",
       "      <th>285</th>\n",
       "      <td>23:45:00</td>\n",
       "      <td>1.092398</td>\n",
       "    </tr>\n",
       "    <tr>\n",
       "      <th>286</th>\n",
       "      <td>23:50:00</td>\n",
       "      <td>0.937117</td>\n",
       "    </tr>\n",
       "    <tr>\n",
       "      <th>287</th>\n",
       "      <td>23:55:00</td>\n",
       "      <td>0.952829</td>\n",
       "    </tr>\n",
       "  </tbody>\n",
       "</table>\n",
       "<p>288 rows × 2 columns</p>\n",
       "</div>"
      ],
      "text/plain": [
       "    time_of_day       eda\n",
       "0      00:00:00  1.096339\n",
       "1      00:05:00  1.077422\n",
       "2      00:10:00  1.113508\n",
       "3      00:15:00  0.876508\n",
       "4      00:20:00  0.831287\n",
       "..          ...       ...\n",
       "283    23:35:00  0.713660\n",
       "284    23:40:00  0.975016\n",
       "285    23:45:00  1.092398\n",
       "286    23:50:00  0.937117\n",
       "287    23:55:00  0.952829\n",
       "\n",
       "[288 rows x 2 columns]"
      ]
     },
     "execution_count": 16,
     "metadata": {},
     "output_type": "execute_result"
    }
   ],
   "source": [
    "import pandas as pd\n",
    "import glob\n",
    "import os\n",
    "\n",
    "def aggregate_eda_all_people(path_to_folder, eda_column):\n",
    "    all_files = glob.glob(os.path.join(path_to_folder, \"*.csv\"))\n",
    "    combined_df = pd.DataFrame()\n",
    "\n",
    "    for file in all_files:\n",
    "        df = pd.read_csv(file, header=None, names=[\"datetime\", eda_column], encoding=\"utf-8\")\n",
    "\n",
    "        # Convert datetime column to datetime format\n",
    "        df[\"datetime\"] = pd.to_datetime(df[\"datetime\"], errors='coerce')\n",
    "\n",
    "        # Drop missing datetime values\n",
    "        df = df.dropna(subset=[\"datetime\"])\n",
    "\n",
    "        # Strip leading and trailing spaces from column names\n",
    "        df.columns = df.columns.str.strip()\n",
    "\n",
    "        # Round time to nearest 5-minute interval and extract only the time\n",
    "        df[\"time_of_day\"] = df[\"datetime\"].dt.floor(\"5min\").dt.time  # Keep only time\n",
    "\n",
    "        # Convert eda_column to numeric\n",
    "        df[eda_column] = pd.to_numeric(df[eda_column], errors='coerce')\n",
    "\n",
    "        # Debugging: Print data types\n",
    "        print(df.dtypes)\n",
    "        print(df.head())\n",
    "\n",
    "        # Append to final DataFrame\n",
    "        combined_df = pd.concat([combined_df, df[[\"time_of_day\", eda_column]]], ignore_index=True)\n",
    "        print(combined_df.head())\n",
    "\n",
    "    # Compute the average EDA for each 5-minute time interval across all people\n",
    "    avg_eda_all_people = combined_df.groupby(\"time_of_day\")[eda_column].mean().reset_index()\n",
    "\n",
    "    return avg_eda_all_people\n",
    "\n",
    "# Example usage\n",
    "eda_logs_avg_all = aggregate_eda_all_people('EDA_Logs', 'eda')\n",
    "eda_logs_avg_all"
   ]
  },
  {
   "cell_type": "code",
   "execution_count": 17,
   "metadata": {},
   "outputs": [
    {
     "data": {
      "application/vnd.plotly.v1+json": {
       "config": {
        "plotlyServerURL": "https://plot.ly"
       },
       "data": [
        {
         "hovertemplate": "Lunch Time=%{x}<br>EDA Value=%{y}<extra></extra>",
         "legendgroup": "",
         "marker": {
          "color": "#636efa",
          "symbol": "circle"
         },
         "mode": "markers",
         "name": "",
         "orientation": "v",
         "showlegend": false,
         "type": "scatter",
         "x": [
          "00:00:00",
          "00:05:00",
          "00:10:00",
          "00:15:00",
          "00:20:00",
          "00:25:00",
          "00:30:00",
          "00:35:00",
          "00:40:00",
          "00:45:00",
          "00:50:00",
          "00:55:00",
          "01:00:00",
          "01:05:00",
          "01:10:00",
          "01:15:00",
          "01:20:00",
          "01:25:00",
          "01:30:00",
          "01:35:00",
          "01:40:00",
          "01:45:00",
          "01:50:00",
          "01:55:00",
          "02:00:00",
          "02:05:00",
          "02:10:00",
          "02:15:00",
          "02:20:00",
          "02:25:00",
          "02:30:00",
          "02:35:00",
          "02:40:00",
          "02:45:00",
          "02:50:00",
          "02:55:00",
          "03:00:00",
          "03:05:00",
          "03:10:00",
          "03:15:00",
          "03:20:00",
          "03:25:00",
          "03:30:00",
          "03:35:00",
          "03:40:00",
          "03:45:00",
          "03:50:00",
          "03:55:00",
          "04:00:00",
          "04:05:00",
          "04:10:00",
          "04:15:00",
          "04:20:00",
          "04:25:00",
          "04:30:00",
          "04:35:00",
          "04:40:00",
          "04:45:00",
          "04:50:00",
          "04:55:00",
          "05:00:00",
          "05:05:00",
          "05:10:00",
          "05:15:00",
          "05:20:00",
          "05:25:00",
          "05:30:00",
          "05:35:00",
          "05:40:00",
          "05:45:00",
          "05:50:00",
          "05:55:00",
          "06:00:00",
          "06:05:00",
          "06:10:00",
          "06:15:00",
          "06:20:00",
          "06:25:00",
          "06:30:00",
          "06:35:00",
          "06:40:00",
          "06:45:00",
          "06:50:00",
          "06:55:00",
          "07:00:00",
          "07:05:00",
          "07:10:00",
          "07:15:00",
          "07:20:00",
          "07:25:00",
          "07:30:00",
          "07:35:00",
          "07:40:00",
          "07:45:00",
          "07:50:00",
          "07:55:00",
          "08:00:00",
          "08:05:00",
          "08:10:00",
          "08:15:00",
          "08:20:00",
          "08:25:00",
          "08:30:00",
          "08:35:00",
          "08:40:00",
          "08:45:00",
          "08:50:00",
          "08:55:00",
          "09:00:00",
          "09:05:00",
          "09:10:00",
          "09:15:00",
          "09:20:00",
          "09:25:00",
          "09:30:00",
          "09:35:00",
          "09:40:00",
          "09:45:00",
          "09:50:00",
          "09:55:00",
          "10:00:00",
          "10:05:00",
          "10:10:00",
          "10:15:00",
          "10:20:00",
          "10:25:00",
          "10:30:00",
          "10:35:00",
          "10:40:00",
          "10:45:00",
          "10:50:00",
          "10:55:00",
          "11:00:00",
          "11:05:00",
          "11:10:00",
          "11:15:00",
          "11:20:00",
          "11:25:00",
          "11:30:00",
          "11:35:00",
          "11:40:00",
          "11:45:00",
          "11:50:00",
          "11:55:00",
          "12:00:00",
          "12:05:00",
          "12:10:00",
          "12:15:00",
          "12:20:00",
          "12:25:00",
          "12:30:00",
          "12:35:00",
          "12:40:00",
          "12:45:00",
          "12:50:00",
          "12:55:00",
          "13:00:00",
          "13:05:00",
          "13:10:00",
          "13:15:00",
          "13:20:00",
          "13:25:00",
          "13:30:00",
          "13:35:00",
          "13:40:00",
          "13:45:00",
          "13:50:00",
          "13:55:00",
          "14:00:00",
          "14:05:00",
          "14:10:00",
          "14:15:00",
          "14:20:00",
          "14:25:00",
          "14:30:00",
          "14:35:00",
          "14:40:00",
          "14:45:00",
          "14:50:00",
          "14:55:00",
          "15:00:00",
          "15:05:00",
          "15:10:00",
          "15:15:00",
          "15:20:00",
          "15:25:00",
          "15:30:00",
          "15:35:00",
          "15:40:00",
          "15:45:00",
          "15:50:00",
          "15:55:00",
          "16:00:00",
          "16:05:00",
          "16:10:00",
          "16:15:00",
          "16:20:00",
          "16:25:00",
          "16:30:00",
          "16:35:00",
          "16:40:00",
          "16:45:00",
          "16:50:00",
          "16:55:00",
          "17:00:00",
          "17:05:00",
          "17:10:00",
          "17:15:00",
          "17:20:00",
          "17:25:00",
          "17:30:00",
          "17:35:00",
          "17:40:00",
          "17:45:00",
          "17:50:00",
          "17:55:00",
          "18:00:00",
          "18:05:00",
          "18:10:00",
          "18:15:00",
          "18:20:00",
          "18:25:00",
          "18:30:00",
          "18:35:00",
          "18:40:00",
          "18:45:00",
          "18:50:00",
          "18:55:00",
          "19:00:00",
          "19:05:00",
          "19:10:00",
          "19:15:00",
          "19:20:00",
          "19:25:00",
          "19:30:00",
          "19:35:00",
          "19:40:00",
          "19:45:00",
          "19:50:00",
          "19:55:00",
          "20:00:00",
          "20:05:00",
          "20:10:00",
          "20:15:00",
          "20:20:00",
          "20:25:00",
          "20:30:00",
          "20:35:00",
          "20:40:00",
          "20:45:00",
          "20:50:00",
          "20:55:00",
          "21:00:00",
          "21:05:00",
          "21:10:00",
          "21:15:00",
          "21:20:00",
          "21:25:00",
          "21:30:00",
          "21:35:00",
          "21:40:00",
          "21:45:00",
          "21:50:00",
          "21:55:00",
          "22:00:00",
          "22:05:00",
          "22:10:00",
          "22:15:00",
          "22:20:00",
          "22:25:00",
          "22:30:00",
          "22:35:00",
          "22:40:00",
          "22:45:00",
          "22:50:00",
          "22:55:00",
          "23:00:00",
          "23:05:00",
          "23:10:00",
          "23:15:00",
          "23:20:00",
          "23:25:00",
          "23:30:00",
          "23:35:00",
          "23:40:00",
          "23:45:00",
          "23:50:00",
          "23:55:00"
         ],
         "xaxis": "x",
         "y": [
          1.096339206875,
          1.0774216185565475,
          1.1135078827380953,
          0.876507924702381,
          0.831287208110119,
          0.9920929445238095,
          0.8693946315054506,
          0.9497709368636363,
          0.9413969768787879,
          0.984807120590909,
          1.0764418639242423,
          1.1315253246316173,
          1.3447972482986998,
          1.3837624836363636,
          1.3514312365303032,
          1.3938879530909092,
          1.4452419711376236,
          1.3250540397023811,
          1.202506680342262,
          1.0880595799702382,
          1.1760899074548579,
          1.2543908765757577,
          1.1394539528333332,
          0.9753693259090909,
          0.9707365376818182,
          0.8161467561300959,
          0.779875731279762,
          0.9458121916369048,
          1.2542641059821429,
          1.319397478154762,
          1.2036151282142857,
          1.2341501714434524,
          1.1792611510565476,
          1.6234739279315475,
          1.8439367650632392,
          1.2678816490935672,
          0.9810547209064326,
          1.198853642134503,
          1.099584327880117,
          1.1099483676754387,
          1.0341961635038424,
          1.0524309086755952,
          0.9685216584077381,
          1.2081561769791667,
          1.059333635967262,
          1.0800198859821428,
          0.9927835723809525,
          0.9952602976265585,
          0.8982754648181818,
          0.7989835653939393,
          0.9038283894224904,
          1.003038675527831,
          0.8330931125,
          0.7855227163141025,
          0.8433971249198718,
          0.9827467943518126,
          0.746745499379085,
          0.7833479841666666,
          0.969270651127451,
          1.0130544805882353,
          0.9332172169593119,
          0.8826976265359477,
          1.2936669422549019,
          0.885244812745098,
          0.6820316402450981,
          0.6628745841339868,
          0.7859234445915033,
          0.7688255838819005,
          0.8387190139583333,
          1.212888483076923,
          0.9485197782051282,
          0.8581052032051282,
          0.7813698439102563,
          1.1200190188484502,
          1.0210423136949685,
          0.7423582650471697,
          0.7363532641566553,
          0.9799750833173078,
          0.7711063464584602,
          0.7891190429575163,
          0.9068286673529412,
          0.8584567030882353,
          0.8788604680555556,
          1.165573179591706,
          1.1412067300786164,
          1.1047642435803022,
          1.1403702512019231,
          1.249962874751653,
          1.3503324325326795,
          1.49460549133318,
          1.488805481699282,
          1.8298464976294209,
          1.7177209926651509,
          1.5757598248270441,
          1.4663288010117514,
          1.4784569091398512,
          1.1308905242682588,
          1.2350666221450617,
          1.087134412824074,
          0.8853159153585527,
          0.9713085736283973,
          1.0643282093160755,
          1.0646872012578616,
          1.0825706313831114,
          1.100461987685185,
          1.0313425833887042,
          1.0832267496383647,
          0.9367480085377359,
          0.8710057735413147,
          0.9182590723338434,
          0.8846537228350345,
          1.1177395081749173,
          0.9651660067539451,
          1.1652849121068436,
          0.9529420901886793,
          0.8514610058857216,
          0.8597892262574196,
          0.7164776113787817,
          0.6609605934680736,
          0.6146079239314897,
          0.6900529861927696,
          0.7868208565880503,
          0.7571104456021398,
          0.7278887552326295,
          0.7509868082372424,
          0.9661798588800143,
          1.0465813255757577,
          1.5099034382749652,
          1.3211510576212122,
          1.5491918592332936,
          1.5826864726041665,
          1.546771935238999,
          1.1597884351022452,
          1.1746350762484739,
          1.224314939121212,
          1.4754699963939393,
          1.7593519138484848,
          1.8695204854875693,
          1.8122594563526362,
          1.9261508799597118,
          1.9744874269598764,
          1.493457119690634,
          1.1579486978786822,
          1.403448673710692,
          1.1708109132250653,
          1.3352701137037037,
          1.238829478425926,
          1.2053214873538463,
          1.358630096803761,
          1.3468838562712364,
          1.6747752049172988,
          1.6822380446212122,
          1.637766589848485,
          1.862411433841219,
          1.874431387626495,
          2.0192004835757573,
          2.0882557808030304,
          1.6801721889090908,
          1.5087666117575758,
          1.2955159933636362,
          1.1799201457727273,
          1.0220174496327545,
          1.1358380351365482,
          1.1685750595454545,
          1.1805119043030303,
          0.9253273931666667,
          0.9163137391363636,
          1.1639314048787879,
          1.0733461775,
          1.296578000030303,
          1.480051534257576,
          1.432674589948687,
          1.4810100693154762,
          1.6152422176934524,
          1.4272956563428916,
          1.4098192456035172,
          1.4015296062808642,
          1.4699590935677986,
          1.3302782420125787,
          1.5205311240880504,
          1.386706312028302,
          1.5085934888330106,
          1.6546049075617284,
          1.6923369884722224,
          1.5312947560758015,
          1.6715013804164152,
          1.8461366037540645,
          1.886698182894737,
          1.627214773362573,
          1.6064567175584796,
          1.6975965255409355,
          1.5243487564531903,
          1.5461420916964286,
          1.5047412066540438,
          1.5839168098359646,
          1.5446245852381542,
          1.0692448019654088,
          1.373533496871069,
          1.3974201397955974,
          1.263055686996566,
          1.284497289228395,
          1.2645924058024691,
          1.1804118037179883,
          1.588443461909091,
          1.5192556125909091,
          1.5879837870606062,
          1.459165707969697,
          1.382664199969697,
          1.5658035776986952,
          1.3445304603949884,
          1.2673897028811707,
          1.3687257759545455,
          1.5173882095220732,
          1.667042132274555,
          1.774254033663522,
          1.2620402209595558,
          1.215963439647436,
          1.3243237274113306,
          0.8832455986927075,
          0.9930082675641025,
          0.9218777476199634,
          0.7706812955503144,
          0.7698157450471699,
          0.8652603617610062,
          0.9499192930974842,
          1.120336018427673,
          1.0740515343396226,
          1.059864809654088,
          1.072288338536448,
          1.0476431807743984,
          0.9588401658435106,
          0.9598921443154762,
          1.0341285304613095,
          0.9113961130803572,
          0.9862137801250559,
          0.9779539099090909,
          1.0195987835037512,
          1.1534918135633272,
          1.0264935696198831,
          1.1849536673538013,
          1.1446035378216375,
          1.1970921013955713,
          1.510648202030303,
          1.3006674520909092,
          1.1691034935757574,
          0.966160135060606,
          0.8342498368524689,
          0.635044356264881,
          0.7625008399759543,
          0.9304183858823889,
          0.9506600124537037,
          1.0149904197685187,
          1.1409038007852668,
          1.2835146279157017,
          1.427978673751448,
          1.0861596630692372,
          0.9294760593020368,
          0.7470031982809172,
          0.6473521456790123,
          0.9496197240794801,
          0.7825737274275443,
          0.748632532816192,
          1.0439523129604822,
          1.1200180887597015,
          0.9814556289747264,
          0.8304103200415981,
          0.8061514851114241,
          0.6620099856997745,
          0.5334216831570513,
          0.536983120250128,
          0.8124315965544872,
          0.6267795327478607,
          0.5845764296275144,
          0.6548332650135484,
          0.9858533843785345,
          0.7881525762735849,
          0.7881772521955777,
          1.0036410354320988,
          0.8209283289197531,
          0.794280935227411,
          0.7065552714090909,
          0.6654613232878788,
          0.6593832789242424,
          0.7136604124175255,
          0.9750157925038168,
          1.092398418905083,
          0.937117084360119,
          0.9528293798065476
         ],
         "yaxis": "y"
        }
       ],
       "layout": {
        "legend": {
         "tracegroupgap": 0
        },
        "template": {
         "data": {
          "bar": [
           {
            "error_x": {
             "color": "#2a3f5f"
            },
            "error_y": {
             "color": "#2a3f5f"
            },
            "marker": {
             "line": {
              "color": "#E5ECF6",
              "width": 0.5
             },
             "pattern": {
              "fillmode": "overlay",
              "size": 10,
              "solidity": 0.2
             }
            },
            "type": "bar"
           }
          ],
          "barpolar": [
           {
            "marker": {
             "line": {
              "color": "#E5ECF6",
              "width": 0.5
             },
             "pattern": {
              "fillmode": "overlay",
              "size": 10,
              "solidity": 0.2
             }
            },
            "type": "barpolar"
           }
          ],
          "carpet": [
           {
            "aaxis": {
             "endlinecolor": "#2a3f5f",
             "gridcolor": "white",
             "linecolor": "white",
             "minorgridcolor": "white",
             "startlinecolor": "#2a3f5f"
            },
            "baxis": {
             "endlinecolor": "#2a3f5f",
             "gridcolor": "white",
             "linecolor": "white",
             "minorgridcolor": "white",
             "startlinecolor": "#2a3f5f"
            },
            "type": "carpet"
           }
          ],
          "choropleth": [
           {
            "colorbar": {
             "outlinewidth": 0,
             "ticks": ""
            },
            "type": "choropleth"
           }
          ],
          "contour": [
           {
            "colorbar": {
             "outlinewidth": 0,
             "ticks": ""
            },
            "colorscale": [
             [
              0,
              "#0d0887"
             ],
             [
              0.1111111111111111,
              "#46039f"
             ],
             [
              0.2222222222222222,
              "#7201a8"
             ],
             [
              0.3333333333333333,
              "#9c179e"
             ],
             [
              0.4444444444444444,
              "#bd3786"
             ],
             [
              0.5555555555555556,
              "#d8576b"
             ],
             [
              0.6666666666666666,
              "#ed7953"
             ],
             [
              0.7777777777777778,
              "#fb9f3a"
             ],
             [
              0.8888888888888888,
              "#fdca26"
             ],
             [
              1,
              "#f0f921"
             ]
            ],
            "type": "contour"
           }
          ],
          "contourcarpet": [
           {
            "colorbar": {
             "outlinewidth": 0,
             "ticks": ""
            },
            "type": "contourcarpet"
           }
          ],
          "heatmap": [
           {
            "colorbar": {
             "outlinewidth": 0,
             "ticks": ""
            },
            "colorscale": [
             [
              0,
              "#0d0887"
             ],
             [
              0.1111111111111111,
              "#46039f"
             ],
             [
              0.2222222222222222,
              "#7201a8"
             ],
             [
              0.3333333333333333,
              "#9c179e"
             ],
             [
              0.4444444444444444,
              "#bd3786"
             ],
             [
              0.5555555555555556,
              "#d8576b"
             ],
             [
              0.6666666666666666,
              "#ed7953"
             ],
             [
              0.7777777777777778,
              "#fb9f3a"
             ],
             [
              0.8888888888888888,
              "#fdca26"
             ],
             [
              1,
              "#f0f921"
             ]
            ],
            "type": "heatmap"
           }
          ],
          "heatmapgl": [
           {
            "colorbar": {
             "outlinewidth": 0,
             "ticks": ""
            },
            "colorscale": [
             [
              0,
              "#0d0887"
             ],
             [
              0.1111111111111111,
              "#46039f"
             ],
             [
              0.2222222222222222,
              "#7201a8"
             ],
             [
              0.3333333333333333,
              "#9c179e"
             ],
             [
              0.4444444444444444,
              "#bd3786"
             ],
             [
              0.5555555555555556,
              "#d8576b"
             ],
             [
              0.6666666666666666,
              "#ed7953"
             ],
             [
              0.7777777777777778,
              "#fb9f3a"
             ],
             [
              0.8888888888888888,
              "#fdca26"
             ],
             [
              1,
              "#f0f921"
             ]
            ],
            "type": "heatmapgl"
           }
          ],
          "histogram": [
           {
            "marker": {
             "pattern": {
              "fillmode": "overlay",
              "size": 10,
              "solidity": 0.2
             }
            },
            "type": "histogram"
           }
          ],
          "histogram2d": [
           {
            "colorbar": {
             "outlinewidth": 0,
             "ticks": ""
            },
            "colorscale": [
             [
              0,
              "#0d0887"
             ],
             [
              0.1111111111111111,
              "#46039f"
             ],
             [
              0.2222222222222222,
              "#7201a8"
             ],
             [
              0.3333333333333333,
              "#9c179e"
             ],
             [
              0.4444444444444444,
              "#bd3786"
             ],
             [
              0.5555555555555556,
              "#d8576b"
             ],
             [
              0.6666666666666666,
              "#ed7953"
             ],
             [
              0.7777777777777778,
              "#fb9f3a"
             ],
             [
              0.8888888888888888,
              "#fdca26"
             ],
             [
              1,
              "#f0f921"
             ]
            ],
            "type": "histogram2d"
           }
          ],
          "histogram2dcontour": [
           {
            "colorbar": {
             "outlinewidth": 0,
             "ticks": ""
            },
            "colorscale": [
             [
              0,
              "#0d0887"
             ],
             [
              0.1111111111111111,
              "#46039f"
             ],
             [
              0.2222222222222222,
              "#7201a8"
             ],
             [
              0.3333333333333333,
              "#9c179e"
             ],
             [
              0.4444444444444444,
              "#bd3786"
             ],
             [
              0.5555555555555556,
              "#d8576b"
             ],
             [
              0.6666666666666666,
              "#ed7953"
             ],
             [
              0.7777777777777778,
              "#fb9f3a"
             ],
             [
              0.8888888888888888,
              "#fdca26"
             ],
             [
              1,
              "#f0f921"
             ]
            ],
            "type": "histogram2dcontour"
           }
          ],
          "mesh3d": [
           {
            "colorbar": {
             "outlinewidth": 0,
             "ticks": ""
            },
            "type": "mesh3d"
           }
          ],
          "parcoords": [
           {
            "line": {
             "colorbar": {
              "outlinewidth": 0,
              "ticks": ""
             }
            },
            "type": "parcoords"
           }
          ],
          "pie": [
           {
            "automargin": true,
            "type": "pie"
           }
          ],
          "scatter": [
           {
            "fillpattern": {
             "fillmode": "overlay",
             "size": 10,
             "solidity": 0.2
            },
            "type": "scatter"
           }
          ],
          "scatter3d": [
           {
            "line": {
             "colorbar": {
              "outlinewidth": 0,
              "ticks": ""
             }
            },
            "marker": {
             "colorbar": {
              "outlinewidth": 0,
              "ticks": ""
             }
            },
            "type": "scatter3d"
           }
          ],
          "scattercarpet": [
           {
            "marker": {
             "colorbar": {
              "outlinewidth": 0,
              "ticks": ""
             }
            },
            "type": "scattercarpet"
           }
          ],
          "scattergeo": [
           {
            "marker": {
             "colorbar": {
              "outlinewidth": 0,
              "ticks": ""
             }
            },
            "type": "scattergeo"
           }
          ],
          "scattergl": [
           {
            "marker": {
             "colorbar": {
              "outlinewidth": 0,
              "ticks": ""
             }
            },
            "type": "scattergl"
           }
          ],
          "scattermapbox": [
           {
            "marker": {
             "colorbar": {
              "outlinewidth": 0,
              "ticks": ""
             }
            },
            "type": "scattermapbox"
           }
          ],
          "scatterpolar": [
           {
            "marker": {
             "colorbar": {
              "outlinewidth": 0,
              "ticks": ""
             }
            },
            "type": "scatterpolar"
           }
          ],
          "scatterpolargl": [
           {
            "marker": {
             "colorbar": {
              "outlinewidth": 0,
              "ticks": ""
             }
            },
            "type": "scatterpolargl"
           }
          ],
          "scatterternary": [
           {
            "marker": {
             "colorbar": {
              "outlinewidth": 0,
              "ticks": ""
             }
            },
            "type": "scatterternary"
           }
          ],
          "surface": [
           {
            "colorbar": {
             "outlinewidth": 0,
             "ticks": ""
            },
            "colorscale": [
             [
              0,
              "#0d0887"
             ],
             [
              0.1111111111111111,
              "#46039f"
             ],
             [
              0.2222222222222222,
              "#7201a8"
             ],
             [
              0.3333333333333333,
              "#9c179e"
             ],
             [
              0.4444444444444444,
              "#bd3786"
             ],
             [
              0.5555555555555556,
              "#d8576b"
             ],
             [
              0.6666666666666666,
              "#ed7953"
             ],
             [
              0.7777777777777778,
              "#fb9f3a"
             ],
             [
              0.8888888888888888,
              "#fdca26"
             ],
             [
              1,
              "#f0f921"
             ]
            ],
            "type": "surface"
           }
          ],
          "table": [
           {
            "cells": {
             "fill": {
              "color": "#EBF0F8"
             },
             "line": {
              "color": "white"
             }
            },
            "header": {
             "fill": {
              "color": "#C8D4E3"
             },
             "line": {
              "color": "white"
             }
            },
            "type": "table"
           }
          ]
         },
         "layout": {
          "annotationdefaults": {
           "arrowcolor": "#2a3f5f",
           "arrowhead": 0,
           "arrowwidth": 1
          },
          "autotypenumbers": "strict",
          "coloraxis": {
           "colorbar": {
            "outlinewidth": 0,
            "ticks": ""
           }
          },
          "colorscale": {
           "diverging": [
            [
             0,
             "#8e0152"
            ],
            [
             0.1,
             "#c51b7d"
            ],
            [
             0.2,
             "#de77ae"
            ],
            [
             0.3,
             "#f1b6da"
            ],
            [
             0.4,
             "#fde0ef"
            ],
            [
             0.5,
             "#f7f7f7"
            ],
            [
             0.6,
             "#e6f5d0"
            ],
            [
             0.7,
             "#b8e186"
            ],
            [
             0.8,
             "#7fbc41"
            ],
            [
             0.9,
             "#4d9221"
            ],
            [
             1,
             "#276419"
            ]
           ],
           "sequential": [
            [
             0,
             "#0d0887"
            ],
            [
             0.1111111111111111,
             "#46039f"
            ],
            [
             0.2222222222222222,
             "#7201a8"
            ],
            [
             0.3333333333333333,
             "#9c179e"
            ],
            [
             0.4444444444444444,
             "#bd3786"
            ],
            [
             0.5555555555555556,
             "#d8576b"
            ],
            [
             0.6666666666666666,
             "#ed7953"
            ],
            [
             0.7777777777777778,
             "#fb9f3a"
            ],
            [
             0.8888888888888888,
             "#fdca26"
            ],
            [
             1,
             "#f0f921"
            ]
           ],
           "sequentialminus": [
            [
             0,
             "#0d0887"
            ],
            [
             0.1111111111111111,
             "#46039f"
            ],
            [
             0.2222222222222222,
             "#7201a8"
            ],
            [
             0.3333333333333333,
             "#9c179e"
            ],
            [
             0.4444444444444444,
             "#bd3786"
            ],
            [
             0.5555555555555556,
             "#d8576b"
            ],
            [
             0.6666666666666666,
             "#ed7953"
            ],
            [
             0.7777777777777778,
             "#fb9f3a"
            ],
            [
             0.8888888888888888,
             "#fdca26"
            ],
            [
             1,
             "#f0f921"
            ]
           ]
          },
          "colorway": [
           "#636efa",
           "#EF553B",
           "#00cc96",
           "#ab63fa",
           "#FFA15A",
           "#19d3f3",
           "#FF6692",
           "#B6E880",
           "#FF97FF",
           "#FECB52"
          ],
          "font": {
           "color": "#2a3f5f"
          },
          "geo": {
           "bgcolor": "white",
           "lakecolor": "white",
           "landcolor": "#E5ECF6",
           "showlakes": true,
           "showland": true,
           "subunitcolor": "white"
          },
          "hoverlabel": {
           "align": "left"
          },
          "hovermode": "closest",
          "mapbox": {
           "style": "light"
          },
          "paper_bgcolor": "white",
          "plot_bgcolor": "#E5ECF6",
          "polar": {
           "angularaxis": {
            "gridcolor": "white",
            "linecolor": "white",
            "ticks": ""
           },
           "bgcolor": "#E5ECF6",
           "radialaxis": {
            "gridcolor": "white",
            "linecolor": "white",
            "ticks": ""
           }
          },
          "scene": {
           "xaxis": {
            "backgroundcolor": "#E5ECF6",
            "gridcolor": "white",
            "gridwidth": 2,
            "linecolor": "white",
            "showbackground": true,
            "ticks": "",
            "zerolinecolor": "white"
           },
           "yaxis": {
            "backgroundcolor": "#E5ECF6",
            "gridcolor": "white",
            "gridwidth": 2,
            "linecolor": "white",
            "showbackground": true,
            "ticks": "",
            "zerolinecolor": "white"
           },
           "zaxis": {
            "backgroundcolor": "#E5ECF6",
            "gridcolor": "white",
            "gridwidth": 2,
            "linecolor": "white",
            "showbackground": true,
            "ticks": "",
            "zerolinecolor": "white"
           }
          },
          "shapedefaults": {
           "line": {
            "color": "#2a3f5f"
           }
          },
          "ternary": {
           "aaxis": {
            "gridcolor": "white",
            "linecolor": "white",
            "ticks": ""
           },
           "baxis": {
            "gridcolor": "white",
            "linecolor": "white",
            "ticks": ""
           },
           "bgcolor": "#E5ECF6",
           "caxis": {
            "gridcolor": "white",
            "linecolor": "white",
            "ticks": ""
           }
          },
          "title": {
           "x": 0.05
          },
          "xaxis": {
           "automargin": true,
           "gridcolor": "white",
           "linecolor": "white",
           "ticks": "",
           "title": {
            "standoff": 15
           },
           "zerolinecolor": "white",
           "zerolinewidth": 2
          },
          "yaxis": {
           "automargin": true,
           "gridcolor": "white",
           "linecolor": "white",
           "ticks": "",
           "title": {
            "standoff": 15
           },
           "zerolinecolor": "white",
           "zerolinewidth": 2
          }
         }
        },
        "title": {
         "text": "EDA Values Throughout the Day"
        },
        "xaxis": {
         "anchor": "y",
         "domain": [
          0,
          1
         ],
         "title": {
          "text": "Lunch Time"
         }
        },
        "yaxis": {
         "anchor": "x",
         "domain": [
          0,
          1
         ],
         "title": {
          "text": "EDA Value"
         }
        }
       }
      }
     },
     "metadata": {},
     "output_type": "display_data"
    }
   ],
   "source": [
    "import pandas as pd\n",
    "import plotly.express as px\n",
    "\n",
    "eda_logs_avg_all_copy = eda_logs_avg_all.copy()\n",
    "\n",
    "fig = px.scatter(eda_logs_avg_all_copy, x='time_of_day', y='eda', labels={\n",
    "    'time_of_day': 'Lunch Time',\n",
    "    'eda': 'EDA Value'\n",
    "}, title='EDA Values Throughout the Day')\n",
    "\n",
    "# Show the plot\n",
    "fig.show()"
   ]
  },
  {
   "cell_type": "code",
   "execution_count": 18,
   "metadata": {},
   "outputs": [
    {
     "data": {
      "application/vnd.plotly.v1+json": {
       "config": {
        "plotlyServerURL": "https://plot.ly"
       },
       "data": [
        {
         "hovertemplate": "Lunch Time=%{x}<br>EDA Value=%{y}<extra></extra>",
         "legendgroup": "",
         "marker": {
          "color": "#636efa",
          "symbol": "circle"
         },
         "mode": "markers",
         "name": "",
         "orientation": "v",
         "showlegend": false,
         "type": "scatter",
         "x": [
          "06:05:00",
          "06:10:00",
          "06:15:00",
          "06:20:00",
          "06:25:00",
          "06:30:00",
          "06:35:00",
          "06:40:00",
          "06:45:00",
          "06:50:00",
          "06:55:00",
          "07:00:00",
          "07:05:00",
          "07:10:00",
          "07:15:00",
          "07:20:00",
          "07:25:00",
          "07:30:00",
          "07:35:00",
          "07:40:00",
          "07:45:00",
          "07:50:00",
          "07:55:00",
          "08:00:00",
          "08:05:00",
          "08:10:00",
          "08:15:00",
          "08:20:00",
          "08:25:00",
          "08:30:00",
          "08:35:00",
          "08:40:00",
          "08:45:00",
          "08:50:00",
          "08:55:00",
          "09:00:00",
          "09:05:00",
          "09:10:00",
          "09:15:00",
          "09:20:00",
          "09:25:00",
          "09:30:00",
          "09:35:00",
          "09:40:00",
          "09:45:00",
          "09:50:00",
          "09:55:00",
          "10:00:00",
          "10:05:00",
          "10:10:00",
          "10:15:00",
          "10:20:00",
          "10:25:00",
          "10:30:00",
          "10:35:00",
          "10:40:00",
          "10:45:00",
          "10:50:00",
          "10:55:00"
         ],
         "xaxis": "x",
         "y": [
          1.1200190188484502,
          1.0210423136949685,
          0.7423582650471697,
          0.7363532641566553,
          0.9799750833173078,
          0.7711063464584602,
          0.7891190429575163,
          0.9068286673529412,
          0.8584567030882353,
          0.8788604680555556,
          1.165573179591706,
          1.1412067300786164,
          1.1047642435803022,
          1.1403702512019231,
          1.249962874751653,
          1.3503324325326795,
          1.49460549133318,
          1.488805481699282,
          1.8298464976294209,
          1.7177209926651509,
          1.5757598248270441,
          1.4663288010117514,
          1.4784569091398512,
          1.1308905242682588,
          1.2350666221450617,
          1.087134412824074,
          0.8853159153585527,
          0.9713085736283973,
          1.0643282093160755,
          1.0646872012578616,
          1.0825706313831114,
          1.100461987685185,
          1.0313425833887042,
          1.0832267496383647,
          0.9367480085377359,
          0.8710057735413147,
          0.9182590723338434,
          0.8846537228350345,
          1.1177395081749173,
          0.9651660067539451,
          1.1652849121068436,
          0.9529420901886793,
          0.8514610058857216,
          0.8597892262574196,
          0.7164776113787817,
          0.6609605934680736,
          0.6146079239314897,
          0.6900529861927696,
          0.7868208565880503,
          0.7571104456021398,
          0.7278887552326295,
          0.7509868082372424,
          0.9661798588800143,
          1.0465813255757577,
          1.5099034382749652,
          1.3211510576212122,
          1.5491918592332936,
          1.5826864726041665,
          1.546771935238999
         ],
         "yaxis": "y"
        }
       ],
       "layout": {
        "legend": {
         "tracegroupgap": 0
        },
        "template": {
         "data": {
          "bar": [
           {
            "error_x": {
             "color": "#2a3f5f"
            },
            "error_y": {
             "color": "#2a3f5f"
            },
            "marker": {
             "line": {
              "color": "#E5ECF6",
              "width": 0.5
             },
             "pattern": {
              "fillmode": "overlay",
              "size": 10,
              "solidity": 0.2
             }
            },
            "type": "bar"
           }
          ],
          "barpolar": [
           {
            "marker": {
             "line": {
              "color": "#E5ECF6",
              "width": 0.5
             },
             "pattern": {
              "fillmode": "overlay",
              "size": 10,
              "solidity": 0.2
             }
            },
            "type": "barpolar"
           }
          ],
          "carpet": [
           {
            "aaxis": {
             "endlinecolor": "#2a3f5f",
             "gridcolor": "white",
             "linecolor": "white",
             "minorgridcolor": "white",
             "startlinecolor": "#2a3f5f"
            },
            "baxis": {
             "endlinecolor": "#2a3f5f",
             "gridcolor": "white",
             "linecolor": "white",
             "minorgridcolor": "white",
             "startlinecolor": "#2a3f5f"
            },
            "type": "carpet"
           }
          ],
          "choropleth": [
           {
            "colorbar": {
             "outlinewidth": 0,
             "ticks": ""
            },
            "type": "choropleth"
           }
          ],
          "contour": [
           {
            "colorbar": {
             "outlinewidth": 0,
             "ticks": ""
            },
            "colorscale": [
             [
              0,
              "#0d0887"
             ],
             [
              0.1111111111111111,
              "#46039f"
             ],
             [
              0.2222222222222222,
              "#7201a8"
             ],
             [
              0.3333333333333333,
              "#9c179e"
             ],
             [
              0.4444444444444444,
              "#bd3786"
             ],
             [
              0.5555555555555556,
              "#d8576b"
             ],
             [
              0.6666666666666666,
              "#ed7953"
             ],
             [
              0.7777777777777778,
              "#fb9f3a"
             ],
             [
              0.8888888888888888,
              "#fdca26"
             ],
             [
              1,
              "#f0f921"
             ]
            ],
            "type": "contour"
           }
          ],
          "contourcarpet": [
           {
            "colorbar": {
             "outlinewidth": 0,
             "ticks": ""
            },
            "type": "contourcarpet"
           }
          ],
          "heatmap": [
           {
            "colorbar": {
             "outlinewidth": 0,
             "ticks": ""
            },
            "colorscale": [
             [
              0,
              "#0d0887"
             ],
             [
              0.1111111111111111,
              "#46039f"
             ],
             [
              0.2222222222222222,
              "#7201a8"
             ],
             [
              0.3333333333333333,
              "#9c179e"
             ],
             [
              0.4444444444444444,
              "#bd3786"
             ],
             [
              0.5555555555555556,
              "#d8576b"
             ],
             [
              0.6666666666666666,
              "#ed7953"
             ],
             [
              0.7777777777777778,
              "#fb9f3a"
             ],
             [
              0.8888888888888888,
              "#fdca26"
             ],
             [
              1,
              "#f0f921"
             ]
            ],
            "type": "heatmap"
           }
          ],
          "heatmapgl": [
           {
            "colorbar": {
             "outlinewidth": 0,
             "ticks": ""
            },
            "colorscale": [
             [
              0,
              "#0d0887"
             ],
             [
              0.1111111111111111,
              "#46039f"
             ],
             [
              0.2222222222222222,
              "#7201a8"
             ],
             [
              0.3333333333333333,
              "#9c179e"
             ],
             [
              0.4444444444444444,
              "#bd3786"
             ],
             [
              0.5555555555555556,
              "#d8576b"
             ],
             [
              0.6666666666666666,
              "#ed7953"
             ],
             [
              0.7777777777777778,
              "#fb9f3a"
             ],
             [
              0.8888888888888888,
              "#fdca26"
             ],
             [
              1,
              "#f0f921"
             ]
            ],
            "type": "heatmapgl"
           }
          ],
          "histogram": [
           {
            "marker": {
             "pattern": {
              "fillmode": "overlay",
              "size": 10,
              "solidity": 0.2
             }
            },
            "type": "histogram"
           }
          ],
          "histogram2d": [
           {
            "colorbar": {
             "outlinewidth": 0,
             "ticks": ""
            },
            "colorscale": [
             [
              0,
              "#0d0887"
             ],
             [
              0.1111111111111111,
              "#46039f"
             ],
             [
              0.2222222222222222,
              "#7201a8"
             ],
             [
              0.3333333333333333,
              "#9c179e"
             ],
             [
              0.4444444444444444,
              "#bd3786"
             ],
             [
              0.5555555555555556,
              "#d8576b"
             ],
             [
              0.6666666666666666,
              "#ed7953"
             ],
             [
              0.7777777777777778,
              "#fb9f3a"
             ],
             [
              0.8888888888888888,
              "#fdca26"
             ],
             [
              1,
              "#f0f921"
             ]
            ],
            "type": "histogram2d"
           }
          ],
          "histogram2dcontour": [
           {
            "colorbar": {
             "outlinewidth": 0,
             "ticks": ""
            },
            "colorscale": [
             [
              0,
              "#0d0887"
             ],
             [
              0.1111111111111111,
              "#46039f"
             ],
             [
              0.2222222222222222,
              "#7201a8"
             ],
             [
              0.3333333333333333,
              "#9c179e"
             ],
             [
              0.4444444444444444,
              "#bd3786"
             ],
             [
              0.5555555555555556,
              "#d8576b"
             ],
             [
              0.6666666666666666,
              "#ed7953"
             ],
             [
              0.7777777777777778,
              "#fb9f3a"
             ],
             [
              0.8888888888888888,
              "#fdca26"
             ],
             [
              1,
              "#f0f921"
             ]
            ],
            "type": "histogram2dcontour"
           }
          ],
          "mesh3d": [
           {
            "colorbar": {
             "outlinewidth": 0,
             "ticks": ""
            },
            "type": "mesh3d"
           }
          ],
          "parcoords": [
           {
            "line": {
             "colorbar": {
              "outlinewidth": 0,
              "ticks": ""
             }
            },
            "type": "parcoords"
           }
          ],
          "pie": [
           {
            "automargin": true,
            "type": "pie"
           }
          ],
          "scatter": [
           {
            "fillpattern": {
             "fillmode": "overlay",
             "size": 10,
             "solidity": 0.2
            },
            "type": "scatter"
           }
          ],
          "scatter3d": [
           {
            "line": {
             "colorbar": {
              "outlinewidth": 0,
              "ticks": ""
             }
            },
            "marker": {
             "colorbar": {
              "outlinewidth": 0,
              "ticks": ""
             }
            },
            "type": "scatter3d"
           }
          ],
          "scattercarpet": [
           {
            "marker": {
             "colorbar": {
              "outlinewidth": 0,
              "ticks": ""
             }
            },
            "type": "scattercarpet"
           }
          ],
          "scattergeo": [
           {
            "marker": {
             "colorbar": {
              "outlinewidth": 0,
              "ticks": ""
             }
            },
            "type": "scattergeo"
           }
          ],
          "scattergl": [
           {
            "marker": {
             "colorbar": {
              "outlinewidth": 0,
              "ticks": ""
             }
            },
            "type": "scattergl"
           }
          ],
          "scattermapbox": [
           {
            "marker": {
             "colorbar": {
              "outlinewidth": 0,
              "ticks": ""
             }
            },
            "type": "scattermapbox"
           }
          ],
          "scatterpolar": [
           {
            "marker": {
             "colorbar": {
              "outlinewidth": 0,
              "ticks": ""
             }
            },
            "type": "scatterpolar"
           }
          ],
          "scatterpolargl": [
           {
            "marker": {
             "colorbar": {
              "outlinewidth": 0,
              "ticks": ""
             }
            },
            "type": "scatterpolargl"
           }
          ],
          "scatterternary": [
           {
            "marker": {
             "colorbar": {
              "outlinewidth": 0,
              "ticks": ""
             }
            },
            "type": "scatterternary"
           }
          ],
          "surface": [
           {
            "colorbar": {
             "outlinewidth": 0,
             "ticks": ""
            },
            "colorscale": [
             [
              0,
              "#0d0887"
             ],
             [
              0.1111111111111111,
              "#46039f"
             ],
             [
              0.2222222222222222,
              "#7201a8"
             ],
             [
              0.3333333333333333,
              "#9c179e"
             ],
             [
              0.4444444444444444,
              "#bd3786"
             ],
             [
              0.5555555555555556,
              "#d8576b"
             ],
             [
              0.6666666666666666,
              "#ed7953"
             ],
             [
              0.7777777777777778,
              "#fb9f3a"
             ],
             [
              0.8888888888888888,
              "#fdca26"
             ],
             [
              1,
              "#f0f921"
             ]
            ],
            "type": "surface"
           }
          ],
          "table": [
           {
            "cells": {
             "fill": {
              "color": "#EBF0F8"
             },
             "line": {
              "color": "white"
             }
            },
            "header": {
             "fill": {
              "color": "#C8D4E3"
             },
             "line": {
              "color": "white"
             }
            },
            "type": "table"
           }
          ]
         },
         "layout": {
          "annotationdefaults": {
           "arrowcolor": "#2a3f5f",
           "arrowhead": 0,
           "arrowwidth": 1
          },
          "autotypenumbers": "strict",
          "coloraxis": {
           "colorbar": {
            "outlinewidth": 0,
            "ticks": ""
           }
          },
          "colorscale": {
           "diverging": [
            [
             0,
             "#8e0152"
            ],
            [
             0.1,
             "#c51b7d"
            ],
            [
             0.2,
             "#de77ae"
            ],
            [
             0.3,
             "#f1b6da"
            ],
            [
             0.4,
             "#fde0ef"
            ],
            [
             0.5,
             "#f7f7f7"
            ],
            [
             0.6,
             "#e6f5d0"
            ],
            [
             0.7,
             "#b8e186"
            ],
            [
             0.8,
             "#7fbc41"
            ],
            [
             0.9,
             "#4d9221"
            ],
            [
             1,
             "#276419"
            ]
           ],
           "sequential": [
            [
             0,
             "#0d0887"
            ],
            [
             0.1111111111111111,
             "#46039f"
            ],
            [
             0.2222222222222222,
             "#7201a8"
            ],
            [
             0.3333333333333333,
             "#9c179e"
            ],
            [
             0.4444444444444444,
             "#bd3786"
            ],
            [
             0.5555555555555556,
             "#d8576b"
            ],
            [
             0.6666666666666666,
             "#ed7953"
            ],
            [
             0.7777777777777778,
             "#fb9f3a"
            ],
            [
             0.8888888888888888,
             "#fdca26"
            ],
            [
             1,
             "#f0f921"
            ]
           ],
           "sequentialminus": [
            [
             0,
             "#0d0887"
            ],
            [
             0.1111111111111111,
             "#46039f"
            ],
            [
             0.2222222222222222,
             "#7201a8"
            ],
            [
             0.3333333333333333,
             "#9c179e"
            ],
            [
             0.4444444444444444,
             "#bd3786"
            ],
            [
             0.5555555555555556,
             "#d8576b"
            ],
            [
             0.6666666666666666,
             "#ed7953"
            ],
            [
             0.7777777777777778,
             "#fb9f3a"
            ],
            [
             0.8888888888888888,
             "#fdca26"
            ],
            [
             1,
             "#f0f921"
            ]
           ]
          },
          "colorway": [
           "#636efa",
           "#EF553B",
           "#00cc96",
           "#ab63fa",
           "#FFA15A",
           "#19d3f3",
           "#FF6692",
           "#B6E880",
           "#FF97FF",
           "#FECB52"
          ],
          "font": {
           "color": "#2a3f5f"
          },
          "geo": {
           "bgcolor": "white",
           "lakecolor": "white",
           "landcolor": "#E5ECF6",
           "showlakes": true,
           "showland": true,
           "subunitcolor": "white"
          },
          "hoverlabel": {
           "align": "left"
          },
          "hovermode": "closest",
          "mapbox": {
           "style": "light"
          },
          "paper_bgcolor": "white",
          "plot_bgcolor": "#E5ECF6",
          "polar": {
           "angularaxis": {
            "gridcolor": "white",
            "linecolor": "white",
            "ticks": ""
           },
           "bgcolor": "#E5ECF6",
           "radialaxis": {
            "gridcolor": "white",
            "linecolor": "white",
            "ticks": ""
           }
          },
          "scene": {
           "xaxis": {
            "backgroundcolor": "#E5ECF6",
            "gridcolor": "white",
            "gridwidth": 2,
            "linecolor": "white",
            "showbackground": true,
            "ticks": "",
            "zerolinecolor": "white"
           },
           "yaxis": {
            "backgroundcolor": "#E5ECF6",
            "gridcolor": "white",
            "gridwidth": 2,
            "linecolor": "white",
            "showbackground": true,
            "ticks": "",
            "zerolinecolor": "white"
           },
           "zaxis": {
            "backgroundcolor": "#E5ECF6",
            "gridcolor": "white",
            "gridwidth": 2,
            "linecolor": "white",
            "showbackground": true,
            "ticks": "",
            "zerolinecolor": "white"
           }
          },
          "shapedefaults": {
           "line": {
            "color": "#2a3f5f"
           }
          },
          "ternary": {
           "aaxis": {
            "gridcolor": "white",
            "linecolor": "white",
            "ticks": ""
           },
           "baxis": {
            "gridcolor": "white",
            "linecolor": "white",
            "ticks": ""
           },
           "bgcolor": "#E5ECF6",
           "caxis": {
            "gridcolor": "white",
            "linecolor": "white",
            "ticks": ""
           }
          },
          "title": {
           "x": 0.05
          },
          "xaxis": {
           "automargin": true,
           "gridcolor": "white",
           "linecolor": "white",
           "ticks": "",
           "title": {
            "standoff": 15
           },
           "zerolinecolor": "white",
           "zerolinewidth": 2
          },
          "yaxis": {
           "automargin": true,
           "gridcolor": "white",
           "linecolor": "white",
           "ticks": "",
           "title": {
            "standoff": 15
           },
           "zerolinecolor": "white",
           "zerolinewidth": 2
          }
         }
        },
        "title": {
         "text": "EDA Values Throughout the Day"
        },
        "xaxis": {
         "anchor": "y",
         "domain": [
          0,
          1
         ],
         "title": {
          "text": "Lunch Time"
         }
        },
        "yaxis": {
         "anchor": "x",
         "domain": [
          0,
          1
         ],
         "title": {
          "text": "EDA Value"
         }
        }
       }
      }
     },
     "metadata": {},
     "output_type": "display_data"
    }
   ],
   "source": [
    "import pandas as pd\n",
    "import plotly.express as px\n",
    "\n",
    "eda_logs_avg_all_copy = eda_logs_avg_all.copy()\n",
    "\n",
    "start_time = pd.to_datetime(\"06:00:00\").time()\n",
    "end_time = pd.to_datetime(\"11:00:00\").time()\n",
    "\n",
    "# Use boolean indexing with `&` instead of `and`\n",
    "eda_logs_avg_all_copy = eda_logs_avg_all_copy[\n",
    "    (eda_logs_avg_all_copy['time_of_day'] > start_time) & \n",
    "    (eda_logs_avg_all_copy['time_of_day'] < end_time)\n",
    "]\n",
    "fig = px.scatter(eda_logs_avg_all_copy, x='time_of_day', y='eda', labels={\n",
    "    'time_of_day': 'Lunch Time',\n",
    "    'eda': 'EDA Value'\n",
    "}, title='EDA Values Throughout the Day')\n",
    "\n",
    "# Show the plot\n",
    "fig.show()"
   ]
  },
  {
   "cell_type": "code",
   "execution_count": 19,
   "metadata": {},
   "outputs": [
    {
     "name": "stdout",
     "output_type": "stream",
     "text": [
      "Skipping Food_Logs\\Food_Log_007.csv due to missing 'time' column\n",
      "Skipping Food_Logs\\Food_Log_015.csv due to missing 'time' column\n"
     ]
    },
    {
     "data": {
      "text/html": [
       "<div>\n",
       "<style scoped>\n",
       "    .dataframe tbody tr th:only-of-type {\n",
       "        vertical-align: middle;\n",
       "    }\n",
       "\n",
       "    .dataframe tbody tr th {\n",
       "        vertical-align: top;\n",
       "    }\n",
       "\n",
       "    .dataframe thead th {\n",
       "        text-align: right;\n",
       "    }\n",
       "</style>\n",
       "<table border=\"1\" class=\"dataframe\">\n",
       "  <thead>\n",
       "    <tr style=\"text-align: right;\">\n",
       "      <th></th>\n",
       "      <th>time</th>\n",
       "      <th>count</th>\n",
       "    </tr>\n",
       "  </thead>\n",
       "  <tbody>\n",
       "    <tr>\n",
       "      <th>0</th>\n",
       "      <td>01:30:00</td>\n",
       "      <td>2</td>\n",
       "    </tr>\n",
       "    <tr>\n",
       "      <th>1</th>\n",
       "      <td>01:40:00</td>\n",
       "      <td>1</td>\n",
       "    </tr>\n",
       "    <tr>\n",
       "      <th>2</th>\n",
       "      <td>02:00:00</td>\n",
       "      <td>1</td>\n",
       "    </tr>\n",
       "    <tr>\n",
       "      <th>3</th>\n",
       "      <td>04:25:00</td>\n",
       "      <td>2</td>\n",
       "    </tr>\n",
       "    <tr>\n",
       "      <th>4</th>\n",
       "      <td>04:30:00</td>\n",
       "      <td>6</td>\n",
       "    </tr>\n",
       "    <tr>\n",
       "      <th>...</th>\n",
       "      <td>...</td>\n",
       "      <td>...</td>\n",
       "    </tr>\n",
       "    <tr>\n",
       "      <th>123</th>\n",
       "      <td>22:45:00</td>\n",
       "      <td>1</td>\n",
       "    </tr>\n",
       "    <tr>\n",
       "      <th>124</th>\n",
       "      <td>23:00:00</td>\n",
       "      <td>4</td>\n",
       "    </tr>\n",
       "    <tr>\n",
       "      <th>125</th>\n",
       "      <td>23:30:00</td>\n",
       "      <td>6</td>\n",
       "    </tr>\n",
       "    <tr>\n",
       "      <th>126</th>\n",
       "      <td>23:45:00</td>\n",
       "      <td>4</td>\n",
       "    </tr>\n",
       "    <tr>\n",
       "      <th>127</th>\n",
       "      <td>23:50:00</td>\n",
       "      <td>1</td>\n",
       "    </tr>\n",
       "  </tbody>\n",
       "</table>\n",
       "<p>124 rows × 2 columns</p>\n",
       "</div>"
      ],
      "text/plain": [
       "         time  count\n",
       "0    01:30:00      2\n",
       "1    01:40:00      1\n",
       "2    02:00:00      1\n",
       "3    04:25:00      2\n",
       "4    04:30:00      6\n",
       "..        ...    ...\n",
       "123  22:45:00      1\n",
       "124  23:00:00      4\n",
       "125  23:30:00      6\n",
       "126  23:45:00      4\n",
       "127  23:50:00      1\n",
       "\n",
       "[124 rows x 2 columns]"
      ]
     },
     "execution_count": 19,
     "metadata": {},
     "output_type": "execute_result"
    }
   ],
   "source": [
    "import glob\n",
    "import os\n",
    "import pandas as pd\n",
    "\n",
    "def aggregate_food_logs(path_to_folder):\n",
    "    all_files = glob.glob(os.path.join(path_to_folder, \"*.csv\"))\n",
    "    combined_df = pd.DataFrame()\n",
    "\n",
    "    for file in all_files:\n",
    "        df = pd.read_csv(file, encoding=\"utf-8\")\n",
    "\n",
    "        # Standardize column names\n",
    "        df.columns = df.columns.str.strip().str.lower()\n",
    "\n",
    "        # Ensure 'time' exists\n",
    "        if 'time' not in df.columns:\n",
    "            print(f\"Skipping {file} due to missing 'time' column\")\n",
    "            continue\n",
    "\n",
    "        # Convert 'time' to datetime format\n",
    "        df['time'] = pd.to_datetime(df['time'], errors='coerce', format='%H:%M:%S')\n",
    "\n",
    "        # Drop missing time entries\n",
    "        df = df.dropna(subset=[\"time\"])\n",
    "\n",
    "        # Round 'time' down to the nearest 5-minute interval\n",
    "        df['time'] = df['time'].dt.floor('5min').dt.time  # Keep only time part\n",
    "\n",
    "        # Group by 'time' and count occurrences\n",
    "        eating_counts = df.groupby(\"time\")[\"time\"].count().reset_index(name=\"count\")\n",
    "\n",
    "        # Append to combined DataFrame\n",
    "        combined_df = pd.concat([combined_df, eating_counts], ignore_index=True)\n",
    "\n",
    "    # Aggregate counts across all logs by summing them up\n",
    "    final_counts = combined_df.groupby(\"time\")[\"count\"].sum().reset_index()\n",
    "\n",
    "    return final_counts\n",
    "\n",
    "# Example usage\n",
    "folder_path = \"Food_Logs\"\n",
    "eating_counts_df = aggregate_food_logs(folder_path)\n",
    "\n",
    "# Print results\n",
    "eating_counts_df\n",
    "eating_counts_df_filtered = eating_counts_df[eating_counts_df['count'] >= 3]\n",
    "eating_counts_df_filtered = eating_counts_df[eating_counts_df['count'] < 20]\n",
    "eating_counts_df_filtered\n"
   ]
  },
  {
   "cell_type": "code",
   "execution_count": 20,
   "metadata": {},
   "outputs": [
    {
     "name": "stderr",
     "output_type": "stream",
     "text": [
      "C:\\Users\\Admin\\AppData\\Local\\Temp\\ipykernel_16716\\1552608717.py:23: SettingWithCopyWarning:\n",
      "\n",
      "\n",
      "A value is trying to be set on a copy of a slice from a DataFrame.\n",
      "Try using .loc[row_indexer,col_indexer] = value instead\n",
      "\n",
      "See the caveats in the documentation: https://pandas.pydata.org/pandas-docs/stable/user_guide/indexing.html#returning-a-view-versus-a-copy\n",
      "\n"
     ]
    },
    {
     "data": {
      "application/vnd.plotly.v1+json": {
       "config": {
        "plotlyServerURL": "https://plot.ly"
       },
       "data": [
        {
         "hovertemplate": "Lunch Time=%{x}<br>EDA Value=%{y}<extra></extra>",
         "legendgroup": "",
         "marker": {
          "color": "#636efa",
          "symbol": "circle"
         },
         "mode": "markers",
         "name": "",
         "orientation": "v",
         "showlegend": false,
         "type": "scatter",
         "x": [
          "12:00:00",
          "12:05:00",
          "12:10:00",
          "12:15:00",
          "12:20:00",
          "12:25:00",
          "12:30:00",
          "12:35:00",
          "12:40:00",
          "12:45:00",
          "12:50:00",
          "12:55:00",
          "13:00:00",
          "13:05:00",
          "13:10:00",
          "13:15:00",
          "13:20:00",
          "13:25:00",
          "13:30:00",
          "13:35:00",
          "13:40:00",
          "13:45:00",
          "13:50:00",
          "13:55:00",
          "14:00:00"
         ],
         "xaxis": "x",
         "y": [
          1.1708109132250653,
          1.3352701137037037,
          1.238829478425926,
          1.2053214873538463,
          1.358630096803761,
          1.3468838562712364,
          1.6747752049172988,
          1.6822380446212122,
          1.637766589848485,
          1.862411433841219,
          1.874431387626495,
          2.0192004835757573,
          2.0882557808030304,
          1.6801721889090908,
          1.5087666117575758,
          1.2955159933636362,
          1.1799201457727273,
          1.0220174496327545,
          1.1358380351365482,
          1.1685750595454545,
          1.1805119043030303,
          0.9253273931666667,
          0.9163137391363636,
          1.1639314048787879,
          1.0733461775
         ],
         "yaxis": "y"
        }
       ],
       "layout": {
        "annotations": [
         {
          "font": {
           "color": "black",
           "size": 12
          },
          "showarrow": false,
          "text": "1",
          "x": "12:00:00",
          "y": 1.1708109132250653,
          "yshift": 10
         },
         {
          "font": {
           "color": "black",
           "size": 12
          },
          "showarrow": false,
          "text": "2",
          "x": "12:15:00",
          "y": 1.2053214873538463,
          "yshift": 10
         },
         {
          "font": {
           "color": "black",
           "size": 12
          },
          "showarrow": false,
          "text": "3",
          "x": "12:25:00",
          "y": 1.3468838562712364,
          "yshift": 10
         },
         {
          "font": {
           "color": "black",
           "size": 12
          },
          "showarrow": false,
          "text": "4",
          "x": "12:35:00",
          "y": 1.6822380446212122,
          "yshift": 10
         },
         {
          "font": {
           "color": "black",
           "size": 12
          },
          "showarrow": false,
          "text": "5",
          "x": "12:40:00",
          "y": 1.637766589848485,
          "yshift": 10
         },
         {
          "font": {
           "color": "black",
           "size": 12
          },
          "showarrow": false,
          "text": "7",
          "x": "12:45:00",
          "y": 1.862411433841219,
          "yshift": 10
         },
         {
          "font": {
           "color": "black",
           "size": 12
          },
          "showarrow": false,
          "text": "6",
          "x": "12:50:00",
          "y": 1.874431387626495,
          "yshift": 10
         },
         {
          "font": {
           "color": "black",
           "size": 12
          },
          "showarrow": false,
          "text": "7",
          "x": "13:00:00",
          "y": 2.0882557808030304,
          "yshift": 10
         },
         {
          "font": {
           "color": "black",
           "size": 12
          },
          "showarrow": false,
          "text": "2",
          "x": "13:05:00",
          "y": 1.6801721889090908,
          "yshift": 10
         },
         {
          "font": {
           "color": "black",
           "size": 12
          },
          "showarrow": false,
          "text": "11",
          "x": "13:15:00",
          "y": 1.2955159933636362,
          "yshift": 10
         },
         {
          "font": {
           "color": "black",
           "size": 12
          },
          "showarrow": false,
          "text": "5",
          "x": "13:20:00",
          "y": 1.1799201457727273,
          "yshift": 10
         },
         {
          "font": {
           "color": "black",
           "size": 12
          },
          "showarrow": false,
          "text": "6",
          "x": "13:25:00",
          "y": 1.0220174496327545,
          "yshift": 10
         },
         {
          "font": {
           "color": "black",
           "size": 12
          },
          "showarrow": false,
          "text": "6",
          "x": "13:30:00",
          "y": 1.1358380351365482,
          "yshift": 10
         },
         {
          "font": {
           "color": "black",
           "size": 12
          },
          "showarrow": false,
          "text": "10",
          "x": "13:40:00",
          "y": 1.1805119043030303,
          "yshift": 10
         },
         {
          "font": {
           "color": "black",
           "size": 12
          },
          "showarrow": false,
          "text": "2",
          "x": "13:55:00",
          "y": 1.1639314048787879,
          "yshift": 10
         },
         {
          "font": {
           "color": "black",
           "size": 12
          },
          "showarrow": false,
          "text": "11",
          "x": "14:00:00",
          "y": 1.0733461775,
          "yshift": 10
         }
        ],
        "legend": {
         "tracegroupgap": 0
        },
        "shapes": [
         {
          "line": {
           "color": "rgba(255, 0, 0, 0.09090909090909091)",
           "width": 2
          },
          "type": "line",
          "x0": "12:00:00",
          "x1": "12:00:00",
          "y0": 0,
          "y1": 1.1708109132250653
         },
         {
          "line": {
           "color": "rgba(255, 0, 0, 0.18181818181818182)",
           "width": 2
          },
          "type": "line",
          "x0": "12:15:00",
          "x1": "12:15:00",
          "y0": 0,
          "y1": 1.2053214873538463
         },
         {
          "line": {
           "color": "rgba(255, 0, 0, 0.2727272727272727)",
           "width": 2
          },
          "type": "line",
          "x0": "12:25:00",
          "x1": "12:25:00",
          "y0": 0,
          "y1": 1.3468838562712364
         },
         {
          "line": {
           "color": "rgba(255, 0, 0, 0.36363636363636365)",
           "width": 2
          },
          "type": "line",
          "x0": "12:35:00",
          "x1": "12:35:00",
          "y0": 0,
          "y1": 1.6822380446212122
         },
         {
          "line": {
           "color": "rgba(255, 0, 0, 0.45454545454545453)",
           "width": 2
          },
          "type": "line",
          "x0": "12:40:00",
          "x1": "12:40:00",
          "y0": 0,
          "y1": 1.637766589848485
         },
         {
          "line": {
           "color": "rgba(255, 0, 0, 0.6363636363636364)",
           "width": 2
          },
          "type": "line",
          "x0": "12:45:00",
          "x1": "12:45:00",
          "y0": 0,
          "y1": 1.862411433841219
         },
         {
          "line": {
           "color": "rgba(255, 0, 0, 0.5454545454545454)",
           "width": 2
          },
          "type": "line",
          "x0": "12:50:00",
          "x1": "12:50:00",
          "y0": 0,
          "y1": 1.874431387626495
         },
         {
          "line": {
           "color": "rgba(255, 0, 0, 0.6363636363636364)",
           "width": 2
          },
          "type": "line",
          "x0": "13:00:00",
          "x1": "13:00:00",
          "y0": 0,
          "y1": 2.0882557808030304
         },
         {
          "line": {
           "color": "rgba(255, 0, 0, 0.18181818181818182)",
           "width": 2
          },
          "type": "line",
          "x0": "13:05:00",
          "x1": "13:05:00",
          "y0": 0,
          "y1": 1.6801721889090908
         },
         {
          "line": {
           "color": "rgba(255, 0, 0, 1.0)",
           "width": 2
          },
          "type": "line",
          "x0": "13:15:00",
          "x1": "13:15:00",
          "y0": 0,
          "y1": 1.2955159933636362
         },
         {
          "line": {
           "color": "rgba(255, 0, 0, 0.45454545454545453)",
           "width": 2
          },
          "type": "line",
          "x0": "13:20:00",
          "x1": "13:20:00",
          "y0": 0,
          "y1": 1.1799201457727273
         },
         {
          "line": {
           "color": "rgba(255, 0, 0, 0.5454545454545454)",
           "width": 2
          },
          "type": "line",
          "x0": "13:25:00",
          "x1": "13:25:00",
          "y0": 0,
          "y1": 1.0220174496327545
         },
         {
          "line": {
           "color": "rgba(255, 0, 0, 0.5454545454545454)",
           "width": 2
          },
          "type": "line",
          "x0": "13:30:00",
          "x1": "13:30:00",
          "y0": 0,
          "y1": 1.1358380351365482
         },
         {
          "line": {
           "color": "rgba(255, 0, 0, 0.9090909090909091)",
           "width": 2
          },
          "type": "line",
          "x0": "13:40:00",
          "x1": "13:40:00",
          "y0": 0,
          "y1": 1.1805119043030303
         },
         {
          "line": {
           "color": "rgba(255, 0, 0, 0.18181818181818182)",
           "width": 2
          },
          "type": "line",
          "x0": "13:55:00",
          "x1": "13:55:00",
          "y0": 0,
          "y1": 1.1639314048787879
         },
         {
          "line": {
           "color": "rgba(255, 0, 0, 1.0)",
           "width": 2
          },
          "type": "line",
          "x0": "14:00:00",
          "x1": "14:00:00",
          "y0": 0,
          "y1": 1.0733461775
         }
        ],
        "template": {
         "data": {
          "bar": [
           {
            "error_x": {
             "color": "#2a3f5f"
            },
            "error_y": {
             "color": "#2a3f5f"
            },
            "marker": {
             "line": {
              "color": "#E5ECF6",
              "width": 0.5
             },
             "pattern": {
              "fillmode": "overlay",
              "size": 10,
              "solidity": 0.2
             }
            },
            "type": "bar"
           }
          ],
          "barpolar": [
           {
            "marker": {
             "line": {
              "color": "#E5ECF6",
              "width": 0.5
             },
             "pattern": {
              "fillmode": "overlay",
              "size": 10,
              "solidity": 0.2
             }
            },
            "type": "barpolar"
           }
          ],
          "carpet": [
           {
            "aaxis": {
             "endlinecolor": "#2a3f5f",
             "gridcolor": "white",
             "linecolor": "white",
             "minorgridcolor": "white",
             "startlinecolor": "#2a3f5f"
            },
            "baxis": {
             "endlinecolor": "#2a3f5f",
             "gridcolor": "white",
             "linecolor": "white",
             "minorgridcolor": "white",
             "startlinecolor": "#2a3f5f"
            },
            "type": "carpet"
           }
          ],
          "choropleth": [
           {
            "colorbar": {
             "outlinewidth": 0,
             "ticks": ""
            },
            "type": "choropleth"
           }
          ],
          "contour": [
           {
            "colorbar": {
             "outlinewidth": 0,
             "ticks": ""
            },
            "colorscale": [
             [
              0,
              "#0d0887"
             ],
             [
              0.1111111111111111,
              "#46039f"
             ],
             [
              0.2222222222222222,
              "#7201a8"
             ],
             [
              0.3333333333333333,
              "#9c179e"
             ],
             [
              0.4444444444444444,
              "#bd3786"
             ],
             [
              0.5555555555555556,
              "#d8576b"
             ],
             [
              0.6666666666666666,
              "#ed7953"
             ],
             [
              0.7777777777777778,
              "#fb9f3a"
             ],
             [
              0.8888888888888888,
              "#fdca26"
             ],
             [
              1,
              "#f0f921"
             ]
            ],
            "type": "contour"
           }
          ],
          "contourcarpet": [
           {
            "colorbar": {
             "outlinewidth": 0,
             "ticks": ""
            },
            "type": "contourcarpet"
           }
          ],
          "heatmap": [
           {
            "colorbar": {
             "outlinewidth": 0,
             "ticks": ""
            },
            "colorscale": [
             [
              0,
              "#0d0887"
             ],
             [
              0.1111111111111111,
              "#46039f"
             ],
             [
              0.2222222222222222,
              "#7201a8"
             ],
             [
              0.3333333333333333,
              "#9c179e"
             ],
             [
              0.4444444444444444,
              "#bd3786"
             ],
             [
              0.5555555555555556,
              "#d8576b"
             ],
             [
              0.6666666666666666,
              "#ed7953"
             ],
             [
              0.7777777777777778,
              "#fb9f3a"
             ],
             [
              0.8888888888888888,
              "#fdca26"
             ],
             [
              1,
              "#f0f921"
             ]
            ],
            "type": "heatmap"
           }
          ],
          "heatmapgl": [
           {
            "colorbar": {
             "outlinewidth": 0,
             "ticks": ""
            },
            "colorscale": [
             [
              0,
              "#0d0887"
             ],
             [
              0.1111111111111111,
              "#46039f"
             ],
             [
              0.2222222222222222,
              "#7201a8"
             ],
             [
              0.3333333333333333,
              "#9c179e"
             ],
             [
              0.4444444444444444,
              "#bd3786"
             ],
             [
              0.5555555555555556,
              "#d8576b"
             ],
             [
              0.6666666666666666,
              "#ed7953"
             ],
             [
              0.7777777777777778,
              "#fb9f3a"
             ],
             [
              0.8888888888888888,
              "#fdca26"
             ],
             [
              1,
              "#f0f921"
             ]
            ],
            "type": "heatmapgl"
           }
          ],
          "histogram": [
           {
            "marker": {
             "pattern": {
              "fillmode": "overlay",
              "size": 10,
              "solidity": 0.2
             }
            },
            "type": "histogram"
           }
          ],
          "histogram2d": [
           {
            "colorbar": {
             "outlinewidth": 0,
             "ticks": ""
            },
            "colorscale": [
             [
              0,
              "#0d0887"
             ],
             [
              0.1111111111111111,
              "#46039f"
             ],
             [
              0.2222222222222222,
              "#7201a8"
             ],
             [
              0.3333333333333333,
              "#9c179e"
             ],
             [
              0.4444444444444444,
              "#bd3786"
             ],
             [
              0.5555555555555556,
              "#d8576b"
             ],
             [
              0.6666666666666666,
              "#ed7953"
             ],
             [
              0.7777777777777778,
              "#fb9f3a"
             ],
             [
              0.8888888888888888,
              "#fdca26"
             ],
             [
              1,
              "#f0f921"
             ]
            ],
            "type": "histogram2d"
           }
          ],
          "histogram2dcontour": [
           {
            "colorbar": {
             "outlinewidth": 0,
             "ticks": ""
            },
            "colorscale": [
             [
              0,
              "#0d0887"
             ],
             [
              0.1111111111111111,
              "#46039f"
             ],
             [
              0.2222222222222222,
              "#7201a8"
             ],
             [
              0.3333333333333333,
              "#9c179e"
             ],
             [
              0.4444444444444444,
              "#bd3786"
             ],
             [
              0.5555555555555556,
              "#d8576b"
             ],
             [
              0.6666666666666666,
              "#ed7953"
             ],
             [
              0.7777777777777778,
              "#fb9f3a"
             ],
             [
              0.8888888888888888,
              "#fdca26"
             ],
             [
              1,
              "#f0f921"
             ]
            ],
            "type": "histogram2dcontour"
           }
          ],
          "mesh3d": [
           {
            "colorbar": {
             "outlinewidth": 0,
             "ticks": ""
            },
            "type": "mesh3d"
           }
          ],
          "parcoords": [
           {
            "line": {
             "colorbar": {
              "outlinewidth": 0,
              "ticks": ""
             }
            },
            "type": "parcoords"
           }
          ],
          "pie": [
           {
            "automargin": true,
            "type": "pie"
           }
          ],
          "scatter": [
           {
            "fillpattern": {
             "fillmode": "overlay",
             "size": 10,
             "solidity": 0.2
            },
            "type": "scatter"
           }
          ],
          "scatter3d": [
           {
            "line": {
             "colorbar": {
              "outlinewidth": 0,
              "ticks": ""
             }
            },
            "marker": {
             "colorbar": {
              "outlinewidth": 0,
              "ticks": ""
             }
            },
            "type": "scatter3d"
           }
          ],
          "scattercarpet": [
           {
            "marker": {
             "colorbar": {
              "outlinewidth": 0,
              "ticks": ""
             }
            },
            "type": "scattercarpet"
           }
          ],
          "scattergeo": [
           {
            "marker": {
             "colorbar": {
              "outlinewidth": 0,
              "ticks": ""
             }
            },
            "type": "scattergeo"
           }
          ],
          "scattergl": [
           {
            "marker": {
             "colorbar": {
              "outlinewidth": 0,
              "ticks": ""
             }
            },
            "type": "scattergl"
           }
          ],
          "scattermapbox": [
           {
            "marker": {
             "colorbar": {
              "outlinewidth": 0,
              "ticks": ""
             }
            },
            "type": "scattermapbox"
           }
          ],
          "scatterpolar": [
           {
            "marker": {
             "colorbar": {
              "outlinewidth": 0,
              "ticks": ""
             }
            },
            "type": "scatterpolar"
           }
          ],
          "scatterpolargl": [
           {
            "marker": {
             "colorbar": {
              "outlinewidth": 0,
              "ticks": ""
             }
            },
            "type": "scatterpolargl"
           }
          ],
          "scatterternary": [
           {
            "marker": {
             "colorbar": {
              "outlinewidth": 0,
              "ticks": ""
             }
            },
            "type": "scatterternary"
           }
          ],
          "surface": [
           {
            "colorbar": {
             "outlinewidth": 0,
             "ticks": ""
            },
            "colorscale": [
             [
              0,
              "#0d0887"
             ],
             [
              0.1111111111111111,
              "#46039f"
             ],
             [
              0.2222222222222222,
              "#7201a8"
             ],
             [
              0.3333333333333333,
              "#9c179e"
             ],
             [
              0.4444444444444444,
              "#bd3786"
             ],
             [
              0.5555555555555556,
              "#d8576b"
             ],
             [
              0.6666666666666666,
              "#ed7953"
             ],
             [
              0.7777777777777778,
              "#fb9f3a"
             ],
             [
              0.8888888888888888,
              "#fdca26"
             ],
             [
              1,
              "#f0f921"
             ]
            ],
            "type": "surface"
           }
          ],
          "table": [
           {
            "cells": {
             "fill": {
              "color": "#EBF0F8"
             },
             "line": {
              "color": "white"
             }
            },
            "header": {
             "fill": {
              "color": "#C8D4E3"
             },
             "line": {
              "color": "white"
             }
            },
            "type": "table"
           }
          ]
         },
         "layout": {
          "annotationdefaults": {
           "arrowcolor": "#2a3f5f",
           "arrowhead": 0,
           "arrowwidth": 1
          },
          "autotypenumbers": "strict",
          "coloraxis": {
           "colorbar": {
            "outlinewidth": 0,
            "ticks": ""
           }
          },
          "colorscale": {
           "diverging": [
            [
             0,
             "#8e0152"
            ],
            [
             0.1,
             "#c51b7d"
            ],
            [
             0.2,
             "#de77ae"
            ],
            [
             0.3,
             "#f1b6da"
            ],
            [
             0.4,
             "#fde0ef"
            ],
            [
             0.5,
             "#f7f7f7"
            ],
            [
             0.6,
             "#e6f5d0"
            ],
            [
             0.7,
             "#b8e186"
            ],
            [
             0.8,
             "#7fbc41"
            ],
            [
             0.9,
             "#4d9221"
            ],
            [
             1,
             "#276419"
            ]
           ],
           "sequential": [
            [
             0,
             "#0d0887"
            ],
            [
             0.1111111111111111,
             "#46039f"
            ],
            [
             0.2222222222222222,
             "#7201a8"
            ],
            [
             0.3333333333333333,
             "#9c179e"
            ],
            [
             0.4444444444444444,
             "#bd3786"
            ],
            [
             0.5555555555555556,
             "#d8576b"
            ],
            [
             0.6666666666666666,
             "#ed7953"
            ],
            [
             0.7777777777777778,
             "#fb9f3a"
            ],
            [
             0.8888888888888888,
             "#fdca26"
            ],
            [
             1,
             "#f0f921"
            ]
           ],
           "sequentialminus": [
            [
             0,
             "#0d0887"
            ],
            [
             0.1111111111111111,
             "#46039f"
            ],
            [
             0.2222222222222222,
             "#7201a8"
            ],
            [
             0.3333333333333333,
             "#9c179e"
            ],
            [
             0.4444444444444444,
             "#bd3786"
            ],
            [
             0.5555555555555556,
             "#d8576b"
            ],
            [
             0.6666666666666666,
             "#ed7953"
            ],
            [
             0.7777777777777778,
             "#fb9f3a"
            ],
            [
             0.8888888888888888,
             "#fdca26"
            ],
            [
             1,
             "#f0f921"
            ]
           ]
          },
          "colorway": [
           "#636efa",
           "#EF553B",
           "#00cc96",
           "#ab63fa",
           "#FFA15A",
           "#19d3f3",
           "#FF6692",
           "#B6E880",
           "#FF97FF",
           "#FECB52"
          ],
          "font": {
           "color": "#2a3f5f"
          },
          "geo": {
           "bgcolor": "white",
           "lakecolor": "white",
           "landcolor": "#E5ECF6",
           "showlakes": true,
           "showland": true,
           "subunitcolor": "white"
          },
          "hoverlabel": {
           "align": "left"
          },
          "hovermode": "closest",
          "mapbox": {
           "style": "light"
          },
          "paper_bgcolor": "white",
          "plot_bgcolor": "#E5ECF6",
          "polar": {
           "angularaxis": {
            "gridcolor": "white",
            "linecolor": "white",
            "ticks": ""
           },
           "bgcolor": "#E5ECF6",
           "radialaxis": {
            "gridcolor": "white",
            "linecolor": "white",
            "ticks": ""
           }
          },
          "scene": {
           "xaxis": {
            "backgroundcolor": "#E5ECF6",
            "gridcolor": "white",
            "gridwidth": 2,
            "linecolor": "white",
            "showbackground": true,
            "ticks": "",
            "zerolinecolor": "white"
           },
           "yaxis": {
            "backgroundcolor": "#E5ECF6",
            "gridcolor": "white",
            "gridwidth": 2,
            "linecolor": "white",
            "showbackground": true,
            "ticks": "",
            "zerolinecolor": "white"
           },
           "zaxis": {
            "backgroundcolor": "#E5ECF6",
            "gridcolor": "white",
            "gridwidth": 2,
            "linecolor": "white",
            "showbackground": true,
            "ticks": "",
            "zerolinecolor": "white"
           }
          },
          "shapedefaults": {
           "line": {
            "color": "#2a3f5f"
           }
          },
          "ternary": {
           "aaxis": {
            "gridcolor": "white",
            "linecolor": "white",
            "ticks": ""
           },
           "baxis": {
            "gridcolor": "white",
            "linecolor": "white",
            "ticks": ""
           },
           "bgcolor": "#E5ECF6",
           "caxis": {
            "gridcolor": "white",
            "linecolor": "white",
            "ticks": ""
           }
          },
          "title": {
           "x": 0.05
          },
          "xaxis": {
           "automargin": true,
           "gridcolor": "white",
           "linecolor": "white",
           "ticks": "",
           "title": {
            "standoff": 15
           },
           "zerolinecolor": "white",
           "zerolinewidth": 2
          },
          "yaxis": {
           "automargin": true,
           "gridcolor": "white",
           "linecolor": "white",
           "ticks": "",
           "title": {
            "standoff": 15
           },
           "zerolinecolor": "white",
           "zerolinewidth": 2
          }
         }
        },
        "title": {
         "text": "Your body will know when to eat!"
        },
        "xaxis": {
         "anchor": "y",
         "domain": [
          0,
          1
         ],
         "title": {
          "text": "Lunch Time"
         }
        },
        "yaxis": {
         "anchor": "x",
         "domain": [
          0,
          1
         ],
         "title": {
          "text": "EDA Value"
         }
        }
       }
      }
     },
     "metadata": {},
     "output_type": "display_data"
    }
   ],
   "source": [
    "import pandas as pd\n",
    "import plotly.express as px\n",
    "import plotly.graph_objects as go\n",
    "\n",
    "# Create a second copy of the dataset (No transformations!)\n",
    "eda_logs_avg_all_copy2 = eda_logs_avg_all.copy()\n",
    "eating_counts_df = eating_counts_df.copy()\n",
    "\n",
    "# Merge directly as object types (No conversions!)\n",
    "merged_df = eda_logs_avg_all_copy2.merge(\n",
    "    eating_counts_df_filtered, left_on=\"time_of_day\", right_on=\"time\", how=\"left\"\n",
    ").fillna(0)\n",
    "\n",
    "# **🔹 Step 1: Filter for time between \"12:00:00\" and \"13:00:00\"**\n",
    "start_time = pd.to_datetime(\"12:00:00\").time()\n",
    "end_time = pd.to_datetime(\"14:00:00\").time()\n",
    "filtered_df = merged_df[\n",
    "    (merged_df[\"time_of_day\"] >= start_time) & (merged_df[\"time_of_day\"] <= end_time)\n",
    "]\n",
    "\n",
    "# Normalize eating count for transparency scaling\n",
    "max_count = filtered_df[\"count\"].max()\n",
    "filtered_df[\"opacity\"] = filtered_df[\"count\"] / max_count if max_count > 0 else 0\n",
    "\n",
    "# Create scatter plot for EDA values\n",
    "fig = px.scatter(\n",
    "    filtered_df,\n",
    "    x=\"time_of_day\",\n",
    "    y=\"eda\",\n",
    "    labels={\"time_of_day\": \"Lunch Time\", \"eda\": \"EDA Value\"},\n",
    "    title=\"Your body will know when to eat!\",\n",
    ")\n",
    "\n",
    "# Add vertical lines for eating events\n",
    "for _, row in filtered_df.iterrows():\n",
    "    if row[\"count\"] > 0:  # Only add lines where food was eaten\n",
    "        fig.add_shape(\n",
    "            go.layout.Shape(\n",
    "                type=\"line\",\n",
    "                x0=row[\"time_of_day\"], x1=row[\"time_of_day\"],\n",
    "                y0=0, y1=row[\"eda\"],  # Line spans from 0 to EDA value\n",
    "                line=dict(color=f\"rgba(255, 0, 0, {row['opacity']})\", width=2),\n",
    "            )\n",
    "        )\n",
    "\n",
    "        # Add text annotation for eating count\n",
    "        fig.add_annotation(\n",
    "            x=row[\"time_of_day\"],\n",
    "            y=row[\"eda\"],\n",
    "            text=str(int(row[\"count\"])),\n",
    "            showarrow=False,\n",
    "            yshift=10,\n",
    "            font=dict(size=12, color=\"black\"),\n",
    "        )\n",
    "\n",
    "# Show final Plotly figure\n",
    "fig.show()\n"
   ]
  },
  {
   "cell_type": "code",
   "execution_count": 21,
   "metadata": {},
   "outputs": [
    {
     "data": {
      "text/html": [
       "<div>\n",
       "<style scoped>\n",
       "    .dataframe tbody tr th:only-of-type {\n",
       "        vertical-align: middle;\n",
       "    }\n",
       "\n",
       "    .dataframe tbody tr th {\n",
       "        vertical-align: top;\n",
       "    }\n",
       "\n",
       "    .dataframe thead th {\n",
       "        text-align: right;\n",
       "    }\n",
       "</style>\n",
       "<table border=\"1\" class=\"dataframe\">\n",
       "  <thead>\n",
       "    <tr style=\"text-align: right;\">\n",
       "      <th></th>\n",
       "      <th>date</th>\n",
       "      <th>time</th>\n",
       "      <th>time_begin</th>\n",
       "      <th>time_end</th>\n",
       "      <th>logged_food</th>\n",
       "      <th>amount</th>\n",
       "      <th>unit</th>\n",
       "      <th>searched_food</th>\n",
       "      <th>calorie</th>\n",
       "      <th>total_carb</th>\n",
       "      <th>dietary_fiber</th>\n",
       "      <th>sugar</th>\n",
       "      <th>protein</th>\n",
       "      <th>total_fat</th>\n",
       "    </tr>\n",
       "  </thead>\n",
       "  <tbody>\n",
       "    <tr>\n",
       "      <th>0</th>\n",
       "      <td>2020-02-13</td>\n",
       "      <td>18:00:00</td>\n",
       "      <td>2020-02-13 18:00:00</td>\n",
       "      <td>NaN</td>\n",
       "      <td>Berry Smoothie</td>\n",
       "      <td>20.00</td>\n",
       "      <td>fluid ounce</td>\n",
       "      <td>Strawberry Smoothie</td>\n",
       "      <td>456.0</td>\n",
       "      <td>85.0</td>\n",
       "      <td>1.7</td>\n",
       "      <td>83.0</td>\n",
       "      <td>16.0</td>\n",
       "      <td>3.3</td>\n",
       "    </tr>\n",
       "    <tr>\n",
       "      <th>1</th>\n",
       "      <td>2020-02-13</td>\n",
       "      <td>20:30:00</td>\n",
       "      <td>2020-02-13 20:30:00</td>\n",
       "      <td>NaN</td>\n",
       "      <td>Chicken Leg</td>\n",
       "      <td>1.00</td>\n",
       "      <td>NaN</td>\n",
       "      <td>chicken leg</td>\n",
       "      <td>475.0</td>\n",
       "      <td>0.0</td>\n",
       "      <td>0.0</td>\n",
       "      <td>0.0</td>\n",
       "      <td>62.0</td>\n",
       "      <td>23.0</td>\n",
       "    </tr>\n",
       "    <tr>\n",
       "      <th>2</th>\n",
       "      <td>2020-02-13</td>\n",
       "      <td>20:30:00</td>\n",
       "      <td>2020-02-13 20:30:00</td>\n",
       "      <td>NaN</td>\n",
       "      <td>Asparagus</td>\n",
       "      <td>4.00</td>\n",
       "      <td>NaN</td>\n",
       "      <td>Asparagus</td>\n",
       "      <td>13.0</td>\n",
       "      <td>2.5</td>\n",
       "      <td>1.2</td>\n",
       "      <td>0.8</td>\n",
       "      <td>1.4</td>\n",
       "      <td>0.1</td>\n",
       "    </tr>\n",
       "    <tr>\n",
       "      <th>3</th>\n",
       "      <td>2020-02-14</td>\n",
       "      <td>07:10:00</td>\n",
       "      <td>2020-02-14 07:10:00</td>\n",
       "      <td>NaN</td>\n",
       "      <td>Natrel Lactose Free 2 Percent</td>\n",
       "      <td>8.00</td>\n",
       "      <td>fluid ounce</td>\n",
       "      <td>(Natrel) Lactose Free 2% Partly Skimmed Milk</td>\n",
       "      <td>120.0</td>\n",
       "      <td>9.0</td>\n",
       "      <td>NaN</td>\n",
       "      <td>8.0</td>\n",
       "      <td>12.0</td>\n",
       "      <td>NaN</td>\n",
       "    </tr>\n",
       "    <tr>\n",
       "      <th>4</th>\n",
       "      <td>2020-02-14</td>\n",
       "      <td>07:10:00</td>\n",
       "      <td>2020-02-14 07:10:00</td>\n",
       "      <td>NaN</td>\n",
       "      <td>Standard Breakfast</td>\n",
       "      <td>0.75</td>\n",
       "      <td>cup</td>\n",
       "      <td>(Kellogg's) Frosted Flakes, Cereal</td>\n",
       "      <td>110.0</td>\n",
       "      <td>26.0</td>\n",
       "      <td>NaN</td>\n",
       "      <td>10.0</td>\n",
       "      <td>1.0</td>\n",
       "      <td>NaN</td>\n",
       "    </tr>\n",
       "    <tr>\n",
       "      <th>...</th>\n",
       "      <td>...</td>\n",
       "      <td>...</td>\n",
       "      <td>...</td>\n",
       "      <td>...</td>\n",
       "      <td>...</td>\n",
       "      <td>...</td>\n",
       "      <td>...</td>\n",
       "      <td>...</td>\n",
       "      <td>...</td>\n",
       "      <td>...</td>\n",
       "      <td>...</td>\n",
       "      <td>...</td>\n",
       "      <td>...</td>\n",
       "      <td>...</td>\n",
       "    </tr>\n",
       "    <tr>\n",
       "      <th>56</th>\n",
       "      <td>2020-02-21</td>\n",
       "      <td>12:30:00</td>\n",
       "      <td>2020-02-21 12:30:00</td>\n",
       "      <td>NaN</td>\n",
       "      <td>Chicken Salad</td>\n",
       "      <td>0.50</td>\n",
       "      <td>cup</td>\n",
       "      <td>Chicken Salad</td>\n",
       "      <td>254.0</td>\n",
       "      <td>3.3</td>\n",
       "      <td>NaN</td>\n",
       "      <td>2.4</td>\n",
       "      <td>19.0</td>\n",
       "      <td>NaN</td>\n",
       "    </tr>\n",
       "    <tr>\n",
       "      <th>57</th>\n",
       "      <td>2020-02-21</td>\n",
       "      <td>12:30:00</td>\n",
       "      <td>2020-02-21 12:30:00</td>\n",
       "      <td>NaN</td>\n",
       "      <td>Pita Bread</td>\n",
       "      <td>7.00</td>\n",
       "      <td>NaN</td>\n",
       "      <td>Small Pita Bread</td>\n",
       "      <td>539.0</td>\n",
       "      <td>109.0</td>\n",
       "      <td>NaN</td>\n",
       "      <td>2.5</td>\n",
       "      <td>18.0</td>\n",
       "      <td>NaN</td>\n",
       "    </tr>\n",
       "    <tr>\n",
       "      <th>58</th>\n",
       "      <td>2020-02-21</td>\n",
       "      <td>19:50:00</td>\n",
       "      <td>2020-02-21 19:50:00</td>\n",
       "      <td>NaN</td>\n",
       "      <td>Cheese Pita</td>\n",
       "      <td>5.00</td>\n",
       "      <td>NaN</td>\n",
       "      <td>Generic - Serbian Cheese Pita</td>\n",
       "      <td>640.0</td>\n",
       "      <td>95.0</td>\n",
       "      <td>NaN</td>\n",
       "      <td>0.0</td>\n",
       "      <td>30.0</td>\n",
       "      <td>NaN</td>\n",
       "    </tr>\n",
       "    <tr>\n",
       "      <th>59</th>\n",
       "      <td>2020-02-21</td>\n",
       "      <td>20:00:00</td>\n",
       "      <td>2020-02-21 20:00:00</td>\n",
       "      <td>NaN</td>\n",
       "      <td>Spinach Smoothie</td>\n",
       "      <td>20.00</td>\n",
       "      <td>fluid ounce</td>\n",
       "      <td>Spinach Smoothie</td>\n",
       "      <td>308.0</td>\n",
       "      <td>69.0</td>\n",
       "      <td>NaN</td>\n",
       "      <td>38.0</td>\n",
       "      <td>7.2</td>\n",
       "      <td>NaN</td>\n",
       "    </tr>\n",
       "    <tr>\n",
       "      <th>60</th>\n",
       "      <td>2020-02-22</td>\n",
       "      <td>15:10:00</td>\n",
       "      <td>2020-02-22 15:10:00</td>\n",
       "      <td>NaN</td>\n",
       "      <td>Boost</td>\n",
       "      <td>NaN</td>\n",
       "      <td>NaN</td>\n",
       "      <td>NaN</td>\n",
       "      <td>654.0</td>\n",
       "      <td>82.0</td>\n",
       "      <td>5.6</td>\n",
       "      <td>40.0</td>\n",
       "      <td>26.0</td>\n",
       "      <td>26.0</td>\n",
       "    </tr>\n",
       "  </tbody>\n",
       "</table>\n",
       "<p>61 rows × 14 columns</p>\n",
       "</div>"
      ],
      "text/plain": [
       "          date      time           time_begin  time_end  \\\n",
       "0   2020-02-13  18:00:00  2020-02-13 18:00:00       NaN   \n",
       "1   2020-02-13  20:30:00  2020-02-13 20:30:00       NaN   \n",
       "2   2020-02-13  20:30:00  2020-02-13 20:30:00       NaN   \n",
       "3   2020-02-14  07:10:00  2020-02-14 07:10:00       NaN   \n",
       "4   2020-02-14  07:10:00  2020-02-14 07:10:00       NaN   \n",
       "..         ...       ...                  ...       ...   \n",
       "56  2020-02-21  12:30:00  2020-02-21 12:30:00       NaN   \n",
       "57  2020-02-21  12:30:00  2020-02-21 12:30:00       NaN   \n",
       "58  2020-02-21  19:50:00  2020-02-21 19:50:00       NaN   \n",
       "59  2020-02-21  20:00:00  2020-02-21 20:00:00       NaN   \n",
       "60  2020-02-22  15:10:00  2020-02-22 15:10:00       NaN   \n",
       "\n",
       "                      logged_food  amount         unit  \\\n",
       "0                  Berry Smoothie   20.00  fluid ounce   \n",
       "1                     Chicken Leg    1.00          NaN   \n",
       "2                       Asparagus    4.00          NaN   \n",
       "3   Natrel Lactose Free 2 Percent    8.00  fluid ounce   \n",
       "4              Standard Breakfast    0.75          cup   \n",
       "..                            ...     ...          ...   \n",
       "56                  Chicken Salad    0.50          cup   \n",
       "57                     Pita Bread    7.00          NaN   \n",
       "58                    Cheese Pita    5.00          NaN   \n",
       "59               Spinach Smoothie   20.00  fluid ounce   \n",
       "60                          Boost     NaN          NaN   \n",
       "\n",
       "                                   searched_food  calorie  total_carb  \\\n",
       "0                            Strawberry Smoothie    456.0        85.0   \n",
       "1                                    chicken leg    475.0         0.0   \n",
       "2                                      Asparagus     13.0         2.5   \n",
       "3   (Natrel) Lactose Free 2% Partly Skimmed Milk    120.0         9.0   \n",
       "4             (Kellogg's) Frosted Flakes, Cereal    110.0        26.0   \n",
       "..                                           ...      ...         ...   \n",
       "56                                 Chicken Salad    254.0         3.3   \n",
       "57                              Small Pita Bread    539.0       109.0   \n",
       "58                 Generic - Serbian Cheese Pita    640.0        95.0   \n",
       "59                              Spinach Smoothie    308.0        69.0   \n",
       "60                                           NaN    654.0        82.0   \n",
       "\n",
       "    dietary_fiber  sugar  protein  total_fat  \n",
       "0             1.7   83.0     16.0        3.3  \n",
       "1             0.0    0.0     62.0       23.0  \n",
       "2             1.2    0.8      1.4        0.1  \n",
       "3             NaN    8.0     12.0        NaN  \n",
       "4             NaN   10.0      1.0        NaN  \n",
       "..            ...    ...      ...        ...  \n",
       "56            NaN    2.4     19.0        NaN  \n",
       "57            NaN    2.5     18.0        NaN  \n",
       "58            NaN    0.0     30.0        NaN  \n",
       "59            NaN   38.0      7.2        NaN  \n",
       "60            5.6   40.0     26.0       26.0  \n",
       "\n",
       "[61 rows x 14 columns]"
      ]
     },
     "execution_count": 21,
     "metadata": {},
     "output_type": "execute_result"
    }
   ],
   "source": [
    "food_log = pd.read_csv('Food_Logs/Food_Log_001.csv')\n",
    "food_log"
   ]
  },
  {
   "cell_type": "code",
   "execution_count": 37,
   "metadata": {},
   "outputs": [
    {
     "data": {
      "text/html": [
       "<div>\n",
       "<style scoped>\n",
       "    .dataframe tbody tr th:only-of-type {\n",
       "        vertical-align: middle;\n",
       "    }\n",
       "\n",
       "    .dataframe tbody tr th {\n",
       "        vertical-align: top;\n",
       "    }\n",
       "\n",
       "    .dataframe thead th {\n",
       "        text-align: right;\n",
       "    }\n",
       "</style>\n",
       "<table border=\"1\" class=\"dataframe\">\n",
       "  <thead>\n",
       "    <tr style=\"text-align: right;\">\n",
       "      <th></th>\n",
       "      <th>date</th>\n",
       "      <th>time</th>\n",
       "      <th>time_begin</th>\n",
       "      <th>time_end</th>\n",
       "      <th>logged_food</th>\n",
       "      <th>amount</th>\n",
       "      <th>unit</th>\n",
       "      <th>searched_food</th>\n",
       "      <th>calorie</th>\n",
       "      <th>total_carb</th>\n",
       "      <th>dietary_fiber</th>\n",
       "      <th>sugar</th>\n",
       "      <th>protein</th>\n",
       "      <th>total_fat</th>\n",
       "    </tr>\n",
       "  </thead>\n",
       "  <tbody>\n",
       "    <tr>\n",
       "      <th>3</th>\n",
       "      <td>2020-02-14</td>\n",
       "      <td>07:10:00</td>\n",
       "      <td>2020-02-14 07:10:00</td>\n",
       "      <td>NaN</td>\n",
       "      <td>Natrel Lactose Free 2 Percent</td>\n",
       "      <td>8.00</td>\n",
       "      <td>fluid ounce</td>\n",
       "      <td>(Natrel) Lactose Free 2% Partly Skimmed Milk</td>\n",
       "      <td>120.0</td>\n",
       "      <td>9.0</td>\n",
       "      <td>NaN</td>\n",
       "      <td>8.0</td>\n",
       "      <td>12.0</td>\n",
       "      <td>NaN</td>\n",
       "    </tr>\n",
       "    <tr>\n",
       "      <th>4</th>\n",
       "      <td>2020-02-14</td>\n",
       "      <td>07:10:00</td>\n",
       "      <td>2020-02-14 07:10:00</td>\n",
       "      <td>NaN</td>\n",
       "      <td>Standard Breakfast</td>\n",
       "      <td>0.75</td>\n",
       "      <td>cup</td>\n",
       "      <td>(Kellogg's) Frosted Flakes, Cereal</td>\n",
       "      <td>110.0</td>\n",
       "      <td>26.0</td>\n",
       "      <td>NaN</td>\n",
       "      <td>10.0</td>\n",
       "      <td>1.0</td>\n",
       "      <td>NaN</td>\n",
       "    </tr>\n",
       "    <tr>\n",
       "      <th>5</th>\n",
       "      <td>2020-02-14</td>\n",
       "      <td>09:38:00</td>\n",
       "      <td>2020-02-14 09:38:00</td>\n",
       "      <td>NaN</td>\n",
       "      <td>Breakfast Trail Mix</td>\n",
       "      <td>0.50</td>\n",
       "      <td>cup</td>\n",
       "      <td>(Giant) Breakfast Blend, Trail Mix</td>\n",
       "      <td>280.0</td>\n",
       "      <td>30.0</td>\n",
       "      <td>NaN</td>\n",
       "      <td>22.0</td>\n",
       "      <td>4.0</td>\n",
       "      <td>NaN</td>\n",
       "    </tr>\n",
       "    <tr>\n",
       "      <th>11</th>\n",
       "      <td>2020-02-15</td>\n",
       "      <td>07:30:00</td>\n",
       "      <td>2020-02-15 07:30:00</td>\n",
       "      <td>NaN</td>\n",
       "      <td>Spinach Smoothie</td>\n",
       "      <td>20.00</td>\n",
       "      <td>fluid ounce</td>\n",
       "      <td>Spinach Smoothie</td>\n",
       "      <td>308.0</td>\n",
       "      <td>69.0</td>\n",
       "      <td>NaN</td>\n",
       "      <td>38.0</td>\n",
       "      <td>7.2</td>\n",
       "      <td>NaN</td>\n",
       "    </tr>\n",
       "    <tr>\n",
       "      <th>21</th>\n",
       "      <td>2020-02-16</td>\n",
       "      <td>07:00:00</td>\n",
       "      <td>2020-02-16 07:00:00</td>\n",
       "      <td>NaN</td>\n",
       "      <td>Natrel Lactose Free 2 Percent</td>\n",
       "      <td>8.00</td>\n",
       "      <td>fluid ounce</td>\n",
       "      <td>(Natrel) Lactose Free 2% Partly Skimmed Milk</td>\n",
       "      <td>120.0</td>\n",
       "      <td>9.0</td>\n",
       "      <td>NaN</td>\n",
       "      <td>8.0</td>\n",
       "      <td>12.0</td>\n",
       "      <td>NaN</td>\n",
       "    </tr>\n",
       "    <tr>\n",
       "      <th>22</th>\n",
       "      <td>2020-02-16</td>\n",
       "      <td>07:00:00</td>\n",
       "      <td>2020-02-16 07:00:00</td>\n",
       "      <td>NaN</td>\n",
       "      <td>Standard Breakfast</td>\n",
       "      <td>0.75</td>\n",
       "      <td>cup</td>\n",
       "      <td>(Kellogg's) Frosted Flakes, Cereal</td>\n",
       "      <td>110.0</td>\n",
       "      <td>26.0</td>\n",
       "      <td>NaN</td>\n",
       "      <td>10.0</td>\n",
       "      <td>1.0</td>\n",
       "      <td>NaN</td>\n",
       "    </tr>\n",
       "    <tr>\n",
       "      <th>23</th>\n",
       "      <td>2020-02-16</td>\n",
       "      <td>08:15:00</td>\n",
       "      <td>2020-02-16 08:15:00</td>\n",
       "      <td>NaN</td>\n",
       "      <td>Breakfast Trail Mix</td>\n",
       "      <td>0.50</td>\n",
       "      <td>cup</td>\n",
       "      <td>(Giant) Breakfast Blend, Trail Mix</td>\n",
       "      <td>280.0</td>\n",
       "      <td>30.0</td>\n",
       "      <td>NaN</td>\n",
       "      <td>22.0</td>\n",
       "      <td>4.0</td>\n",
       "      <td>NaN</td>\n",
       "    </tr>\n",
       "    <tr>\n",
       "      <th>24</th>\n",
       "      <td>2020-02-16</td>\n",
       "      <td>08:49:00</td>\n",
       "      <td>2020-02-16 08:49:00</td>\n",
       "      <td>NaN</td>\n",
       "      <td>Hot Chocolate</td>\n",
       "      <td>1.00</td>\n",
       "      <td>cup</td>\n",
       "      <td>Hot Chocolate</td>\n",
       "      <td>151.0</td>\n",
       "      <td>32.0</td>\n",
       "      <td>NaN</td>\n",
       "      <td>25.0</td>\n",
       "      <td>2.5</td>\n",
       "      <td>NaN</td>\n",
       "    </tr>\n",
       "    <tr>\n",
       "      <th>29</th>\n",
       "      <td>2020-02-17</td>\n",
       "      <td>06:42:00</td>\n",
       "      <td>2020-02-17 06:42:00</td>\n",
       "      <td>NaN</td>\n",
       "      <td>Maple Brown Sugar Oatmeal</td>\n",
       "      <td>1.00</td>\n",
       "      <td>NaN</td>\n",
       "      <td>Maple Brown Sugar Oatmeal</td>\n",
       "      <td>158.0</td>\n",
       "      <td>33.0</td>\n",
       "      <td>NaN</td>\n",
       "      <td>13.0</td>\n",
       "      <td>4.0</td>\n",
       "      <td>NaN</td>\n",
       "    </tr>\n",
       "    <tr>\n",
       "      <th>35</th>\n",
       "      <td>2020-02-18</td>\n",
       "      <td>06:20:00</td>\n",
       "      <td>2020-02-18 06:20:00</td>\n",
       "      <td>NaN</td>\n",
       "      <td>Natrel Lactose Free 2 Percent</td>\n",
       "      <td>8.00</td>\n",
       "      <td>fluid ounce</td>\n",
       "      <td>(Natrel) Lactose Free 2% Partly Skimmed Milk</td>\n",
       "      <td>120.0</td>\n",
       "      <td>9.0</td>\n",
       "      <td>NaN</td>\n",
       "      <td>8.0</td>\n",
       "      <td>12.0</td>\n",
       "      <td>NaN</td>\n",
       "    </tr>\n",
       "    <tr>\n",
       "      <th>36</th>\n",
       "      <td>2020-02-18</td>\n",
       "      <td>06:20:00</td>\n",
       "      <td>2020-02-18 06:20:00</td>\n",
       "      <td>NaN</td>\n",
       "      <td>Standard Breakfast</td>\n",
       "      <td>0.75</td>\n",
       "      <td>cup</td>\n",
       "      <td>(Kellogg's) Frosted Flakes, Cereal</td>\n",
       "      <td>110.0</td>\n",
       "      <td>26.0</td>\n",
       "      <td>NaN</td>\n",
       "      <td>10.0</td>\n",
       "      <td>1.0</td>\n",
       "      <td>NaN</td>\n",
       "    </tr>\n",
       "    <tr>\n",
       "      <th>37</th>\n",
       "      <td>2020-02-18</td>\n",
       "      <td>11:00:00</td>\n",
       "      <td>2020-02-18 11:00:00</td>\n",
       "      <td>NaN</td>\n",
       "      <td>Muffin</td>\n",
       "      <td>0.50</td>\n",
       "      <td>NaN</td>\n",
       "      <td>Muffin</td>\n",
       "      <td>212.0</td>\n",
       "      <td>30.0</td>\n",
       "      <td>NaN</td>\n",
       "      <td>18.0</td>\n",
       "      <td>2.5</td>\n",
       "      <td>NaN</td>\n",
       "    </tr>\n",
       "    <tr>\n",
       "      <th>41</th>\n",
       "      <td>2020-02-19</td>\n",
       "      <td>11:00:00</td>\n",
       "      <td>2020-02-19 11:00:00</td>\n",
       "      <td>NaN</td>\n",
       "      <td>Acai Smoothie</td>\n",
       "      <td>20.00</td>\n",
       "      <td>fluid ounce</td>\n",
       "      <td>(Smoothie King) Acai Adventure Smoothie</td>\n",
       "      <td>440.0</td>\n",
       "      <td>92.0</td>\n",
       "      <td>NaN</td>\n",
       "      <td>75.0</td>\n",
       "      <td>5.0</td>\n",
       "      <td>NaN</td>\n",
       "    </tr>\n",
       "    <tr>\n",
       "      <th>45</th>\n",
       "      <td>2020-02-20</td>\n",
       "      <td>07:37:00</td>\n",
       "      <td>2020-02-20 07:37:00</td>\n",
       "      <td>NaN</td>\n",
       "      <td>Green Smoothie</td>\n",
       "      <td>20.00</td>\n",
       "      <td>fluid ounce</td>\n",
       "      <td>Green Smoothie</td>\n",
       "      <td>308.0</td>\n",
       "      <td>69.0</td>\n",
       "      <td>NaN</td>\n",
       "      <td>38.0</td>\n",
       "      <td>7.2</td>\n",
       "      <td>NaN</td>\n",
       "    </tr>\n",
       "    <tr>\n",
       "      <th>46</th>\n",
       "      <td>2020-02-20</td>\n",
       "      <td>07:37:00</td>\n",
       "      <td>2020-02-20 07:37:00</td>\n",
       "      <td>NaN</td>\n",
       "      <td>Bagel</td>\n",
       "      <td>0.50</td>\n",
       "      <td>NaN</td>\n",
       "      <td>Bagel</td>\n",
       "      <td>139.0</td>\n",
       "      <td>27.0</td>\n",
       "      <td>NaN</td>\n",
       "      <td>4.4</td>\n",
       "      <td>5.5</td>\n",
       "      <td>NaN</td>\n",
       "    </tr>\n",
       "    <tr>\n",
       "      <th>53</th>\n",
       "      <td>2020-02-21</td>\n",
       "      <td>07:30:00</td>\n",
       "      <td>2020-02-21 07:30:00</td>\n",
       "      <td>NaN</td>\n",
       "      <td>Natrel Lactose Free 2 Percent</td>\n",
       "      <td>8.00</td>\n",
       "      <td>fluid ounce</td>\n",
       "      <td>(Natrel) Lactose Free 2% Partly Skimmed Milk</td>\n",
       "      <td>120.0</td>\n",
       "      <td>9.0</td>\n",
       "      <td>NaN</td>\n",
       "      <td>8.0</td>\n",
       "      <td>12.0</td>\n",
       "      <td>NaN</td>\n",
       "    </tr>\n",
       "    <tr>\n",
       "      <th>54</th>\n",
       "      <td>2020-02-21</td>\n",
       "      <td>07:30:00</td>\n",
       "      <td>2020-02-21 07:30:00</td>\n",
       "      <td>NaN</td>\n",
       "      <td>Standard Breakfast</td>\n",
       "      <td>0.75</td>\n",
       "      <td>cup</td>\n",
       "      <td>(Kellogg's) Frosted Flakes, Cereal</td>\n",
       "      <td>110.0</td>\n",
       "      <td>26.0</td>\n",
       "      <td>NaN</td>\n",
       "      <td>10.0</td>\n",
       "      <td>1.0</td>\n",
       "      <td>NaN</td>\n",
       "    </tr>\n",
       "    <tr>\n",
       "      <th>55</th>\n",
       "      <td>2020-02-21</td>\n",
       "      <td>11:00:00</td>\n",
       "      <td>2020-02-21 11:00:00</td>\n",
       "      <td>NaN</td>\n",
       "      <td>Babybel Cheese</td>\n",
       "      <td>1.00</td>\n",
       "      <td>NaN</td>\n",
       "      <td>Babybel Cheese</td>\n",
       "      <td>71.0</td>\n",
       "      <td>0.3</td>\n",
       "      <td>NaN</td>\n",
       "      <td>0.3</td>\n",
       "      <td>5.0</td>\n",
       "      <td>NaN</td>\n",
       "    </tr>\n",
       "  </tbody>\n",
       "</table>\n",
       "</div>"
      ],
      "text/plain": [
       "          date      time           time_begin  time_end  \\\n",
       "3   2020-02-14  07:10:00  2020-02-14 07:10:00       NaN   \n",
       "4   2020-02-14  07:10:00  2020-02-14 07:10:00       NaN   \n",
       "5   2020-02-14  09:38:00  2020-02-14 09:38:00       NaN   \n",
       "11  2020-02-15  07:30:00  2020-02-15 07:30:00       NaN   \n",
       "21  2020-02-16  07:00:00  2020-02-16 07:00:00       NaN   \n",
       "22  2020-02-16  07:00:00  2020-02-16 07:00:00       NaN   \n",
       "23  2020-02-16  08:15:00  2020-02-16 08:15:00       NaN   \n",
       "24  2020-02-16  08:49:00  2020-02-16 08:49:00       NaN   \n",
       "29  2020-02-17  06:42:00  2020-02-17 06:42:00       NaN   \n",
       "35  2020-02-18  06:20:00  2020-02-18 06:20:00       NaN   \n",
       "36  2020-02-18  06:20:00  2020-02-18 06:20:00       NaN   \n",
       "37  2020-02-18  11:00:00  2020-02-18 11:00:00       NaN   \n",
       "41  2020-02-19  11:00:00  2020-02-19 11:00:00       NaN   \n",
       "45  2020-02-20  07:37:00  2020-02-20 07:37:00       NaN   \n",
       "46  2020-02-20  07:37:00  2020-02-20 07:37:00       NaN   \n",
       "53  2020-02-21  07:30:00  2020-02-21 07:30:00       NaN   \n",
       "54  2020-02-21  07:30:00  2020-02-21 07:30:00       NaN   \n",
       "55  2020-02-21  11:00:00  2020-02-21 11:00:00       NaN   \n",
       "\n",
       "                      logged_food  amount         unit  \\\n",
       "3   Natrel Lactose Free 2 Percent    8.00  fluid ounce   \n",
       "4              Standard Breakfast    0.75          cup   \n",
       "5             Breakfast Trail Mix    0.50          cup   \n",
       "11               Spinach Smoothie   20.00  fluid ounce   \n",
       "21  Natrel Lactose Free 2 Percent    8.00  fluid ounce   \n",
       "22             Standard Breakfast    0.75          cup   \n",
       "23            Breakfast Trail Mix    0.50          cup   \n",
       "24                  Hot Chocolate    1.00          cup   \n",
       "29      Maple Brown Sugar Oatmeal    1.00          NaN   \n",
       "35  Natrel Lactose Free 2 Percent    8.00  fluid ounce   \n",
       "36             Standard Breakfast    0.75          cup   \n",
       "37                         Muffin    0.50          NaN   \n",
       "41                  Acai Smoothie   20.00  fluid ounce   \n",
       "45                 Green Smoothie   20.00  fluid ounce   \n",
       "46                          Bagel    0.50          NaN   \n",
       "53  Natrel Lactose Free 2 Percent    8.00  fluid ounce   \n",
       "54             Standard Breakfast    0.75          cup   \n",
       "55                 Babybel Cheese    1.00          NaN   \n",
       "\n",
       "                                   searched_food  calorie  total_carb  \\\n",
       "3   (Natrel) Lactose Free 2% Partly Skimmed Milk    120.0         9.0   \n",
       "4             (Kellogg's) Frosted Flakes, Cereal    110.0        26.0   \n",
       "5             (Giant) Breakfast Blend, Trail Mix    280.0        30.0   \n",
       "11                              Spinach Smoothie    308.0        69.0   \n",
       "21  (Natrel) Lactose Free 2% Partly Skimmed Milk    120.0         9.0   \n",
       "22            (Kellogg's) Frosted Flakes, Cereal    110.0        26.0   \n",
       "23            (Giant) Breakfast Blend, Trail Mix    280.0        30.0   \n",
       "24                                 Hot Chocolate    151.0        32.0   \n",
       "29                     Maple Brown Sugar Oatmeal    158.0        33.0   \n",
       "35  (Natrel) Lactose Free 2% Partly Skimmed Milk    120.0         9.0   \n",
       "36            (Kellogg's) Frosted Flakes, Cereal    110.0        26.0   \n",
       "37                                        Muffin    212.0        30.0   \n",
       "41       (Smoothie King) Acai Adventure Smoothie    440.0        92.0   \n",
       "45                                Green Smoothie    308.0        69.0   \n",
       "46                                         Bagel    139.0        27.0   \n",
       "53  (Natrel) Lactose Free 2% Partly Skimmed Milk    120.0         9.0   \n",
       "54            (Kellogg's) Frosted Flakes, Cereal    110.0        26.0   \n",
       "55                                Babybel Cheese     71.0         0.3   \n",
       "\n",
       "    dietary_fiber  sugar  protein  total_fat  \n",
       "3             NaN    8.0     12.0        NaN  \n",
       "4             NaN   10.0      1.0        NaN  \n",
       "5             NaN   22.0      4.0        NaN  \n",
       "11            NaN   38.0      7.2        NaN  \n",
       "21            NaN    8.0     12.0        NaN  \n",
       "22            NaN   10.0      1.0        NaN  \n",
       "23            NaN   22.0      4.0        NaN  \n",
       "24            NaN   25.0      2.5        NaN  \n",
       "29            NaN   13.0      4.0        NaN  \n",
       "35            NaN    8.0     12.0        NaN  \n",
       "36            NaN   10.0      1.0        NaN  \n",
       "37            NaN   18.0      2.5        NaN  \n",
       "41            NaN   75.0      5.0        NaN  \n",
       "45            NaN   38.0      7.2        NaN  \n",
       "46            NaN    4.4      5.5        NaN  \n",
       "53            NaN    8.0     12.0        NaN  \n",
       "54            NaN   10.0      1.0        NaN  \n",
       "55            NaN    0.3      5.0        NaN  "
      ]
     },
     "execution_count": 37,
     "metadata": {},
     "output_type": "execute_result"
    }
   ],
   "source": [
    "start_time = pd.to_datetime(\"06:00:00\").time()\n",
    "end_time = pd.to_datetime(\"11:00:00\").time()\n",
    "food_log['time'] = pd.to_datetime(food_log['time'], format='%H:%M:%S').dt.time\n",
    "food_log_morning = food_log[(food_log['time'] > start_time ) & (food_log['time'] <= end_time)]\n",
    "food_log_morning"
   ]
  },
  {
   "cell_type": "code",
   "execution_count": 41,
   "metadata": {},
   "outputs": [
    {
     "data": {
      "text/html": [
       "<div>\n",
       "<style scoped>\n",
       "    .dataframe tbody tr th:only-of-type {\n",
       "        vertical-align: middle;\n",
       "    }\n",
       "\n",
       "    .dataframe tbody tr th {\n",
       "        vertical-align: top;\n",
       "    }\n",
       "\n",
       "    .dataframe thead th {\n",
       "        text-align: right;\n",
       "    }\n",
       "</style>\n",
       "<table border=\"1\" class=\"dataframe\">\n",
       "  <thead>\n",
       "    <tr style=\"text-align: right;\">\n",
       "      <th></th>\n",
       "      <th>date</th>\n",
       "      <th>time</th>\n",
       "      <th>time_begin</th>\n",
       "      <th>time_end</th>\n",
       "      <th>logged_food</th>\n",
       "      <th>amount</th>\n",
       "      <th>unit</th>\n",
       "      <th>searched_food</th>\n",
       "      <th>calorie</th>\n",
       "      <th>total_carb</th>\n",
       "      <th>dietary_fiber</th>\n",
       "      <th>sugar</th>\n",
       "      <th>protein</th>\n",
       "      <th>total_fat</th>\n",
       "      <th>datetime</th>\n",
       "    </tr>\n",
       "  </thead>\n",
       "  <tbody>\n",
       "    <tr>\n",
       "      <th>3</th>\n",
       "      <td>2020-02-14</td>\n",
       "      <td>07:10:00</td>\n",
       "      <td>2020-02-14 07:10:00</td>\n",
       "      <td>NaN</td>\n",
       "      <td>Natrel Lactose Free 2 Percent</td>\n",
       "      <td>8.00</td>\n",
       "      <td>fluid ounce</td>\n",
       "      <td>(Natrel) Lactose Free 2% Partly Skimmed Milk</td>\n",
       "      <td>120.0</td>\n",
       "      <td>9.0</td>\n",
       "      <td>NaN</td>\n",
       "      <td>8.0</td>\n",
       "      <td>12.0</td>\n",
       "      <td>NaN</td>\n",
       "      <td>2020-02-14 07:10:00</td>\n",
       "    </tr>\n",
       "    <tr>\n",
       "      <th>4</th>\n",
       "      <td>2020-02-14</td>\n",
       "      <td>07:10:00</td>\n",
       "      <td>2020-02-14 07:10:00</td>\n",
       "      <td>NaN</td>\n",
       "      <td>Standard Breakfast</td>\n",
       "      <td>0.75</td>\n",
       "      <td>cup</td>\n",
       "      <td>(Kellogg's) Frosted Flakes, Cereal</td>\n",
       "      <td>110.0</td>\n",
       "      <td>26.0</td>\n",
       "      <td>NaN</td>\n",
       "      <td>10.0</td>\n",
       "      <td>1.0</td>\n",
       "      <td>NaN</td>\n",
       "      <td>2020-02-14 07:10:00</td>\n",
       "    </tr>\n",
       "    <tr>\n",
       "      <th>5</th>\n",
       "      <td>2020-02-14</td>\n",
       "      <td>09:38:00</td>\n",
       "      <td>2020-02-14 09:38:00</td>\n",
       "      <td>NaN</td>\n",
       "      <td>Breakfast Trail Mix</td>\n",
       "      <td>0.50</td>\n",
       "      <td>cup</td>\n",
       "      <td>(Giant) Breakfast Blend, Trail Mix</td>\n",
       "      <td>280.0</td>\n",
       "      <td>30.0</td>\n",
       "      <td>NaN</td>\n",
       "      <td>22.0</td>\n",
       "      <td>4.0</td>\n",
       "      <td>NaN</td>\n",
       "      <td>2020-02-14 09:38:00</td>\n",
       "    </tr>\n",
       "    <tr>\n",
       "      <th>11</th>\n",
       "      <td>2020-02-15</td>\n",
       "      <td>07:30:00</td>\n",
       "      <td>2020-02-15 07:30:00</td>\n",
       "      <td>NaN</td>\n",
       "      <td>Spinach Smoothie</td>\n",
       "      <td>20.00</td>\n",
       "      <td>fluid ounce</td>\n",
       "      <td>Spinach Smoothie</td>\n",
       "      <td>308.0</td>\n",
       "      <td>69.0</td>\n",
       "      <td>NaN</td>\n",
       "      <td>38.0</td>\n",
       "      <td>7.2</td>\n",
       "      <td>NaN</td>\n",
       "      <td>2020-02-15 07:30:00</td>\n",
       "    </tr>\n",
       "    <tr>\n",
       "      <th>21</th>\n",
       "      <td>2020-02-16</td>\n",
       "      <td>07:00:00</td>\n",
       "      <td>2020-02-16 07:00:00</td>\n",
       "      <td>NaN</td>\n",
       "      <td>Natrel Lactose Free 2 Percent</td>\n",
       "      <td>8.00</td>\n",
       "      <td>fluid ounce</td>\n",
       "      <td>(Natrel) Lactose Free 2% Partly Skimmed Milk</td>\n",
       "      <td>120.0</td>\n",
       "      <td>9.0</td>\n",
       "      <td>NaN</td>\n",
       "      <td>8.0</td>\n",
       "      <td>12.0</td>\n",
       "      <td>NaN</td>\n",
       "      <td>2020-02-16 07:00:00</td>\n",
       "    </tr>\n",
       "    <tr>\n",
       "      <th>22</th>\n",
       "      <td>2020-02-16</td>\n",
       "      <td>07:00:00</td>\n",
       "      <td>2020-02-16 07:00:00</td>\n",
       "      <td>NaN</td>\n",
       "      <td>Standard Breakfast</td>\n",
       "      <td>0.75</td>\n",
       "      <td>cup</td>\n",
       "      <td>(Kellogg's) Frosted Flakes, Cereal</td>\n",
       "      <td>110.0</td>\n",
       "      <td>26.0</td>\n",
       "      <td>NaN</td>\n",
       "      <td>10.0</td>\n",
       "      <td>1.0</td>\n",
       "      <td>NaN</td>\n",
       "      <td>2020-02-16 07:00:00</td>\n",
       "    </tr>\n",
       "    <tr>\n",
       "      <th>23</th>\n",
       "      <td>2020-02-16</td>\n",
       "      <td>08:15:00</td>\n",
       "      <td>2020-02-16 08:15:00</td>\n",
       "      <td>NaN</td>\n",
       "      <td>Breakfast Trail Mix</td>\n",
       "      <td>0.50</td>\n",
       "      <td>cup</td>\n",
       "      <td>(Giant) Breakfast Blend, Trail Mix</td>\n",
       "      <td>280.0</td>\n",
       "      <td>30.0</td>\n",
       "      <td>NaN</td>\n",
       "      <td>22.0</td>\n",
       "      <td>4.0</td>\n",
       "      <td>NaN</td>\n",
       "      <td>2020-02-16 08:15:00</td>\n",
       "    </tr>\n",
       "    <tr>\n",
       "      <th>24</th>\n",
       "      <td>2020-02-16</td>\n",
       "      <td>08:49:00</td>\n",
       "      <td>2020-02-16 08:49:00</td>\n",
       "      <td>NaN</td>\n",
       "      <td>Hot Chocolate</td>\n",
       "      <td>1.00</td>\n",
       "      <td>cup</td>\n",
       "      <td>Hot Chocolate</td>\n",
       "      <td>151.0</td>\n",
       "      <td>32.0</td>\n",
       "      <td>NaN</td>\n",
       "      <td>25.0</td>\n",
       "      <td>2.5</td>\n",
       "      <td>NaN</td>\n",
       "      <td>2020-02-16 08:49:00</td>\n",
       "    </tr>\n",
       "    <tr>\n",
       "      <th>29</th>\n",
       "      <td>2020-02-17</td>\n",
       "      <td>06:42:00</td>\n",
       "      <td>2020-02-17 06:42:00</td>\n",
       "      <td>NaN</td>\n",
       "      <td>Maple Brown Sugar Oatmeal</td>\n",
       "      <td>1.00</td>\n",
       "      <td>NaN</td>\n",
       "      <td>Maple Brown Sugar Oatmeal</td>\n",
       "      <td>158.0</td>\n",
       "      <td>33.0</td>\n",
       "      <td>NaN</td>\n",
       "      <td>13.0</td>\n",
       "      <td>4.0</td>\n",
       "      <td>NaN</td>\n",
       "      <td>2020-02-17 06:42:00</td>\n",
       "    </tr>\n",
       "    <tr>\n",
       "      <th>35</th>\n",
       "      <td>2020-02-18</td>\n",
       "      <td>06:20:00</td>\n",
       "      <td>2020-02-18 06:20:00</td>\n",
       "      <td>NaN</td>\n",
       "      <td>Natrel Lactose Free 2 Percent</td>\n",
       "      <td>8.00</td>\n",
       "      <td>fluid ounce</td>\n",
       "      <td>(Natrel) Lactose Free 2% Partly Skimmed Milk</td>\n",
       "      <td>120.0</td>\n",
       "      <td>9.0</td>\n",
       "      <td>NaN</td>\n",
       "      <td>8.0</td>\n",
       "      <td>12.0</td>\n",
       "      <td>NaN</td>\n",
       "      <td>2020-02-18 06:20:00</td>\n",
       "    </tr>\n",
       "    <tr>\n",
       "      <th>36</th>\n",
       "      <td>2020-02-18</td>\n",
       "      <td>06:20:00</td>\n",
       "      <td>2020-02-18 06:20:00</td>\n",
       "      <td>NaN</td>\n",
       "      <td>Standard Breakfast</td>\n",
       "      <td>0.75</td>\n",
       "      <td>cup</td>\n",
       "      <td>(Kellogg's) Frosted Flakes, Cereal</td>\n",
       "      <td>110.0</td>\n",
       "      <td>26.0</td>\n",
       "      <td>NaN</td>\n",
       "      <td>10.0</td>\n",
       "      <td>1.0</td>\n",
       "      <td>NaN</td>\n",
       "      <td>2020-02-18 06:20:00</td>\n",
       "    </tr>\n",
       "    <tr>\n",
       "      <th>37</th>\n",
       "      <td>2020-02-18</td>\n",
       "      <td>11:00:00</td>\n",
       "      <td>2020-02-18 11:00:00</td>\n",
       "      <td>NaN</td>\n",
       "      <td>Muffin</td>\n",
       "      <td>0.50</td>\n",
       "      <td>NaN</td>\n",
       "      <td>Muffin</td>\n",
       "      <td>212.0</td>\n",
       "      <td>30.0</td>\n",
       "      <td>NaN</td>\n",
       "      <td>18.0</td>\n",
       "      <td>2.5</td>\n",
       "      <td>NaN</td>\n",
       "      <td>2020-02-18 11:00:00</td>\n",
       "    </tr>\n",
       "    <tr>\n",
       "      <th>41</th>\n",
       "      <td>2020-02-19</td>\n",
       "      <td>11:00:00</td>\n",
       "      <td>2020-02-19 11:00:00</td>\n",
       "      <td>NaN</td>\n",
       "      <td>Acai Smoothie</td>\n",
       "      <td>20.00</td>\n",
       "      <td>fluid ounce</td>\n",
       "      <td>(Smoothie King) Acai Adventure Smoothie</td>\n",
       "      <td>440.0</td>\n",
       "      <td>92.0</td>\n",
       "      <td>NaN</td>\n",
       "      <td>75.0</td>\n",
       "      <td>5.0</td>\n",
       "      <td>NaN</td>\n",
       "      <td>2020-02-19 11:00:00</td>\n",
       "    </tr>\n",
       "    <tr>\n",
       "      <th>45</th>\n",
       "      <td>2020-02-20</td>\n",
       "      <td>07:37:00</td>\n",
       "      <td>2020-02-20 07:37:00</td>\n",
       "      <td>NaN</td>\n",
       "      <td>Green Smoothie</td>\n",
       "      <td>20.00</td>\n",
       "      <td>fluid ounce</td>\n",
       "      <td>Green Smoothie</td>\n",
       "      <td>308.0</td>\n",
       "      <td>69.0</td>\n",
       "      <td>NaN</td>\n",
       "      <td>38.0</td>\n",
       "      <td>7.2</td>\n",
       "      <td>NaN</td>\n",
       "      <td>2020-02-20 07:37:00</td>\n",
       "    </tr>\n",
       "    <tr>\n",
       "      <th>46</th>\n",
       "      <td>2020-02-20</td>\n",
       "      <td>07:37:00</td>\n",
       "      <td>2020-02-20 07:37:00</td>\n",
       "      <td>NaN</td>\n",
       "      <td>Bagel</td>\n",
       "      <td>0.50</td>\n",
       "      <td>NaN</td>\n",
       "      <td>Bagel</td>\n",
       "      <td>139.0</td>\n",
       "      <td>27.0</td>\n",
       "      <td>NaN</td>\n",
       "      <td>4.4</td>\n",
       "      <td>5.5</td>\n",
       "      <td>NaN</td>\n",
       "      <td>2020-02-20 07:37:00</td>\n",
       "    </tr>\n",
       "    <tr>\n",
       "      <th>53</th>\n",
       "      <td>2020-02-21</td>\n",
       "      <td>07:30:00</td>\n",
       "      <td>2020-02-21 07:30:00</td>\n",
       "      <td>NaN</td>\n",
       "      <td>Natrel Lactose Free 2 Percent</td>\n",
       "      <td>8.00</td>\n",
       "      <td>fluid ounce</td>\n",
       "      <td>(Natrel) Lactose Free 2% Partly Skimmed Milk</td>\n",
       "      <td>120.0</td>\n",
       "      <td>9.0</td>\n",
       "      <td>NaN</td>\n",
       "      <td>8.0</td>\n",
       "      <td>12.0</td>\n",
       "      <td>NaN</td>\n",
       "      <td>2020-02-21 07:30:00</td>\n",
       "    </tr>\n",
       "    <tr>\n",
       "      <th>54</th>\n",
       "      <td>2020-02-21</td>\n",
       "      <td>07:30:00</td>\n",
       "      <td>2020-02-21 07:30:00</td>\n",
       "      <td>NaN</td>\n",
       "      <td>Standard Breakfast</td>\n",
       "      <td>0.75</td>\n",
       "      <td>cup</td>\n",
       "      <td>(Kellogg's) Frosted Flakes, Cereal</td>\n",
       "      <td>110.0</td>\n",
       "      <td>26.0</td>\n",
       "      <td>NaN</td>\n",
       "      <td>10.0</td>\n",
       "      <td>1.0</td>\n",
       "      <td>NaN</td>\n",
       "      <td>2020-02-21 07:30:00</td>\n",
       "    </tr>\n",
       "    <tr>\n",
       "      <th>55</th>\n",
       "      <td>2020-02-21</td>\n",
       "      <td>11:00:00</td>\n",
       "      <td>2020-02-21 11:00:00</td>\n",
       "      <td>NaN</td>\n",
       "      <td>Babybel Cheese</td>\n",
       "      <td>1.00</td>\n",
       "      <td>NaN</td>\n",
       "      <td>Babybel Cheese</td>\n",
       "      <td>71.0</td>\n",
       "      <td>0.3</td>\n",
       "      <td>NaN</td>\n",
       "      <td>0.3</td>\n",
       "      <td>5.0</td>\n",
       "      <td>NaN</td>\n",
       "      <td>2020-02-21 11:00:00</td>\n",
       "    </tr>\n",
       "  </tbody>\n",
       "</table>\n",
       "</div>"
      ],
      "text/plain": [
       "         date      time           time_begin  time_end  \\\n",
       "3  2020-02-14  07:10:00  2020-02-14 07:10:00       NaN   \n",
       "4  2020-02-14  07:10:00  2020-02-14 07:10:00       NaN   \n",
       "5  2020-02-14  09:38:00  2020-02-14 09:38:00       NaN   \n",
       "11 2020-02-15  07:30:00  2020-02-15 07:30:00       NaN   \n",
       "21 2020-02-16  07:00:00  2020-02-16 07:00:00       NaN   \n",
       "22 2020-02-16  07:00:00  2020-02-16 07:00:00       NaN   \n",
       "23 2020-02-16  08:15:00  2020-02-16 08:15:00       NaN   \n",
       "24 2020-02-16  08:49:00  2020-02-16 08:49:00       NaN   \n",
       "29 2020-02-17  06:42:00  2020-02-17 06:42:00       NaN   \n",
       "35 2020-02-18  06:20:00  2020-02-18 06:20:00       NaN   \n",
       "36 2020-02-18  06:20:00  2020-02-18 06:20:00       NaN   \n",
       "37 2020-02-18  11:00:00  2020-02-18 11:00:00       NaN   \n",
       "41 2020-02-19  11:00:00  2020-02-19 11:00:00       NaN   \n",
       "45 2020-02-20  07:37:00  2020-02-20 07:37:00       NaN   \n",
       "46 2020-02-20  07:37:00  2020-02-20 07:37:00       NaN   \n",
       "53 2020-02-21  07:30:00  2020-02-21 07:30:00       NaN   \n",
       "54 2020-02-21  07:30:00  2020-02-21 07:30:00       NaN   \n",
       "55 2020-02-21  11:00:00  2020-02-21 11:00:00       NaN   \n",
       "\n",
       "                      logged_food  amount         unit  \\\n",
       "3   Natrel Lactose Free 2 Percent    8.00  fluid ounce   \n",
       "4              Standard Breakfast    0.75          cup   \n",
       "5             Breakfast Trail Mix    0.50          cup   \n",
       "11               Spinach Smoothie   20.00  fluid ounce   \n",
       "21  Natrel Lactose Free 2 Percent    8.00  fluid ounce   \n",
       "22             Standard Breakfast    0.75          cup   \n",
       "23            Breakfast Trail Mix    0.50          cup   \n",
       "24                  Hot Chocolate    1.00          cup   \n",
       "29      Maple Brown Sugar Oatmeal    1.00          NaN   \n",
       "35  Natrel Lactose Free 2 Percent    8.00  fluid ounce   \n",
       "36             Standard Breakfast    0.75          cup   \n",
       "37                         Muffin    0.50          NaN   \n",
       "41                  Acai Smoothie   20.00  fluid ounce   \n",
       "45                 Green Smoothie   20.00  fluid ounce   \n",
       "46                          Bagel    0.50          NaN   \n",
       "53  Natrel Lactose Free 2 Percent    8.00  fluid ounce   \n",
       "54             Standard Breakfast    0.75          cup   \n",
       "55                 Babybel Cheese    1.00          NaN   \n",
       "\n",
       "                                   searched_food  calorie  total_carb  \\\n",
       "3   (Natrel) Lactose Free 2% Partly Skimmed Milk    120.0         9.0   \n",
       "4             (Kellogg's) Frosted Flakes, Cereal    110.0        26.0   \n",
       "5             (Giant) Breakfast Blend, Trail Mix    280.0        30.0   \n",
       "11                              Spinach Smoothie    308.0        69.0   \n",
       "21  (Natrel) Lactose Free 2% Partly Skimmed Milk    120.0         9.0   \n",
       "22            (Kellogg's) Frosted Flakes, Cereal    110.0        26.0   \n",
       "23            (Giant) Breakfast Blend, Trail Mix    280.0        30.0   \n",
       "24                                 Hot Chocolate    151.0        32.0   \n",
       "29                     Maple Brown Sugar Oatmeal    158.0        33.0   \n",
       "35  (Natrel) Lactose Free 2% Partly Skimmed Milk    120.0         9.0   \n",
       "36            (Kellogg's) Frosted Flakes, Cereal    110.0        26.0   \n",
       "37                                        Muffin    212.0        30.0   \n",
       "41       (Smoothie King) Acai Adventure Smoothie    440.0        92.0   \n",
       "45                                Green Smoothie    308.0        69.0   \n",
       "46                                         Bagel    139.0        27.0   \n",
       "53  (Natrel) Lactose Free 2% Partly Skimmed Milk    120.0         9.0   \n",
       "54            (Kellogg's) Frosted Flakes, Cereal    110.0        26.0   \n",
       "55                                Babybel Cheese     71.0         0.3   \n",
       "\n",
       "    dietary_fiber  sugar  protein  total_fat            datetime  \n",
       "3             NaN    8.0     12.0        NaN 2020-02-14 07:10:00  \n",
       "4             NaN   10.0      1.0        NaN 2020-02-14 07:10:00  \n",
       "5             NaN   22.0      4.0        NaN 2020-02-14 09:38:00  \n",
       "11            NaN   38.0      7.2        NaN 2020-02-15 07:30:00  \n",
       "21            NaN    8.0     12.0        NaN 2020-02-16 07:00:00  \n",
       "22            NaN   10.0      1.0        NaN 2020-02-16 07:00:00  \n",
       "23            NaN   22.0      4.0        NaN 2020-02-16 08:15:00  \n",
       "24            NaN   25.0      2.5        NaN 2020-02-16 08:49:00  \n",
       "29            NaN   13.0      4.0        NaN 2020-02-17 06:42:00  \n",
       "35            NaN    8.0     12.0        NaN 2020-02-18 06:20:00  \n",
       "36            NaN   10.0      1.0        NaN 2020-02-18 06:20:00  \n",
       "37            NaN   18.0      2.5        NaN 2020-02-18 11:00:00  \n",
       "41            NaN   75.0      5.0        NaN 2020-02-19 11:00:00  \n",
       "45            NaN   38.0      7.2        NaN 2020-02-20 07:37:00  \n",
       "46            NaN    4.4      5.5        NaN 2020-02-20 07:37:00  \n",
       "53            NaN    8.0     12.0        NaN 2020-02-21 07:30:00  \n",
       "54            NaN   10.0      1.0        NaN 2020-02-21 07:30:00  \n",
       "55            NaN    0.3      5.0        NaN 2020-02-21 11:00:00  "
      ]
     },
     "execution_count": 41,
     "metadata": {},
     "output_type": "execute_result"
    }
   ],
   "source": [
    "from datetime import datetime\n",
    "\n",
    "food_log_morning = food_log_morning.copy()\n",
    "\n",
    "food_log_morning.loc[:, 'date'] = pd.to_datetime(food_log_morning['date'], format='%Y-%m-%d')\n",
    "\n",
    "food_log_morning.loc[:, 'time'] = pd.to_datetime(food_log_morning['time'], format='%H:%M:%S').dt.time\n",
    "\n",
    "food_log_morning.loc[:, 'datetime'] = food_log_morning.apply(\n",
    "    lambda row: datetime.combine(row['date'], row['time']), axis=1\n",
    ")\n",
    "\n",
    "food_log_morning"
   ]
  },
  {
   "cell_type": "code",
   "execution_count": 46,
   "metadata": {},
   "outputs": [
    {
     "data": {
      "text/html": [
       "<div>\n",
       "<style scoped>\n",
       "    .dataframe tbody tr th:only-of-type {\n",
       "        vertical-align: middle;\n",
       "    }\n",
       "\n",
       "    .dataframe tbody tr th {\n",
       "        vertical-align: top;\n",
       "    }\n",
       "\n",
       "    .dataframe thead th {\n",
       "        text-align: right;\n",
       "    }\n",
       "</style>\n",
       "<table border=\"1\" class=\"dataframe\">\n",
       "  <thead>\n",
       "    <tr style=\"text-align: right;\">\n",
       "      <th></th>\n",
       "      <th>datetime</th>\n",
       "      <th>logged_food</th>\n",
       "      <th>calorie</th>\n",
       "      <th>protein</th>\n",
       "      <th>sugar</th>\n",
       "      <th>total_carb</th>\n",
       "    </tr>\n",
       "  </thead>\n",
       "  <tbody>\n",
       "    <tr>\n",
       "      <th>3</th>\n",
       "      <td>2020-02-14 07:10:00</td>\n",
       "      <td>Natrel Lactose Free 2 Percent</td>\n",
       "      <td>120.0</td>\n",
       "      <td>12.0</td>\n",
       "      <td>8.0</td>\n",
       "      <td>9.0</td>\n",
       "    </tr>\n",
       "    <tr>\n",
       "      <th>4</th>\n",
       "      <td>2020-02-14 07:10:00</td>\n",
       "      <td>Standard Breakfast</td>\n",
       "      <td>110.0</td>\n",
       "      <td>1.0</td>\n",
       "      <td>10.0</td>\n",
       "      <td>26.0</td>\n",
       "    </tr>\n",
       "    <tr>\n",
       "      <th>5</th>\n",
       "      <td>2020-02-14 09:38:00</td>\n",
       "      <td>Breakfast Trail Mix</td>\n",
       "      <td>280.0</td>\n",
       "      <td>4.0</td>\n",
       "      <td>22.0</td>\n",
       "      <td>30.0</td>\n",
       "    </tr>\n",
       "    <tr>\n",
       "      <th>11</th>\n",
       "      <td>2020-02-15 07:30:00</td>\n",
       "      <td>Spinach Smoothie</td>\n",
       "      <td>308.0</td>\n",
       "      <td>7.2</td>\n",
       "      <td>38.0</td>\n",
       "      <td>69.0</td>\n",
       "    </tr>\n",
       "    <tr>\n",
       "      <th>21</th>\n",
       "      <td>2020-02-16 07:00:00</td>\n",
       "      <td>Natrel Lactose Free 2 Percent</td>\n",
       "      <td>120.0</td>\n",
       "      <td>12.0</td>\n",
       "      <td>8.0</td>\n",
       "      <td>9.0</td>\n",
       "    </tr>\n",
       "    <tr>\n",
       "      <th>22</th>\n",
       "      <td>2020-02-16 07:00:00</td>\n",
       "      <td>Standard Breakfast</td>\n",
       "      <td>110.0</td>\n",
       "      <td>1.0</td>\n",
       "      <td>10.0</td>\n",
       "      <td>26.0</td>\n",
       "    </tr>\n",
       "    <tr>\n",
       "      <th>23</th>\n",
       "      <td>2020-02-16 08:15:00</td>\n",
       "      <td>Breakfast Trail Mix</td>\n",
       "      <td>280.0</td>\n",
       "      <td>4.0</td>\n",
       "      <td>22.0</td>\n",
       "      <td>30.0</td>\n",
       "    </tr>\n",
       "    <tr>\n",
       "      <th>24</th>\n",
       "      <td>2020-02-16 08:49:00</td>\n",
       "      <td>Hot Chocolate</td>\n",
       "      <td>151.0</td>\n",
       "      <td>2.5</td>\n",
       "      <td>25.0</td>\n",
       "      <td>32.0</td>\n",
       "    </tr>\n",
       "    <tr>\n",
       "      <th>29</th>\n",
       "      <td>2020-02-17 06:42:00</td>\n",
       "      <td>Maple Brown Sugar Oatmeal</td>\n",
       "      <td>158.0</td>\n",
       "      <td>4.0</td>\n",
       "      <td>13.0</td>\n",
       "      <td>33.0</td>\n",
       "    </tr>\n",
       "    <tr>\n",
       "      <th>35</th>\n",
       "      <td>2020-02-18 06:20:00</td>\n",
       "      <td>Natrel Lactose Free 2 Percent</td>\n",
       "      <td>120.0</td>\n",
       "      <td>12.0</td>\n",
       "      <td>8.0</td>\n",
       "      <td>9.0</td>\n",
       "    </tr>\n",
       "    <tr>\n",
       "      <th>36</th>\n",
       "      <td>2020-02-18 06:20:00</td>\n",
       "      <td>Standard Breakfast</td>\n",
       "      <td>110.0</td>\n",
       "      <td>1.0</td>\n",
       "      <td>10.0</td>\n",
       "      <td>26.0</td>\n",
       "    </tr>\n",
       "    <tr>\n",
       "      <th>37</th>\n",
       "      <td>2020-02-18 11:00:00</td>\n",
       "      <td>Muffin</td>\n",
       "      <td>212.0</td>\n",
       "      <td>2.5</td>\n",
       "      <td>18.0</td>\n",
       "      <td>30.0</td>\n",
       "    </tr>\n",
       "    <tr>\n",
       "      <th>41</th>\n",
       "      <td>2020-02-19 11:00:00</td>\n",
       "      <td>Acai Smoothie</td>\n",
       "      <td>440.0</td>\n",
       "      <td>5.0</td>\n",
       "      <td>75.0</td>\n",
       "      <td>92.0</td>\n",
       "    </tr>\n",
       "    <tr>\n",
       "      <th>45</th>\n",
       "      <td>2020-02-20 07:37:00</td>\n",
       "      <td>Green Smoothie</td>\n",
       "      <td>308.0</td>\n",
       "      <td>7.2</td>\n",
       "      <td>38.0</td>\n",
       "      <td>69.0</td>\n",
       "    </tr>\n",
       "    <tr>\n",
       "      <th>46</th>\n",
       "      <td>2020-02-20 07:37:00</td>\n",
       "      <td>Bagel</td>\n",
       "      <td>139.0</td>\n",
       "      <td>5.5</td>\n",
       "      <td>4.4</td>\n",
       "      <td>27.0</td>\n",
       "    </tr>\n",
       "    <tr>\n",
       "      <th>53</th>\n",
       "      <td>2020-02-21 07:30:00</td>\n",
       "      <td>Natrel Lactose Free 2 Percent</td>\n",
       "      <td>120.0</td>\n",
       "      <td>12.0</td>\n",
       "      <td>8.0</td>\n",
       "      <td>9.0</td>\n",
       "    </tr>\n",
       "    <tr>\n",
       "      <th>54</th>\n",
       "      <td>2020-02-21 07:30:00</td>\n",
       "      <td>Standard Breakfast</td>\n",
       "      <td>110.0</td>\n",
       "      <td>1.0</td>\n",
       "      <td>10.0</td>\n",
       "      <td>26.0</td>\n",
       "    </tr>\n",
       "    <tr>\n",
       "      <th>55</th>\n",
       "      <td>2020-02-21 11:00:00</td>\n",
       "      <td>Babybel Cheese</td>\n",
       "      <td>71.0</td>\n",
       "      <td>5.0</td>\n",
       "      <td>0.3</td>\n",
       "      <td>0.3</td>\n",
       "    </tr>\n",
       "  </tbody>\n",
       "</table>\n",
       "</div>"
      ],
      "text/plain": [
       "              datetime                    logged_food  calorie  protein  \\\n",
       "3  2020-02-14 07:10:00  Natrel Lactose Free 2 Percent    120.0     12.0   \n",
       "4  2020-02-14 07:10:00             Standard Breakfast    110.0      1.0   \n",
       "5  2020-02-14 09:38:00            Breakfast Trail Mix    280.0      4.0   \n",
       "11 2020-02-15 07:30:00               Spinach Smoothie    308.0      7.2   \n",
       "21 2020-02-16 07:00:00  Natrel Lactose Free 2 Percent    120.0     12.0   \n",
       "22 2020-02-16 07:00:00             Standard Breakfast    110.0      1.0   \n",
       "23 2020-02-16 08:15:00            Breakfast Trail Mix    280.0      4.0   \n",
       "24 2020-02-16 08:49:00                  Hot Chocolate    151.0      2.5   \n",
       "29 2020-02-17 06:42:00      Maple Brown Sugar Oatmeal    158.0      4.0   \n",
       "35 2020-02-18 06:20:00  Natrel Lactose Free 2 Percent    120.0     12.0   \n",
       "36 2020-02-18 06:20:00             Standard Breakfast    110.0      1.0   \n",
       "37 2020-02-18 11:00:00                         Muffin    212.0      2.5   \n",
       "41 2020-02-19 11:00:00                  Acai Smoothie    440.0      5.0   \n",
       "45 2020-02-20 07:37:00                 Green Smoothie    308.0      7.2   \n",
       "46 2020-02-20 07:37:00                          Bagel    139.0      5.5   \n",
       "53 2020-02-21 07:30:00  Natrel Lactose Free 2 Percent    120.0     12.0   \n",
       "54 2020-02-21 07:30:00             Standard Breakfast    110.0      1.0   \n",
       "55 2020-02-21 11:00:00                 Babybel Cheese     71.0      5.0   \n",
       "\n",
       "    sugar  total_carb  \n",
       "3     8.0         9.0  \n",
       "4    10.0        26.0  \n",
       "5    22.0        30.0  \n",
       "11   38.0        69.0  \n",
       "21    8.0         9.0  \n",
       "22   10.0        26.0  \n",
       "23   22.0        30.0  \n",
       "24   25.0        32.0  \n",
       "29   13.0        33.0  \n",
       "35    8.0         9.0  \n",
       "36   10.0        26.0  \n",
       "37   18.0        30.0  \n",
       "41   75.0        92.0  \n",
       "45   38.0        69.0  \n",
       "46    4.4        27.0  \n",
       "53    8.0         9.0  \n",
       "54   10.0        26.0  \n",
       "55    0.3         0.3  "
      ]
     },
     "execution_count": 46,
     "metadata": {},
     "output_type": "execute_result"
    }
   ],
   "source": [
    "food_log_morning = food_log_morning[['datetime', 'logged_food', 'calorie', 'protein', 'sugar', 'total_carb']]\n",
    "food_log_morning"
   ]
  },
  {
   "cell_type": "code",
   "execution_count": 48,
   "metadata": {},
   "outputs": [
    {
     "data": {
      "text/plain": [
       "Index                                   int64\n",
       "Timestamp (YYYY-MM-DDThh:mm:ss)        object\n",
       "Event Type                             object\n",
       "Event Subtype                          object\n",
       "Patient Info                           object\n",
       "Device Info                            object\n",
       "Source Device ID                       object\n",
       "Glucose Value (mg/dL)                 float64\n",
       "Insulin Value (u)                     float64\n",
       "Carb Value (grams)                    float64\n",
       "Duration (hh:mm:ss)                    object\n",
       "Glucose Rate of Change (mg/dL/min)    float64\n",
       "Transmitter Time (Long Integer)       float64\n",
       "dtype: object"
      ]
     },
     "execution_count": 48,
     "metadata": {},
     "output_type": "execute_result"
    }
   ],
   "source": [
    "dexcom_log_morning = pd.read_csv(\"Dexcom_Logs/Dexcom_001.csv\")\n",
    "dexcom_log_morning.dtypes"
   ]
  },
  {
   "cell_type": "code",
   "execution_count": 57,
   "metadata": {},
   "outputs": [
    {
     "data": {
      "text/html": [
       "<div>\n",
       "<style scoped>\n",
       "    .dataframe tbody tr th:only-of-type {\n",
       "        vertical-align: middle;\n",
       "    }\n",
       "\n",
       "    .dataframe tbody tr th {\n",
       "        vertical-align: top;\n",
       "    }\n",
       "\n",
       "    .dataframe thead th {\n",
       "        text-align: right;\n",
       "    }\n",
       "</style>\n",
       "<table border=\"1\" class=\"dataframe\">\n",
       "  <thead>\n",
       "    <tr style=\"text-align: right;\">\n",
       "      <th></th>\n",
       "      <th>datetime</th>\n",
       "      <th>logged_food</th>\n",
       "      <th>calorie</th>\n",
       "      <th>protein</th>\n",
       "      <th>sugar</th>\n",
       "      <th>total_carb</th>\n",
       "      <th>glucose_values</th>\n",
       "      <th>glucose_times</th>\n",
       "      <th>minutes_after_food</th>\n",
       "    </tr>\n",
       "  </thead>\n",
       "  <tbody>\n",
       "    <tr>\n",
       "      <th>3</th>\n",
       "      <td>2020-02-14 07:10:00</td>\n",
       "      <td>Natrel Lactose Free 2 Percent</td>\n",
       "      <td>120.0</td>\n",
       "      <td>12.0</td>\n",
       "      <td>8.0</td>\n",
       "      <td>9.0</td>\n",
       "      <td>[92.0, 93.0, 98.0, 104.0, 110.0, 114.0, 115.0,...</td>\n",
       "      <td>[07:13:32, 07:18:32, 07:23:32, 07:28:32, 07:33...</td>\n",
       "      <td>[0:03:32, 0:08:32, 0:13:32, 0:18:32, 0:23:31, ...</td>\n",
       "    </tr>\n",
       "    <tr>\n",
       "      <th>4</th>\n",
       "      <td>2020-02-14 07:10:00</td>\n",
       "      <td>Standard Breakfast</td>\n",
       "      <td>110.0</td>\n",
       "      <td>1.0</td>\n",
       "      <td>10.0</td>\n",
       "      <td>26.0</td>\n",
       "      <td>[92.0, 93.0, 98.0, 104.0, 110.0, 114.0, 115.0,...</td>\n",
       "      <td>[07:13:32, 07:18:32, 07:23:32, 07:28:32, 07:33...</td>\n",
       "      <td>[0:03:32, 0:08:32, 0:13:32, 0:18:32, 0:23:31, ...</td>\n",
       "    </tr>\n",
       "    <tr>\n",
       "      <th>5</th>\n",
       "      <td>2020-02-14 09:38:00</td>\n",
       "      <td>Breakfast Trail Mix</td>\n",
       "      <td>280.0</td>\n",
       "      <td>4.0</td>\n",
       "      <td>22.0</td>\n",
       "      <td>30.0</td>\n",
       "      <td>[89.0, 89.0, 91.0, 95.0, 99.0, 100.0, 98.0, 95...</td>\n",
       "      <td>[09:38:31, 09:43:32, 09:48:31, 09:53:31, 09:58...</td>\n",
       "      <td>[0:00:31, 0:05:32, 0:10:31, 0:15:31, 0:20:31, ...</td>\n",
       "    </tr>\n",
       "    <tr>\n",
       "      <th>11</th>\n",
       "      <td>2020-02-15 07:30:00</td>\n",
       "      <td>Spinach Smoothie</td>\n",
       "      <td>308.0</td>\n",
       "      <td>7.2</td>\n",
       "      <td>38.0</td>\n",
       "      <td>69.0</td>\n",
       "      <td>[85.0, 84.0, 85.0, 88.0, 92.0, 96.0, 100.0, 10...</td>\n",
       "      <td>[07:33:31, 07:38:31, 07:43:30, 07:48:30, 07:53...</td>\n",
       "      <td>[0:03:31, 0:08:31, 0:13:30, 0:18:30, 0:23:30, ...</td>\n",
       "    </tr>\n",
       "    <tr>\n",
       "      <th>21</th>\n",
       "      <td>2020-02-16 07:00:00</td>\n",
       "      <td>Natrel Lactose Free 2 Percent</td>\n",
       "      <td>120.0</td>\n",
       "      <td>12.0</td>\n",
       "      <td>8.0</td>\n",
       "      <td>9.0</td>\n",
       "      <td>[89.0, 96.0, 108.0, 120.0, 129.0, 133.0, 133.0...</td>\n",
       "      <td>[07:03:30, 07:08:30, 07:13:30, 07:18:30, 07:23...</td>\n",
       "      <td>[0:03:30, 0:08:30, 0:13:30, 0:18:30, 0:23:30, ...</td>\n",
       "    </tr>\n",
       "    <tr>\n",
       "      <th>22</th>\n",
       "      <td>2020-02-16 07:00:00</td>\n",
       "      <td>Standard Breakfast</td>\n",
       "      <td>110.0</td>\n",
       "      <td>1.0</td>\n",
       "      <td>10.0</td>\n",
       "      <td>26.0</td>\n",
       "      <td>[89.0, 96.0, 108.0, 120.0, 129.0, 133.0, 133.0...</td>\n",
       "      <td>[07:03:30, 07:08:30, 07:13:30, 07:18:30, 07:23...</td>\n",
       "      <td>[0:03:30, 0:08:30, 0:13:30, 0:18:30, 0:23:30, ...</td>\n",
       "    </tr>\n",
       "    <tr>\n",
       "      <th>23</th>\n",
       "      <td>2020-02-16 08:15:00</td>\n",
       "      <td>Breakfast Trail Mix</td>\n",
       "      <td>280.0</td>\n",
       "      <td>4.0</td>\n",
       "      <td>22.0</td>\n",
       "      <td>30.0</td>\n",
       "      <td>[55.0, 65.0, 79.0, 96.0, 111.0, 120.0, 121.0, ...</td>\n",
       "      <td>[08:18:29, 08:23:30, 08:28:30, 08:33:30, 08:38...</td>\n",
       "      <td>[0:03:29, 0:08:30, 0:13:30, 0:18:30, 0:23:29, ...</td>\n",
       "    </tr>\n",
       "    <tr>\n",
       "      <th>24</th>\n",
       "      <td>2020-02-16 08:49:00</td>\n",
       "      <td>Hot Chocolate</td>\n",
       "      <td>151.0</td>\n",
       "      <td>2.5</td>\n",
       "      <td>25.0</td>\n",
       "      <td>32.0</td>\n",
       "      <td>[119.0, 114.0, 106.0, 99.0, 94.0, 93.0, 95.0, ...</td>\n",
       "      <td>[08:53:29, 08:58:29, 09:03:29, 09:08:29, 09:13...</td>\n",
       "      <td>[0:04:29, 0:09:29, 0:14:29, 0:19:29, 0:24:29, ...</td>\n",
       "    </tr>\n",
       "    <tr>\n",
       "      <th>29</th>\n",
       "      <td>2020-02-17 06:42:00</td>\n",
       "      <td>Maple Brown Sugar Oatmeal</td>\n",
       "      <td>158.0</td>\n",
       "      <td>4.0</td>\n",
       "      <td>13.0</td>\n",
       "      <td>33.0</td>\n",
       "      <td>[91.0, 92.0, 94.0, 99.0, 108.0, 117.0, 123.0, ...</td>\n",
       "      <td>[06:43:28, 06:48:28, 06:53:28, 06:58:28, 07:03...</td>\n",
       "      <td>[0:01:28, 0:06:28, 0:11:28, 0:16:28, 0:21:28, ...</td>\n",
       "    </tr>\n",
       "    <tr>\n",
       "      <th>35</th>\n",
       "      <td>2020-02-18 06:20:00</td>\n",
       "      <td>Natrel Lactose Free 2 Percent</td>\n",
       "      <td>120.0</td>\n",
       "      <td>12.0</td>\n",
       "      <td>8.0</td>\n",
       "      <td>9.0</td>\n",
       "      <td>[97.0, 96.0, 96.0, 100.0, 109.0, 120.0, 132.0,...</td>\n",
       "      <td>[06:23:28, 06:28:27, 06:33:28, 06:38:27, 06:43...</td>\n",
       "      <td>[0:03:28, 0:08:27, 0:13:28, 0:18:27, 0:23:26, ...</td>\n",
       "    </tr>\n",
       "    <tr>\n",
       "      <th>36</th>\n",
       "      <td>2020-02-18 06:20:00</td>\n",
       "      <td>Standard Breakfast</td>\n",
       "      <td>110.0</td>\n",
       "      <td>1.0</td>\n",
       "      <td>10.0</td>\n",
       "      <td>26.0</td>\n",
       "      <td>[97.0, 96.0, 96.0, 100.0, 109.0, 120.0, 132.0,...</td>\n",
       "      <td>[06:23:28, 06:28:27, 06:33:28, 06:38:27, 06:43...</td>\n",
       "      <td>[0:03:28, 0:08:27, 0:13:28, 0:18:27, 0:23:26, ...</td>\n",
       "    </tr>\n",
       "    <tr>\n",
       "      <th>37</th>\n",
       "      <td>2020-02-18 11:00:00</td>\n",
       "      <td>Muffin</td>\n",
       "      <td>212.0</td>\n",
       "      <td>2.5</td>\n",
       "      <td>18.0</td>\n",
       "      <td>30.0</td>\n",
       "      <td>[111.0, 104.0, 97.0, 94.0, 94.0, 96.0, 99.0, 1...</td>\n",
       "      <td>[11:03:28, 11:08:27, 11:13:28, 11:18:27, 11:23...</td>\n",
       "      <td>[0:03:28, 0:08:27, 0:13:28, 0:18:27, 0:23:28, ...</td>\n",
       "    </tr>\n",
       "    <tr>\n",
       "      <th>41</th>\n",
       "      <td>2020-02-19 11:00:00</td>\n",
       "      <td>Acai Smoothie</td>\n",
       "      <td>440.0</td>\n",
       "      <td>5.0</td>\n",
       "      <td>75.0</td>\n",
       "      <td>92.0</td>\n",
       "      <td>[110.0, 112.0, 114.0, 112.0, 108.0, 105.0, 104...</td>\n",
       "      <td>[11:03:27, 11:08:27, 11:13:27, 11:18:26, 11:23...</td>\n",
       "      <td>[0:03:27, 0:08:27, 0:13:27, 0:18:26, 0:23:26, ...</td>\n",
       "    </tr>\n",
       "    <tr>\n",
       "      <th>45</th>\n",
       "      <td>2020-02-20 07:37:00</td>\n",
       "      <td>Green Smoothie</td>\n",
       "      <td>308.0</td>\n",
       "      <td>7.2</td>\n",
       "      <td>38.0</td>\n",
       "      <td>69.0</td>\n",
       "      <td>[100.0, 103.0, 110.0, 121.0, 133.0, 140.0, 143...</td>\n",
       "      <td>[07:38:25, 07:43:25, 07:48:25, 07:53:25, 07:58...</td>\n",
       "      <td>[0:01:25, 0:06:25, 0:11:25, 0:16:25, 0:21:25, ...</td>\n",
       "    </tr>\n",
       "    <tr>\n",
       "      <th>46</th>\n",
       "      <td>2020-02-20 07:37:00</td>\n",
       "      <td>Bagel</td>\n",
       "      <td>139.0</td>\n",
       "      <td>5.5</td>\n",
       "      <td>4.4</td>\n",
       "      <td>27.0</td>\n",
       "      <td>[100.0, 103.0, 110.0, 121.0, 133.0, 140.0, 143...</td>\n",
       "      <td>[07:38:25, 07:43:25, 07:48:25, 07:53:25, 07:58...</td>\n",
       "      <td>[0:01:25, 0:06:25, 0:11:25, 0:16:25, 0:21:25, ...</td>\n",
       "    </tr>\n",
       "    <tr>\n",
       "      <th>53</th>\n",
       "      <td>2020-02-21 07:30:00</td>\n",
       "      <td>Natrel Lactose Free 2 Percent</td>\n",
       "      <td>120.0</td>\n",
       "      <td>12.0</td>\n",
       "      <td>8.0</td>\n",
       "      <td>9.0</td>\n",
       "      <td>[103.0, 103.0, 105.0, 113.0, 125.0, 137.0, 142...</td>\n",
       "      <td>[07:33:23, 07:38:23, 07:43:24, 07:48:24, 07:53...</td>\n",
       "      <td>[0:03:23, 0:08:23, 0:13:24, 0:18:24, 0:23:24, ...</td>\n",
       "    </tr>\n",
       "    <tr>\n",
       "      <th>54</th>\n",
       "      <td>2020-02-21 07:30:00</td>\n",
       "      <td>Standard Breakfast</td>\n",
       "      <td>110.0</td>\n",
       "      <td>1.0</td>\n",
       "      <td>10.0</td>\n",
       "      <td>26.0</td>\n",
       "      <td>[103.0, 103.0, 105.0, 113.0, 125.0, 137.0, 142...</td>\n",
       "      <td>[07:33:23, 07:38:23, 07:43:24, 07:48:24, 07:53...</td>\n",
       "      <td>[0:03:23, 0:08:23, 0:13:24, 0:18:24, 0:23:24, ...</td>\n",
       "    </tr>\n",
       "    <tr>\n",
       "      <th>55</th>\n",
       "      <td>2020-02-21 11:00:00</td>\n",
       "      <td>Babybel Cheese</td>\n",
       "      <td>71.0</td>\n",
       "      <td>5.0</td>\n",
       "      <td>0.3</td>\n",
       "      <td>0.3</td>\n",
       "      <td>[87.0, 87.0, 88.0, 89.0, 90.0, 91.0, 92.0, 94....</td>\n",
       "      <td>[11:03:23, 11:08:24, 11:13:23, 11:18:23, 11:23...</td>\n",
       "      <td>[0:03:23, 0:08:24, 0:13:23, 0:18:23, 0:23:24, ...</td>\n",
       "    </tr>\n",
       "  </tbody>\n",
       "</table>\n",
       "</div>"
      ],
      "text/plain": [
       "              datetime                    logged_food  calorie  protein  \\\n",
       "3  2020-02-14 07:10:00  Natrel Lactose Free 2 Percent    120.0     12.0   \n",
       "4  2020-02-14 07:10:00             Standard Breakfast    110.0      1.0   \n",
       "5  2020-02-14 09:38:00            Breakfast Trail Mix    280.0      4.0   \n",
       "11 2020-02-15 07:30:00               Spinach Smoothie    308.0      7.2   \n",
       "21 2020-02-16 07:00:00  Natrel Lactose Free 2 Percent    120.0     12.0   \n",
       "22 2020-02-16 07:00:00             Standard Breakfast    110.0      1.0   \n",
       "23 2020-02-16 08:15:00            Breakfast Trail Mix    280.0      4.0   \n",
       "24 2020-02-16 08:49:00                  Hot Chocolate    151.0      2.5   \n",
       "29 2020-02-17 06:42:00      Maple Brown Sugar Oatmeal    158.0      4.0   \n",
       "35 2020-02-18 06:20:00  Natrel Lactose Free 2 Percent    120.0     12.0   \n",
       "36 2020-02-18 06:20:00             Standard Breakfast    110.0      1.0   \n",
       "37 2020-02-18 11:00:00                         Muffin    212.0      2.5   \n",
       "41 2020-02-19 11:00:00                  Acai Smoothie    440.0      5.0   \n",
       "45 2020-02-20 07:37:00                 Green Smoothie    308.0      7.2   \n",
       "46 2020-02-20 07:37:00                          Bagel    139.0      5.5   \n",
       "53 2020-02-21 07:30:00  Natrel Lactose Free 2 Percent    120.0     12.0   \n",
       "54 2020-02-21 07:30:00             Standard Breakfast    110.0      1.0   \n",
       "55 2020-02-21 11:00:00                 Babybel Cheese     71.0      5.0   \n",
       "\n",
       "    sugar  total_carb                                     glucose_values  \\\n",
       "3     8.0         9.0  [92.0, 93.0, 98.0, 104.0, 110.0, 114.0, 115.0,...   \n",
       "4    10.0        26.0  [92.0, 93.0, 98.0, 104.0, 110.0, 114.0, 115.0,...   \n",
       "5    22.0        30.0  [89.0, 89.0, 91.0, 95.0, 99.0, 100.0, 98.0, 95...   \n",
       "11   38.0        69.0  [85.0, 84.0, 85.0, 88.0, 92.0, 96.0, 100.0, 10...   \n",
       "21    8.0         9.0  [89.0, 96.0, 108.0, 120.0, 129.0, 133.0, 133.0...   \n",
       "22   10.0        26.0  [89.0, 96.0, 108.0, 120.0, 129.0, 133.0, 133.0...   \n",
       "23   22.0        30.0  [55.0, 65.0, 79.0, 96.0, 111.0, 120.0, 121.0, ...   \n",
       "24   25.0        32.0  [119.0, 114.0, 106.0, 99.0, 94.0, 93.0, 95.0, ...   \n",
       "29   13.0        33.0  [91.0, 92.0, 94.0, 99.0, 108.0, 117.0, 123.0, ...   \n",
       "35    8.0         9.0  [97.0, 96.0, 96.0, 100.0, 109.0, 120.0, 132.0,...   \n",
       "36   10.0        26.0  [97.0, 96.0, 96.0, 100.0, 109.0, 120.0, 132.0,...   \n",
       "37   18.0        30.0  [111.0, 104.0, 97.0, 94.0, 94.0, 96.0, 99.0, 1...   \n",
       "41   75.0        92.0  [110.0, 112.0, 114.0, 112.0, 108.0, 105.0, 104...   \n",
       "45   38.0        69.0  [100.0, 103.0, 110.0, 121.0, 133.0, 140.0, 143...   \n",
       "46    4.4        27.0  [100.0, 103.0, 110.0, 121.0, 133.0, 140.0, 143...   \n",
       "53    8.0         9.0  [103.0, 103.0, 105.0, 113.0, 125.0, 137.0, 142...   \n",
       "54   10.0        26.0  [103.0, 103.0, 105.0, 113.0, 125.0, 137.0, 142...   \n",
       "55    0.3         0.3  [87.0, 87.0, 88.0, 89.0, 90.0, 91.0, 92.0, 94....   \n",
       "\n",
       "                                        glucose_times  \\\n",
       "3   [07:13:32, 07:18:32, 07:23:32, 07:28:32, 07:33...   \n",
       "4   [07:13:32, 07:18:32, 07:23:32, 07:28:32, 07:33...   \n",
       "5   [09:38:31, 09:43:32, 09:48:31, 09:53:31, 09:58...   \n",
       "11  [07:33:31, 07:38:31, 07:43:30, 07:48:30, 07:53...   \n",
       "21  [07:03:30, 07:08:30, 07:13:30, 07:18:30, 07:23...   \n",
       "22  [07:03:30, 07:08:30, 07:13:30, 07:18:30, 07:23...   \n",
       "23  [08:18:29, 08:23:30, 08:28:30, 08:33:30, 08:38...   \n",
       "24  [08:53:29, 08:58:29, 09:03:29, 09:08:29, 09:13...   \n",
       "29  [06:43:28, 06:48:28, 06:53:28, 06:58:28, 07:03...   \n",
       "35  [06:23:28, 06:28:27, 06:33:28, 06:38:27, 06:43...   \n",
       "36  [06:23:28, 06:28:27, 06:33:28, 06:38:27, 06:43...   \n",
       "37  [11:03:28, 11:08:27, 11:13:28, 11:18:27, 11:23...   \n",
       "41  [11:03:27, 11:08:27, 11:13:27, 11:18:26, 11:23...   \n",
       "45  [07:38:25, 07:43:25, 07:48:25, 07:53:25, 07:58...   \n",
       "46  [07:38:25, 07:43:25, 07:48:25, 07:53:25, 07:58...   \n",
       "53  [07:33:23, 07:38:23, 07:43:24, 07:48:24, 07:53...   \n",
       "54  [07:33:23, 07:38:23, 07:43:24, 07:48:24, 07:53...   \n",
       "55  [11:03:23, 11:08:24, 11:13:23, 11:18:23, 11:23...   \n",
       "\n",
       "                                   minutes_after_food  \n",
       "3   [0:03:32, 0:08:32, 0:13:32, 0:18:32, 0:23:31, ...  \n",
       "4   [0:03:32, 0:08:32, 0:13:32, 0:18:32, 0:23:31, ...  \n",
       "5   [0:00:31, 0:05:32, 0:10:31, 0:15:31, 0:20:31, ...  \n",
       "11  [0:03:31, 0:08:31, 0:13:30, 0:18:30, 0:23:30, ...  \n",
       "21  [0:03:30, 0:08:30, 0:13:30, 0:18:30, 0:23:30, ...  \n",
       "22  [0:03:30, 0:08:30, 0:13:30, 0:18:30, 0:23:30, ...  \n",
       "23  [0:03:29, 0:08:30, 0:13:30, 0:18:30, 0:23:29, ...  \n",
       "24  [0:04:29, 0:09:29, 0:14:29, 0:19:29, 0:24:29, ...  \n",
       "29  [0:01:28, 0:06:28, 0:11:28, 0:16:28, 0:21:28, ...  \n",
       "35  [0:03:28, 0:08:27, 0:13:28, 0:18:27, 0:23:26, ...  \n",
       "36  [0:03:28, 0:08:27, 0:13:28, 0:18:27, 0:23:26, ...  \n",
       "37  [0:03:28, 0:08:27, 0:13:28, 0:18:27, 0:23:28, ...  \n",
       "41  [0:03:27, 0:08:27, 0:13:27, 0:18:26, 0:23:26, ...  \n",
       "45  [0:01:25, 0:06:25, 0:11:25, 0:16:25, 0:21:25, ...  \n",
       "46  [0:01:25, 0:06:25, 0:11:25, 0:16:25, 0:21:25, ...  \n",
       "53  [0:03:23, 0:08:23, 0:13:24, 0:18:24, 0:23:24, ...  \n",
       "54  [0:03:23, 0:08:23, 0:13:24, 0:18:24, 0:23:24, ...  \n",
       "55  [0:03:23, 0:08:24, 0:13:23, 0:18:23, 0:23:24, ...  "
      ]
     },
     "execution_count": 57,
     "metadata": {},
     "output_type": "execute_result"
    }
   ],
   "source": [
    "import pandas as pd\n",
    "from datetime import timedelta\n",
    "\n",
    "# Ensure datetime columns are properly formatted\n",
    "food_log_morning.loc[:, 'datetime'] = pd.to_datetime(food_log_morning['datetime'])\n",
    "dexcom_log_morning = dexcom_log_morning.rename(columns={\"Timestamp (YYYY-MM-DDThh:mm:ss)\": \"datetime\",\n",
    "                                                        \"Glucose Value (mg/dL)\": \"glucose_value\"})\n",
    "dexcom_log_morning.loc[:, 'datetime'] = pd.to_datetime(dexcom_log_morning['datetime'])\n",
    "\n",
    "# Function to get glucose values, times, and formatted minutes after food intake\n",
    "def get_glucose_data(food_time):\n",
    "    if pd.isnull(food_time):\n",
    "        return pd.Series([[], [], []])  # Return empty lists if missing data\n",
    "\n",
    "    # Filter glucose readings within 3 hours after food intake\n",
    "    mask = (dexcom_log_morning['datetime'] > food_time) & (dexcom_log_morning['datetime'] <= food_time + timedelta(hours=3))\n",
    "    \n",
    "    # Extract glucose values\n",
    "    glucose_values = dexcom_log_morning.loc[mask, 'glucose_value'].tolist()\n",
    "    \n",
    "    # Calculate minutes after food intake and format as HH:MM:SS\n",
    "    minutes_after_food = dexcom_log_morning.loc[mask, 'datetime'].apply(lambda x: str(timedelta(seconds=(x - food_time).total_seconds()))).tolist()\n",
    "    \n",
    "    return pd.Series([glucose_values, minutes_after_food])\n",
    "\n",
    "# Apply function to extract the new columns\n",
    "food_log_morning[['glucose_values', 'minutes_after_food']] = food_log_morning['datetime'].apply(get_glucose_data)\n",
    "\n",
    "food_log_morning"
   ]
  },
  {
   "cell_type": "code",
   "execution_count": 58,
   "metadata": {},
   "outputs": [
    {
     "data": {
      "text/html": [
       "<div>\n",
       "<style scoped>\n",
       "    .dataframe tbody tr th:only-of-type {\n",
       "        vertical-align: middle;\n",
       "    }\n",
       "\n",
       "    .dataframe tbody tr th {\n",
       "        vertical-align: top;\n",
       "    }\n",
       "\n",
       "    .dataframe thead th {\n",
       "        text-align: right;\n",
       "    }\n",
       "</style>\n",
       "<table border=\"1\" class=\"dataframe\">\n",
       "  <thead>\n",
       "    <tr style=\"text-align: right;\">\n",
       "      <th></th>\n",
       "      <th>datetime</th>\n",
       "      <th>logged_food</th>\n",
       "      <th>calorie</th>\n",
       "      <th>protein</th>\n",
       "      <th>sugar</th>\n",
       "      <th>total_carb</th>\n",
       "      <th>glucose_values</th>\n",
       "      <th>glucose_times</th>\n",
       "      <th>minutes_after_food</th>\n",
       "      <th>percent_change_initial</th>\n",
       "    </tr>\n",
       "  </thead>\n",
       "  <tbody>\n",
       "    <tr>\n",
       "      <th>3</th>\n",
       "      <td>2020-02-14 07:10:00</td>\n",
       "      <td>Natrel Lactose Free 2 Percent</td>\n",
       "      <td>120.0</td>\n",
       "      <td>12.0</td>\n",
       "      <td>8.0</td>\n",
       "      <td>9.0</td>\n",
       "      <td>[92.0, 93.0, 98.0, 104.0, 110.0, 114.0, 115.0,...</td>\n",
       "      <td>[07:13:32, 07:18:32, 07:23:32, 07:28:32, 07:33...</td>\n",
       "      <td>[0:03:32, 0:08:32, 0:13:32, 0:18:32, 0:23:31, ...</td>\n",
       "      <td>[0.0, 1.0869565217391304, 6.521739130434782, 1...</td>\n",
       "    </tr>\n",
       "    <tr>\n",
       "      <th>4</th>\n",
       "      <td>2020-02-14 07:10:00</td>\n",
       "      <td>Standard Breakfast</td>\n",
       "      <td>110.0</td>\n",
       "      <td>1.0</td>\n",
       "      <td>10.0</td>\n",
       "      <td>26.0</td>\n",
       "      <td>[92.0, 93.0, 98.0, 104.0, 110.0, 114.0, 115.0,...</td>\n",
       "      <td>[07:13:32, 07:18:32, 07:23:32, 07:28:32, 07:33...</td>\n",
       "      <td>[0:03:32, 0:08:32, 0:13:32, 0:18:32, 0:23:31, ...</td>\n",
       "      <td>[0.0, 1.0869565217391304, 6.521739130434782, 1...</td>\n",
       "    </tr>\n",
       "    <tr>\n",
       "      <th>5</th>\n",
       "      <td>2020-02-14 09:38:00</td>\n",
       "      <td>Breakfast Trail Mix</td>\n",
       "      <td>280.0</td>\n",
       "      <td>4.0</td>\n",
       "      <td>22.0</td>\n",
       "      <td>30.0</td>\n",
       "      <td>[89.0, 89.0, 91.0, 95.0, 99.0, 100.0, 98.0, 95...</td>\n",
       "      <td>[09:38:31, 09:43:32, 09:48:31, 09:53:31, 09:58...</td>\n",
       "      <td>[0:00:31, 0:05:32, 0:10:31, 0:15:31, 0:20:31, ...</td>\n",
       "      <td>[0.0, 0.0, 2.247191011235955, 6.74157303370786...</td>\n",
       "    </tr>\n",
       "    <tr>\n",
       "      <th>11</th>\n",
       "      <td>2020-02-15 07:30:00</td>\n",
       "      <td>Spinach Smoothie</td>\n",
       "      <td>308.0</td>\n",
       "      <td>7.2</td>\n",
       "      <td>38.0</td>\n",
       "      <td>69.0</td>\n",
       "      <td>[85.0, 84.0, 85.0, 88.0, 92.0, 96.0, 100.0, 10...</td>\n",
       "      <td>[07:33:31, 07:38:31, 07:43:30, 07:48:30, 07:53...</td>\n",
       "      <td>[0:03:31, 0:08:31, 0:13:30, 0:18:30, 0:23:30, ...</td>\n",
       "      <td>[0.0, -1.1764705882352942, 0.0, 3.529411764705...</td>\n",
       "    </tr>\n",
       "    <tr>\n",
       "      <th>21</th>\n",
       "      <td>2020-02-16 07:00:00</td>\n",
       "      <td>Natrel Lactose Free 2 Percent</td>\n",
       "      <td>120.0</td>\n",
       "      <td>12.0</td>\n",
       "      <td>8.0</td>\n",
       "      <td>9.0</td>\n",
       "      <td>[89.0, 96.0, 108.0, 120.0, 129.0, 133.0, 133.0...</td>\n",
       "      <td>[07:03:30, 07:08:30, 07:13:30, 07:18:30, 07:23...</td>\n",
       "      <td>[0:03:30, 0:08:30, 0:13:30, 0:18:30, 0:23:30, ...</td>\n",
       "      <td>[0.0, 7.865168539325842, 21.34831460674157, 34...</td>\n",
       "    </tr>\n",
       "    <tr>\n",
       "      <th>22</th>\n",
       "      <td>2020-02-16 07:00:00</td>\n",
       "      <td>Standard Breakfast</td>\n",
       "      <td>110.0</td>\n",
       "      <td>1.0</td>\n",
       "      <td>10.0</td>\n",
       "      <td>26.0</td>\n",
       "      <td>[89.0, 96.0, 108.0, 120.0, 129.0, 133.0, 133.0...</td>\n",
       "      <td>[07:03:30, 07:08:30, 07:13:30, 07:18:30, 07:23...</td>\n",
       "      <td>[0:03:30, 0:08:30, 0:13:30, 0:18:30, 0:23:30, ...</td>\n",
       "      <td>[0.0, 7.865168539325842, 21.34831460674157, 34...</td>\n",
       "    </tr>\n",
       "    <tr>\n",
       "      <th>23</th>\n",
       "      <td>2020-02-16 08:15:00</td>\n",
       "      <td>Breakfast Trail Mix</td>\n",
       "      <td>280.0</td>\n",
       "      <td>4.0</td>\n",
       "      <td>22.0</td>\n",
       "      <td>30.0</td>\n",
       "      <td>[55.0, 65.0, 79.0, 96.0, 111.0, 120.0, 121.0, ...</td>\n",
       "      <td>[08:18:29, 08:23:30, 08:28:30, 08:33:30, 08:38...</td>\n",
       "      <td>[0:03:29, 0:08:30, 0:13:30, 0:18:30, 0:23:29, ...</td>\n",
       "      <td>[0.0, 18.181818181818183, 43.63636363636363, 7...</td>\n",
       "    </tr>\n",
       "    <tr>\n",
       "      <th>24</th>\n",
       "      <td>2020-02-16 08:49:00</td>\n",
       "      <td>Hot Chocolate</td>\n",
       "      <td>151.0</td>\n",
       "      <td>2.5</td>\n",
       "      <td>25.0</td>\n",
       "      <td>32.0</td>\n",
       "      <td>[119.0, 114.0, 106.0, 99.0, 94.0, 93.0, 95.0, ...</td>\n",
       "      <td>[08:53:29, 08:58:29, 09:03:29, 09:08:29, 09:13...</td>\n",
       "      <td>[0:04:29, 0:09:29, 0:14:29, 0:19:29, 0:24:29, ...</td>\n",
       "      <td>[0.0, -4.201680672268908, -10.92436974789916, ...</td>\n",
       "    </tr>\n",
       "    <tr>\n",
       "      <th>29</th>\n",
       "      <td>2020-02-17 06:42:00</td>\n",
       "      <td>Maple Brown Sugar Oatmeal</td>\n",
       "      <td>158.0</td>\n",
       "      <td>4.0</td>\n",
       "      <td>13.0</td>\n",
       "      <td>33.0</td>\n",
       "      <td>[91.0, 92.0, 94.0, 99.0, 108.0, 117.0, 123.0, ...</td>\n",
       "      <td>[06:43:28, 06:48:28, 06:53:28, 06:58:28, 07:03...</td>\n",
       "      <td>[0:01:28, 0:06:28, 0:11:28, 0:16:28, 0:21:28, ...</td>\n",
       "      <td>[0.0, 1.098901098901099, 3.296703296703297, 8....</td>\n",
       "    </tr>\n",
       "    <tr>\n",
       "      <th>35</th>\n",
       "      <td>2020-02-18 06:20:00</td>\n",
       "      <td>Natrel Lactose Free 2 Percent</td>\n",
       "      <td>120.0</td>\n",
       "      <td>12.0</td>\n",
       "      <td>8.0</td>\n",
       "      <td>9.0</td>\n",
       "      <td>[97.0, 96.0, 96.0, 100.0, 109.0, 120.0, 132.0,...</td>\n",
       "      <td>[06:23:28, 06:28:27, 06:33:28, 06:38:27, 06:43...</td>\n",
       "      <td>[0:03:28, 0:08:27, 0:13:28, 0:18:27, 0:23:26, ...</td>\n",
       "      <td>[0.0, -1.0309278350515463, -1.0309278350515463...</td>\n",
       "    </tr>\n",
       "    <tr>\n",
       "      <th>36</th>\n",
       "      <td>2020-02-18 06:20:00</td>\n",
       "      <td>Standard Breakfast</td>\n",
       "      <td>110.0</td>\n",
       "      <td>1.0</td>\n",
       "      <td>10.0</td>\n",
       "      <td>26.0</td>\n",
       "      <td>[97.0, 96.0, 96.0, 100.0, 109.0, 120.0, 132.0,...</td>\n",
       "      <td>[06:23:28, 06:28:27, 06:33:28, 06:38:27, 06:43...</td>\n",
       "      <td>[0:03:28, 0:08:27, 0:13:28, 0:18:27, 0:23:26, ...</td>\n",
       "      <td>[0.0, -1.0309278350515463, -1.0309278350515463...</td>\n",
       "    </tr>\n",
       "    <tr>\n",
       "      <th>37</th>\n",
       "      <td>2020-02-18 11:00:00</td>\n",
       "      <td>Muffin</td>\n",
       "      <td>212.0</td>\n",
       "      <td>2.5</td>\n",
       "      <td>18.0</td>\n",
       "      <td>30.0</td>\n",
       "      <td>[111.0, 104.0, 97.0, 94.0, 94.0, 96.0, 99.0, 1...</td>\n",
       "      <td>[11:03:28, 11:08:27, 11:13:28, 11:18:27, 11:23...</td>\n",
       "      <td>[0:03:28, 0:08:27, 0:13:28, 0:18:27, 0:23:28, ...</td>\n",
       "      <td>[0.0, -6.306306306306306, -12.612612612612612,...</td>\n",
       "    </tr>\n",
       "    <tr>\n",
       "      <th>41</th>\n",
       "      <td>2020-02-19 11:00:00</td>\n",
       "      <td>Acai Smoothie</td>\n",
       "      <td>440.0</td>\n",
       "      <td>5.0</td>\n",
       "      <td>75.0</td>\n",
       "      <td>92.0</td>\n",
       "      <td>[110.0, 112.0, 114.0, 112.0, 108.0, 105.0, 104...</td>\n",
       "      <td>[11:03:27, 11:08:27, 11:13:27, 11:18:26, 11:23...</td>\n",
       "      <td>[0:03:27, 0:08:27, 0:13:27, 0:18:26, 0:23:26, ...</td>\n",
       "      <td>[0.0, 1.8181818181818181, 3.6363636363636362, ...</td>\n",
       "    </tr>\n",
       "    <tr>\n",
       "      <th>45</th>\n",
       "      <td>2020-02-20 07:37:00</td>\n",
       "      <td>Green Smoothie</td>\n",
       "      <td>308.0</td>\n",
       "      <td>7.2</td>\n",
       "      <td>38.0</td>\n",
       "      <td>69.0</td>\n",
       "      <td>[100.0, 103.0, 110.0, 121.0, 133.0, 140.0, 143...</td>\n",
       "      <td>[07:38:25, 07:43:25, 07:48:25, 07:53:25, 07:58...</td>\n",
       "      <td>[0:01:25, 0:06:25, 0:11:25, 0:16:25, 0:21:25, ...</td>\n",
       "      <td>[0.0, 3.0, 10.0, 21.0, 33.0, 40.0, 43.0, 42.0,...</td>\n",
       "    </tr>\n",
       "    <tr>\n",
       "      <th>46</th>\n",
       "      <td>2020-02-20 07:37:00</td>\n",
       "      <td>Bagel</td>\n",
       "      <td>139.0</td>\n",
       "      <td>5.5</td>\n",
       "      <td>4.4</td>\n",
       "      <td>27.0</td>\n",
       "      <td>[100.0, 103.0, 110.0, 121.0, 133.0, 140.0, 143...</td>\n",
       "      <td>[07:38:25, 07:43:25, 07:48:25, 07:53:25, 07:58...</td>\n",
       "      <td>[0:01:25, 0:06:25, 0:11:25, 0:16:25, 0:21:25, ...</td>\n",
       "      <td>[0.0, 3.0, 10.0, 21.0, 33.0, 40.0, 43.0, 42.0,...</td>\n",
       "    </tr>\n",
       "    <tr>\n",
       "      <th>53</th>\n",
       "      <td>2020-02-21 07:30:00</td>\n",
       "      <td>Natrel Lactose Free 2 Percent</td>\n",
       "      <td>120.0</td>\n",
       "      <td>12.0</td>\n",
       "      <td>8.0</td>\n",
       "      <td>9.0</td>\n",
       "      <td>[103.0, 103.0, 105.0, 113.0, 125.0, 137.0, 142...</td>\n",
       "      <td>[07:33:23, 07:38:23, 07:43:24, 07:48:24, 07:53...</td>\n",
       "      <td>[0:03:23, 0:08:23, 0:13:24, 0:18:24, 0:23:24, ...</td>\n",
       "      <td>[0.0, 0.0, 1.9417475728155338, 9.7087378640776...</td>\n",
       "    </tr>\n",
       "    <tr>\n",
       "      <th>54</th>\n",
       "      <td>2020-02-21 07:30:00</td>\n",
       "      <td>Standard Breakfast</td>\n",
       "      <td>110.0</td>\n",
       "      <td>1.0</td>\n",
       "      <td>10.0</td>\n",
       "      <td>26.0</td>\n",
       "      <td>[103.0, 103.0, 105.0, 113.0, 125.0, 137.0, 142...</td>\n",
       "      <td>[07:33:23, 07:38:23, 07:43:24, 07:48:24, 07:53...</td>\n",
       "      <td>[0:03:23, 0:08:23, 0:13:24, 0:18:24, 0:23:24, ...</td>\n",
       "      <td>[0.0, 0.0, 1.9417475728155338, 9.7087378640776...</td>\n",
       "    </tr>\n",
       "    <tr>\n",
       "      <th>55</th>\n",
       "      <td>2020-02-21 11:00:00</td>\n",
       "      <td>Babybel Cheese</td>\n",
       "      <td>71.0</td>\n",
       "      <td>5.0</td>\n",
       "      <td>0.3</td>\n",
       "      <td>0.3</td>\n",
       "      <td>[87.0, 87.0, 88.0, 89.0, 90.0, 91.0, 92.0, 94....</td>\n",
       "      <td>[11:03:23, 11:08:24, 11:13:23, 11:18:23, 11:23...</td>\n",
       "      <td>[0:03:23, 0:08:24, 0:13:23, 0:18:23, 0:23:24, ...</td>\n",
       "      <td>[0.0, 0.0, 1.1494252873563218, 2.2988505747126...</td>\n",
       "    </tr>\n",
       "  </tbody>\n",
       "</table>\n",
       "</div>"
      ],
      "text/plain": [
       "              datetime                    logged_food  calorie  protein  \\\n",
       "3  2020-02-14 07:10:00  Natrel Lactose Free 2 Percent    120.0     12.0   \n",
       "4  2020-02-14 07:10:00             Standard Breakfast    110.0      1.0   \n",
       "5  2020-02-14 09:38:00            Breakfast Trail Mix    280.0      4.0   \n",
       "11 2020-02-15 07:30:00               Spinach Smoothie    308.0      7.2   \n",
       "21 2020-02-16 07:00:00  Natrel Lactose Free 2 Percent    120.0     12.0   \n",
       "22 2020-02-16 07:00:00             Standard Breakfast    110.0      1.0   \n",
       "23 2020-02-16 08:15:00            Breakfast Trail Mix    280.0      4.0   \n",
       "24 2020-02-16 08:49:00                  Hot Chocolate    151.0      2.5   \n",
       "29 2020-02-17 06:42:00      Maple Brown Sugar Oatmeal    158.0      4.0   \n",
       "35 2020-02-18 06:20:00  Natrel Lactose Free 2 Percent    120.0     12.0   \n",
       "36 2020-02-18 06:20:00             Standard Breakfast    110.0      1.0   \n",
       "37 2020-02-18 11:00:00                         Muffin    212.0      2.5   \n",
       "41 2020-02-19 11:00:00                  Acai Smoothie    440.0      5.0   \n",
       "45 2020-02-20 07:37:00                 Green Smoothie    308.0      7.2   \n",
       "46 2020-02-20 07:37:00                          Bagel    139.0      5.5   \n",
       "53 2020-02-21 07:30:00  Natrel Lactose Free 2 Percent    120.0     12.0   \n",
       "54 2020-02-21 07:30:00             Standard Breakfast    110.0      1.0   \n",
       "55 2020-02-21 11:00:00                 Babybel Cheese     71.0      5.0   \n",
       "\n",
       "    sugar  total_carb                                     glucose_values  \\\n",
       "3     8.0         9.0  [92.0, 93.0, 98.0, 104.0, 110.0, 114.0, 115.0,...   \n",
       "4    10.0        26.0  [92.0, 93.0, 98.0, 104.0, 110.0, 114.0, 115.0,...   \n",
       "5    22.0        30.0  [89.0, 89.0, 91.0, 95.0, 99.0, 100.0, 98.0, 95...   \n",
       "11   38.0        69.0  [85.0, 84.0, 85.0, 88.0, 92.0, 96.0, 100.0, 10...   \n",
       "21    8.0         9.0  [89.0, 96.0, 108.0, 120.0, 129.0, 133.0, 133.0...   \n",
       "22   10.0        26.0  [89.0, 96.0, 108.0, 120.0, 129.0, 133.0, 133.0...   \n",
       "23   22.0        30.0  [55.0, 65.0, 79.0, 96.0, 111.0, 120.0, 121.0, ...   \n",
       "24   25.0        32.0  [119.0, 114.0, 106.0, 99.0, 94.0, 93.0, 95.0, ...   \n",
       "29   13.0        33.0  [91.0, 92.0, 94.0, 99.0, 108.0, 117.0, 123.0, ...   \n",
       "35    8.0         9.0  [97.0, 96.0, 96.0, 100.0, 109.0, 120.0, 132.0,...   \n",
       "36   10.0        26.0  [97.0, 96.0, 96.0, 100.0, 109.0, 120.0, 132.0,...   \n",
       "37   18.0        30.0  [111.0, 104.0, 97.0, 94.0, 94.0, 96.0, 99.0, 1...   \n",
       "41   75.0        92.0  [110.0, 112.0, 114.0, 112.0, 108.0, 105.0, 104...   \n",
       "45   38.0        69.0  [100.0, 103.0, 110.0, 121.0, 133.0, 140.0, 143...   \n",
       "46    4.4        27.0  [100.0, 103.0, 110.0, 121.0, 133.0, 140.0, 143...   \n",
       "53    8.0         9.0  [103.0, 103.0, 105.0, 113.0, 125.0, 137.0, 142...   \n",
       "54   10.0        26.0  [103.0, 103.0, 105.0, 113.0, 125.0, 137.0, 142...   \n",
       "55    0.3         0.3  [87.0, 87.0, 88.0, 89.0, 90.0, 91.0, 92.0, 94....   \n",
       "\n",
       "                                        glucose_times  \\\n",
       "3   [07:13:32, 07:18:32, 07:23:32, 07:28:32, 07:33...   \n",
       "4   [07:13:32, 07:18:32, 07:23:32, 07:28:32, 07:33...   \n",
       "5   [09:38:31, 09:43:32, 09:48:31, 09:53:31, 09:58...   \n",
       "11  [07:33:31, 07:38:31, 07:43:30, 07:48:30, 07:53...   \n",
       "21  [07:03:30, 07:08:30, 07:13:30, 07:18:30, 07:23...   \n",
       "22  [07:03:30, 07:08:30, 07:13:30, 07:18:30, 07:23...   \n",
       "23  [08:18:29, 08:23:30, 08:28:30, 08:33:30, 08:38...   \n",
       "24  [08:53:29, 08:58:29, 09:03:29, 09:08:29, 09:13...   \n",
       "29  [06:43:28, 06:48:28, 06:53:28, 06:58:28, 07:03...   \n",
       "35  [06:23:28, 06:28:27, 06:33:28, 06:38:27, 06:43...   \n",
       "36  [06:23:28, 06:28:27, 06:33:28, 06:38:27, 06:43...   \n",
       "37  [11:03:28, 11:08:27, 11:13:28, 11:18:27, 11:23...   \n",
       "41  [11:03:27, 11:08:27, 11:13:27, 11:18:26, 11:23...   \n",
       "45  [07:38:25, 07:43:25, 07:48:25, 07:53:25, 07:58...   \n",
       "46  [07:38:25, 07:43:25, 07:48:25, 07:53:25, 07:58...   \n",
       "53  [07:33:23, 07:38:23, 07:43:24, 07:48:24, 07:53...   \n",
       "54  [07:33:23, 07:38:23, 07:43:24, 07:48:24, 07:53...   \n",
       "55  [11:03:23, 11:08:24, 11:13:23, 11:18:23, 11:23...   \n",
       "\n",
       "                                   minutes_after_food  \\\n",
       "3   [0:03:32, 0:08:32, 0:13:32, 0:18:32, 0:23:31, ...   \n",
       "4   [0:03:32, 0:08:32, 0:13:32, 0:18:32, 0:23:31, ...   \n",
       "5   [0:00:31, 0:05:32, 0:10:31, 0:15:31, 0:20:31, ...   \n",
       "11  [0:03:31, 0:08:31, 0:13:30, 0:18:30, 0:23:30, ...   \n",
       "21  [0:03:30, 0:08:30, 0:13:30, 0:18:30, 0:23:30, ...   \n",
       "22  [0:03:30, 0:08:30, 0:13:30, 0:18:30, 0:23:30, ...   \n",
       "23  [0:03:29, 0:08:30, 0:13:30, 0:18:30, 0:23:29, ...   \n",
       "24  [0:04:29, 0:09:29, 0:14:29, 0:19:29, 0:24:29, ...   \n",
       "29  [0:01:28, 0:06:28, 0:11:28, 0:16:28, 0:21:28, ...   \n",
       "35  [0:03:28, 0:08:27, 0:13:28, 0:18:27, 0:23:26, ...   \n",
       "36  [0:03:28, 0:08:27, 0:13:28, 0:18:27, 0:23:26, ...   \n",
       "37  [0:03:28, 0:08:27, 0:13:28, 0:18:27, 0:23:28, ...   \n",
       "41  [0:03:27, 0:08:27, 0:13:27, 0:18:26, 0:23:26, ...   \n",
       "45  [0:01:25, 0:06:25, 0:11:25, 0:16:25, 0:21:25, ...   \n",
       "46  [0:01:25, 0:06:25, 0:11:25, 0:16:25, 0:21:25, ...   \n",
       "53  [0:03:23, 0:08:23, 0:13:24, 0:18:24, 0:23:24, ...   \n",
       "54  [0:03:23, 0:08:23, 0:13:24, 0:18:24, 0:23:24, ...   \n",
       "55  [0:03:23, 0:08:24, 0:13:23, 0:18:23, 0:23:24, ...   \n",
       "\n",
       "                               percent_change_initial  \n",
       "3   [0.0, 1.0869565217391304, 6.521739130434782, 1...  \n",
       "4   [0.0, 1.0869565217391304, 6.521739130434782, 1...  \n",
       "5   [0.0, 0.0, 2.247191011235955, 6.74157303370786...  \n",
       "11  [0.0, -1.1764705882352942, 0.0, 3.529411764705...  \n",
       "21  [0.0, 7.865168539325842, 21.34831460674157, 34...  \n",
       "22  [0.0, 7.865168539325842, 21.34831460674157, 34...  \n",
       "23  [0.0, 18.181818181818183, 43.63636363636363, 7...  \n",
       "24  [0.0, -4.201680672268908, -10.92436974789916, ...  \n",
       "29  [0.0, 1.098901098901099, 3.296703296703297, 8....  \n",
       "35  [0.0, -1.0309278350515463, -1.0309278350515463...  \n",
       "36  [0.0, -1.0309278350515463, -1.0309278350515463...  \n",
       "37  [0.0, -6.306306306306306, -12.612612612612612,...  \n",
       "41  [0.0, 1.8181818181818181, 3.6363636363636362, ...  \n",
       "45  [0.0, 3.0, 10.0, 21.0, 33.0, 40.0, 43.0, 42.0,...  \n",
       "46  [0.0, 3.0, 10.0, 21.0, 33.0, 40.0, 43.0, 42.0,...  \n",
       "53  [0.0, 0.0, 1.9417475728155338, 9.7087378640776...  \n",
       "54  [0.0, 0.0, 1.9417475728155338, 9.7087378640776...  \n",
       "55  [0.0, 0.0, 1.1494252873563218, 2.2988505747126...  "
      ]
     },
     "execution_count": 58,
     "metadata": {},
     "output_type": "execute_result"
    }
   ],
   "source": [
    "import pandas as pd\n",
    "\n",
    "# Function to calculate percent change from the initial glucose value\n",
    "def calculate_percent_change(glucose_values):\n",
    "    if not glucose_values or len(glucose_values) < 2:  # Ensure we have enough data\n",
    "        return []  # Return an empty list if no data\n",
    "    \n",
    "    initial_value = glucose_values[0]  # First glucose reading after food intake\n",
    "    \n",
    "    if initial_value == 0:  # Avoid division by zero\n",
    "        return [0] * len(glucose_values)\n",
    "    \n",
    "    # Compute percent change for each value\n",
    "    percent_changes = [(g - initial_value) / initial_value * 100 for g in glucose_values]\n",
    "    \n",
    "    return percent_changes\n",
    "\n",
    "# Apply function to compute percent change\n",
    "food_log_morning['percent_change_initial'] = food_log_morning['glucose_values'].apply(calculate_percent_change)\n",
    "\n",
    "food_log_morning"
   ]
  },
  {
   "cell_type": "code",
   "execution_count": 59,
   "metadata": {},
   "outputs": [
    {
     "data": {
      "application/vnd.plotly.v1+json": {
       "config": {
        "plotlyServerURL": "https://plot.ly"
       },
       "data": [
        {
         "mode": "lines",
         "name": "Row 3",
         "type": "scatter",
         "x": [
          3.533333333333333,
          8.533333333333333,
          13.533333333333333,
          18.533333333333335,
          23.516666666666666,
          28.533333333333335,
          33.516666666666666,
          38.53333333333333,
          43.53333333333333,
          48.53333333333333,
          53.53333333333333,
          58.516666666666666,
          63.516666666666666,
          68.51666666666667,
          73.53333333333333,
          78.53333333333333,
          83.51666666666667,
          88.53333333333333,
          93.51666666666667,
          98.51666666666667,
          103.51666666666667,
          108.51666666666667,
          113.53333333333333,
          118.51666666666667,
          123.53333333333333,
          128.53333333333333,
          133.53333333333333,
          138.51666666666668,
          143.51666666666668,
          148.51666666666668,
          153.53333333333333,
          158.51666666666668,
          163.51666666666668,
          168.51666666666668,
          173.51666666666668,
          178.53333333333333
         ],
         "y": [
          0,
          1.0869565217391304,
          6.521739130434782,
          13.043478260869565,
          19.565217391304348,
          23.91304347826087,
          25,
          27.173913043478258,
          25,
          22.82608695652174,
          23.91304347826087,
          27.173913043478258,
          31.521739130434785,
          32.608695652173914,
          32.608695652173914,
          31.521739130434785,
          29.347826086956523,
          23.91304347826087,
          15.217391304347828,
          7.608695652173914,
          0,
          -3.260869565217391,
          -6.521739130434782,
          -8.695652173913043,
          -9.782608695652174,
          -7.608695652173914,
          -5.434782608695652,
          -3.260869565217391,
          -2.1739130434782608,
          -3.260869565217391,
          -3.260869565217391,
          -1.0869565217391304,
          3.260869565217391,
          7.608695652173914,
          8.695652173913043,
          6.521739130434782
         ]
        },
        {
         "mode": "lines",
         "name": "Row 4",
         "type": "scatter",
         "x": [
          3.533333333333333,
          8.533333333333333,
          13.533333333333333,
          18.533333333333335,
          23.516666666666666,
          28.533333333333335,
          33.516666666666666,
          38.53333333333333,
          43.53333333333333,
          48.53333333333333,
          53.53333333333333,
          58.516666666666666,
          63.516666666666666,
          68.51666666666667,
          73.53333333333333,
          78.53333333333333,
          83.51666666666667,
          88.53333333333333,
          93.51666666666667,
          98.51666666666667,
          103.51666666666667,
          108.51666666666667,
          113.53333333333333,
          118.51666666666667,
          123.53333333333333,
          128.53333333333333,
          133.53333333333333,
          138.51666666666668,
          143.51666666666668,
          148.51666666666668,
          153.53333333333333,
          158.51666666666668,
          163.51666666666668,
          168.51666666666668,
          173.51666666666668,
          178.53333333333333
         ],
         "y": [
          0,
          1.0869565217391304,
          6.521739130434782,
          13.043478260869565,
          19.565217391304348,
          23.91304347826087,
          25,
          27.173913043478258,
          25,
          22.82608695652174,
          23.91304347826087,
          27.173913043478258,
          31.521739130434785,
          32.608695652173914,
          32.608695652173914,
          31.521739130434785,
          29.347826086956523,
          23.91304347826087,
          15.217391304347828,
          7.608695652173914,
          0,
          -3.260869565217391,
          -6.521739130434782,
          -8.695652173913043,
          -9.782608695652174,
          -7.608695652173914,
          -5.434782608695652,
          -3.260869565217391,
          -2.1739130434782608,
          -3.260869565217391,
          -3.260869565217391,
          -1.0869565217391304,
          3.260869565217391,
          7.608695652173914,
          8.695652173913043,
          6.521739130434782
         ]
        },
        {
         "mode": "lines",
         "name": "Row 5",
         "type": "scatter",
         "x": [
          0.5166666666666667,
          5.533333333333333,
          10.516666666666667,
          15.516666666666667,
          20.516666666666666,
          25.516666666666666,
          30.533333333333335,
          35.53333333333333,
          40.516666666666666,
          45.516666666666666,
          50.516666666666666,
          55.53333333333333,
          60.516666666666666,
          65.53333333333333,
          70.51666666666667,
          75.53333333333333,
          80.53333333333333,
          85.53333333333333,
          90.51666666666667,
          95.51666666666667,
          100.51666666666667,
          105.51666666666667,
          110.51666666666667,
          115.51666666666667,
          120.51666666666667,
          125.51666666666667,
          130.51666666666668,
          135.53333333333333,
          140.51666666666668,
          145.51666666666668,
          150.51666666666668,
          155.51666666666668,
          160.51666666666668,
          165.53333333333333,
          170.51666666666668,
          175.51666666666668
         ],
         "y": [
          0,
          0,
          2.247191011235955,
          6.741573033707865,
          11.235955056179774,
          12.359550561797752,
          10.112359550561797,
          6.741573033707865,
          6.741573033707865,
          11.235955056179774,
          17.97752808988764,
          23.595505617977526,
          23.595505617977526,
          17.97752808988764,
          11.235955056179774,
          4.49438202247191,
          2.247191011235955,
          1.1235955056179776,
          1.1235955056179776,
          2.247191011235955,
          3.3707865168539324,
          5.617977528089887,
          7.865168539325842,
          8.98876404494382,
          8.98876404494382,
          6.741573033707865,
          3.3707865168539324,
          1.1235955056179776,
          0,
          -1.1235955056179776,
          1.1235955056179776,
          3.3707865168539324,
          5.617977528089887,
          5.617977528089887,
          7.865168539325842,
          13.48314606741573
         ]
        },
        {
         "mode": "lines",
         "name": "Row 11",
         "type": "scatter",
         "x": [
          3.5166666666666666,
          8.516666666666667,
          13.5,
          18.5,
          23.5,
          28.5,
          33.5,
          38.5,
          43.5,
          48.5,
          53.516666666666666,
          58.5,
          63.5,
          68.5,
          73.5,
          78.5,
          83.5,
          88.51666666666667,
          93.5,
          103.5,
          108.5,
          113.5,
          118.51666666666667,
          123.48333333333333,
          128.48333333333332,
          133.48333333333332,
          138.48333333333332,
          143.48333333333332,
          148.48333333333332,
          153.48333333333332,
          158.48333333333332,
          163.48333333333332,
          168.48333333333332,
          173.48333333333332,
          178.48333333333332
         ],
         "y": [
          0,
          -1.1764705882352942,
          0,
          3.5294117647058822,
          8.235294117647058,
          12.941176470588237,
          17.647058823529413,
          20,
          16.470588235294116,
          10.588235294117647,
          2.3529411764705883,
          -7.0588235294117645,
          -17.647058823529413,
          -24.705882352941178,
          -27.058823529411764,
          -23.52941176470588,
          -18.823529411764707,
          -12.941176470588237,
          -9.411764705882353,
          -2.3529411764705883,
          1.1764705882352942,
          3.5294117647058822,
          7.0588235294117645,
          11.76470588235294,
          14.117647058823529,
          15.294117647058824,
          14.117647058823529,
          12.941176470588237,
          12.941176470588237,
          14.117647058823529,
          14.117647058823529,
          12.941176470588237,
          9.411764705882353,
          5.88235294117647,
          3.5294117647058822
         ]
        },
        {
         "mode": "lines",
         "name": "Row 21",
         "type": "scatter",
         "x": [
          3.5,
          8.5,
          13.5,
          18.5,
          23.5,
          28.5,
          33.5,
          38.5,
          43.5,
          48.5,
          53.5,
          58.5,
          63.483333333333334,
          68.48333333333333,
          73.5,
          78.48333333333333,
          83.5,
          88.5,
          93.5,
          98.48333333333333,
          103.48333333333333,
          108.48333333333333,
          113.48333333333333,
          118.48333333333333,
          123.48333333333333,
          128.48333333333332,
          133.48333333333332,
          138.48333333333332,
          143.48333333333332,
          148.48333333333332,
          153.48333333333332,
          158.48333333333332,
          163.48333333333332,
          168.48333333333332,
          173.48333333333332,
          178.48333333333332
         ],
         "y": [
          0,
          7.865168539325842,
          21.34831460674157,
          34.831460674157306,
          44.9438202247191,
          49.43820224719101,
          49.43820224719101,
          43.82022471910113,
          30.337078651685395,
          11.235955056179774,
          -12.359550561797752,
          -32.58426966292135,
          -44.9438202247191,
          -48.31460674157304,
          -46.06741573033708,
          -38.20224719101123,
          -26.96629213483146,
          -11.235955056179774,
          7.865168539325842,
          24.719101123595504,
          34.831460674157306,
          35.95505617977528,
          33.70786516853933,
          28.08988764044944,
          19.101123595505616,
          11.235955056179774,
          5.617977528089887,
          4.49438202247191,
          6.741573033707865,
          10.112359550561797,
          15.730337078651685,
          21.34831460674157,
          28.08988764044944,
          33.70786516853933,
          35.95505617977528,
          30.337078651685395
         ]
        },
        {
         "mode": "lines",
         "name": "Row 22",
         "type": "scatter",
         "x": [
          3.5,
          8.5,
          13.5,
          18.5,
          23.5,
          28.5,
          33.5,
          38.5,
          43.5,
          48.5,
          53.5,
          58.5,
          63.483333333333334,
          68.48333333333333,
          73.5,
          78.48333333333333,
          83.5,
          88.5,
          93.5,
          98.48333333333333,
          103.48333333333333,
          108.48333333333333,
          113.48333333333333,
          118.48333333333333,
          123.48333333333333,
          128.48333333333332,
          133.48333333333332,
          138.48333333333332,
          143.48333333333332,
          148.48333333333332,
          153.48333333333332,
          158.48333333333332,
          163.48333333333332,
          168.48333333333332,
          173.48333333333332,
          178.48333333333332
         ],
         "y": [
          0,
          7.865168539325842,
          21.34831460674157,
          34.831460674157306,
          44.9438202247191,
          49.43820224719101,
          49.43820224719101,
          43.82022471910113,
          30.337078651685395,
          11.235955056179774,
          -12.359550561797752,
          -32.58426966292135,
          -44.9438202247191,
          -48.31460674157304,
          -46.06741573033708,
          -38.20224719101123,
          -26.96629213483146,
          -11.235955056179774,
          7.865168539325842,
          24.719101123595504,
          34.831460674157306,
          35.95505617977528,
          33.70786516853933,
          28.08988764044944,
          19.101123595505616,
          11.235955056179774,
          5.617977528089887,
          4.49438202247191,
          6.741573033707865,
          10.112359550561797,
          15.730337078651685,
          21.34831460674157,
          28.08988764044944,
          33.70786516853933,
          35.95505617977528,
          30.337078651685395
         ]
        },
        {
         "mode": "lines",
         "name": "Row 23",
         "type": "scatter",
         "x": [
          3.4833333333333334,
          8.5,
          13.5,
          18.5,
          23.483333333333334,
          28.483333333333334,
          33.483333333333334,
          38.483333333333334,
          43.483333333333334,
          48.483333333333334,
          53.483333333333334,
          58.483333333333334,
          63.483333333333334,
          68.48333333333333,
          73.48333333333333,
          78.48333333333333,
          83.48333333333333,
          88.48333333333333,
          93.48333333333333,
          98.48333333333333,
          103.48333333333333,
          108.48333333333333,
          113.48333333333333,
          118.48333333333333,
          123.48333333333333,
          128.48333333333332,
          133.48333333333332,
          138.48333333333332,
          143.48333333333332,
          148.46666666666667,
          153.48333333333332,
          158.48333333333332,
          163.46666666666667,
          168.48333333333332,
          173.48333333333332,
          178.48333333333332
         ],
         "y": [
          0,
          18.181818181818183,
          43.63636363636363,
          74.54545454545455,
          101.81818181818181,
          118.18181818181819,
          120,
          116.36363636363636,
          107.27272727272728,
          92.72727272727272,
          80,
          70.9090909090909,
          69.0909090909091,
          72.72727272727273,
          78.18181818181819,
          87.27272727272727,
          96.36363636363636,
          107.27272727272728,
          116.36363636363636,
          120,
          110.9090909090909,
          98.18181818181819,
          81.81818181818183,
          67.27272727272727,
          56.36363636363636,
          52.72727272727272,
          54.54545454545454,
          56.36363636363636,
          58.18181818181818,
          60,
          61.81818181818181,
          65.45454545454545,
          65.45454545454545,
          65.45454545454545,
          63.63636363636363,
          63.63636363636363
         ]
        },
        {
         "mode": "lines",
         "name": "Row 24",
         "type": "scatter",
         "x": [
          4.483333333333333,
          9.483333333333333,
          14.483333333333333,
          19.483333333333334,
          24.483333333333334,
          29.483333333333334,
          34.483333333333334,
          39.483333333333334,
          44.483333333333334,
          49.483333333333334,
          54.483333333333334,
          59.483333333333334,
          64.48333333333333,
          69.48333333333333,
          74.48333333333333,
          79.48333333333333,
          84.48333333333333,
          89.48333333333333,
          94.48333333333333,
          99.48333333333333,
          104.48333333333333,
          109.48333333333333,
          114.46666666666667,
          119.48333333333333,
          124.48333333333333,
          129.46666666666667,
          134.48333333333332,
          139.48333333333332,
          144.48333333333332,
          149.48333333333332,
          154.48333333333332,
          159.48333333333332,
          164.48333333333332,
          169.46666666666667,
          174.48333333333332,
          179.46666666666667
         ],
         "y": [
          0,
          -4.201680672268908,
          -10.92436974789916,
          -16.80672268907563,
          -21.008403361344538,
          -21.84873949579832,
          -20.168067226890756,
          -17.647058823529413,
          -13.445378151260504,
          -9.243697478991598,
          -4.201680672268908,
          0,
          1.680672268907563,
          -2.5210084033613445,
          -8.403361344537815,
          -15.966386554621847,
          -22.689075630252102,
          -27.73109243697479,
          -29.411764705882355,
          -28.57142857142857,
          -27.73109243697479,
          -26.89075630252101,
          -26.05042016806723,
          -25.210084033613445,
          -23.52941176470588,
          -23.52941176470588,
          -23.52941176470588,
          -24.369747899159663,
          -24.369747899159663,
          -24.369747899159663,
          -23.52941176470588,
          -24.369747899159663,
          -24.369747899159663,
          -25.210084033613445,
          -24.369747899159663,
          -23.52941176470588
         ]
        },
        {
         "mode": "lines",
         "name": "Row 29",
         "type": "scatter",
         "x": [
          1.4666666666666666,
          6.466666666666667,
          11.466666666666667,
          16.466666666666665,
          21.466666666666665,
          26.466666666666665,
          31.45,
          36.46666666666667,
          41.46666666666667,
          46.45,
          51.46666666666667,
          56.46666666666667,
          61.46666666666667,
          66.46666666666667,
          71.45,
          76.45,
          81.46666666666667,
          86.46666666666667,
          91.46666666666667,
          96.46666666666667,
          101.46666666666667,
          106.45,
          111.46666666666667,
          116.46666666666667,
          121.46666666666667,
          126.46666666666667,
          131.46666666666667,
          136.46666666666667,
          141.46666666666667,
          146.46666666666667,
          151.46666666666667,
          156.45,
          161.46666666666667,
          166.46666666666667,
          171.46666666666667,
          176.46666666666667
         ],
         "y": [
          0,
          1.098901098901099,
          3.296703296703297,
          8.791208791208792,
          18.681318681318682,
          28.57142857142857,
          35.16483516483517,
          36.26373626373626,
          31.868131868131865,
          21.978021978021978,
          7.6923076923076925,
          -6.593406593406594,
          -14.285714285714285,
          -13.186813186813188,
          -8.791208791208792,
          -4.395604395604396,
          0,
          5.4945054945054945,
          13.186813186813188,
          17.582417582417584,
          18.681318681318682,
          14.285714285714285,
          10.989010989010989,
          7.6923076923076925,
          5.4945054945054945,
          3.296703296703297,
          2.197802197802198,
          1.098901098901099,
          2.197802197802198,
          3.296703296703297,
          4.395604395604396,
          4.395604395604396,
          4.395604395604396,
          3.296703296703297,
          3.296703296703297,
          2.197802197802198
         ]
        },
        {
         "mode": "lines",
         "name": "Row 35",
         "type": "scatter",
         "x": [
          3.466666666666667,
          8.45,
          13.466666666666667,
          18.45,
          23.433333333333334,
          28.433333333333334,
          33.45,
          38.43333333333333,
          43.43333333333333,
          48.43333333333333,
          53.43333333333333,
          58.45,
          63.43333333333333,
          68.43333333333334,
          73.43333333333334,
          78.45,
          83.45,
          88.45,
          93.45,
          98.45,
          103.45,
          108.45,
          113.43333333333334,
          118.45,
          123.46666666666667,
          128.45,
          133.45,
          138.46666666666667,
          143.45,
          148.46666666666667,
          153.45,
          158.45,
          163.46666666666667,
          168.46666666666667,
          173.46666666666667,
          178.46666666666667
         ],
         "y": [
          0,
          -1.0309278350515463,
          -1.0309278350515463,
          3.0927835051546393,
          12.371134020618557,
          23.711340206185564,
          36.08247422680412,
          44.329896907216494,
          45.36082474226804,
          42.2680412371134,
          32.98969072164948,
          20.618556701030926,
          0,
          -15.463917525773196,
          -23.711340206185564,
          -22.68041237113402,
          -20.618556701030926,
          -18.556701030927837,
          -15.463917525773196,
          -12.371134020618557,
          -10.309278350515463,
          -8.24742268041237,
          -6.185567010309279,
          -6.185567010309279,
          -7.216494845360824,
          -8.24742268041237,
          -7.216494845360824,
          -6.185567010309279,
          -5.154639175257731,
          -3.0927835051546393,
          0,
          5.154639175257731,
          11.34020618556701,
          14.432989690721648,
          14.432989690721648,
          9.278350515463918
         ]
        },
        {
         "mode": "lines",
         "name": "Row 36",
         "type": "scatter",
         "x": [
          3.466666666666667,
          8.45,
          13.466666666666667,
          18.45,
          23.433333333333334,
          28.433333333333334,
          33.45,
          38.43333333333333,
          43.43333333333333,
          48.43333333333333,
          53.43333333333333,
          58.45,
          63.43333333333333,
          68.43333333333334,
          73.43333333333334,
          78.45,
          83.45,
          88.45,
          93.45,
          98.45,
          103.45,
          108.45,
          113.43333333333334,
          118.45,
          123.46666666666667,
          128.45,
          133.45,
          138.46666666666667,
          143.45,
          148.46666666666667,
          153.45,
          158.45,
          163.46666666666667,
          168.46666666666667,
          173.46666666666667,
          178.46666666666667
         ],
         "y": [
          0,
          -1.0309278350515463,
          -1.0309278350515463,
          3.0927835051546393,
          12.371134020618557,
          23.711340206185564,
          36.08247422680412,
          44.329896907216494,
          45.36082474226804,
          42.2680412371134,
          32.98969072164948,
          20.618556701030926,
          0,
          -15.463917525773196,
          -23.711340206185564,
          -22.68041237113402,
          -20.618556701030926,
          -18.556701030927837,
          -15.463917525773196,
          -12.371134020618557,
          -10.309278350515463,
          -8.24742268041237,
          -6.185567010309279,
          -6.185567010309279,
          -7.216494845360824,
          -8.24742268041237,
          -7.216494845360824,
          -6.185567010309279,
          -5.154639175257731,
          -3.0927835051546393,
          0,
          5.154639175257731,
          11.34020618556701,
          14.432989690721648,
          14.432989690721648,
          9.278350515463918
         ]
        },
        {
         "mode": "lines",
         "name": "Row 37",
         "type": "scatter",
         "x": [
          3.466666666666667,
          8.45,
          13.466666666666667,
          18.45,
          23.466666666666665,
          28.45,
          33.45,
          38.46666666666667,
          43.46666666666667,
          48.46666666666667,
          53.45,
          58.45,
          63.46666666666667,
          68.45,
          73.45,
          78.46666666666667,
          83.46666666666667,
          88.45,
          93.46666666666667,
          98.46666666666667,
          103.45,
          108.45,
          113.46666666666667,
          118.46666666666667,
          123.45,
          128.45,
          133.46666666666667,
          138.46666666666667,
          143.45,
          148.46666666666667,
          153.45,
          158.45,
          163.45,
          168.45,
          173.45,
          178.45
         ],
         "y": [
          0,
          -6.306306306306306,
          -12.612612612612612,
          -15.315315315315313,
          -15.315315315315313,
          -13.513513513513514,
          -10.81081081081081,
          -6.306306306306306,
          -1.8018018018018018,
          3.6036036036036037,
          9.90990990990991,
          12.612612612612612,
          9.00900900900901,
          1.8018018018018018,
          -6.306306306306306,
          -10.81081081081081,
          -9.00900900900901,
          -2.7027027027027026,
          5.405405405405405,
          14.414414414414415,
          20.72072072072072,
          22.52252252252252,
          20.72072072072072,
          18.01801801801802,
          15.315315315315313,
          12.612612612612612,
          10.81081081081081,
          10.81081081081081,
          10.81081081081081,
          10.81081081081081,
          9.00900900900901,
          5.405405405405405,
          2.7027027027027026,
          0.9009009009009009,
          2.7027027027027026,
          5.405405405405405
         ]
        },
        {
         "mode": "lines",
         "name": "Row 41",
         "type": "scatter",
         "x": [
          3.45,
          8.45,
          13.45,
          18.433333333333334,
          23.433333333333334,
          28.433333333333334,
          33.43333333333333,
          38.45,
          43.43333333333333,
          48.43333333333333,
          53.43333333333333,
          58.45,
          63.45,
          68.45,
          73.43333333333334,
          78.43333333333334,
          83.45,
          88.43333333333334,
          93.43333333333334,
          98.43333333333334,
          103.43333333333334,
          108.43333333333334,
          113.43333333333334,
          118.43333333333334,
          123.43333333333334,
          128.43333333333334,
          133.45,
          138.45,
          143.45,
          148.45,
          153.45,
          158.43333333333334,
          163.45,
          168.43333333333334,
          173.43333333333334,
          178.43333333333334
         ],
         "y": [
          0,
          1.8181818181818181,
          3.6363636363636362,
          1.8181818181818181,
          -1.8181818181818181,
          -4.545454545454546,
          -5.454545454545454,
          -5.454545454545454,
          -6.363636363636363,
          -7.2727272727272725,
          -7.2727272727272725,
          -5.454545454545454,
          -3.6363636363636362,
          0,
          4.545454545454546,
          11.818181818181818,
          20,
          23.636363636363637,
          23.636363636363637,
          21.818181818181817,
          19.090909090909093,
          19.090909090909093,
          20,
          21.818181818181817,
          24.545454545454547,
          27.27272727272727,
          28.18181818181818,
          28.18181818181818,
          26.36363636363636,
          24.545454545454547,
          21.818181818181817,
          19.090909090909093,
          15.454545454545453,
          10.909090909090908,
          5.454545454545454,
          0.9090909090909091
         ]
        },
        {
         "mode": "lines",
         "name": "Row 45",
         "type": "scatter",
         "x": [
          1.4166666666666667,
          6.416666666666667,
          11.416666666666666,
          16.416666666666668,
          21.416666666666668,
          26.416666666666668,
          31.416666666666668,
          36.416666666666664,
          41.416666666666664,
          46.416666666666664,
          51.43333333333333,
          56.416666666666664,
          61.416666666666664,
          66.41666666666667,
          71.41666666666667,
          76.41666666666667,
          81.41666666666667,
          86.41666666666667,
          91.41666666666667,
          96.41666666666667,
          101.41666666666667,
          106.41666666666667,
          111.41666666666667,
          116.41666666666667,
          121.41666666666667,
          126.41666666666667,
          131.41666666666666,
          136.41666666666666,
          141.41666666666666,
          146.41666666666666,
          151.41666666666666,
          156.41666666666666,
          161.41666666666666,
          166.41666666666666,
          171.41666666666666,
          176.41666666666666
         ],
         "y": [
          0,
          3,
          10,
          21,
          33,
          40,
          43,
          42,
          39,
          33,
          23,
          7.000000000000001,
          -9,
          -20,
          -24,
          -24,
          -22,
          -18,
          -13,
          -8,
          -6,
          -5,
          -4,
          -2,
          -1,
          -2,
          -3,
          -4,
          -4,
          -3,
          -1,
          1,
          2,
          2,
          0,
          -2
         ]
        },
        {
         "mode": "lines",
         "name": "Row 46",
         "type": "scatter",
         "x": [
          1.4166666666666667,
          6.416666666666667,
          11.416666666666666,
          16.416666666666668,
          21.416666666666668,
          26.416666666666668,
          31.416666666666668,
          36.416666666666664,
          41.416666666666664,
          46.416666666666664,
          51.43333333333333,
          56.416666666666664,
          61.416666666666664,
          66.41666666666667,
          71.41666666666667,
          76.41666666666667,
          81.41666666666667,
          86.41666666666667,
          91.41666666666667,
          96.41666666666667,
          101.41666666666667,
          106.41666666666667,
          111.41666666666667,
          116.41666666666667,
          121.41666666666667,
          126.41666666666667,
          131.41666666666666,
          136.41666666666666,
          141.41666666666666,
          146.41666666666666,
          151.41666666666666,
          156.41666666666666,
          161.41666666666666,
          166.41666666666666,
          171.41666666666666,
          176.41666666666666
         ],
         "y": [
          0,
          3,
          10,
          21,
          33,
          40,
          43,
          42,
          39,
          33,
          23,
          7.000000000000001,
          -9,
          -20,
          -24,
          -24,
          -22,
          -18,
          -13,
          -8,
          -6,
          -5,
          -4,
          -2,
          -1,
          -2,
          -3,
          -4,
          -4,
          -3,
          -1,
          1,
          2,
          2,
          0,
          -2
         ]
        },
        {
         "mode": "lines",
         "name": "Row 53",
         "type": "scatter",
         "x": [
          3.3833333333333333,
          8.383333333333333,
          13.4,
          18.4,
          23.4,
          28.4,
          33.4,
          38.4,
          43.38333333333333,
          48.38333333333333,
          53.4,
          58.4,
          63.4,
          68.4,
          73.4,
          78.4,
          83.4,
          88.4,
          93.4,
          98.4,
          103.4,
          108.4,
          113.4,
          118.4,
          123.4,
          128.4,
          133.4,
          138.4,
          143.38333333333333,
          148.38333333333333,
          153.4,
          158.38333333333333,
          163.38333333333333,
          168.4,
          173.38333333333333,
          178.38333333333333
         ],
         "y": [
          0,
          0,
          1.9417475728155338,
          9.70873786407767,
          21.35922330097087,
          33.00970873786408,
          37.86407766990291,
          35.92233009708738,
          32.038834951456316,
          28.155339805825243,
          23.300970873786408,
          15.53398058252427,
          3.8834951456310676,
          -6.796116504854369,
          -12.62135922330097,
          -13.592233009708737,
          -13.592233009708737,
          -12.62135922330097,
          -11.650485436893204,
          -11.650485436893204,
          -11.650485436893204,
          -10.679611650485436,
          -10.679611650485436,
          -10.679611650485436,
          -10.679611650485436,
          -10.679611650485436,
          -10.679611650485436,
          -10.679611650485436,
          -9.70873786407767,
          -7.766990291262135,
          -6.796116504854369,
          -6.796116504854369,
          -7.766990291262135,
          -8.737864077669903,
          -7.766990291262135,
          -3.8834951456310676
         ]
        },
        {
         "mode": "lines",
         "name": "Row 54",
         "type": "scatter",
         "x": [
          3.3833333333333333,
          8.383333333333333,
          13.4,
          18.4,
          23.4,
          28.4,
          33.4,
          38.4,
          43.38333333333333,
          48.38333333333333,
          53.4,
          58.4,
          63.4,
          68.4,
          73.4,
          78.4,
          83.4,
          88.4,
          93.4,
          98.4,
          103.4,
          108.4,
          113.4,
          118.4,
          123.4,
          128.4,
          133.4,
          138.4,
          143.38333333333333,
          148.38333333333333,
          153.4,
          158.38333333333333,
          163.38333333333333,
          168.4,
          173.38333333333333,
          178.38333333333333
         ],
         "y": [
          0,
          0,
          1.9417475728155338,
          9.70873786407767,
          21.35922330097087,
          33.00970873786408,
          37.86407766990291,
          35.92233009708738,
          32.038834951456316,
          28.155339805825243,
          23.300970873786408,
          15.53398058252427,
          3.8834951456310676,
          -6.796116504854369,
          -12.62135922330097,
          -13.592233009708737,
          -13.592233009708737,
          -12.62135922330097,
          -11.650485436893204,
          -11.650485436893204,
          -11.650485436893204,
          -10.679611650485436,
          -10.679611650485436,
          -10.679611650485436,
          -10.679611650485436,
          -10.679611650485436,
          -10.679611650485436,
          -10.679611650485436,
          -9.70873786407767,
          -7.766990291262135,
          -6.796116504854369,
          -6.796116504854369,
          -7.766990291262135,
          -8.737864077669903,
          -7.766990291262135,
          -3.8834951456310676
         ]
        },
        {
         "mode": "lines",
         "name": "Row 55",
         "type": "scatter",
         "x": [
          3.3833333333333333,
          8.4,
          13.383333333333333,
          18.383333333333333,
          23.4,
          28.4,
          33.4,
          38.4,
          43.38333333333333,
          48.4,
          53.4,
          58.4,
          63.38333333333333,
          68.4,
          73.4,
          78.4,
          83.4,
          88.38333333333334,
          93.4,
          98.4,
          103.4,
          108.4,
          113.4,
          118.4,
          123.38333333333334,
          128.38333333333333,
          133.4,
          138.38333333333333,
          143.38333333333333,
          148.4,
          153.4,
          158.4,
          163.4,
          168.4,
          173.4,
          178.4
         ],
         "y": [
          0,
          0,
          1.1494252873563218,
          2.2988505747126435,
          3.4482758620689653,
          4.597701149425287,
          5.747126436781609,
          8.045977011494253,
          10.344827586206897,
          13.793103448275861,
          16.091954022988507,
          17.24137931034483,
          18.39080459770115,
          16.091954022988507,
          14.942528735632186,
          14.942528735632186,
          17.24137931034483,
          22.988505747126435,
          32.18390804597701,
          41.37931034482759,
          50.57471264367817,
          58.620689655172406,
          63.2183908045977,
          62.06896551724138,
          56.32183908045977,
          43.67816091954023,
          28.735632183908045,
          14.942528735632186,
          8.045977011494253,
          8.045977011494253,
          10.344827586206897,
          11.494252873563218,
          16.091954022988507,
          21.839080459770116,
          26.436781609195403,
          29.88505747126437
         ]
        }
       ],
       "layout": {
        "shapes": [
         {
          "line": {
           "color": "black",
           "dash": "dash",
           "width": 1
          },
          "type": "line",
          "x0": 0,
          "x1": 1,
          "xref": "paper",
          "y0": 0,
          "y1": 0,
          "yref": "y"
         }
        ],
        "template": {
         "data": {
          "bar": [
           {
            "error_x": {
             "color": "#2a3f5f"
            },
            "error_y": {
             "color": "#2a3f5f"
            },
            "marker": {
             "line": {
              "color": "#E5ECF6",
              "width": 0.5
             },
             "pattern": {
              "fillmode": "overlay",
              "size": 10,
              "solidity": 0.2
             }
            },
            "type": "bar"
           }
          ],
          "barpolar": [
           {
            "marker": {
             "line": {
              "color": "#E5ECF6",
              "width": 0.5
             },
             "pattern": {
              "fillmode": "overlay",
              "size": 10,
              "solidity": 0.2
             }
            },
            "type": "barpolar"
           }
          ],
          "carpet": [
           {
            "aaxis": {
             "endlinecolor": "#2a3f5f",
             "gridcolor": "white",
             "linecolor": "white",
             "minorgridcolor": "white",
             "startlinecolor": "#2a3f5f"
            },
            "baxis": {
             "endlinecolor": "#2a3f5f",
             "gridcolor": "white",
             "linecolor": "white",
             "minorgridcolor": "white",
             "startlinecolor": "#2a3f5f"
            },
            "type": "carpet"
           }
          ],
          "choropleth": [
           {
            "colorbar": {
             "outlinewidth": 0,
             "ticks": ""
            },
            "type": "choropleth"
           }
          ],
          "contour": [
           {
            "colorbar": {
             "outlinewidth": 0,
             "ticks": ""
            },
            "colorscale": [
             [
              0,
              "#0d0887"
             ],
             [
              0.1111111111111111,
              "#46039f"
             ],
             [
              0.2222222222222222,
              "#7201a8"
             ],
             [
              0.3333333333333333,
              "#9c179e"
             ],
             [
              0.4444444444444444,
              "#bd3786"
             ],
             [
              0.5555555555555556,
              "#d8576b"
             ],
             [
              0.6666666666666666,
              "#ed7953"
             ],
             [
              0.7777777777777778,
              "#fb9f3a"
             ],
             [
              0.8888888888888888,
              "#fdca26"
             ],
             [
              1,
              "#f0f921"
             ]
            ],
            "type": "contour"
           }
          ],
          "contourcarpet": [
           {
            "colorbar": {
             "outlinewidth": 0,
             "ticks": ""
            },
            "type": "contourcarpet"
           }
          ],
          "heatmap": [
           {
            "colorbar": {
             "outlinewidth": 0,
             "ticks": ""
            },
            "colorscale": [
             [
              0,
              "#0d0887"
             ],
             [
              0.1111111111111111,
              "#46039f"
             ],
             [
              0.2222222222222222,
              "#7201a8"
             ],
             [
              0.3333333333333333,
              "#9c179e"
             ],
             [
              0.4444444444444444,
              "#bd3786"
             ],
             [
              0.5555555555555556,
              "#d8576b"
             ],
             [
              0.6666666666666666,
              "#ed7953"
             ],
             [
              0.7777777777777778,
              "#fb9f3a"
             ],
             [
              0.8888888888888888,
              "#fdca26"
             ],
             [
              1,
              "#f0f921"
             ]
            ],
            "type": "heatmap"
           }
          ],
          "heatmapgl": [
           {
            "colorbar": {
             "outlinewidth": 0,
             "ticks": ""
            },
            "colorscale": [
             [
              0,
              "#0d0887"
             ],
             [
              0.1111111111111111,
              "#46039f"
             ],
             [
              0.2222222222222222,
              "#7201a8"
             ],
             [
              0.3333333333333333,
              "#9c179e"
             ],
             [
              0.4444444444444444,
              "#bd3786"
             ],
             [
              0.5555555555555556,
              "#d8576b"
             ],
             [
              0.6666666666666666,
              "#ed7953"
             ],
             [
              0.7777777777777778,
              "#fb9f3a"
             ],
             [
              0.8888888888888888,
              "#fdca26"
             ],
             [
              1,
              "#f0f921"
             ]
            ],
            "type": "heatmapgl"
           }
          ],
          "histogram": [
           {
            "marker": {
             "pattern": {
              "fillmode": "overlay",
              "size": 10,
              "solidity": 0.2
             }
            },
            "type": "histogram"
           }
          ],
          "histogram2d": [
           {
            "colorbar": {
             "outlinewidth": 0,
             "ticks": ""
            },
            "colorscale": [
             [
              0,
              "#0d0887"
             ],
             [
              0.1111111111111111,
              "#46039f"
             ],
             [
              0.2222222222222222,
              "#7201a8"
             ],
             [
              0.3333333333333333,
              "#9c179e"
             ],
             [
              0.4444444444444444,
              "#bd3786"
             ],
             [
              0.5555555555555556,
              "#d8576b"
             ],
             [
              0.6666666666666666,
              "#ed7953"
             ],
             [
              0.7777777777777778,
              "#fb9f3a"
             ],
             [
              0.8888888888888888,
              "#fdca26"
             ],
             [
              1,
              "#f0f921"
             ]
            ],
            "type": "histogram2d"
           }
          ],
          "histogram2dcontour": [
           {
            "colorbar": {
             "outlinewidth": 0,
             "ticks": ""
            },
            "colorscale": [
             [
              0,
              "#0d0887"
             ],
             [
              0.1111111111111111,
              "#46039f"
             ],
             [
              0.2222222222222222,
              "#7201a8"
             ],
             [
              0.3333333333333333,
              "#9c179e"
             ],
             [
              0.4444444444444444,
              "#bd3786"
             ],
             [
              0.5555555555555556,
              "#d8576b"
             ],
             [
              0.6666666666666666,
              "#ed7953"
             ],
             [
              0.7777777777777778,
              "#fb9f3a"
             ],
             [
              0.8888888888888888,
              "#fdca26"
             ],
             [
              1,
              "#f0f921"
             ]
            ],
            "type": "histogram2dcontour"
           }
          ],
          "mesh3d": [
           {
            "colorbar": {
             "outlinewidth": 0,
             "ticks": ""
            },
            "type": "mesh3d"
           }
          ],
          "parcoords": [
           {
            "line": {
             "colorbar": {
              "outlinewidth": 0,
              "ticks": ""
             }
            },
            "type": "parcoords"
           }
          ],
          "pie": [
           {
            "automargin": true,
            "type": "pie"
           }
          ],
          "scatter": [
           {
            "fillpattern": {
             "fillmode": "overlay",
             "size": 10,
             "solidity": 0.2
            },
            "type": "scatter"
           }
          ],
          "scatter3d": [
           {
            "line": {
             "colorbar": {
              "outlinewidth": 0,
              "ticks": ""
             }
            },
            "marker": {
             "colorbar": {
              "outlinewidth": 0,
              "ticks": ""
             }
            },
            "type": "scatter3d"
           }
          ],
          "scattercarpet": [
           {
            "marker": {
             "colorbar": {
              "outlinewidth": 0,
              "ticks": ""
             }
            },
            "type": "scattercarpet"
           }
          ],
          "scattergeo": [
           {
            "marker": {
             "colorbar": {
              "outlinewidth": 0,
              "ticks": ""
             }
            },
            "type": "scattergeo"
           }
          ],
          "scattergl": [
           {
            "marker": {
             "colorbar": {
              "outlinewidth": 0,
              "ticks": ""
             }
            },
            "type": "scattergl"
           }
          ],
          "scattermapbox": [
           {
            "marker": {
             "colorbar": {
              "outlinewidth": 0,
              "ticks": ""
             }
            },
            "type": "scattermapbox"
           }
          ],
          "scatterpolar": [
           {
            "marker": {
             "colorbar": {
              "outlinewidth": 0,
              "ticks": ""
             }
            },
            "type": "scatterpolar"
           }
          ],
          "scatterpolargl": [
           {
            "marker": {
             "colorbar": {
              "outlinewidth": 0,
              "ticks": ""
             }
            },
            "type": "scatterpolargl"
           }
          ],
          "scatterternary": [
           {
            "marker": {
             "colorbar": {
              "outlinewidth": 0,
              "ticks": ""
             }
            },
            "type": "scatterternary"
           }
          ],
          "surface": [
           {
            "colorbar": {
             "outlinewidth": 0,
             "ticks": ""
            },
            "colorscale": [
             [
              0,
              "#0d0887"
             ],
             [
              0.1111111111111111,
              "#46039f"
             ],
             [
              0.2222222222222222,
              "#7201a8"
             ],
             [
              0.3333333333333333,
              "#9c179e"
             ],
             [
              0.4444444444444444,
              "#bd3786"
             ],
             [
              0.5555555555555556,
              "#d8576b"
             ],
             [
              0.6666666666666666,
              "#ed7953"
             ],
             [
              0.7777777777777778,
              "#fb9f3a"
             ],
             [
              0.8888888888888888,
              "#fdca26"
             ],
             [
              1,
              "#f0f921"
             ]
            ],
            "type": "surface"
           }
          ],
          "table": [
           {
            "cells": {
             "fill": {
              "color": "#EBF0F8"
             },
             "line": {
              "color": "white"
             }
            },
            "header": {
             "fill": {
              "color": "#C8D4E3"
             },
             "line": {
              "color": "white"
             }
            },
            "type": "table"
           }
          ]
         },
         "layout": {
          "annotationdefaults": {
           "arrowcolor": "#2a3f5f",
           "arrowhead": 0,
           "arrowwidth": 1
          },
          "autotypenumbers": "strict",
          "coloraxis": {
           "colorbar": {
            "outlinewidth": 0,
            "ticks": ""
           }
          },
          "colorscale": {
           "diverging": [
            [
             0,
             "#8e0152"
            ],
            [
             0.1,
             "#c51b7d"
            ],
            [
             0.2,
             "#de77ae"
            ],
            [
             0.3,
             "#f1b6da"
            ],
            [
             0.4,
             "#fde0ef"
            ],
            [
             0.5,
             "#f7f7f7"
            ],
            [
             0.6,
             "#e6f5d0"
            ],
            [
             0.7,
             "#b8e186"
            ],
            [
             0.8,
             "#7fbc41"
            ],
            [
             0.9,
             "#4d9221"
            ],
            [
             1,
             "#276419"
            ]
           ],
           "sequential": [
            [
             0,
             "#0d0887"
            ],
            [
             0.1111111111111111,
             "#46039f"
            ],
            [
             0.2222222222222222,
             "#7201a8"
            ],
            [
             0.3333333333333333,
             "#9c179e"
            ],
            [
             0.4444444444444444,
             "#bd3786"
            ],
            [
             0.5555555555555556,
             "#d8576b"
            ],
            [
             0.6666666666666666,
             "#ed7953"
            ],
            [
             0.7777777777777778,
             "#fb9f3a"
            ],
            [
             0.8888888888888888,
             "#fdca26"
            ],
            [
             1,
             "#f0f921"
            ]
           ],
           "sequentialminus": [
            [
             0,
             "#0d0887"
            ],
            [
             0.1111111111111111,
             "#46039f"
            ],
            [
             0.2222222222222222,
             "#7201a8"
            ],
            [
             0.3333333333333333,
             "#9c179e"
            ],
            [
             0.4444444444444444,
             "#bd3786"
            ],
            [
             0.5555555555555556,
             "#d8576b"
            ],
            [
             0.6666666666666666,
             "#ed7953"
            ],
            [
             0.7777777777777778,
             "#fb9f3a"
            ],
            [
             0.8888888888888888,
             "#fdca26"
            ],
            [
             1,
             "#f0f921"
            ]
           ]
          },
          "colorway": [
           "#636efa",
           "#EF553B",
           "#00cc96",
           "#ab63fa",
           "#FFA15A",
           "#19d3f3",
           "#FF6692",
           "#B6E880",
           "#FF97FF",
           "#FECB52"
          ],
          "font": {
           "color": "#2a3f5f"
          },
          "geo": {
           "bgcolor": "white",
           "lakecolor": "white",
           "landcolor": "#E5ECF6",
           "showlakes": true,
           "showland": true,
           "subunitcolor": "white"
          },
          "hoverlabel": {
           "align": "left"
          },
          "hovermode": "closest",
          "mapbox": {
           "style": "light"
          },
          "paper_bgcolor": "white",
          "plot_bgcolor": "#E5ECF6",
          "polar": {
           "angularaxis": {
            "gridcolor": "white",
            "linecolor": "white",
            "ticks": ""
           },
           "bgcolor": "#E5ECF6",
           "radialaxis": {
            "gridcolor": "white",
            "linecolor": "white",
            "ticks": ""
           }
          },
          "scene": {
           "xaxis": {
            "backgroundcolor": "#E5ECF6",
            "gridcolor": "white",
            "gridwidth": 2,
            "linecolor": "white",
            "showbackground": true,
            "ticks": "",
            "zerolinecolor": "white"
           },
           "yaxis": {
            "backgroundcolor": "#E5ECF6",
            "gridcolor": "white",
            "gridwidth": 2,
            "linecolor": "white",
            "showbackground": true,
            "ticks": "",
            "zerolinecolor": "white"
           },
           "zaxis": {
            "backgroundcolor": "#E5ECF6",
            "gridcolor": "white",
            "gridwidth": 2,
            "linecolor": "white",
            "showbackground": true,
            "ticks": "",
            "zerolinecolor": "white"
           }
          },
          "shapedefaults": {
           "line": {
            "color": "#2a3f5f"
           }
          },
          "ternary": {
           "aaxis": {
            "gridcolor": "white",
            "linecolor": "white",
            "ticks": ""
           },
           "baxis": {
            "gridcolor": "white",
            "linecolor": "white",
            "ticks": ""
           },
           "bgcolor": "#E5ECF6",
           "caxis": {
            "gridcolor": "white",
            "linecolor": "white",
            "ticks": ""
           }
          },
          "title": {
           "x": 0.05
          },
          "xaxis": {
           "automargin": true,
           "gridcolor": "white",
           "linecolor": "white",
           "ticks": "",
           "title": {
            "standoff": 15
           },
           "zerolinecolor": "white",
           "zerolinewidth": 2
          },
          "yaxis": {
           "automargin": true,
           "gridcolor": "white",
           "linecolor": "white",
           "ticks": "",
           "title": {
            "standoff": 15
           },
           "zerolinecolor": "white",
           "zerolinewidth": 2
          }
         }
        },
        "title": {
         "text": "Deviation Chart"
        },
        "xaxis": {
         "title": {
          "text": "Minutes After Food"
         }
        },
        "yaxis": {
         "title": {
          "text": "Percent Change from Initial"
         }
        }
       }
      }
     },
     "metadata": {},
     "output_type": "display_data"
    }
   ],
   "source": [
    "import pandas as pd\n",
    "import plotly.graph_objects as go\n",
    "\n",
    "# Assuming food_log_morning is your DataFrame with two columns:\n",
    "# - 'minutes_after_food': each cell is a list/array of time strings formatted as '%H:%M:%S'\n",
    "# - 'percent_change_initial': each cell is a list/array of floats\n",
    "\n",
    "# Create a new Plotly figure\n",
    "fig = go.Figure()\n",
    "\n",
    "# Iterate over each row and add a trace for each deviation line\n",
    "for idx, row in food_log_morning.iterrows():\n",
    "    # Convert each time string to minutes\n",
    "    times_in_minutes = [pd.to_timedelta(t).total_seconds() / 60 for t in row['minutes_after_food']]\n",
    "    \n",
    "    # Retrieve the percent change values\n",
    "    percent_changes = row['percent_change_initial']\n",
    "    \n",
    "    # Add a trace for this row\n",
    "    fig.add_trace(go.Scatter(\n",
    "        x=times_in_minutes,\n",
    "        y=percent_changes,\n",
    "        mode='lines',\n",
    "        name=f'Row {idx}'  # Use a different naming scheme if desired\n",
    "    ))\n",
    "\n",
    "# Add a horizontal zero line that spans the entire x-axis\n",
    "fig.add_shape(\n",
    "    type=\"line\",\n",
    "    x0=0, x1=1,  # x0 and x1 are in paper coordinates so the line spans the full width\n",
    "    y0=0, y1=0,\n",
    "    xref=\"paper\",\n",
    "    yref=\"y\",\n",
    "    line=dict(color=\"black\", width=1, dash=\"dash\")\n",
    ")\n",
    "\n",
    "# Update layout to add titles and axis labels\n",
    "fig.update_layout(\n",
    "    title=\"Deviation Chart\",\n",
    "    xaxis_title=\"Minutes After Food\",\n",
    "    yaxis_title=\"Percent Change from Initial\"\n",
    ")\n",
    "\n",
    "# Display the plot\n",
    "fig.show()\n"
   ]
  },
  {
   "cell_type": "code",
   "execution_count": null,
   "metadata": {},
   "outputs": [],
   "source": []
  }
 ],
 "metadata": {
  "kernelspec": {
   "display_name": "Python 3",
   "language": "python",
   "name": "python3"
  },
  "language_info": {
   "codemirror_mode": {
    "name": "ipython",
    "version": 3
   },
   "file_extension": ".py",
   "mimetype": "text/x-python",
   "name": "python",
   "nbconvert_exporter": "python",
   "pygments_lexer": "ipython3",
   "version": "3.11.9"
  }
 },
 "nbformat": 4,
 "nbformat_minor": 2
}
